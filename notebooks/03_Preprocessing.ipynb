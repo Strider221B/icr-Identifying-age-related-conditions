{
 "cells": [
  {
   "cell_type": "code",
   "execution_count": 1,
   "id": "9b0ad115-7f56-47a0-b3ca-66d3b1062cfc",
   "metadata": {
    "execution": {
     "iopub.execute_input": "2023-07-02T10:31:22.077160Z",
     "iopub.status.busy": "2023-07-02T10:31:22.076999Z",
     "iopub.status.idle": "2023-07-02T10:31:22.082385Z",
     "shell.execute_reply": "2023-07-02T10:31:22.081871Z",
     "shell.execute_reply.started": "2023-07-02T10:31:22.077145Z"
    }
   },
   "outputs": [],
   "source": [
    "import os\n",
    "os.chdir('./../')"
   ]
  },
  {
   "cell_type": "code",
   "execution_count": 2,
   "id": "3e67f4b1-ef80-402b-8231-1f086aa78f94",
   "metadata": {
    "execution": {
     "iopub.execute_input": "2023-07-02T10:31:22.281205Z",
     "iopub.status.busy": "2023-07-02T10:31:22.280600Z",
     "iopub.status.idle": "2023-07-02T10:31:22.870426Z",
     "shell.execute_reply": "2023-07-02T10:31:22.869879Z",
     "shell.execute_reply.started": "2023-07-02T10:31:22.281186Z"
    },
    "tags": []
   },
   "outputs": [
    {
     "name": "stderr",
     "output_type": "stream",
     "text": [
      "<frozen importlib._bootstrap>:219: RuntimeWarning: scipy._lib.messagestream.MessageStream size changed, may indicate binary incompatibility. Expected 56 from C header, got 64 from PyObject\n"
     ]
    }
   ],
   "source": [
    "import joblib\n",
    "import numpy as np\n",
    "import pandas as pd\n",
    "from sklearn.experimental import enable_iterative_imputer\n",
    "from sklearn.impute import IterativeImputer\n",
    "from sklearn.preprocessing import PowerTransformer"
   ]
  },
  {
   "cell_type": "code",
   "execution_count": 5,
   "id": "a9cfe403-daf3-477f-bd3a-26310422bdd9",
   "metadata": {
    "execution": {
     "iopub.execute_input": "2023-07-02T10:35:17.644846Z",
     "iopub.status.busy": "2023-07-02T10:35:17.644360Z",
     "iopub.status.idle": "2023-07-02T10:35:17.654468Z",
     "shell.execute_reply": "2023-07-02T10:35:17.653914Z",
     "shell.execute_reply.started": "2023-07-02T10:35:17.644822Z"
    },
    "tags": []
   },
   "outputs": [],
   "source": [
    "train_df = pd.read_csv('./data/train.csv', index_col=0)"
   ]
  },
  {
   "cell_type": "code",
   "execution_count": 6,
   "id": "fc61863d-b8ef-436e-8309-33db0c4226d2",
   "metadata": {
    "execution": {
     "iopub.execute_input": "2023-07-02T10:35:19.125441Z",
     "iopub.status.busy": "2023-07-02T10:35:19.125011Z",
     "iopub.status.idle": "2023-07-02T10:35:19.128508Z",
     "shell.execute_reply": "2023-07-02T10:35:19.127771Z",
     "shell.execute_reply.started": "2023-07-02T10:35:19.125420Z"
    },
    "tags": []
   },
   "outputs": [],
   "source": [
    "imputer = IterativeImputer(initial_strategy='median')"
   ]
  },
  {
   "cell_type": "code",
   "execution_count": 7,
   "id": "6634d93d-b220-4a12-97dc-095bd85ac82d",
   "metadata": {
    "execution": {
     "iopub.execute_input": "2023-07-02T10:35:32.585821Z",
     "iopub.status.busy": "2023-07-02T10:35:32.585307Z",
     "iopub.status.idle": "2023-07-02T10:35:32.589564Z",
     "shell.execute_reply": "2023-07-02T10:35:32.588905Z",
     "shell.execute_reply.started": "2023-07-02T10:35:32.585802Z"
    }
   },
   "outputs": [],
   "source": [
    "numerical_df = train_df[train_df.columns[~train_df.columns.isin(['EJ', 'Class'])]]"
   ]
  },
  {
   "cell_type": "code",
   "execution_count": 8,
   "id": "d8e07de5-8017-428b-ba98-aa063454e6ba",
   "metadata": {
    "execution": {
     "iopub.execute_input": "2023-07-02T10:35:43.726557Z",
     "iopub.status.busy": "2023-07-02T10:35:43.725871Z",
     "iopub.status.idle": "2023-07-02T10:35:43.903159Z",
     "shell.execute_reply": "2023-07-02T10:35:43.902599Z",
     "shell.execute_reply.started": "2023-07-02T10:35:43.726529Z"
    }
   },
   "outputs": [],
   "source": [
    "numerical_df = pd.DataFrame(imputer.fit_transform(numerical_df), \n",
    "                            columns=numerical_df.columns,\n",
    "                            index=numerical_df.index)"
   ]
  },
  {
   "cell_type": "code",
   "execution_count": 9,
   "id": "e7e74667-7cce-4a91-8bf5-9fd22f507686",
   "metadata": {
    "execution": {
     "iopub.execute_input": "2023-07-02T10:35:57.068746Z",
     "iopub.status.busy": "2023-07-02T10:35:57.068228Z",
     "iopub.status.idle": "2023-07-02T10:35:57.071455Z",
     "shell.execute_reply": "2023-07-02T10:35:57.070834Z",
     "shell.execute_reply.started": "2023-07-02T10:35:57.068721Z"
    }
   },
   "outputs": [],
   "source": [
    "power_transformer = PowerTransformer()"
   ]
  },
  {
   "cell_type": "code",
   "execution_count": 10,
   "id": "b31bc4f8-9d73-4747-a087-3fe97151eadb",
   "metadata": {
    "execution": {
     "iopub.execute_input": "2023-07-02T10:36:10.773920Z",
     "iopub.status.busy": "2023-07-02T10:36:10.773188Z",
     "iopub.status.idle": "2023-07-02T10:36:10.856647Z",
     "shell.execute_reply": "2023-07-02T10:36:10.856078Z",
     "shell.execute_reply.started": "2023-07-02T10:36:10.773893Z"
    }
   },
   "outputs": [],
   "source": [
    "corrected_train_df = pd.DataFrame(data=power_transformer.fit_transform(numerical_df),\n",
    "                                  columns=numerical_df.columns,\n",
    "                                  index=numerical_df.index)"
   ]
  },
  {
   "cell_type": "code",
   "execution_count": 11,
   "id": "366005a3-ff41-4f41-837a-f77db7444ccb",
   "metadata": {
    "execution": {
     "iopub.execute_input": "2023-07-02T10:41:33.363359Z",
     "iopub.status.busy": "2023-07-02T10:41:33.362893Z",
     "iopub.status.idle": "2023-07-02T10:41:33.367369Z",
     "shell.execute_reply": "2023-07-02T10:41:33.366742Z",
     "shell.execute_reply.started": "2023-07-02T10:41:33.363339Z"
    }
   },
   "outputs": [],
   "source": [
    "corrected_train_df['EJ'] = train_df['EJ']\n",
    "corrected_train_df['Class'] = train_df['Class']"
   ]
  },
  {
   "cell_type": "code",
   "execution_count": 12,
   "id": "2fefc0ff-c0aa-4c03-9ceb-8ba48bf213b4",
   "metadata": {
    "execution": {
     "iopub.execute_input": "2023-07-02T10:42:28.380656Z",
     "iopub.status.busy": "2023-07-02T10:42:28.379966Z",
     "iopub.status.idle": "2023-07-02T10:42:28.384021Z",
     "shell.execute_reply": "2023-07-02T10:42:28.383407Z",
     "shell.execute_reply.started": "2023-07-02T10:42:28.380635Z"
    }
   },
   "outputs": [],
   "source": [
    "corrected_train_df['EJ'] = np.where(corrected_train_df['EJ'] == 'A', 0.12612612612612611, 0.20253164556962025)"
   ]
  },
  {
   "cell_type": "code",
   "execution_count": 13,
   "id": "610e598f-564c-4f6f-b4f3-6b0715f2d4ac",
   "metadata": {
    "execution": {
     "iopub.execute_input": "2023-07-02T10:43:12.276661Z",
     "iopub.status.busy": "2023-07-02T10:43:12.275979Z",
     "iopub.status.idle": "2023-07-02T10:43:12.281816Z",
     "shell.execute_reply": "2023-07-02T10:43:12.281285Z",
     "shell.execute_reply.started": "2023-07-02T10:43:12.276634Z"
    }
   },
   "outputs": [
    {
     "data": {
      "text/plain": [
       "(617, 57)"
      ]
     },
     "execution_count": 13,
     "metadata": {},
     "output_type": "execute_result"
    }
   ],
   "source": [
    "corrected_train_df.shape"
   ]
  },
  {
   "cell_type": "code",
   "execution_count": 16,
   "id": "16d9c359-f406-44d3-8020-b22055b85d39",
   "metadata": {
    "execution": {
     "iopub.execute_input": "2023-07-02T10:44:23.053299Z",
     "iopub.status.busy": "2023-07-02T10:44:23.052671Z",
     "iopub.status.idle": "2023-07-02T10:44:23.058631Z",
     "shell.execute_reply": "2023-07-02T10:44:23.058086Z",
     "shell.execute_reply.started": "2023-07-02T10:44:23.053277Z"
    },
    "tags": []
   },
   "outputs": [
    {
     "data": {
      "text/plain": [
       "(617, 55)"
      ]
     },
     "execution_count": 16,
     "metadata": {},
     "output_type": "execute_result"
    }
   ],
   "source": [
    "del corrected_train_df['FD ']\n",
    "del corrected_train_df['GL']\n",
    "corrected_train_df.shape"
   ]
  },
  {
   "cell_type": "code",
   "execution_count": 17,
   "id": "29689aa9-673f-4b8c-9307-b93e276c1f29",
   "metadata": {
    "execution": {
     "iopub.execute_input": "2023-07-02T10:45:10.405477Z",
     "iopub.status.busy": "2023-07-02T10:45:10.404946Z",
     "iopub.status.idle": "2023-07-02T10:45:10.441105Z",
     "shell.execute_reply": "2023-07-02T10:45:10.440580Z",
     "shell.execute_reply.started": "2023-07-02T10:45:10.405456Z"
    }
   },
   "outputs": [],
   "source": [
    "corrected_train_df.to_csv('./data/preprocessed.csv')"
   ]
  },
  {
   "cell_type": "code",
   "execution_count": 19,
   "id": "c31e4d49-8643-4fe9-8eb6-376cd498f9cd",
   "metadata": {
    "execution": {
     "iopub.execute_input": "2023-07-02T10:47:17.692427Z",
     "iopub.status.busy": "2023-07-02T10:47:17.691717Z",
     "iopub.status.idle": "2023-07-02T10:47:17.718801Z",
     "shell.execute_reply": "2023-07-02T10:47:17.718176Z",
     "shell.execute_reply.started": "2023-07-02T10:47:17.692378Z"
    }
   },
   "outputs": [
    {
     "data": {
      "text/plain": [
       "['./models/preprocessing/transformer.joblib']"
      ]
     },
     "execution_count": 19,
     "metadata": {},
     "output_type": "execute_result"
    }
   ],
   "source": [
    "joblib.dump(imputer, './models/preprocessing/imputer.joblib')\n",
    "joblib.dump(power_transformer, './models/preprocessing/transformer.joblib')"
   ]
  },
  {
   "cell_type": "code",
   "execution_count": null,
   "id": "4593a50b-951f-416d-85ff-6e9dca88c804",
   "metadata": {},
   "outputs": [],
   "source": []
  }
 ],
 "metadata": {
  "kernelspec": {
   "display_name": "azureml_py38_PT_and_TF",
   "language": "python",
   "name": "conda-env-azureml_py38_PT_and_TF-py"
  },
  "language_info": {
   "codemirror_mode": {
    "name": "ipython",
    "version": 3
   },
   "file_extension": ".py",
   "mimetype": "text/x-python",
   "name": "python",
   "nbconvert_exporter": "python",
   "pygments_lexer": "ipython3",
   "version": "3.8.5"
  }
 },
 "nbformat": 4,
 "nbformat_minor": 5
}
