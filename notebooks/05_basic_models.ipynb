{
 "cells": [
  {
   "cell_type": "code",
   "execution_count": 1,
   "id": "446eb7fa-1f0e-49b7-beb3-c4daa618148f",
   "metadata": {
    "execution": {
     "iopub.execute_input": "2023-07-04T16:46:42.995947Z",
     "iopub.status.busy": "2023-07-04T16:46:42.995601Z",
     "iopub.status.idle": "2023-07-04T16:46:43.001808Z",
     "shell.execute_reply": "2023-07-04T16:46:43.001281Z",
     "shell.execute_reply.started": "2023-07-04T16:46:42.995928Z"
    }
   },
   "outputs": [],
   "source": [
    "import os\n",
    "os.chdir('./../')"
   ]
  },
  {
   "cell_type": "code",
   "execution_count": 2,
   "id": "82b613a4-4d97-4250-9894-ae8add88b6c2",
   "metadata": {
    "execution": {
     "iopub.execute_input": "2023-07-04T16:46:43.002916Z",
     "iopub.status.busy": "2023-07-04T16:46:43.002737Z",
     "iopub.status.idle": "2023-07-04T16:46:43.838242Z",
     "shell.execute_reply": "2023-07-04T16:46:43.837663Z",
     "shell.execute_reply.started": "2023-07-04T16:46:43.002901Z"
    },
    "tags": []
   },
   "outputs": [
    {
     "name": "stderr",
     "output_type": "stream",
     "text": [
      "<frozen importlib._bootstrap>:219: RuntimeWarning: scipy._lib.messagestream.MessageStream size changed, may indicate binary incompatibility. Expected 56 from C header, got 64 from PyObject\n"
     ]
    }
   ],
   "source": [
    "import joblib\n",
    "import numpy as np\n",
    "import optuna\n",
    "import pandas as pd\n",
    "from sklearn.ensemble import GradientBoostingClassifier, RandomForestClassifier\n",
    "from sklearn.experimental import enable_iterative_imputer\n",
    "from sklearn.impute import IterativeImputer\n",
    "from sklearn.linear_model import LogisticRegression\n",
    "from sklearn.metrics import log_loss\n",
    "from sklearn.model_selection import cross_val_score, train_test_split\n",
    "from sklearn.svm import SVC\n",
    "from sklearn.pipeline import make_pipeline\n",
    "from sklearn.preprocessing import PowerTransformer"
   ]
  },
  {
   "cell_type": "code",
   "execution_count": 3,
   "id": "23ab4ab2-957e-4ecb-a7b9-62e24475e16f",
   "metadata": {
    "execution": {
     "iopub.execute_input": "2023-07-04T16:46:43.839285Z",
     "iopub.status.busy": "2023-07-04T16:46:43.839018Z",
     "iopub.status.idle": "2023-07-04T16:46:43.842150Z",
     "shell.execute_reply": "2023-07-04T16:46:43.841630Z",
     "shell.execute_reply.started": "2023-07-04T16:46:43.839267Z"
    }
   },
   "outputs": [],
   "source": [
    "base_path = './data'"
   ]
  },
  {
   "cell_type": "code",
   "execution_count": 4,
   "id": "a88f87f7-dea9-4578-9b0c-d8cbf5712525",
   "metadata": {
    "execution": {
     "iopub.execute_input": "2023-07-04T16:46:43.842806Z",
     "iopub.status.busy": "2023-07-04T16:46:43.842630Z",
     "iopub.status.idle": "2023-07-04T16:46:43.861592Z",
     "shell.execute_reply": "2023-07-04T16:46:43.861158Z",
     "shell.execute_reply.started": "2023-07-04T16:46:43.842778Z"
    }
   },
   "outputs": [],
   "source": [
    "all_df = pd.read_csv(f'{base_path}/train.csv', index_col=0)\n",
    "final_test_df = pd.read_csv(f'{base_path}/test.csv', index_col=0)"
   ]
  },
  {
   "cell_type": "code",
   "execution_count": 5,
   "id": "b54ee188-23c3-4c5a-92d8-f2822edc51ee",
   "metadata": {
    "execution": {
     "iopub.execute_input": "2023-07-04T16:46:43.862951Z",
     "iopub.status.busy": "2023-07-04T16:46:43.862768Z",
     "iopub.status.idle": "2023-07-04T16:46:43.866447Z",
     "shell.execute_reply": "2023-07-04T16:46:43.865858Z",
     "shell.execute_reply.started": "2023-07-04T16:46:43.862935Z"
    }
   },
   "outputs": [],
   "source": [
    "all_train = all_df.loc[:, all_df.columns != 'Class']\n",
    "all_test = all_df.loc[:, 'Class']"
   ]
  },
  {
   "cell_type": "code",
   "execution_count": 6,
   "id": "1a09c7fb-6323-4a0b-a847-8baa00d82be1",
   "metadata": {
    "execution": {
     "iopub.execute_input": "2023-07-04T16:46:43.867353Z",
     "iopub.status.busy": "2023-07-04T16:46:43.867151Z",
     "iopub.status.idle": "2023-07-04T16:46:43.876585Z",
     "shell.execute_reply": "2023-07-04T16:46:43.876103Z",
     "shell.execute_reply.started": "2023-07-04T16:46:43.867338Z"
    }
   },
   "outputs": [],
   "source": [
    "x_train, x_test, y_train, y_test = train_test_split(all_train, \n",
    "                                                    all_test, \n",
    "                                                    random_state=42)"
   ]
  },
  {
   "cell_type": "code",
   "execution_count": 7,
   "id": "c239d00a-0c75-49c2-ae07-35b829bb75ca",
   "metadata": {
    "execution": {
     "iopub.execute_input": "2023-07-04T16:46:43.877314Z",
     "iopub.status.busy": "2023-07-04T16:46:43.877155Z",
     "iopub.status.idle": "2023-07-04T16:46:43.885673Z",
     "shell.execute_reply": "2023-07-04T16:46:43.885251Z",
     "shell.execute_reply.started": "2023-07-04T16:46:43.877301Z"
    }
   },
   "outputs": [],
   "source": [
    "index_of_ej = list(x_train.columns).index('EJ')"
   ]
  },
  {
   "cell_type": "code",
   "execution_count": 8,
   "id": "086cc7dd-9256-46a1-a5e8-88cd04160871",
   "metadata": {
    "execution": {
     "iopub.execute_input": "2023-07-04T16:46:43.886452Z",
     "iopub.status.busy": "2023-07-04T16:46:43.886284Z",
     "iopub.status.idle": "2023-07-04T16:46:43.895309Z",
     "shell.execute_reply": "2023-07-04T16:46:43.894785Z",
     "shell.execute_reply.started": "2023-07-04T16:46:43.886438Z"
    },
    "tags": []
   },
   "outputs": [],
   "source": [
    "class CategoricalTransformer:\n",
    "    \n",
    "    def __init__(self, index_of_col):\n",
    "        self._index_of_col = index_of_col\n",
    "        self._a = None\n",
    "        self._b = None\n",
    "    \n",
    "    def fit(self, x, y):\n",
    "        if isinstance(x, pd.DataFrame):\n",
    "            x = x.values\n",
    "        self._a = y[x[:, self._index_of_col] == 'A'].mean()\n",
    "        self._b = y[x[:, self._index_of_col] == 'B'].mean()\n",
    "    \n",
    "    def transform(self, x):\n",
    "        if isinstance(x, pd.DataFrame):\n",
    "            x = x.values\n",
    "        x[:, self._index_of_col] = np.where(x[:, self._index_of_col] == 'A', self._a, self._b)\n",
    "        return x\n",
    "        \n",
    "    def fit_transform(self, x, y):\n",
    "        self.fit(x, y)\n",
    "        return self.transform(x)"
   ]
  },
  {
   "cell_type": "code",
   "execution_count": 9,
   "id": "82905e4a-4a55-453a-8c5e-4c1c55d1af9c",
   "metadata": {
    "execution": {
     "iopub.execute_input": "2023-07-04T16:46:43.897143Z",
     "iopub.status.busy": "2023-07-04T16:46:43.896959Z",
     "iopub.status.idle": "2023-07-04T16:46:43.905354Z",
     "shell.execute_reply": "2023-07-04T16:46:43.904837Z",
     "shell.execute_reply.started": "2023-07-04T16:46:43.897128Z"
    },
    "tags": []
   },
   "outputs": [],
   "source": [
    "svc_pipeline = make_pipeline(CategoricalTransformer(index_of_ej), \n",
    "                             IterativeImputer(initial_strategy='median'),\n",
    "                             PowerTransformer(),\n",
    "                             SVC(probability=True, random_state=42))"
   ]
  },
  {
   "cell_type": "code",
   "execution_count": 10,
   "id": "56f36408-9056-499f-af60-58c11718e45a",
   "metadata": {
    "execution": {
     "iopub.execute_input": "2023-07-04T16:46:43.906093Z",
     "iopub.status.busy": "2023-07-04T16:46:43.905936Z",
     "iopub.status.idle": "2023-07-04T16:46:45.366144Z",
     "shell.execute_reply": "2023-07-04T16:46:45.365419Z",
     "shell.execute_reply.started": "2023-07-04T16:46:43.906080Z"
    },
    "tags": []
   },
   "outputs": [
    {
     "data": {
      "text/plain": [
       "array([-0.19601827, -0.16018103, -0.37800674, -0.15333945, -0.30716651])"
      ]
     },
     "execution_count": 10,
     "metadata": {},
     "output_type": "execute_result"
    }
   ],
   "source": [
    "cv_scores = cross_val_score(svc_pipeline, x_train, y_train, cv=5, scoring='neg_log_loss')\n",
    "cv_scores"
   ]
  },
  {
   "cell_type": "code",
   "execution_count": 11,
   "id": "ac230a0a-9c72-494c-8be3-5a2a8c9d7d76",
   "metadata": {
    "execution": {
     "iopub.execute_input": "2023-07-04T16:46:45.367139Z",
     "iopub.status.busy": "2023-07-04T16:46:45.366941Z",
     "iopub.status.idle": "2023-07-04T16:46:45.370346Z",
     "shell.execute_reply": "2023-07-04T16:46:45.369720Z",
     "shell.execute_reply.started": "2023-07-04T16:46:45.367122Z"
    }
   },
   "outputs": [],
   "source": [
    "rf_pipeline = make_pipeline(CategoricalTransformer(index_of_ej), \n",
    "                            IterativeImputer(initial_strategy='median'),\n",
    "                            RandomForestClassifier(random_state=42))"
   ]
  },
  {
   "cell_type": "code",
   "execution_count": 12,
   "id": "1cb65db4-7287-4461-88b3-9b83290fbb53",
   "metadata": {
    "execution": {
     "iopub.execute_input": "2023-07-04T16:46:45.371243Z",
     "iopub.status.busy": "2023-07-04T16:46:45.371036Z",
     "iopub.status.idle": "2023-07-04T16:46:47.074029Z",
     "shell.execute_reply": "2023-07-04T16:46:47.073371Z",
     "shell.execute_reply.started": "2023-07-04T16:46:45.371226Z"
    }
   },
   "outputs": [
    {
     "data": {
      "text/plain": [
       "array([-0.23797267, -0.24670715, -0.32359585, -0.22211718, -0.2658788 ])"
      ]
     },
     "execution_count": 12,
     "metadata": {},
     "output_type": "execute_result"
    }
   ],
   "source": [
    "cv_scores = cross_val_score(rf_pipeline, x_train, y_train, cv=5, scoring='neg_log_loss')\n",
    "cv_scores"
   ]
  },
  {
   "cell_type": "code",
   "execution_count": 13,
   "id": "2f7d1f3a-29a8-41db-bd70-23cff40fed31",
   "metadata": {
    "execution": {
     "iopub.execute_input": "2023-07-04T16:46:47.076651Z",
     "iopub.status.busy": "2023-07-04T16:46:47.076156Z",
     "iopub.status.idle": "2023-07-04T16:46:47.080061Z",
     "shell.execute_reply": "2023-07-04T16:46:47.079478Z",
     "shell.execute_reply.started": "2023-07-04T16:46:47.076630Z"
    }
   },
   "outputs": [],
   "source": [
    "gb_pipeline = make_pipeline(CategoricalTransformer(index_of_ej), \n",
    "                            IterativeImputer(initial_strategy='median'),\n",
    "                            GradientBoostingClassifier(random_state=42))"
   ]
  },
  {
   "cell_type": "code",
   "execution_count": 14,
   "id": "b68eaaf7-4685-44f9-9285-a56069f10956",
   "metadata": {
    "execution": {
     "iopub.execute_input": "2023-07-04T16:46:47.081022Z",
     "iopub.status.busy": "2023-07-04T16:46:47.080823Z",
     "iopub.status.idle": "2023-07-04T16:46:49.819739Z",
     "shell.execute_reply": "2023-07-04T16:46:49.819181Z",
     "shell.execute_reply.started": "2023-07-04T16:46:47.081004Z"
    }
   },
   "outputs": [
    {
     "data": {
      "text/plain": [
       "array([-0.17150358, -0.19813229, -0.44429288, -0.15512462, -0.25250791])"
      ]
     },
     "execution_count": 14,
     "metadata": {},
     "output_type": "execute_result"
    }
   ],
   "source": [
    "cv_scores = cross_val_score(gb_pipeline, x_train, y_train, cv=5, scoring='neg_log_loss')\n",
    "cv_scores"
   ]
  },
  {
   "cell_type": "markdown",
   "id": "0a8df64c-5301-4e05-ad34-cd4ed7c2d18e",
   "metadata": {},
   "source": [
    "## Feature selection via optuna"
   ]
  },
  {
   "cell_type": "code",
   "execution_count": 15,
   "id": "c316115b-c425-441d-b01d-823e67262fe0",
   "metadata": {
    "execution": {
     "iopub.execute_input": "2023-07-04T16:46:49.820961Z",
     "iopub.status.busy": "2023-07-04T16:46:49.820412Z",
     "iopub.status.idle": "2023-07-04T16:46:49.827040Z",
     "shell.execute_reply": "2023-07-04T16:46:49.826437Z",
     "shell.execute_reply.started": "2023-07-04T16:46:49.820942Z"
    },
    "tags": []
   },
   "outputs": [],
   "source": [
    "def objective(trial):\n",
    "    x, y = x_train, y_train\n",
    "\n",
    "    classifier_name = trial.suggest_categorical(\"classifier\", [\"SVC\", \"RF\", 'GB'])\n",
    "    if classifier_name == \"SVC\":\n",
    "        svc_c = trial.suggest_float(\"svc_c\", 1e-10, 1e10, log=True)\n",
    "        svc_algo = trial.suggest_categorical(\"svc_algo\", ['poly', 'rbf', 'sigmoid'])\n",
    "        classifier_obj = make_pipeline(CategoricalTransformer(index_of_ej), \n",
    "                                       IterativeImputer(initial_strategy='median'),\n",
    "                                       PowerTransformer(),\n",
    "                                       SVC(C=svc_c, kernel=svc_algo, random_state=42, probability=True))\n",
    "    elif classifier_name == 'RF':\n",
    "        rf_max_depth = trial.suggest_int(\"rf_max_depth\", 2, 32, log=True)\n",
    "        rf_estimators = trial.suggest_int(\"rf_estimators\", 10, 1000, log=True)\n",
    "        rf_criterion = trial.suggest_categorical(\"rf_criterion\", ['gini', 'entropy'])\n",
    "        classifier_obj = make_pipeline(CategoricalTransformer(index_of_ej),  \n",
    "                                       IterativeImputer(initial_strategy='median'),\n",
    "                                       RandomForestClassifier(max_depth=rf_max_depth,  \n",
    "                                                              criterion=rf_criterion,\n",
    "                                                              n_estimators=rf_estimators,\n",
    "                                                              random_state=42))\n",
    "    else:\n",
    "        gb_max_depth = trial.suggest_int(\"gb_max_depth\", 2, 32, log=True)\n",
    "        gb_estimators = trial.suggest_int(\"gb_estimators\", 10, 1000, log=True)\n",
    "        gb_criterion = trial.suggest_categorical(\"gb_criterion\", ['friedman_mse', 'squared_error'])\n",
    "        classifier_obj = make_pipeline(CategoricalTransformer(index_of_ej), \n",
    "                                       IterativeImputer(initial_strategy='median'),\n",
    "                                       GradientBoostingClassifier(max_depth=gb_max_depth,  \n",
    "                                                                  criterion=gb_criterion,\n",
    "                                                                  n_estimators=gb_estimators,\n",
    "                                                                  random_state=42))\n",
    "\n",
    "    score = cross_val_score(classifier_obj, x, y, n_jobs=-1, cv=5, scoring='neg_log_loss')\n",
    "    accuracy = score.min()\n",
    "    return accuracy"
   ]
  },
  {
   "cell_type": "code",
   "execution_count": 16,
   "id": "60e2ee54-1934-4fed-8170-e4b549e958f6",
   "metadata": {
    "execution": {
     "iopub.execute_input": "2023-07-04T16:46:49.827848Z",
     "iopub.status.busy": "2023-07-04T16:46:49.827655Z",
     "iopub.status.idle": "2023-07-04T16:50:52.491613Z",
     "shell.execute_reply": "2023-07-04T16:50:52.490853Z",
     "shell.execute_reply.started": "2023-07-04T16:46:49.827833Z"
    },
    "tags": []
   },
   "outputs": [
    {
     "name": "stderr",
     "output_type": "stream",
     "text": [
      "[I 2023-07-04 16:46:49,836] A new study created in memory with name: no-name-d798d1c3-e985-4031-9b2f-2936d7b8b630\n",
      "[I 2023-07-04 16:46:51,913] Trial 0 finished with value: -1.018051128629217 and parameters: {'classifier': 'RF', 'rf_max_depth': 10, 'rf_estimators': 13, 'rf_criterion': 'entropy'}. Best is trial 0 with value: -1.018051128629217.\n",
      "[I 2023-07-04 16:46:52,589] Trial 1 finished with value: -0.4129989498073073 and parameters: {'classifier': 'SVC', 'svc_c': 1806409758.4186769, 'svc_algo': 'sigmoid'}. Best is trial 1 with value: -0.4129989498073073.\n",
      "[I 2023-07-04 16:46:53,400] Trial 2 finished with value: -1.782119533250708 and parameters: {'classifier': 'SVC', 'svc_c': 5.092650332351243e-05, 'svc_algo': 'poly'}. Best is trial 1 with value: -0.4129989498073073.\n",
      "[I 2023-07-04 16:46:54,339] Trial 3 finished with value: -0.3233883012464291 and parameters: {'classifier': 'RF', 'rf_max_depth': 10, 'rf_estimators': 131, 'rf_criterion': 'gini'}. Best is trial 3 with value: -0.3233883012464291.\n",
      "[I 2023-07-04 16:46:55,018] Trial 4 finished with value: -0.43142971446878065 and parameters: {'classifier': 'SVC', 'svc_c': 20412.08138326502, 'svc_algo': 'sigmoid'}. Best is trial 3 with value: -0.3233883012464291.\n",
      "[I 2023-07-04 16:46:57,549] Trial 5 finished with value: -1.118706210722472 and parameters: {'classifier': 'GB', 'gb_max_depth': 5, 'gb_estimators': 158, 'gb_criterion': 'friedman_mse'}. Best is trial 3 with value: -0.3233883012464291.\n",
      "[I 2023-07-04 16:46:59,058] Trial 6 finished with value: -0.6010988144317491 and parameters: {'classifier': 'GB', 'gb_max_depth': 4, 'gb_estimators': 103, 'gb_criterion': 'squared_error'}. Best is trial 3 with value: -0.3233883012464291.\n",
      "[I 2023-07-04 16:47:01,658] Trial 7 finished with value: -0.5012309529318042 and parameters: {'classifier': 'GB', 'gb_max_depth': 2, 'gb_estimators': 388, 'gb_criterion': 'friedman_mse'}. Best is trial 3 with value: -0.3233883012464291.\n",
      "[I 2023-07-04 16:47:02,574] Trial 8 finished with value: -0.6208691581416201 and parameters: {'classifier': 'GB', 'gb_max_depth': 30, 'gb_estimators': 24, 'gb_criterion': 'squared_error'}. Best is trial 3 with value: -0.3233883012464291.\n",
      "[I 2023-07-04 16:47:03,246] Trial 9 finished with value: -0.43990527392586165 and parameters: {'classifier': 'SVC', 'svc_c': 0.0018268354751018758, 'svc_algo': 'sigmoid'}. Best is trial 3 with value: -0.3233883012464291.\n",
      "[I 2023-07-04 16:47:05,502] Trial 10 finished with value: -0.3211533584191378 and parameters: {'classifier': 'RF', 'rf_max_depth': 32, 'rf_estimators': 480, 'rf_criterion': 'gini'}. Best is trial 10 with value: -0.3211533584191378.\n",
      "[I 2023-07-04 16:47:07,684] Trial 11 finished with value: -0.32261843295825654 and parameters: {'classifier': 'RF', 'rf_max_depth': 29, 'rf_estimators': 474, 'rf_criterion': 'gini'}. Best is trial 10 with value: -0.3211533584191378.\n",
      "[I 2023-07-04 16:47:11,415] Trial 12 finished with value: -0.3171559202302473 and parameters: {'classifier': 'RF', 'rf_max_depth': 31, 'rf_estimators': 886, 'rf_criterion': 'gini'}. Best is trial 12 with value: -0.3171559202302473.\n",
      "[I 2023-07-04 16:47:14,822] Trial 13 finished with value: -0.3172021509458236 and parameters: {'classifier': 'RF', 'rf_max_depth': 30, 'rf_estimators': 794, 'rf_criterion': 'gini'}. Best is trial 12 with value: -0.3171559202302473.\n",
      "[I 2023-07-04 16:47:17,726] Trial 14 finished with value: -0.3693577704095713 and parameters: {'classifier': 'RF', 'rf_max_depth': 2, 'rf_estimators': 924, 'rf_criterion': 'gini'}. Best is trial 12 with value: -0.3171559202302473.\n",
      "[I 2023-07-04 16:47:21,538] Trial 15 finished with value: -0.31714872138947553 and parameters: {'classifier': 'RF', 'rf_max_depth': 29, 'rf_estimators': 915, 'rf_criterion': 'gini'}. Best is trial 15 with value: -0.31714872138947553.\n",
      "[I 2023-07-04 16:47:22,841] Trial 16 finished with value: -0.31311322099752464 and parameters: {'classifier': 'RF', 'rf_max_depth': 17, 'rf_estimators': 222, 'rf_criterion': 'entropy'}. Best is trial 16 with value: -0.31311322099752464.\n",
      "[I 2023-07-04 16:47:23,867] Trial 17 finished with value: -0.3274345919478174 and parameters: {'classifier': 'RF', 'rf_max_depth': 15, 'rf_estimators': 148, 'rf_criterion': 'entropy'}. Best is trial 16 with value: -0.31311322099752464.\n",
      "[I 2023-07-04 16:47:25,284] Trial 18 finished with value: -0.3142768224147422 and parameters: {'classifier': 'RF', 'rf_max_depth': 18, 'rf_estimators': 251, 'rf_criterion': 'entropy'}. Best is trial 16 with value: -0.31311322099752464.\n",
      "[I 2023-07-04 16:47:26,538] Trial 19 finished with value: -0.31492513875343964 and parameters: {'classifier': 'RF', 'rf_max_depth': 15, 'rf_estimators': 207, 'rf_criterion': 'entropy'}. Best is trial 16 with value: -0.31311322099752464.\n",
      "[I 2023-07-04 16:47:27,193] Trial 20 finished with value: -0.3372217497339888 and parameters: {'classifier': 'RF', 'rf_max_depth': 5, 'rf_estimators': 59, 'rf_criterion': 'entropy'}. Best is trial 16 with value: -0.31311322099752464.\n",
      "[I 2023-07-04 16:47:28,532] Trial 21 finished with value: -0.31407293044654894 and parameters: {'classifier': 'RF', 'rf_max_depth': 16, 'rf_estimators': 232, 'rf_criterion': 'entropy'}. Best is trial 16 with value: -0.31311322099752464.\n",
      "[I 2023-07-04 16:47:30,001] Trial 22 finished with value: -0.31275251112271607 and parameters: {'classifier': 'RF', 'rf_max_depth': 17, 'rf_estimators': 263, 'rf_criterion': 'entropy'}. Best is trial 22 with value: -0.31275251112271607.\n",
      "[I 2023-07-04 16:47:31,662] Trial 23 finished with value: -0.31359027705060577 and parameters: {'classifier': 'RF', 'rf_max_depth': 18, 'rf_estimators': 318, 'rf_criterion': 'entropy'}. Best is trial 22 with value: -0.31275251112271607.\n",
      "[I 2023-07-04 16:47:33,451] Trial 24 finished with value: -0.3128490699963079 and parameters: {'classifier': 'RF', 'rf_max_depth': 20, 'rf_estimators': 347, 'rf_criterion': 'entropy'}. Best is trial 22 with value: -0.31275251112271607.\n",
      "[I 2023-07-04 16:47:34,274] Trial 25 finished with value: -0.3458073846615915 and parameters: {'classifier': 'RF', 'rf_max_depth': 10, 'rf_estimators': 84, 'rf_criterion': 'entropy'}. Best is trial 22 with value: -0.31275251112271607.\n",
      "[I 2023-07-04 16:47:36,247] Trial 26 finished with value: -0.31264971257160623 and parameters: {'classifier': 'RF', 'rf_max_depth': 20, 'rf_estimators': 401, 'rf_criterion': 'entropy'}. Best is trial 26 with value: -0.31264971257160623.\n",
      "[I 2023-07-04 16:47:38,277] Trial 27 finished with value: -0.31228944261462316 and parameters: {'classifier': 'RF', 'rf_max_depth': 21, 'rf_estimators': 412, 'rf_criterion': 'entropy'}. Best is trial 27 with value: -0.31228944261462316.\n",
      "[I 2023-07-04 16:47:38,973] Trial 28 finished with value: -0.46217649880765127 and parameters: {'classifier': 'SVC', 'svc_c': 1.462289903279746e-10, 'svc_algo': 'rbf'}. Best is trial 27 with value: -0.31228944261462316.\n",
      "[I 2023-07-04 16:47:42,990] Trial 29 finished with value: -2.8616419167020664 and parameters: {'classifier': 'GB', 'gb_max_depth': 17, 'gb_estimators': 940, 'gb_criterion': 'squared_error'}. Best is trial 27 with value: -0.31228944261462316.\n",
      "[I 2023-07-04 16:47:45,525] Trial 30 finished with value: -0.3135368571917199 and parameters: {'classifier': 'RF', 'rf_max_depth': 22, 'rf_estimators': 532, 'rf_criterion': 'entropy'}. Best is trial 27 with value: -0.31228944261462316.\n",
      "[I 2023-07-04 16:47:47,442] Trial 31 finished with value: -0.3148059652430872 and parameters: {'classifier': 'RF', 'rf_max_depth': 23, 'rf_estimators': 384, 'rf_criterion': 'entropy'}. Best is trial 27 with value: -0.31228944261462316.\n",
      "[I 2023-07-04 16:47:49,512] Trial 32 finished with value: -0.3123907577495101 and parameters: {'classifier': 'RF', 'rf_max_depth': 22, 'rf_estimators': 425, 'rf_criterion': 'entropy'}. Best is trial 27 with value: -0.31228944261462316.\n",
      "[I 2023-07-04 16:47:52,195] Trial 33 finished with value: -0.3136818766210358 and parameters: {'classifier': 'RF', 'rf_max_depth': 22, 'rf_estimators': 584, 'rf_criterion': 'entropy'}. Best is trial 27 with value: -0.31228944261462316.\n",
      "[I 2023-07-04 16:47:54,042] Trial 34 finished with value: -0.31456617400806514 and parameters: {'classifier': 'RF', 'rf_max_depth': 13, 'rf_estimators': 363, 'rf_criterion': 'entropy'}. Best is trial 27 with value: -0.31228944261462316.\n",
      "[I 2023-07-04 16:47:54,812] Trial 35 finished with value: -0.3716312059709023 and parameters: {'classifier': 'SVC', 'svc_c': 184.6294716839478, 'svc_algo': 'poly'}. Best is trial 27 with value: -0.31228944261462316.\n",
      "[I 2023-07-04 16:47:57,663] Trial 36 finished with value: -0.3138237030596917 and parameters: {'classifier': 'RF', 'rf_max_depth': 24, 'rf_estimators': 587, 'rf_criterion': 'entropy'}. Best is trial 27 with value: -0.31228944261462316.\n",
      "[I 2023-07-04 16:47:58,392] Trial 37 finished with value: -0.39386067613584713 and parameters: {'classifier': 'SVC', 'svc_c': 145627263.31314003, 'svc_algo': 'rbf'}. Best is trial 27 with value: -0.31228944261462316.\n",
      "[I 2023-07-04 16:48:01,242] Trial 38 finished with value: -0.31287726224662415 and parameters: {'classifier': 'RF', 'rf_max_depth': 13, 'rf_estimators': 634, 'rf_criterion': 'entropy'}. Best is trial 27 with value: -0.31228944261462316.\n",
      "[I 2023-07-04 16:48:01,927] Trial 39 finished with value: -0.472941734874518 and parameters: {'classifier': 'GB', 'gb_max_depth': 11, 'gb_estimators': 12, 'gb_criterion': 'friedman_mse'}. Best is trial 27 with value: -0.31228944261462316.\n",
      "[I 2023-07-04 16:48:03,574] Trial 40 finished with value: -0.31423408037344314 and parameters: {'classifier': 'RF', 'rf_max_depth': 24, 'rf_estimators': 312, 'rf_criterion': 'entropy'}. Best is trial 27 with value: -0.31228944261462316.\n",
      "[I 2023-07-04 16:48:05,616] Trial 41 finished with value: -0.3140765491017466 and parameters: {'classifier': 'RF', 'rf_max_depth': 20, 'rf_estimators': 399, 'rf_criterion': 'entropy'}. Best is trial 27 with value: -0.31228944261462316.\n",
      "[I 2023-07-04 16:48:07,244] Trial 42 finished with value: -0.3140719126022371 and parameters: {'classifier': 'RF', 'rf_max_depth': 20, 'rf_estimators': 313, 'rf_criterion': 'entropy'}. Best is trial 27 with value: -0.31228944261462316.\n",
      "[I 2023-07-04 16:48:09,394] Trial 43 finished with value: -0.3143413026948492 and parameters: {'classifier': 'RF', 'rf_max_depth': 25, 'rf_estimators': 445, 'rf_criterion': 'entropy'}. Best is trial 27 with value: -0.31228944261462316.\n",
      "[I 2023-07-04 16:48:10,056] Trial 44 finished with value: -0.34915743872156174 and parameters: {'classifier': 'GB', 'gb_max_depth': 2, 'gb_estimators': 38, 'gb_criterion': 'friedman_mse'}. Best is trial 27 with value: -0.31228944261462316.\n",
      "[I 2023-07-04 16:48:11,618] Trial 45 finished with value: -0.31416006279470887 and parameters: {'classifier': 'RF', 'rf_max_depth': 19, 'rf_estimators': 285, 'rf_criterion': 'entropy'}. Best is trial 27 with value: -0.31228944261462316.\n",
      "[I 2023-07-04 16:48:12,288] Trial 46 finished with value: -0.46217586673824507 and parameters: {'classifier': 'SVC', 'svc_c': 2.699140729850529e-10, 'svc_algo': 'rbf'}. Best is trial 27 with value: -0.31228944261462316.\n",
      "[I 2023-07-04 16:48:15,268] Trial 47 finished with value: -0.3125721123260282 and parameters: {'classifier': 'RF', 'rf_max_depth': 25, 'rf_estimators': 660, 'rf_criterion': 'entropy'}. Best is trial 27 with value: -0.31228944261462316.\n",
      "[I 2023-07-04 16:48:18,274] Trial 48 finished with value: -0.31246051997043356 and parameters: {'classifier': 'RF', 'rf_max_depth': 26, 'rf_estimators': 663, 'rf_criterion': 'entropy'}. Best is trial 27 with value: -0.31228944261462316.\n",
      "[I 2023-07-04 16:48:21,355] Trial 49 finished with value: -0.3120288987236348 and parameters: {'classifier': 'RF', 'rf_max_depth': 25, 'rf_estimators': 684, 'rf_criterion': 'entropy'}. Best is trial 49 with value: -0.3120288987236348.\n",
      "[I 2023-07-04 16:48:21,986] Trial 50 finished with value: -0.45009696500948143 and parameters: {'classifier': 'GB', 'gb_max_depth': 8, 'gb_estimators': 10, 'gb_criterion': 'squared_error'}. Best is trial 49 with value: -0.3120288987236348.\n",
      "[I 2023-07-04 16:48:25,382] Trial 51 finished with value: -0.3101596783877799 and parameters: {'classifier': 'RF', 'rf_max_depth': 27, 'rf_estimators': 770, 'rf_criterion': 'entropy'}. Best is trial 51 with value: -0.3101596783877799.\n",
      "[I 2023-07-04 16:48:28,639] Trial 52 finished with value: -0.310344167046377 and parameters: {'classifier': 'RF', 'rf_max_depth': 27, 'rf_estimators': 733, 'rf_criterion': 'entropy'}. Best is trial 51 with value: -0.3101596783877799.\n",
      "[I 2023-07-04 16:48:31,970] Trial 53 finished with value: -0.30972206742151676 and parameters: {'classifier': 'RF', 'rf_max_depth': 32, 'rf_estimators': 756, 'rf_criterion': 'entropy'}. Best is trial 53 with value: -0.30972206742151676.\n",
      "[I 2023-07-04 16:48:36,246] Trial 54 finished with value: -0.3110567098565163 and parameters: {'classifier': 'RF', 'rf_max_depth': 32, 'rf_estimators': 1000, 'rf_criterion': 'entropy'}. Best is trial 53 with value: -0.30972206742151676.\n",
      "[I 2023-07-04 16:48:40,422] Trial 55 finished with value: -0.31179288566777086 and parameters: {'classifier': 'RF', 'rf_max_depth': 31, 'rf_estimators': 970, 'rf_criterion': 'entropy'}. Best is trial 53 with value: -0.30972206742151676.\n",
      "[I 2023-07-04 16:48:44,253] Trial 56 finished with value: -0.31717433785542115 and parameters: {'classifier': 'RF', 'rf_max_depth': 32, 'rf_estimators': 917, 'rf_criterion': 'gini'}. Best is trial 53 with value: -0.30972206742151676.\n",
      "[I 2023-07-04 16:48:48,468] Trial 57 finished with value: -0.3116338972505329 and parameters: {'classifier': 'RF', 'rf_max_depth': 31, 'rf_estimators': 979, 'rf_criterion': 'entropy'}. Best is trial 53 with value: -0.30972206742151676.\n",
      "[I 2023-07-04 16:48:52,327] Trial 58 finished with value: -0.31702883507352697 and parameters: {'classifier': 'RF', 'rf_max_depth': 32, 'rf_estimators': 921, 'rf_criterion': 'gini'}. Best is trial 53 with value: -0.30972206742151676.\n",
      "[I 2023-07-04 16:48:55,790] Trial 59 finished with value: -0.3107532632773086 and parameters: {'classifier': 'RF', 'rf_max_depth': 28, 'rf_estimators': 786, 'rf_criterion': 'entropy'}. Best is trial 53 with value: -0.30972206742151676.\n",
      "[I 2023-07-04 16:48:59,008] Trial 60 finished with value: -0.3104387819859619 and parameters: {'classifier': 'RF', 'rf_max_depth': 27, 'rf_estimators': 725, 'rf_criterion': 'entropy'}. Best is trial 53 with value: -0.30972206742151676.\n",
      "[I 2023-07-04 16:49:02,458] Trial 61 finished with value: -0.30960300887731634 and parameters: {'classifier': 'RF', 'rf_max_depth': 29, 'rf_estimators': 745, 'rf_criterion': 'entropy'}. Best is trial 61 with value: -0.30960300887731634.\n",
      "[I 2023-07-04 16:49:05,779] Trial 62 finished with value: -0.30972960087989543 and parameters: {'classifier': 'RF', 'rf_max_depth': 27, 'rf_estimators': 757, 'rf_criterion': 'entropy'}. Best is trial 61 with value: -0.30960300887731634.\n",
      "[I 2023-07-04 16:49:09,018] Trial 63 finished with value: -0.3103633644118573 and parameters: {'classifier': 'RF', 'rf_max_depth': 27, 'rf_estimators': 735, 'rf_criterion': 'entropy'}. Best is trial 61 with value: -0.30960300887731634.\n",
      "[I 2023-07-04 16:49:12,163] Trial 64 finished with value: -0.3164675394517657 and parameters: {'classifier': 'RF', 'rf_max_depth': 27, 'rf_estimators': 737, 'rf_criterion': 'gini'}. Best is trial 61 with value: -0.30960300887731634.\n",
      "[I 2023-07-04 16:49:14,581] Trial 65 finished with value: -0.313422617775635 and parameters: {'classifier': 'RF', 'rf_max_depth': 28, 'rf_estimators': 514, 'rf_criterion': 'entropy'}. Best is trial 61 with value: -0.30960300887731634.\n",
      "[I 2023-07-04 16:49:15,300] Trial 66 finished with value: -0.4379941937915725 and parameters: {'classifier': 'SVC', 'svc_c': 0.13783825615093592, 'svc_algo': 'poly'}. Best is trial 61 with value: -0.30960300887731634.\n",
      "[I 2023-07-04 16:49:18,668] Trial 67 finished with value: -0.309762064061363 and parameters: {'classifier': 'RF', 'rf_max_depth': 28, 'rf_estimators': 759, 'rf_criterion': 'entropy'}. Best is trial 61 with value: -0.30960300887731634.\n",
      "[I 2023-07-04 16:49:21,129] Trial 68 finished with value: -0.3138301244400318 and parameters: {'classifier': 'RF', 'rf_max_depth': 28, 'rf_estimators': 521, 'rf_criterion': 'entropy'}. Best is trial 61 with value: -0.30960300887731634.\n",
      "[I 2023-07-04 16:49:24,647] Trial 69 finished with value: -0.3109331219946086 and parameters: {'classifier': 'RF', 'rf_max_depth': 28, 'rf_estimators': 799, 'rf_criterion': 'entropy'}. Best is trial 61 with value: -0.30960300887731634.\n",
      "[I 2023-07-04 16:49:26,374] Trial 70 finished with value: -1.2201564155781477 and parameters: {'classifier': 'GB', 'gb_max_depth': 31, 'gb_estimators': 64, 'gb_criterion': 'friedman_mse'}. Best is trial 61 with value: -0.30960300887731634.\n",
      "[I 2023-07-04 16:49:29,736] Trial 71 finished with value: -0.3097817835013802 and parameters: {'classifier': 'RF', 'rf_max_depth': 26, 'rf_estimators': 760, 'rf_criterion': 'entropy'}. Best is trial 61 with value: -0.30960300887731634.\n",
      "[I 2023-07-04 16:49:33,094] Trial 72 finished with value: -0.30972960087989543 and parameters: {'classifier': 'RF', 'rf_max_depth': 24, 'rf_estimators': 757, 'rf_criterion': 'entropy'}. Best is trial 61 with value: -0.30960300887731634.\n",
      "[I 2023-07-04 16:49:35,612] Trial 73 finished with value: -0.31303640351308604 and parameters: {'classifier': 'RF', 'rf_max_depth': 24, 'rf_estimators': 539, 'rf_criterion': 'entropy'}. Best is trial 61 with value: -0.30960300887731634.\n",
      "[I 2023-07-04 16:49:39,076] Trial 74 finished with value: -0.31033106962371393 and parameters: {'classifier': 'RF', 'rf_max_depth': 32, 'rf_estimators': 776, 'rf_criterion': 'entropy'}. Best is trial 61 with value: -0.30960300887731634.\n",
      "[I 2023-07-04 16:49:42,601] Trial 75 finished with value: -0.3114394442530632 and parameters: {'classifier': 'RF', 'rf_max_depth': 30, 'rf_estimators': 808, 'rf_criterion': 'entropy'}. Best is trial 61 with value: -0.30960300887731634.\n",
      "[I 2023-07-04 16:49:45,351] Trial 76 finished with value: -0.31438823933873183 and parameters: {'classifier': 'RF', 'rf_max_depth': 32, 'rf_estimators': 600, 'rf_criterion': 'entropy'}. Best is trial 61 with value: -0.30960300887731634.\n",
      "[I 2023-07-04 16:49:47,605] Trial 77 finished with value: -0.3223055634497688 and parameters: {'classifier': 'RF', 'rf_max_depth': 22, 'rf_estimators': 475, 'rf_criterion': 'gini'}. Best is trial 61 with value: -0.30960300887731634.\n",
      "[I 2023-07-04 16:49:51,264] Trial 78 finished with value: -0.3121432126685103 and parameters: {'classifier': 'RF', 'rf_max_depth': 23, 'rf_estimators': 834, 'rf_criterion': 'entropy'}. Best is trial 61 with value: -0.30960300887731634.\n",
      "[I 2023-07-04 16:49:54,092] Trial 79 finished with value: -0.31394824937823473 and parameters: {'classifier': 'RF', 'rf_max_depth': 29, 'rf_estimators': 611, 'rf_criterion': 'entropy'}. Best is trial 61 with value: -0.30960300887731634.\n",
      "[I 2023-07-04 16:49:54,818] Trial 80 finished with value: -0.39386067613584713 and parameters: {'classifier': 'SVC', 'svc_c': 229238.4553552839, 'svc_algo': 'rbf'}. Best is trial 61 with value: -0.30960300887731634.\n",
      "[I 2023-07-04 16:49:58,428] Trial 81 finished with value: -0.3114408514963331 and parameters: {'classifier': 'RF', 'rf_max_depth': 26, 'rf_estimators': 809, 'rf_criterion': 'entropy'}. Best is trial 61 with value: -0.30960300887731634.\n",
      "[I 2023-07-04 16:50:01,563] Trial 82 finished with value: -0.31221936036314346 and parameters: {'classifier': 'RF', 'rf_max_depth': 29, 'rf_estimators': 701, 'rf_criterion': 'entropy'}. Best is trial 61 with value: -0.30960300887731634.\n",
      "[I 2023-07-04 16:50:04,049] Trial 83 finished with value: -0.3149670294951633 and parameters: {'classifier': 'RF', 'rf_max_depth': 23, 'rf_estimators': 481, 'rf_criterion': 'entropy'}. Best is trial 61 with value: -0.30960300887731634.\n",
      "[I 2023-07-04 16:50:06,656] Trial 84 finished with value: -0.3128078891732888 and parameters: {'classifier': 'RF', 'rf_max_depth': 25, 'rf_estimators': 570, 'rf_criterion': 'entropy'}. Best is trial 61 with value: -0.30960300887731634.\n",
      "[I 2023-07-04 16:50:10,405] Trial 85 finished with value: -0.31135415838065006 and parameters: {'classifier': 'RF', 'rf_max_depth': 21, 'rf_estimators': 862, 'rf_criterion': 'entropy'}. Best is trial 61 with value: -0.30960300887731634.\n",
      "[I 2023-07-04 16:50:13,295] Trial 86 finished with value: -0.3129389799761121 and parameters: {'classifier': 'RF', 'rf_max_depth': 29, 'rf_estimators': 635, 'rf_criterion': 'entropy'}. Best is trial 61 with value: -0.30960300887731634.\n",
      "[I 2023-07-04 16:50:16,546] Trial 87 finished with value: -0.3104043608541134 and parameters: {'classifier': 'RF', 'rf_max_depth': 18, 'rf_estimators': 728, 'rf_criterion': 'entropy'}. Best is trial 61 with value: -0.30960300887731634.\n",
      "[I 2023-07-04 16:50:19,769] Trial 88 finished with value: -1.0331718245844954 and parameters: {'classifier': 'GB', 'gb_max_depth': 4, 'gb_estimators': 260, 'gb_criterion': 'squared_error'}. Best is trial 61 with value: -0.30960300887731634.\n",
      "[I 2023-07-04 16:50:24,025] Trial 89 finished with value: -0.3108674521104536 and parameters: {'classifier': 'RF', 'rf_max_depth': 23, 'rf_estimators': 994, 'rf_criterion': 'entropy'}. Best is trial 61 with value: -0.30960300887731634.\n",
      "[I 2023-07-04 16:50:26,244] Trial 90 finished with value: -0.3148311936930614 and parameters: {'classifier': 'RF', 'rf_max_depth': 26, 'rf_estimators': 461, 'rf_criterion': 'entropy'}. Best is trial 61 with value: -0.30960300887731634.\n",
      "[I 2023-07-04 16:50:29,594] Trial 91 finished with value: -0.30971107379223156 and parameters: {'classifier': 'RF', 'rf_max_depth': 27, 'rf_estimators': 753, 'rf_criterion': 'entropy'}. Best is trial 61 with value: -0.30960300887731634.\n",
      "[I 2023-07-04 16:50:33,217] Trial 92 finished with value: -0.31194666127100296 and parameters: {'classifier': 'RF', 'rf_max_depth': 32, 'rf_estimators': 831, 'rf_criterion': 'entropy'}. Best is trial 61 with value: -0.30960300887731634.\n",
      "[I 2023-07-04 16:50:36,206] Trial 93 finished with value: -0.31239321419357235 and parameters: {'classifier': 'RF', 'rf_max_depth': 29, 'rf_estimators': 655, 'rf_criterion': 'entropy'}. Best is trial 61 with value: -0.30960300887731634.\n",
      "[I 2023-07-04 16:50:38,792] Trial 94 finished with value: -0.31318520420491813 and parameters: {'classifier': 'RF', 'rf_max_depth': 25, 'rf_estimators': 540, 'rf_criterion': 'entropy'}. Best is trial 61 with value: -0.30960300887731634.\n",
      "[I 2023-07-04 16:50:42,553] Trial 95 finished with value: -0.31143390775228996 and parameters: {'classifier': 'RF', 'rf_max_depth': 20, 'rf_estimators': 867, 'rf_criterion': 'entropy'}. Best is trial 61 with value: -0.30960300887731634.\n",
      "[I 2023-07-04 16:50:45,634] Trial 96 finished with value: -0.3121563390545573 and parameters: {'classifier': 'RF', 'rf_max_depth': 26, 'rf_estimators': 685, 'rf_criterion': 'entropy'}. Best is trial 61 with value: -0.30960300887731634.\n",
      "[I 2023-07-04 16:50:48,413] Trial 97 finished with value: -0.31403746885809747 and parameters: {'classifier': 'RF', 'rf_max_depth': 22, 'rf_estimators': 592, 'rf_criterion': 'entropy'}. Best is trial 61 with value: -0.30960300887731634.\n",
      "[I 2023-07-04 16:50:49,092] Trial 98 finished with value: -0.391042686839716 and parameters: {'classifier': 'SVC', 'svc_c': 6.744055871430442e-07, 'svc_algo': 'sigmoid'}. Best is trial 61 with value: -0.30960300887731634.\n",
      "[I 2023-07-04 16:50:52,488] Trial 99 finished with value: -0.3100657925680461 and parameters: {'classifier': 'RF', 'rf_max_depth': 30, 'rf_estimators': 767, 'rf_criterion': 'entropy'}. Best is trial 61 with value: -0.30960300887731634.\n"
     ]
    },
    {
     "name": "stdout",
     "output_type": "stream",
     "text": [
      "FrozenTrial(number=61, state=TrialState.COMPLETE, values=[-0.30960300887731634], datetime_start=datetime.datetime(2023, 7, 4, 16, 48, 59, 9627), datetime_complete=datetime.datetime(2023, 7, 4, 16, 49, 2, 457781), params={'classifier': 'RF', 'rf_max_depth': 29, 'rf_estimators': 745, 'rf_criterion': 'entropy'}, user_attrs={}, system_attrs={}, intermediate_values={}, distributions={'classifier': CategoricalDistribution(choices=('SVC', 'RF', 'GB')), 'rf_max_depth': IntDistribution(high=32, log=True, low=2, step=1), 'rf_estimators': IntDistribution(high=1000, log=True, low=10, step=1), 'rf_criterion': CategoricalDistribution(choices=('gini', 'entropy'))}, trial_id=61, value=None)\n"
     ]
    }
   ],
   "source": [
    "study = optuna.create_study(direction='maximize')\n",
    "study.optimize(objective, n_trials=100)\n",
    "print(study.best_trial)"
   ]
  },
  {
   "cell_type": "code",
   "execution_count": null,
   "id": "ef7501a5-6296-42e7-8b31-ccc14a86ff8d",
   "metadata": {},
   "outputs": [],
   "source": []
  }
 ],
 "metadata": {
  "kernelspec": {
   "display_name": "azureml_py38_PT_and_TF",
   "language": "python",
   "name": "conda-env-azureml_py38_PT_and_TF-py"
  },
  "language_info": {
   "codemirror_mode": {
    "name": "ipython",
    "version": 3
   },
   "file_extension": ".py",
   "mimetype": "text/x-python",
   "name": "python",
   "nbconvert_exporter": "python",
   "pygments_lexer": "ipython3",
   "version": "3.8.5"
  }
 },
 "nbformat": 4,
 "nbformat_minor": 5
}
