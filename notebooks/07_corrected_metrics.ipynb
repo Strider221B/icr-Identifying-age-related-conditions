{
 "cells": [
  {
   "cell_type": "code",
   "execution_count": 1,
   "id": "cfec3af9-03c4-427b-84be-7ce362fe604b",
   "metadata": {
    "execution": {
     "iopub.execute_input": "2023-07-06T05:20:24.124148Z",
     "iopub.status.busy": "2023-07-06T05:20:24.123984Z",
     "iopub.status.idle": "2023-07-06T05:20:24.129508Z",
     "shell.execute_reply": "2023-07-06T05:20:24.128969Z",
     "shell.execute_reply.started": "2023-07-06T05:20:24.124131Z"
    }
   },
   "outputs": [],
   "source": [
    "import os\n",
    "os.chdir('./../')"
   ]
  },
  {
   "cell_type": "code",
   "execution_count": 2,
   "id": "0a0b9c55-cbb4-49f2-8848-4796d4ff554f",
   "metadata": {
    "execution": {
     "iopub.execute_input": "2023-07-06T05:20:24.130733Z",
     "iopub.status.busy": "2023-07-06T05:20:24.130568Z",
     "iopub.status.idle": "2023-07-06T05:20:24.941176Z",
     "shell.execute_reply": "2023-07-06T05:20:24.940652Z",
     "shell.execute_reply.started": "2023-07-06T05:20:24.130720Z"
    },
    "tags": []
   },
   "outputs": [
    {
     "name": "stderr",
     "output_type": "stream",
     "text": [
      "<frozen importlib._bootstrap>:219: RuntimeWarning: scipy._lib.messagestream.MessageStream size changed, may indicate binary incompatibility. Expected 56 from C header, got 64 from PyObject\n"
     ]
    }
   ],
   "source": [
    "import numpy as np\n",
    "import optuna\n",
    "import pandas as pd\n",
    "from sklearn.ensemble import GradientBoostingClassifier, RandomForestClassifier\n",
    "from sklearn.experimental import enable_iterative_imputer\n",
    "from sklearn.impute import IterativeImputer\n",
    "from sklearn.linear_model import LogisticRegression\n",
    "from sklearn.model_selection import cross_val_score, train_test_split\n",
    "from sklearn.svm import SVC\n",
    "from sklearn.pipeline import make_pipeline\n",
    "from sklearn.preprocessing import PowerTransformer\n",
    "\n",
    "from scripts.categorical_transformer import CategoricalTransformer\n",
    "from scripts.loss import get_bal_log_loss\n",
    "from scripts.outlier_remover import OutlierRemover"
   ]
  },
  {
   "cell_type": "code",
   "execution_count": 3,
   "id": "9a0f20b2-33c7-48bd-9971-0650f1ec6bdc",
   "metadata": {
    "execution": {
     "iopub.execute_input": "2023-07-06T05:20:24.942442Z",
     "iopub.status.busy": "2023-07-06T05:20:24.942191Z",
     "iopub.status.idle": "2023-07-06T05:20:24.945194Z",
     "shell.execute_reply": "2023-07-06T05:20:24.944572Z",
     "shell.execute_reply.started": "2023-07-06T05:20:24.942427Z"
    }
   },
   "outputs": [],
   "source": [
    "base_path = './data'"
   ]
  },
  {
   "cell_type": "code",
   "execution_count": 4,
   "id": "fe147f20-da4d-4cb4-a68f-13626d609db7",
   "metadata": {
    "execution": {
     "iopub.execute_input": "2023-07-06T05:20:24.946514Z",
     "iopub.status.busy": "2023-07-06T05:20:24.946074Z",
     "iopub.status.idle": "2023-07-06T05:20:24.965690Z",
     "shell.execute_reply": "2023-07-06T05:20:24.965221Z",
     "shell.execute_reply.started": "2023-07-06T05:20:24.946488Z"
    }
   },
   "outputs": [],
   "source": [
    "all_df = pd.read_csv(f'{base_path}/train.csv', index_col=0)\n",
    "final_test_df = pd.read_csv(f'{base_path}/test.csv', index_col=0)"
   ]
  },
  {
   "cell_type": "code",
   "execution_count": 5,
   "id": "fd9855df-986c-411d-8bc6-037da5d35d58",
   "metadata": {
    "execution": {
     "iopub.execute_input": "2023-07-06T05:20:24.968304Z",
     "iopub.status.busy": "2023-07-06T05:20:24.967670Z",
     "iopub.status.idle": "2023-07-06T05:20:24.971571Z",
     "shell.execute_reply": "2023-07-06T05:20:24.971046Z",
     "shell.execute_reply.started": "2023-07-06T05:20:24.968284Z"
    }
   },
   "outputs": [],
   "source": [
    "all_train = all_df.loc[:, all_df.columns != 'Class']\n",
    "all_test = all_df.loc[:, 'Class']"
   ]
  },
  {
   "cell_type": "code",
   "execution_count": 6,
   "id": "92622e01-e14e-40da-a34a-c454d51c6ae4",
   "metadata": {
    "execution": {
     "iopub.execute_input": "2023-07-06T05:20:24.972352Z",
     "iopub.status.busy": "2023-07-06T05:20:24.972189Z",
     "iopub.status.idle": "2023-07-06T05:20:24.982255Z",
     "shell.execute_reply": "2023-07-06T05:20:24.981760Z",
     "shell.execute_reply.started": "2023-07-06T05:20:24.972338Z"
    },
    "tags": []
   },
   "outputs": [],
   "source": [
    "x_train, x_test, y_train, y_test = train_test_split(all_train, \n",
    "                                                    all_test, \n",
    "                                                    random_state=42, \n",
    "                                                    stratify=all_test)"
   ]
  },
  {
   "cell_type": "code",
   "execution_count": 7,
   "id": "2ce56e58-8cf1-40ab-be85-8da327d3aef8",
   "metadata": {
    "execution": {
     "iopub.execute_input": "2023-07-06T05:20:24.983444Z",
     "iopub.status.busy": "2023-07-06T05:20:24.983029Z",
     "iopub.status.idle": "2023-07-06T05:20:24.989584Z",
     "shell.execute_reply": "2023-07-06T05:20:24.989159Z",
     "shell.execute_reply.started": "2023-07-06T05:20:24.983423Z"
    },
    "tags": []
   },
   "outputs": [],
   "source": [
    "index_of_ej = list(x_train.columns).index('EJ')"
   ]
  },
  {
   "cell_type": "code",
   "execution_count": 8,
   "id": "bfaa5e6a-5bd4-4c51-8c75-89fb3b708db2",
   "metadata": {
    "execution": {
     "iopub.execute_input": "2023-07-06T05:20:24.990332Z",
     "iopub.status.busy": "2023-07-06T05:20:24.990166Z",
     "iopub.status.idle": "2023-07-06T05:20:24.998750Z",
     "shell.execute_reply": "2023-07-06T05:20:24.998325Z",
     "shell.execute_reply.started": "2023-07-06T05:20:24.990318Z"
    },
    "tags": []
   },
   "outputs": [],
   "source": [
    "svc_pipeline = make_pipeline(CategoricalTransformer(index_of_ej), \n",
    "                             OutlierRemover(),\n",
    "                             IterativeImputer(initial_strategy='median'),\n",
    "                             PowerTransformer(),\n",
    "                             SVC(probability=True, random_state=42, class_weight='balanced'))"
   ]
  },
  {
   "cell_type": "code",
   "execution_count": 9,
   "id": "0bbf1cf3-0174-4e61-8e19-95fc3a7014d8",
   "metadata": {
    "execution": {
     "iopub.execute_input": "2023-07-06T05:20:24.999468Z",
     "iopub.status.busy": "2023-07-06T05:20:24.999296Z",
     "iopub.status.idle": "2023-07-06T05:20:27.484994Z",
     "shell.execute_reply": "2023-07-06T05:20:27.484436Z",
     "shell.execute_reply.started": "2023-07-06T05:20:24.999454Z"
    },
    "tags": []
   },
   "outputs": [
    {
     "name": "stderr",
     "output_type": "stream",
     "text": [
      "/anaconda/envs/azureml_py38_PT_and_TF/lib/python3.8/site-packages/sklearn/preprocessing/_data.py:3253: RuntimeWarning: divide by zero encountered in log\n",
      "  loglike = -n_samples / 2 * np.log(x_trans.var())\n"
     ]
    },
    {
     "data": {
      "text/plain": [
       "array([-0.45674195, -0.50885743, -0.84616288, -0.66060942, -1.04965479])"
      ]
     },
     "execution_count": 9,
     "metadata": {},
     "output_type": "execute_result"
    }
   ],
   "source": [
    "cv_scores = cross_val_score(svc_pipeline, x_train, y_train, cv=5, scoring=get_bal_log_loss())\n",
    "cv_scores"
   ]
  },
  {
   "cell_type": "code",
   "execution_count": 10,
   "id": "e0aa82d4-6f63-4c86-9340-ffc6d9773f4d",
   "metadata": {
    "execution": {
     "iopub.execute_input": "2023-07-06T05:20:27.486055Z",
     "iopub.status.busy": "2023-07-06T05:20:27.485875Z",
     "iopub.status.idle": "2023-07-06T05:20:27.489012Z",
     "shell.execute_reply": "2023-07-06T05:20:27.488483Z",
     "shell.execute_reply.started": "2023-07-06T05:20:27.486040Z"
    },
    "tags": []
   },
   "outputs": [],
   "source": [
    "rf_pipeline = make_pipeline(CategoricalTransformer(index_of_ej), \n",
    "                            OutlierRemover(),\n",
    "                            IterativeImputer(initial_strategy='median'),\n",
    "                            RandomForestClassifier(random_state=42, class_weight='balanced'))"
   ]
  },
  {
   "cell_type": "code",
   "execution_count": 11,
   "id": "7c486182-6ee5-4b2c-973a-2b3d928f225b",
   "metadata": {
    "execution": {
     "iopub.execute_input": "2023-07-06T05:20:27.489846Z",
     "iopub.status.busy": "2023-07-06T05:20:27.489645Z",
     "iopub.status.idle": "2023-07-06T05:20:30.089039Z",
     "shell.execute_reply": "2023-07-06T05:20:30.088379Z",
     "shell.execute_reply.started": "2023-07-06T05:20:27.489829Z"
    },
    "tags": []
   },
   "outputs": [
    {
     "data": {
      "text/plain": [
       "array([-0.71237826, -0.62150803, -0.75232311, -0.71401494, -1.00008393])"
      ]
     },
     "execution_count": 11,
     "metadata": {},
     "output_type": "execute_result"
    }
   ],
   "source": [
    "cv_scores = cross_val_score(rf_pipeline, x_train, y_train, cv=5, scoring=get_bal_log_loss())\n",
    "cv_scores"
   ]
  },
  {
   "cell_type": "code",
   "execution_count": 12,
   "id": "7d3fd806-e045-4d15-bc04-314aa5b6187a",
   "metadata": {
    "execution": {
     "iopub.execute_input": "2023-07-06T05:20:30.090227Z",
     "iopub.status.busy": "2023-07-06T05:20:30.090040Z",
     "iopub.status.idle": "2023-07-06T05:20:30.093150Z",
     "shell.execute_reply": "2023-07-06T05:20:30.092579Z",
     "shell.execute_reply.started": "2023-07-06T05:20:30.090212Z"
    }
   },
   "outputs": [],
   "source": [
    "gb_pipeline = make_pipeline(CategoricalTransformer(index_of_ej), \n",
    "                            OutlierRemover(),\n",
    "                            IterativeImputer(initial_strategy='median'),\n",
    "                            GradientBoostingClassifier(random_state=42))"
   ]
  },
  {
   "cell_type": "code",
   "execution_count": 13,
   "id": "5b23794a-476a-4a27-b8ea-c393bbb6c2dc",
   "metadata": {
    "execution": {
     "iopub.execute_input": "2023-07-06T05:20:30.093947Z",
     "iopub.status.busy": "2023-07-06T05:20:30.093757Z",
     "iopub.status.idle": "2023-07-06T05:20:33.704488Z",
     "shell.execute_reply": "2023-07-06T05:20:33.703795Z",
     "shell.execute_reply.started": "2023-07-06T05:20:30.093931Z"
    },
    "tags": []
   },
   "outputs": [
    {
     "data": {
      "text/plain": [
       "array([-1.03757899, -0.41996786, -0.98374988, -0.55716114, -1.4627205 ])"
      ]
     },
     "execution_count": 13,
     "metadata": {},
     "output_type": "execute_result"
    }
   ],
   "source": [
    "cv_scores = cross_val_score(gb_pipeline, x_train, y_train, cv=5, scoring=get_bal_log_loss())\n",
    "cv_scores"
   ]
  },
  {
   "cell_type": "code",
   "execution_count": 14,
   "id": "dff947fc-714f-48bb-bf11-68d0788a7194",
   "metadata": {
    "execution": {
     "iopub.execute_input": "2023-07-06T05:20:33.707369Z",
     "iopub.status.busy": "2023-07-06T05:20:33.707182Z",
     "iopub.status.idle": "2023-07-06T05:20:33.714252Z",
     "shell.execute_reply": "2023-07-06T05:20:33.713652Z",
     "shell.execute_reply.started": "2023-07-06T05:20:33.707354Z"
    },
    "tags": []
   },
   "outputs": [],
   "source": [
    "def objective(trial):\n",
    "    x, y = x_train, y_train\n",
    "\n",
    "    classifier_name = trial.suggest_categorical(\"classifier\", ['SVC' ,'RF', 'GB'])\n",
    "    if classifier_name == \"SVC\":\n",
    "        svc_c = trial.suggest_float(\"svc_c\", 1e-10, 1e10, log=True)\n",
    "        svc_algo = trial.suggest_categorical(\"svc_algo\", ['poly', 'rbf', 'sigmoid'])\n",
    "        svc_cls_wgt = trial.suggest_categorical(\"svc_cls_wgt\", [None, 'balanced'])\n",
    "        classifier_obj = make_pipeline(CategoricalTransformer(index_of_ej), \n",
    "                                       OutlierRemover(),\n",
    "                                       IterativeImputer(initial_strategy='median'),\n",
    "                                       PowerTransformer(),\n",
    "                                       SVC(C=svc_c, \n",
    "                                           kernel=svc_algo, \n",
    "                                           random_state=42, \n",
    "                                           probability=True,\n",
    "                                           class_weight=svc_cls_wgt))\n",
    "    elif classifier_name == 'RF':\n",
    "        rf_max_depth = trial.suggest_int(\"rf_max_depth\", 2, 32, log=True)\n",
    "        rf_estimators = trial.suggest_int(\"rf_estimators\", 10, 1000, log=True)\n",
    "        rf_criterion = trial.suggest_categorical(\"rf_criterion\", ['gini', 'entropy'])\n",
    "        rf_cls_wgt = trial.suggest_categorical(\"rf_cls_wgt\", [None, 'balanced', 'balanced_subsample'])\n",
    "        classifier_obj = make_pipeline(CategoricalTransformer(index_of_ej),  \n",
    "                                       OutlierRemover(),\n",
    "                                       IterativeImputer(initial_strategy='median'),\n",
    "                                       RandomForestClassifier(max_depth=rf_max_depth,  \n",
    "                                                              criterion=rf_criterion,\n",
    "                                                              n_estimators=rf_estimators,\n",
    "                                                              random_state=42,\n",
    "                                                             class_weight=rf_cls_wgt))\n",
    "    else:\n",
    "        gb_max_depth = trial.suggest_int(\"gb_max_depth\", 2, 32, log=True)\n",
    "        gb_estimators = trial.suggest_int(\"gb_estimators\", 10, 1000, log=True)\n",
    "        gb_criterion = trial.suggest_categorical(\"gb_criterion\", ['friedman_mse', 'squared_error'])\n",
    "        classifier_obj = make_pipeline(CategoricalTransformer(index_of_ej), \n",
    "                                       OutlierRemover(),\n",
    "                                       IterativeImputer(initial_strategy='median'),\n",
    "                                       GradientBoostingClassifier(max_depth=gb_max_depth,  \n",
    "                                                                  criterion=gb_criterion,\n",
    "                                                                  n_estimators=gb_estimators,\n",
    "                                                                  random_state=42))\n",
    "\n",
    "    score = cross_val_score(classifier_obj, x, y, n_jobs=-1, cv=5, scoring=get_bal_log_loss())\n",
    "    accuracy = score.mean()\n",
    "    return accuracy"
   ]
  },
  {
   "cell_type": "code",
   "execution_count": 15,
   "id": "99660569-9380-4bd2-9562-2204ec606190",
   "metadata": {
    "execution": {
     "iopub.execute_input": "2023-07-06T05:20:33.715579Z",
     "iopub.status.busy": "2023-07-06T05:20:33.715325Z",
     "iopub.status.idle": "2023-07-06T05:25:33.333583Z",
     "shell.execute_reply": "2023-07-06T05:25:33.332886Z",
     "shell.execute_reply.started": "2023-07-06T05:20:33.715554Z"
    }
   },
   "outputs": [
    {
     "name": "stderr",
     "output_type": "stream",
     "text": [
      "[I 2023-07-06 05:20:33,802] A new study created in memory with name: no-name-3792c2d2-4efb-483c-9499-5da2ed1de59c\n",
      "[I 2023-07-06 05:20:36,885] Trial 0 finished with value: -1.2788282906307846 and parameters: {'classifier': 'GB', 'gb_max_depth': 12, 'gb_estimators': 28, 'gb_criterion': 'friedman_mse'}. Best is trial 0 with value: -1.2788282906307846.\n",
      "[I 2023-07-06 05:20:40,299] Trial 1 finished with value: -0.567826761981278 and parameters: {'classifier': 'RF', 'rf_max_depth': 4, 'rf_estimators': 631, 'rf_criterion': 'gini', 'rf_cls_wgt': 'balanced_subsample'}. Best is trial 1 with value: -0.567826761981278.\n",
      "[I 2023-07-06 05:20:42,908] Trial 2 finished with value: -2.93111064277102 and parameters: {'classifier': 'GB', 'gb_max_depth': 8, 'gb_estimators': 92, 'gb_criterion': 'friedman_mse'}. Best is trial 1 with value: -0.567826761981278.\n",
      "[I 2023-07-06 05:20:45,787] Trial 3 finished with value: -0.6981375727791386 and parameters: {'classifier': 'RF', 'rf_max_depth': 8, 'rf_estimators': 503, 'rf_criterion': 'gini', 'rf_cls_wgt': None}. Best is trial 1 with value: -0.567826761981278.\n",
      "[I 2023-07-06 05:20:46,989] Trial 4 finished with value: -0.906635985734966 and parameters: {'classifier': 'GB', 'gb_max_depth': 2, 'gb_estimators': 14, 'gb_criterion': 'squared_error'}. Best is trial 1 with value: -0.567826761981278.\n",
      "[I 2023-07-06 05:20:48,420] Trial 5 finished with value: -0.540119367575335 and parameters: {'classifier': 'RF', 'rf_max_depth': 3, 'rf_estimators': 94, 'rf_criterion': 'gini', 'rf_cls_wgt': 'balanced'}. Best is trial 5 with value: -0.540119367575335.\n",
      "[I 2023-07-06 05:20:49,582] Trial 6 finished with value: -0.9139314076642482 and parameters: {'classifier': 'RF', 'rf_max_depth': 3, 'rf_estimators': 14, 'rf_criterion': 'entropy', 'rf_cls_wgt': None}. Best is trial 5 with value: -0.540119367575335.\n",
      "[I 2023-07-06 05:20:50,972] Trial 7 finished with value: -1.5912020328946253 and parameters: {'classifier': 'SVC', 'svc_c': 1.2163638636526308e-06, 'svc_algo': 'poly', 'svc_cls_wgt': 'balanced'}. Best is trial 5 with value: -0.540119367575335.\n",
      "[I 2023-07-06 05:20:55,151] Trial 8 finished with value: -4.767658276353395 and parameters: {'classifier': 'GB', 'gb_max_depth': 10, 'gb_estimators': 798, 'gb_criterion': 'friedman_mse'}. Best is trial 5 with value: -0.540119367575335.\n",
      "[I 2023-07-06 05:20:59,221] Trial 9 finished with value: -4.749250705042644 and parameters: {'classifier': 'GB', 'gb_max_depth': 27, 'gb_estimators': 410, 'gb_criterion': 'squared_error'}. Best is trial 5 with value: -0.540119367575335.\n",
      "[I 2023-07-06 05:21:00,600] Trial 10 finished with value: -1.2006283809728704 and parameters: {'classifier': 'SVC', 'svc_c': 2911088454.7612076, 'svc_algo': 'sigmoid', 'svc_cls_wgt': None}. Best is trial 5 with value: -0.540119367575335.\n",
      "[I 2023-07-06 05:21:02,323] Trial 11 finished with value: -0.5422127495196779 and parameters: {'classifier': 'RF', 'rf_max_depth': 2, 'rf_estimators': 219, 'rf_criterion': 'gini', 'rf_cls_wgt': 'balanced'}. Best is trial 5 with value: -0.540119367575335.\n",
      "[I 2023-07-06 05:21:03,681] Trial 12 finished with value: -0.5398498520259661 and parameters: {'classifier': 'RF', 'rf_max_depth': 2, 'rf_estimators': 86, 'rf_criterion': 'gini', 'rf_cls_wgt': 'balanced'}. Best is trial 12 with value: -0.5398498520259661.\n",
      "[I 2023-07-06 05:21:04,998] Trial 13 finished with value: -0.5359269245526523 and parameters: {'classifier': 'RF', 'rf_max_depth': 2, 'rf_estimators': 67, 'rf_criterion': 'gini', 'rf_cls_wgt': 'balanced'}. Best is trial 13 with value: -0.5359269245526523.\n",
      "[I 2023-07-06 05:21:06,290] Trial 14 finished with value: -0.5376717401410366 and parameters: {'classifier': 'RF', 'rf_max_depth': 2, 'rf_estimators': 61, 'rf_criterion': 'gini', 'rf_cls_wgt': 'balanced'}. Best is trial 13 with value: -0.5359269245526523.\n",
      "[I 2023-07-06 05:21:07,587] Trial 15 finished with value: -0.7394015310233413 and parameters: {'classifier': 'RF', 'rf_max_depth': 20, 'rf_estimators': 39, 'rf_criterion': 'entropy', 'rf_cls_wgt': 'balanced'}. Best is trial 13 with value: -0.5359269245526523.\n",
      "[I 2023-07-06 05:21:08,989] Trial 16 finished with value: -1.469294074446015 and parameters: {'classifier': 'SVC', 'svc_c': 8.276650269048009e-10, 'svc_algo': 'rbf', 'svc_cls_wgt': None}. Best is trial 13 with value: -0.5359269245526523.\n",
      "[I 2023-07-06 05:21:10,225] Trial 17 finished with value: -0.5697962599260521 and parameters: {'classifier': 'RF', 'rf_max_depth': 2, 'rf_estimators': 39, 'rf_criterion': 'gini', 'rf_cls_wgt': 'balanced'}. Best is trial 13 with value: -0.5359269245526523.\n",
      "[I 2023-07-06 05:21:11,483] Trial 18 finished with value: -0.6594682613230403 and parameters: {'classifier': 'RF', 'rf_max_depth': 5, 'rf_estimators': 39, 'rf_criterion': 'gini', 'rf_cls_wgt': 'balanced_subsample'}. Best is trial 13 with value: -0.5359269245526523.\n",
      "[I 2023-07-06 05:21:13,268] Trial 19 finished with value: -0.6971330857850131 and parameters: {'classifier': 'RF', 'rf_max_depth': 7, 'rf_estimators': 183, 'rf_criterion': 'entropy', 'rf_cls_wgt': 'balanced'}. Best is trial 13 with value: -0.5359269245526523.\n",
      "[I 2023-07-06 05:21:14,611] Trial 20 finished with value: -1.2169681595442758 and parameters: {'classifier': 'SVC', 'svc_c': 392.18522469497975, 'svc_algo': 'sigmoid', 'svc_cls_wgt': 'balanced'}. Best is trial 13 with value: -0.5359269245526523.\n",
      "[I 2023-07-06 05:21:15,924] Trial 21 finished with value: -0.5386713675628203 and parameters: {'classifier': 'RF', 'rf_max_depth': 2, 'rf_estimators': 76, 'rf_criterion': 'gini', 'rf_cls_wgt': 'balanced'}. Best is trial 13 with value: -0.5359269245526523.\n",
      "[I 2023-07-06 05:21:17,219] Trial 22 finished with value: -0.5359681685465244 and parameters: {'classifier': 'RF', 'rf_max_depth': 2, 'rf_estimators': 68, 'rf_criterion': 'gini', 'rf_cls_wgt': 'balanced'}. Best is trial 13 with value: -0.5359269245526523.\n",
      "[I 2023-07-06 05:21:18,593] Trial 23 finished with value: -0.5305928286421623 and parameters: {'classifier': 'RF', 'rf_max_depth': 3, 'rf_estimators': 54, 'rf_criterion': 'gini', 'rf_cls_wgt': 'balanced'}. Best is trial 23 with value: -0.5305928286421623.\n",
      "[I 2023-07-06 05:21:19,761] Trial 24 finished with value: -0.5592872611800297 and parameters: {'classifier': 'RF', 'rf_max_depth': 3, 'rf_estimators': 20, 'rf_criterion': 'gini', 'rf_cls_wgt': 'balanced'}. Best is trial 23 with value: -0.5305928286421623.\n",
      "[I 2023-07-06 05:21:21,281] Trial 25 finished with value: -0.540991470853718 and parameters: {'classifier': 'RF', 'rf_max_depth': 3, 'rf_estimators': 140, 'rf_criterion': 'gini', 'rf_cls_wgt': 'balanced'}. Best is trial 23 with value: -0.5305928286421623.\n",
      "[I 2023-07-06 05:21:22,536] Trial 26 finished with value: -0.7739722049535667 and parameters: {'classifier': 'RF', 'rf_max_depth': 5, 'rf_estimators': 48, 'rf_criterion': 'gini', 'rf_cls_wgt': None}. Best is trial 23 with value: -0.5305928286421623.\n",
      "[I 2023-07-06 05:21:23,737] Trial 27 finished with value: -0.5719836502196818 and parameters: {'classifier': 'RF', 'rf_max_depth': 2, 'rf_estimators': 25, 'rf_criterion': 'entropy', 'rf_cls_wgt': 'balanced_subsample'}. Best is trial 23 with value: -0.5305928286421623.\n",
      "[I 2023-07-06 05:21:25,198] Trial 28 finished with value: -0.5410954069674636 and parameters: {'classifier': 'RF', 'rf_max_depth': 3, 'rf_estimators': 123, 'rf_criterion': 'gini', 'rf_cls_wgt': 'balanced'}. Best is trial 23 with value: -0.5305928286421623.\n",
      "[I 2023-07-06 05:21:26,557] Trial 29 finished with value: -1.4393430101385842 and parameters: {'classifier': 'SVC', 'svc_c': 0.015085795642049777, 'svc_algo': 'poly', 'svc_cls_wgt': 'balanced'}. Best is trial 23 with value: -0.5305928286421623.\n",
      "[I 2023-07-06 05:21:28,839] Trial 30 finished with value: -0.869236957730705 and parameters: {'classifier': 'GB', 'gb_max_depth': 2, 'gb_estimators': 210, 'gb_criterion': 'squared_error'}. Best is trial 23 with value: -0.5305928286421623.\n",
      "[I 2023-07-06 05:21:30,112] Trial 31 finished with value: -0.5377085958408854 and parameters: {'classifier': 'RF', 'rf_max_depth': 2, 'rf_estimators': 64, 'rf_criterion': 'gini', 'rf_cls_wgt': 'balanced'}. Best is trial 23 with value: -0.5305928286421623.\n",
      "[I 2023-07-06 05:21:31,368] Trial 32 finished with value: -0.5361836727329067 and parameters: {'classifier': 'RF', 'rf_max_depth': 2, 'rf_estimators': 60, 'rf_criterion': 'gini', 'rf_cls_wgt': 'balanced'}. Best is trial 23 with value: -0.5305928286421623.\n",
      "[I 2023-07-06 05:21:32,620] Trial 33 finished with value: -0.5397245790732266 and parameters: {'classifier': 'RF', 'rf_max_depth': 2, 'rf_estimators': 57, 'rf_criterion': 'gini', 'rf_cls_wgt': 'balanced'}. Best is trial 23 with value: -0.5305928286421623.\n",
      "[I 2023-07-06 05:21:33,807] Trial 34 finished with value: -0.56414784957547 and parameters: {'classifier': 'RF', 'rf_max_depth': 3, 'rf_estimators': 26, 'rf_criterion': 'gini', 'rf_cls_wgt': 'balanced'}. Best is trial 23 with value: -0.5305928286421623.\n",
      "[I 2023-07-06 05:21:35,219] Trial 35 finished with value: -0.5794586091374512 and parameters: {'classifier': 'RF', 'rf_max_depth': 4, 'rf_estimators': 100, 'rf_criterion': 'gini', 'rf_cls_wgt': 'balanced'}. Best is trial 23 with value: -0.5305928286421623.\n",
      "[I 2023-07-06 05:21:36,479] Trial 36 finished with value: -0.5361836727329067 and parameters: {'classifier': 'RF', 'rf_max_depth': 2, 'rf_estimators': 60, 'rf_criterion': 'gini', 'rf_cls_wgt': 'balanced'}. Best is trial 23 with value: -0.5305928286421623.\n",
      "[I 2023-07-06 05:21:38,269] Trial 37 finished with value: -1.0426814892036462 and parameters: {'classifier': 'GB', 'gb_max_depth': 4, 'gb_estimators': 62, 'gb_criterion': 'squared_error'}. Best is trial 23 with value: -0.5305928286421623.\n",
      "[I 2023-07-06 05:21:39,507] Trial 38 finished with value: -0.8312408870145577 and parameters: {'classifier': 'RF', 'rf_max_depth': 12, 'rf_estimators': 34, 'rf_criterion': 'gini', 'rf_cls_wgt': 'balanced_subsample'}. Best is trial 23 with value: -0.5305928286421623.\n",
      "[I 2023-07-06 05:21:40,878] Trial 39 finished with value: -0.5612220758224776 and parameters: {'classifier': 'RF', 'rf_max_depth': 4, 'rf_estimators': 77, 'rf_criterion': 'entropy', 'rf_cls_wgt': 'balanced'}. Best is trial 23 with value: -0.5305928286421623.\n",
      "[I 2023-07-06 05:21:42,176] Trial 40 finished with value: -1.0002629219111403 and parameters: {'classifier': 'GB', 'gb_max_depth': 31, 'gb_estimators': 11, 'gb_criterion': 'friedman_mse'}. Best is trial 23 with value: -0.5305928286421623.\n",
      "[I 2023-07-06 05:21:43,427] Trial 41 finished with value: -0.5395738143710416 and parameters: {'classifier': 'RF', 'rf_max_depth': 2, 'rf_estimators': 54, 'rf_criterion': 'gini', 'rf_cls_wgt': 'balanced'}. Best is trial 23 with value: -0.5305928286421623.\n",
      "[I 2023-07-06 05:21:44,661] Trial 42 finished with value: -0.5402241766079167 and parameters: {'classifier': 'RF', 'rf_max_depth': 2, 'rf_estimators': 51, 'rf_criterion': 'gini', 'rf_cls_wgt': 'balanced'}. Best is trial 23 with value: -0.5305928286421623.\n",
      "[I 2023-07-06 05:21:45,974] Trial 43 finished with value: -0.5354867122409486 and parameters: {'classifier': 'RF', 'rf_max_depth': 3, 'rf_estimators': 72, 'rf_criterion': 'gini', 'rf_cls_wgt': 'balanced'}. Best is trial 23 with value: -0.5305928286421623.\n",
      "[I 2023-07-06 05:21:47,390] Trial 44 finished with value: -0.5389595651973431 and parameters: {'classifier': 'RF', 'rf_max_depth': 3, 'rf_estimators': 109, 'rf_criterion': 'gini', 'rf_cls_wgt': 'balanced'}. Best is trial 23 with value: -0.5305928286421623.\n",
      "[I 2023-07-06 05:21:48,744] Trial 45 finished with value: -0.7980474035342748 and parameters: {'classifier': 'RF', 'rf_max_depth': 4, 'rf_estimators': 75, 'rf_criterion': 'gini', 'rf_cls_wgt': None}. Best is trial 23 with value: -0.5305928286421623.\n",
      "[I 2023-07-06 05:21:50,105] Trial 46 finished with value: -0.694495733530869 and parameters: {'classifier': 'SVC', 'svc_c': 454701902.8525853, 'svc_algo': 'rbf', 'svc_cls_wgt': None}. Best is trial 23 with value: -0.5305928286421623.\n",
      "[I 2023-07-06 05:21:51,375] Trial 47 finished with value: -0.7948657171474214 and parameters: {'classifier': 'RF', 'rf_max_depth': 30, 'rf_estimators': 46, 'rf_criterion': 'gini', 'rf_cls_wgt': 'balanced_subsample'}. Best is trial 23 with value: -0.5305928286421623.\n",
      "[I 2023-07-06 05:21:52,747] Trial 48 finished with value: -0.6160932490331156 and parameters: {'classifier': 'RF', 'rf_max_depth': 5, 'rf_estimators': 87, 'rf_criterion': 'gini', 'rf_cls_wgt': 'balanced'}. Best is trial 23 with value: -0.5305928286421623.\n",
      "[I 2023-07-06 05:21:58,026] Trial 49 finished with value: -2.5440138325155135 and parameters: {'classifier': 'GB', 'gb_max_depth': 4, 'gb_estimators': 973, 'gb_criterion': 'squared_error'}. Best is trial 23 with value: -0.5305928286421623.\n",
      "[I 2023-07-06 05:21:59,592] Trial 50 finished with value: -0.8455674145263572 and parameters: {'classifier': 'RF', 'rf_max_depth': 3, 'rf_estimators': 152, 'rf_criterion': 'gini', 'rf_cls_wgt': None}. Best is trial 23 with value: -0.5305928286421623.\n",
      "[I 2023-07-06 05:22:00,871] Trial 51 finished with value: -0.5359197503351568 and parameters: {'classifier': 'RF', 'rf_max_depth': 2, 'rf_estimators': 66, 'rf_criterion': 'gini', 'rf_cls_wgt': 'balanced'}. Best is trial 23 with value: -0.5305928286421623.\n",
      "[I 2023-07-06 05:22:02,281] Trial 52 finished with value: -0.5386125291072743 and parameters: {'classifier': 'RF', 'rf_max_depth': 3, 'rf_estimators': 105, 'rf_criterion': 'gini', 'rf_cls_wgt': 'balanced'}. Best is trial 23 with value: -0.5305928286421623.\n",
      "[I 2023-07-06 05:22:03,612] Trial 53 finished with value: -0.7487941535091145 and parameters: {'classifier': 'RF', 'rf_max_depth': 8, 'rf_estimators': 71, 'rf_criterion': 'gini', 'rf_cls_wgt': 'balanced'}. Best is trial 23 with value: -0.5305928286421623.\n",
      "[I 2023-07-06 05:22:04,961] Trial 54 finished with value: -0.5397305566307973 and parameters: {'classifier': 'RF', 'rf_max_depth': 2, 'rf_estimators': 87, 'rf_criterion': 'gini', 'rf_cls_wgt': 'balanced'}. Best is trial 23 with value: -0.5305928286421623.\n",
      "[I 2023-07-06 05:22:06,252] Trial 55 finished with value: -0.5314304564663198 and parameters: {'classifier': 'RF', 'rf_max_depth': 3, 'rf_estimators': 62, 'rf_criterion': 'gini', 'rf_cls_wgt': 'balanced'}. Best is trial 23 with value: -0.5305928286421623.\n",
      "[I 2023-07-06 05:22:07,585] Trial 56 finished with value: -1.2215975178320206 and parameters: {'classifier': 'SVC', 'svc_c': 436.9522277551611, 'svc_algo': 'sigmoid', 'svc_cls_wgt': None}. Best is trial 23 with value: -0.5305928286421623.\n",
      "[I 2023-07-06 05:22:08,926] Trial 57 finished with value: -0.5846581187492298 and parameters: {'classifier': 'RF', 'rf_max_depth': 4, 'rf_estimators': 70, 'rf_criterion': 'gini', 'rf_cls_wgt': 'balanced'}. Best is trial 23 with value: -0.5305928286421623.\n",
      "[I 2023-07-06 05:22:10,208] Trial 58 finished with value: -0.7381000316155901 and parameters: {'classifier': 'RF', 'rf_max_depth': 11, 'rf_estimators': 45, 'rf_criterion': 'entropy', 'rf_cls_wgt': 'balanced'}. Best is trial 23 with value: -0.5305928286421623.\n",
      "[I 2023-07-06 05:22:11,603] Trial 59 finished with value: -0.540119367575335 and parameters: {'classifier': 'RF', 'rf_max_depth': 3, 'rf_estimators': 94, 'rf_criterion': 'gini', 'rf_cls_wgt': 'balanced'}. Best is trial 23 with value: -0.5305928286421623.\n",
      "[I 2023-07-06 05:22:13,143] Trial 60 finished with value: -0.7215051677767748 and parameters: {'classifier': 'RF', 'rf_max_depth': 6, 'rf_estimators': 122, 'rf_criterion': 'gini', 'rf_cls_wgt': None}. Best is trial 23 with value: -0.5305928286421623.\n",
      "[I 2023-07-06 05:22:14,416] Trial 61 finished with value: -0.5361836727329067 and parameters: {'classifier': 'RF', 'rf_max_depth': 2, 'rf_estimators': 60, 'rf_criterion': 'gini', 'rf_cls_wgt': 'balanced'}. Best is trial 23 with value: -0.5305928286421623.\n",
      "[I 2023-07-06 05:22:15,713] Trial 62 finished with value: -0.5377085958408854 and parameters: {'classifier': 'RF', 'rf_max_depth': 2, 'rf_estimators': 64, 'rf_criterion': 'gini', 'rf_cls_wgt': 'balanced'}. Best is trial 23 with value: -0.5305928286421623.\n",
      "[I 2023-07-06 05:22:16,956] Trial 63 finished with value: -0.5464829866228502 and parameters: {'classifier': 'RF', 'rf_max_depth': 3, 'rf_estimators': 38, 'rf_criterion': 'gini', 'rf_cls_wgt': 'balanced'}. Best is trial 23 with value: -0.5305928286421623.\n",
      "[I 2023-07-06 05:22:18,222] Trial 64 finished with value: -0.5888048613286958 and parameters: {'classifier': 'RF', 'rf_max_depth': 4, 'rf_estimators': 46, 'rf_criterion': 'gini', 'rf_cls_wgt': 'balanced'}. Best is trial 23 with value: -0.5305928286421623.\n",
      "[I 2023-07-06 05:22:19,621] Trial 65 finished with value: -0.5383453438013901 and parameters: {'classifier': 'RF', 'rf_max_depth': 2, 'rf_estimators': 82, 'rf_criterion': 'gini', 'rf_cls_wgt': 'balanced'}. Best is trial 23 with value: -0.5305928286421623.\n",
      "[I 2023-07-06 05:22:21,043] Trial 66 finished with value: -1.5272754355529357 and parameters: {'classifier': 'SVC', 'svc_c': 0.0019026392953148325, 'svc_algo': 'poly', 'svc_cls_wgt': 'balanced'}. Best is trial 23 with value: -0.5305928286421623.\n",
      "[I 2023-07-06 05:22:22,386] Trial 67 finished with value: -0.5288490679780538 and parameters: {'classifier': 'RF', 'rf_max_depth': 3, 'rf_estimators': 58, 'rf_criterion': 'entropy', 'rf_cls_wgt': 'balanced'}. Best is trial 67 with value: -0.5288490679780538.\n",
      "[I 2023-07-06 05:22:26,098] Trial 68 finished with value: -4.375926636951891 and parameters: {'classifier': 'GB', 'gb_max_depth': 15, 'gb_estimators': 153, 'gb_criterion': 'friedman_mse'}. Best is trial 67 with value: -0.5288490679780538.\n",
      "[I 2023-07-06 05:22:27,480] Trial 69 finished with value: -0.53407329684549 and parameters: {'classifier': 'RF', 'rf_max_depth': 3, 'rf_estimators': 52, 'rf_criterion': 'entropy', 'rf_cls_wgt': 'balanced_subsample'}. Best is trial 67 with value: -0.5288490679780538.\n",
      "[I 2023-07-06 05:22:28,845] Trial 70 finished with value: -0.5320992839259419 and parameters: {'classifier': 'RF', 'rf_max_depth': 3, 'rf_estimators': 51, 'rf_criterion': 'entropy', 'rf_cls_wgt': 'balanced_subsample'}. Best is trial 67 with value: -0.5288490679780538.\n",
      "[I 2023-07-06 05:22:30,245] Trial 71 finished with value: -0.53407329684549 and parameters: {'classifier': 'RF', 'rf_max_depth': 3, 'rf_estimators': 52, 'rf_criterion': 'entropy', 'rf_cls_wgt': 'balanced_subsample'}. Best is trial 67 with value: -0.5288490679780538.\n",
      "[I 2023-07-06 05:22:31,609] Trial 72 finished with value: -0.53407329684549 and parameters: {'classifier': 'RF', 'rf_max_depth': 3, 'rf_estimators': 52, 'rf_criterion': 'entropy', 'rf_cls_wgt': 'balanced_subsample'}. Best is trial 67 with value: -0.5288490679780538.\n",
      "[I 2023-07-06 05:22:32,904] Trial 73 finished with value: -0.5553339145593782 and parameters: {'classifier': 'RF', 'rf_max_depth': 3, 'rf_estimators': 36, 'rf_criterion': 'entropy', 'rf_cls_wgt': 'balanced_subsample'}. Best is trial 67 with value: -0.5288490679780538.\n",
      "[I 2023-07-06 05:22:34,246] Trial 74 finished with value: -0.5473208348385378 and parameters: {'classifier': 'RF', 'rf_max_depth': 4, 'rf_estimators': 51, 'rf_criterion': 'entropy', 'rf_cls_wgt': 'balanced_subsample'}. Best is trial 67 with value: -0.5288490679780538.\n",
      "[I 2023-07-06 05:22:35,590] Trial 75 finished with value: -0.5362069252505957 and parameters: {'classifier': 'RF', 'rf_max_depth': 3, 'rf_estimators': 47, 'rf_criterion': 'entropy', 'rf_cls_wgt': 'balanced_subsample'}. Best is trial 67 with value: -0.5288490679780538.\n",
      "[I 2023-07-06 05:22:36,894] Trial 76 finished with value: -0.5611216205563089 and parameters: {'classifier': 'RF', 'rf_max_depth': 4, 'rf_estimators': 33, 'rf_criterion': 'entropy', 'rf_cls_wgt': 'balanced_subsample'}. Best is trial 67 with value: -0.5288490679780538.\n",
      "[I 2023-07-06 05:22:38,231] Trial 77 finished with value: -0.5456205298666987 and parameters: {'classifier': 'RF', 'rf_max_depth': 3, 'rf_estimators': 42, 'rf_criterion': 'entropy', 'rf_cls_wgt': 'balanced_subsample'}. Best is trial 67 with value: -0.5288490679780538.\n",
      "[I 2023-07-06 05:22:39,629] Trial 78 finished with value: -0.5499978252345573 and parameters: {'classifier': 'RF', 'rf_max_depth': 4, 'rf_estimators': 53, 'rf_criterion': 'entropy', 'rf_cls_wgt': 'balanced_subsample'}. Best is trial 67 with value: -0.5288490679780538.\n",
      "[I 2023-07-06 05:22:40,933] Trial 79 finished with value: -0.553584122807135 and parameters: {'classifier': 'RF', 'rf_max_depth': 3, 'rf_estimators': 30, 'rf_criterion': 'entropy', 'rf_cls_wgt': 'balanced_subsample'}. Best is trial 67 with value: -0.5288490679780538.\n",
      "[I 2023-07-06 05:22:42,300] Trial 80 finished with value: -0.6148052231133516 and parameters: {'classifier': 'RF', 'rf_max_depth': 5, 'rf_estimators': 41, 'rf_criterion': 'entropy', 'rf_cls_wgt': 'balanced_subsample'}. Best is trial 67 with value: -0.5288490679780538.\n",
      "[I 2023-07-06 05:22:43,693] Trial 81 finished with value: -0.5319959028443426 and parameters: {'classifier': 'RF', 'rf_max_depth': 3, 'rf_estimators': 56, 'rf_criterion': 'entropy', 'rf_cls_wgt': 'balanced_subsample'}. Best is trial 67 with value: -0.5288490679780538.\n",
      "[I 2023-07-06 05:22:45,074] Trial 82 finished with value: -0.5340305231884062 and parameters: {'classifier': 'RF', 'rf_max_depth': 3, 'rf_estimators': 50, 'rf_criterion': 'entropy', 'rf_cls_wgt': 'balanced_subsample'}. Best is trial 67 with value: -0.5288490679780538.\n",
      "[I 2023-07-06 05:22:46,471] Trial 83 finished with value: -0.5305613506097424 and parameters: {'classifier': 'RF', 'rf_max_depth': 3, 'rf_estimators': 55, 'rf_criterion': 'entropy', 'rf_cls_wgt': 'balanced_subsample'}. Best is trial 67 with value: -0.5288490679780538.\n",
      "[I 2023-07-06 05:22:47,883] Trial 84 finished with value: -0.5319959028443426 and parameters: {'classifier': 'RF', 'rf_max_depth': 3, 'rf_estimators': 56, 'rf_criterion': 'entropy', 'rf_cls_wgt': 'balanced_subsample'}. Best is trial 67 with value: -0.5288490679780538.\n",
      "[I 2023-07-06 05:22:49,315] Trial 85 finished with value: -0.5543952035936277 and parameters: {'classifier': 'RF', 'rf_max_depth': 4, 'rf_estimators': 58, 'rf_criterion': 'entropy', 'rf_cls_wgt': 'balanced_subsample'}. Best is trial 67 with value: -0.5288490679780538.\n",
      "[I 2023-07-06 05:22:51,045] Trial 86 finished with value: -1.3834957759306103 and parameters: {'classifier': 'GB', 'gb_max_depth': 5, 'gb_estimators': 43, 'gb_criterion': 'squared_error'}. Best is trial 67 with value: -0.5288490679780538.\n",
      "[I 2023-07-06 05:22:52,510] Trial 87 finished with value: -1.5395561591916151 and parameters: {'classifier': 'SVC', 'svc_c': 6.6720191485796e-10, 'svc_algo': 'rbf', 'svc_cls_wgt': 'balanced'}. Best is trial 67 with value: -0.5288490679780538.\n",
      "[I 2023-07-06 05:22:53,832] Trial 88 finished with value: -0.5497456032008496 and parameters: {'classifier': 'RF', 'rf_max_depth': 3, 'rf_estimators': 40, 'rf_criterion': 'entropy', 'rf_cls_wgt': 'balanced_subsample'}. Best is trial 67 with value: -0.5288490679780538.\n",
      "[I 2023-07-06 05:22:55,259] Trial 89 finished with value: -0.6075966907230533 and parameters: {'classifier': 'RF', 'rf_max_depth': 5, 'rf_estimators': 62, 'rf_criterion': 'entropy', 'rf_cls_wgt': 'balanced_subsample'}. Best is trial 67 with value: -0.5288490679780538.\n",
      "[I 2023-07-06 05:22:56,600] Trial 90 finished with value: -0.5543236473465847 and parameters: {'classifier': 'RF', 'rf_max_depth': 4, 'rf_estimators': 44, 'rf_criterion': 'entropy', 'rf_cls_wgt': 'balanced_subsample'}. Best is trial 67 with value: -0.5288490679780538.\n",
      "[I 2023-07-06 05:22:57,978] Trial 91 finished with value: -0.5340305231884062 and parameters: {'classifier': 'RF', 'rf_max_depth': 3, 'rf_estimators': 50, 'rf_criterion': 'entropy', 'rf_cls_wgt': 'balanced_subsample'}. Best is trial 67 with value: -0.5288490679780538.\n",
      "[I 2023-07-06 05:22:59,397] Trial 92 finished with value: -0.5322041360659828 and parameters: {'classifier': 'RF', 'rf_max_depth': 3, 'rf_estimators': 57, 'rf_criterion': 'entropy', 'rf_cls_wgt': 'balanced_subsample'}. Best is trial 67 with value: -0.5288490679780538.\n",
      "[I 2023-07-06 05:23:00,888] Trial 93 finished with value: -0.5364504381354521 and parameters: {'classifier': 'RF', 'rf_max_depth': 3, 'rf_estimators': 76, 'rf_criterion': 'entropy', 'rf_cls_wgt': 'balanced_subsample'}. Best is trial 67 with value: -0.5288490679780538.\n",
      "[I 2023-07-06 05:23:02,325] Trial 94 finished with value: -0.5330778897884483 and parameters: {'classifier': 'RF', 'rf_max_depth': 3, 'rf_estimators': 60, 'rf_criterion': 'entropy', 'rf_cls_wgt': 'balanced_subsample'}. Best is trial 67 with value: -0.5288490679780538.\n",
      "[I 2023-07-06 05:23:03,752] Trial 95 finished with value: -0.5524247093962633 and parameters: {'classifier': 'RF', 'rf_max_depth': 4, 'rf_estimators': 59, 'rf_criterion': 'entropy', 'rf_cls_wgt': 'balanced_subsample'}. Best is trial 67 with value: -0.5288490679780538.\n",
      "[I 2023-07-06 05:23:05,240] Trial 96 finished with value: -0.7177531114629414 and parameters: {'classifier': 'RF', 'rf_max_depth': 16, 'rf_estimators': 67, 'rf_criterion': 'entropy', 'rf_cls_wgt': 'balanced_subsample'}. Best is trial 67 with value: -0.5288490679780538.\n",
      "[I 2023-07-06 05:23:06,771] Trial 97 finished with value: -0.6536854242886216 and parameters: {'classifier': 'RF', 'rf_max_depth': 6, 'rf_estimators': 80, 'rf_criterion': 'entropy', 'rf_cls_wgt': 'balanced_subsample'}. Best is trial 67 with value: -0.5288490679780538.\n",
      "[I 2023-07-06 05:23:08,118] Trial 98 finished with value: -0.5438249802264588 and parameters: {'classifier': 'RF', 'rf_max_depth': 3, 'rf_estimators': 43, 'rf_criterion': 'entropy', 'rf_cls_wgt': 'balanced_subsample'}. Best is trial 67 with value: -0.5288490679780538.\n",
      "[I 2023-07-06 05:23:09,587] Trial 99 finished with value: -0.691100166859729 and parameters: {'classifier': 'RF', 'rf_max_depth': 7, 'rf_estimators': 66, 'rf_criterion': 'entropy', 'rf_cls_wgt': 'balanced_subsample'}. Best is trial 67 with value: -0.5288490679780538.\n",
      "[I 2023-07-06 05:23:11,242] Trial 100 finished with value: -1.2158382786160336 and parameters: {'classifier': 'GB', 'gb_max_depth': 18, 'gb_estimators': 25, 'gb_criterion': 'friedman_mse'}. Best is trial 67 with value: -0.5288490679780538.\n",
      "[I 2023-07-06 05:23:12,623] Trial 101 finished with value: -0.5310913617586349 and parameters: {'classifier': 'RF', 'rf_max_depth': 3, 'rf_estimators': 54, 'rf_criterion': 'entropy', 'rf_cls_wgt': 'balanced_subsample'}. Best is trial 67 with value: -0.5288490679780538.\n",
      "[I 2023-07-06 05:23:14,024] Trial 102 finished with value: -0.5322041360659828 and parameters: {'classifier': 'RF', 'rf_max_depth': 3, 'rf_estimators': 57, 'rf_criterion': 'entropy', 'rf_cls_wgt': 'balanced_subsample'}. Best is trial 67 with value: -0.5288490679780538.\n",
      "[I 2023-07-06 05:23:15,458] Trial 103 finished with value: -0.722905163521933 and parameters: {'classifier': 'RF', 'rf_max_depth': 9, 'rf_estimators': 57, 'rf_criterion': 'entropy', 'rf_cls_wgt': 'balanced_subsample'}. Best is trial 67 with value: -0.5288490679780538.\n",
      "[I 2023-07-06 05:23:16,884] Trial 104 finished with value: -0.8435962704125289 and parameters: {'classifier': 'RF', 'rf_max_depth': 3, 'rf_estimators': 72, 'rf_criterion': 'entropy', 'rf_cls_wgt': None}. Best is trial 67 with value: -0.5288490679780538.\n",
      "[I 2023-07-06 05:23:18,314] Trial 105 finished with value: -0.7291901791156444 and parameters: {'classifier': 'RF', 'rf_max_depth': 31, 'rf_estimators': 57, 'rf_criterion': 'entropy', 'rf_cls_wgt': 'balanced_subsample'}. Best is trial 67 with value: -0.5288490679780538.\n",
      "[I 2023-07-06 05:23:19,838] Trial 106 finished with value: -0.5368487584167184 and parameters: {'classifier': 'RF', 'rf_max_depth': 3, 'rf_estimators': 90, 'rf_criterion': 'entropy', 'rf_cls_wgt': 'balanced_subsample'}. Best is trial 67 with value: -0.5288490679780538.\n",
      "[I 2023-07-06 05:23:21,325] Trial 107 finished with value: -0.6709199030378931 and parameters: {'classifier': 'SVC', 'svc_c': 206413.85614739417, 'svc_algo': 'poly', 'svc_cls_wgt': None}. Best is trial 67 with value: -0.5288490679780538.\n",
      "[I 2023-07-06 05:23:22,912] Trial 108 finished with value: -0.5507548417701803 and parameters: {'classifier': 'RF', 'rf_max_depth': 4, 'rf_estimators': 79, 'rf_criterion': 'entropy', 'rf_cls_wgt': 'balanced_subsample'}. Best is trial 67 with value: -0.5288490679780538.\n",
      "[I 2023-07-06 05:23:24,380] Trial 109 finished with value: -0.7203209875702882 and parameters: {'classifier': 'RF', 'rf_max_depth': 17, 'rf_estimators': 64, 'rf_criterion': 'entropy', 'rf_cls_wgt': 'balanced_subsample'}. Best is trial 67 with value: -0.5288490679780538.\n",
      "[I 2023-07-06 05:23:25,748] Trial 110 finished with value: -0.5393842688639943 and parameters: {'classifier': 'RF', 'rf_max_depth': 3, 'rf_estimators': 46, 'rf_criterion': 'entropy', 'rf_cls_wgt': 'balanced_subsample'}. Best is trial 67 with value: -0.5288490679780538.\n",
      "[I 2023-07-06 05:23:27,108] Trial 111 finished with value: -0.5368790438498028 and parameters: {'classifier': 'RF', 'rf_max_depth': 3, 'rf_estimators': 48, 'rf_criterion': 'entropy', 'rf_cls_wgt': 'balanced_subsample'}. Best is trial 67 with value: -0.5288490679780538.\n",
      "[I 2023-07-06 05:23:28,461] Trial 112 finished with value: -0.7632577718200688 and parameters: {'classifier': 'RF', 'rf_max_depth': 29, 'rf_estimators': 38, 'rf_criterion': 'entropy', 'rf_cls_wgt': 'balanced_subsample'}. Best is trial 67 with value: -0.5288490679780538.\n",
      "[I 2023-07-06 05:23:29,851] Trial 113 finished with value: -0.5305613506097424 and parameters: {'classifier': 'RF', 'rf_max_depth': 3, 'rf_estimators': 55, 'rf_criterion': 'entropy', 'rf_cls_wgt': 'balanced_subsample'}. Best is trial 67 with value: -0.5288490679780538.\n",
      "[I 2023-07-06 05:23:31,286] Trial 114 finished with value: -0.5319959028443426 and parameters: {'classifier': 'RF', 'rf_max_depth': 3, 'rf_estimators': 56, 'rf_criterion': 'entropy', 'rf_cls_wgt': 'balanced_subsample'}. Best is trial 67 with value: -0.5288490679780538.\n",
      "[I 2023-07-06 05:23:32,629] Trial 115 finished with value: -0.8433801718939804 and parameters: {'classifier': 'RF', 'rf_max_depth': 3, 'rf_estimators': 53, 'rf_criterion': 'entropy', 'rf_cls_wgt': None}. Best is trial 67 with value: -0.5288490679780538.\n",
      "[I 2023-07-06 05:23:34,109] Trial 116 finished with value: -0.5479364911777148 and parameters: {'classifier': 'RF', 'rf_max_depth': 4, 'rf_estimators': 71, 'rf_criterion': 'entropy', 'rf_cls_wgt': 'balanced_subsample'}. Best is trial 67 with value: -0.5288490679780538.\n",
      "[I 2023-07-06 05:23:35,527] Trial 117 finished with value: -0.5512955341136081 and parameters: {'classifier': 'RF', 'rf_max_depth': 4, 'rf_estimators': 56, 'rf_criterion': 'entropy', 'rf_cls_wgt': 'balanced_subsample'}. Best is trial 67 with value: -0.5288490679780538.\n",
      "[I 2023-07-06 05:23:36,885] Trial 118 finished with value: -0.7429678713261528 and parameters: {'classifier': 'RF', 'rf_max_depth': 10, 'rf_estimators': 43, 'rf_criterion': 'entropy', 'rf_cls_wgt': 'balanced_subsample'}. Best is trial 67 with value: -0.5288490679780538.\n",
      "[I 2023-07-06 05:23:38,387] Trial 119 finished with value: -0.5361337174574982 and parameters: {'classifier': 'RF', 'rf_max_depth': 3, 'rf_estimators': 84, 'rf_criterion': 'entropy', 'rf_cls_wgt': 'balanced_subsample'}. Best is trial 67 with value: -0.5288490679780538.\n",
      "[I 2023-07-06 05:23:39,853] Trial 120 finished with value: -0.7101459518480124 and parameters: {'classifier': 'RF', 'rf_max_depth': 8, 'rf_estimators': 67, 'rf_criterion': 'entropy', 'rf_cls_wgt': 'balanced_subsample'}. Best is trial 67 with value: -0.5288490679780538.\n",
      "[I 2023-07-06 05:23:41,293] Trial 121 finished with value: -0.5330778897884483 and parameters: {'classifier': 'RF', 'rf_max_depth': 3, 'rf_estimators': 60, 'rf_criterion': 'entropy', 'rf_cls_wgt': 'balanced_subsample'}. Best is trial 67 with value: -0.5288490679780538.\n",
      "[I 2023-07-06 05:23:42,681] Trial 122 finished with value: -0.5305613506097424 and parameters: {'classifier': 'RF', 'rf_max_depth': 3, 'rf_estimators': 55, 'rf_criterion': 'entropy', 'rf_cls_wgt': 'balanced_subsample'}. Best is trial 67 with value: -0.5288490679780538.\n",
      "[I 2023-07-06 05:23:44,053] Trial 123 finished with value: -0.5362069252505957 and parameters: {'classifier': 'RF', 'rf_max_depth': 3, 'rf_estimators': 47, 'rf_criterion': 'entropy', 'rf_cls_wgt': 'balanced_subsample'}. Best is trial 67 with value: -0.5288490679780538.\n",
      "[I 2023-07-06 05:23:45,447] Trial 124 finished with value: -0.5319959028443426 and parameters: {'classifier': 'RF', 'rf_max_depth': 3, 'rf_estimators': 56, 'rf_criterion': 'entropy', 'rf_cls_wgt': 'balanced_subsample'}. Best is trial 67 with value: -0.5288490679780538.\n",
      "[I 2023-07-06 05:23:46,842] Trial 125 finished with value: -0.5310913617586349 and parameters: {'classifier': 'RF', 'rf_max_depth': 3, 'rf_estimators': 54, 'rf_criterion': 'entropy', 'rf_cls_wgt': 'balanced_subsample'}. Best is trial 67 with value: -0.5288490679780538.\n",
      "[I 2023-07-06 05:23:48,222] Trial 126 finished with value: -0.6339131715717052 and parameters: {'classifier': 'RF', 'rf_max_depth': 6, 'rf_estimators': 49, 'rf_criterion': 'entropy', 'rf_cls_wgt': 'balanced'}. Best is trial 67 with value: -0.5288490679780538.\n",
      "[I 2023-07-06 05:23:51,832] Trial 127 finished with value: -5.904015839511911 and parameters: {'classifier': 'GB', 'gb_max_depth': 6, 'gb_estimators': 249, 'gb_criterion': 'squared_error'}. Best is trial 67 with value: -0.5288490679780538.\n",
      "[I 2023-07-06 05:23:53,253] Trial 128 finished with value: -1.0361254786398812 and parameters: {'classifier': 'SVC', 'svc_c': 1.5859703787626252e-05, 'svc_algo': 'sigmoid', 'svc_cls_wgt': None}. Best is trial 67 with value: -0.5288490679780538.\n",
      "[I 2023-07-06 05:23:54,687] Trial 129 finished with value: -0.5315949081981902 and parameters: {'classifier': 'RF', 'rf_max_depth': 2, 'rf_estimators': 65, 'rf_criterion': 'entropy', 'rf_cls_wgt': 'balanced_subsample'}. Best is trial 67 with value: -0.5288490679780538.\n",
      "[I 2023-07-06 05:23:56,134] Trial 130 finished with value: -0.5322799173737941 and parameters: {'classifier': 'RF', 'rf_max_depth': 2, 'rf_estimators': 73, 'rf_criterion': 'entropy', 'rf_cls_wgt': 'balanced_subsample'}. Best is trial 67 with value: -0.5288490679780538.\n",
      "[I 2023-07-06 05:23:57,553] Trial 131 finished with value: -0.5315949081981902 and parameters: {'classifier': 'RF', 'rf_max_depth': 2, 'rf_estimators': 65, 'rf_criterion': 'entropy', 'rf_cls_wgt': 'balanced_subsample'}. Best is trial 67 with value: -0.5288490679780538.\n",
      "[I 2023-07-06 05:23:58,973] Trial 132 finished with value: -0.5325420173179283 and parameters: {'classifier': 'RF', 'rf_max_depth': 2, 'rf_estimators': 64, 'rf_criterion': 'entropy', 'rf_cls_wgt': 'balanced_subsample'}. Best is trial 67 with value: -0.5288490679780538.\n",
      "[I 2023-07-06 05:24:00,360] Trial 133 finished with value: -0.5368874084475006 and parameters: {'classifier': 'RF', 'rf_max_depth': 2, 'rf_estimators': 54, 'rf_criterion': 'entropy', 'rf_cls_wgt': 'balanced_subsample'}. Best is trial 67 with value: -0.5288490679780538.\n",
      "[I 2023-07-06 05:24:01,850] Trial 134 finished with value: -0.718607603258311 and parameters: {'classifier': 'RF', 'rf_max_depth': 12, 'rf_estimators': 67, 'rf_criterion': 'entropy', 'rf_cls_wgt': 'balanced'}. Best is trial 67 with value: -0.5288490679780538.\n",
      "[I 2023-07-06 05:24:03,190] Trial 135 finished with value: -0.5563987483044948 and parameters: {'classifier': 'RF', 'rf_max_depth': 2, 'rf_estimators': 42, 'rf_criterion': 'entropy', 'rf_cls_wgt': 'balanced_subsample'}. Best is trial 67 with value: -0.5288490679780538.\n",
      "[I 2023-07-06 05:24:04,615] Trial 136 finished with value: -0.6030053252348763 and parameters: {'classifier': 'RF', 'rf_max_depth': 5, 'rf_estimators': 54, 'rf_criterion': 'entropy', 'rf_cls_wgt': 'balanced_subsample'}. Best is trial 67 with value: -0.5288490679780538.\n",
      "[I 2023-07-06 05:24:06,037] Trial 137 finished with value: -0.9421229158145463 and parameters: {'classifier': 'RF', 'rf_max_depth': 2, 'rf_estimators': 75, 'rf_criterion': 'entropy', 'rf_cls_wgt': None}. Best is trial 67 with value: -0.5288490679780538.\n",
      "[I 2023-07-06 05:24:07,396] Trial 138 finished with value: -0.5553245979958943 and parameters: {'classifier': 'RF', 'rf_max_depth': 4, 'rf_estimators': 47, 'rf_criterion': 'entropy', 'rf_cls_wgt': 'balanced'}. Best is trial 67 with value: -0.5288490679780538.\n",
      "[I 2023-07-06 05:24:08,864] Trial 139 finished with value: -0.7307274249574506 and parameters: {'classifier': 'RF', 'rf_max_depth': 28, 'rf_estimators': 62, 'rf_criterion': 'entropy', 'rf_cls_wgt': 'balanced_subsample'}. Best is trial 67 with value: -0.5288490679780538.\n",
      "[I 2023-07-06 05:24:10,376] Trial 140 finished with value: -0.536267443089718 and parameters: {'classifier': 'RF', 'rf_max_depth': 3, 'rf_estimators': 82, 'rf_criterion': 'entropy', 'rf_cls_wgt': 'balanced_subsample'}. Best is trial 67 with value: -0.5288490679780538.\n",
      "[I 2023-07-06 05:24:11,779] Trial 141 finished with value: -0.5340305231884062 and parameters: {'classifier': 'RF', 'rf_max_depth': 3, 'rf_estimators': 50, 'rf_criterion': 'entropy', 'rf_cls_wgt': 'balanced_subsample'}. Best is trial 67 with value: -0.5288490679780538.\n",
      "[I 2023-07-06 05:24:13,198] Trial 142 finished with value: -0.5322964542307883 and parameters: {'classifier': 'RF', 'rf_max_depth': 3, 'rf_estimators': 63, 'rf_criterion': 'entropy', 'rf_cls_wgt': 'balanced_subsample'}. Best is trial 67 with value: -0.5288490679780538.\n",
      "[I 2023-07-06 05:24:14,592] Trial 143 finished with value: -0.5310913617586349 and parameters: {'classifier': 'RF', 'rf_max_depth': 3, 'rf_estimators': 54, 'rf_criterion': 'entropy', 'rf_cls_wgt': 'balanced_subsample'}. Best is trial 67 with value: -0.5288490679780538.\n",
      "[I 2023-07-06 05:24:16,112] Trial 144 finished with value: -0.7135323846220045 and parameters: {'classifier': 'RF', 'rf_max_depth': 15, 'rf_estimators': 71, 'rf_criterion': 'entropy', 'rf_cls_wgt': 'balanced_subsample'}. Best is trial 67 with value: -0.5288490679780538.\n",
      "[I 2023-07-06 05:24:17,496] Trial 145 finished with value: -0.5310913617586349 and parameters: {'classifier': 'RF', 'rf_max_depth': 3, 'rf_estimators': 54, 'rf_criterion': 'entropy', 'rf_cls_wgt': 'balanced_subsample'}. Best is trial 67 with value: -0.5288490679780538.\n",
      "[I 2023-07-06 05:24:18,847] Trial 146 finished with value: -0.710769423584655 and parameters: {'classifier': 'RF', 'rf_max_depth': 8, 'rf_estimators': 43, 'rf_criterion': 'entropy', 'rf_cls_wgt': 'balanced'}. Best is trial 67 with value: -0.5288490679780538.\n",
      "[I 2023-07-06 05:24:20,183] Trial 147 finished with value: -0.5552425040482343 and parameters: {'classifier': 'RF', 'rf_max_depth': 3, 'rf_estimators': 38, 'rf_criterion': 'entropy', 'rf_cls_wgt': 'balanced_subsample'}. Best is trial 67 with value: -0.5288490679780538.\n",
      "[I 2023-07-06 05:24:21,645] Trial 148 finished with value: -0.6555023415254306 and parameters: {'classifier': 'RF', 'rf_max_depth': 6, 'rf_estimators': 61, 'rf_criterion': 'entropy', 'rf_cls_wgt': 'balanced_subsample'}. Best is trial 67 with value: -0.5288490679780538.\n",
      "[I 2023-07-06 05:24:23,217] Trial 149 finished with value: -0.7171221818354654 and parameters: {'classifier': 'RF', 'rf_max_depth': 7, 'rf_estimators': 94, 'rf_criterion': 'gini', 'rf_cls_wgt': 'balanced_subsample'}. Best is trial 67 with value: -0.5288490679780538.\n",
      "[I 2023-07-06 05:24:25,468] Trial 150 finished with value: -0.9547904805639454 and parameters: {'classifier': 'GB', 'gb_max_depth': 3, 'gb_estimators': 126, 'gb_criterion': 'friedman_mse'}. Best is trial 67 with value: -0.5288490679780538.\n",
      "[I 2023-07-06 05:24:26,852] Trial 151 finished with value: -0.5305613506097424 and parameters: {'classifier': 'RF', 'rf_max_depth': 3, 'rf_estimators': 55, 'rf_criterion': 'entropy', 'rf_cls_wgt': 'balanced_subsample'}. Best is trial 67 with value: -0.5288490679780538.\n",
      "[I 2023-07-06 05:24:28,253] Trial 152 finished with value: -0.534115444432973 and parameters: {'classifier': 'RF', 'rf_max_depth': 3, 'rf_estimators': 53, 'rf_criterion': 'entropy', 'rf_cls_wgt': 'balanced_subsample'}. Best is trial 67 with value: -0.5288490679780538.\n",
      "[I 2023-07-06 05:24:29,602] Trial 153 finished with value: -0.5457558083945162 and parameters: {'classifier': 'RF', 'rf_max_depth': 2, 'rf_estimators': 48, 'rf_criterion': 'entropy', 'rf_cls_wgt': 'balanced_subsample'}. Best is trial 67 with value: -0.5288490679780538.\n",
      "[I 2023-07-06 05:24:31,030] Trial 154 finished with value: -0.5307913494446682 and parameters: {'classifier': 'RF', 'rf_max_depth': 3, 'rf_estimators': 66, 'rf_criterion': 'entropy', 'rf_cls_wgt': 'balanced_subsample'}. Best is trial 67 with value: -0.5288490679780538.\n",
      "[I 2023-07-06 05:24:32,491] Trial 155 finished with value: -0.7184688757792494 and parameters: {'classifier': 'RF', 'rf_max_depth': 24, 'rf_estimators': 68, 'rf_criterion': 'entropy', 'rf_cls_wgt': 'balanced'}. Best is trial 67 with value: -0.5288490679780538.\n",
      "[I 2023-07-06 05:24:33,946] Trial 156 finished with value: -0.7235396562086349 and parameters: {'classifier': 'RF', 'rf_max_depth': 21, 'rf_estimators': 63, 'rf_criterion': 'entropy', 'rf_cls_wgt': 'balanced_subsample'}. Best is trial 67 with value: -0.5288490679780538.\n",
      "[I 2023-07-06 05:24:35,397] Trial 157 finished with value: -0.700485445886237 and parameters: {'classifier': 'SVC', 'svc_c': 1.3429061262497977, 'svc_algo': 'rbf', 'svc_cls_wgt': 'balanced'}. Best is trial 67 with value: -0.5288490679780538.\n",
      "[I 2023-07-06 05:24:36,912] Trial 158 finished with value: -0.7201849850249935 and parameters: {'classifier': 'RF', 'rf_max_depth': 13, 'rf_estimators': 75, 'rf_criterion': 'entropy', 'rf_cls_wgt': 'balanced_subsample'}. Best is trial 67 with value: -0.5288490679780538.\n",
      "[I 2023-07-06 05:24:38,280] Trial 159 finished with value: -0.5535797085097907 and parameters: {'classifier': 'RF', 'rf_max_depth': 4, 'rf_estimators': 45, 'rf_criterion': 'entropy', 'rf_cls_wgt': 'balanced_subsample'}. Best is trial 67 with value: -0.5288490679780538.\n",
      "[I 2023-07-06 05:24:39,613] Trial 160 finished with value: -0.5311554767717693 and parameters: {'classifier': 'RF', 'rf_max_depth': 3, 'rf_estimators': 50, 'rf_criterion': 'gini', 'rf_cls_wgt': 'balanced'}. Best is trial 67 with value: -0.5288490679780538.\n",
      "[I 2023-07-06 05:24:40,963] Trial 161 finished with value: -0.5310065879664563 and parameters: {'classifier': 'RF', 'rf_max_depth': 3, 'rf_estimators': 51, 'rf_criterion': 'gini', 'rf_cls_wgt': 'balanced'}. Best is trial 67 with value: -0.5288490679780538.\n",
      "[I 2023-07-06 05:24:42,371] Trial 162 finished with value: -0.5310065879664563 and parameters: {'classifier': 'RF', 'rf_max_depth': 3, 'rf_estimators': 51, 'rf_criterion': 'gini', 'rf_cls_wgt': 'balanced'}. Best is trial 67 with value: -0.5288490679780538.\n",
      "[I 2023-07-06 05:24:43,703] Trial 163 finished with value: -0.5311554767717693 and parameters: {'classifier': 'RF', 'rf_max_depth': 3, 'rf_estimators': 50, 'rf_criterion': 'gini', 'rf_cls_wgt': 'balanced'}. Best is trial 67 with value: -0.5288490679780538.\n",
      "[I 2023-07-06 05:24:45,021] Trial 164 finished with value: -0.5385882583229841 and parameters: {'classifier': 'RF', 'rf_max_depth': 3, 'rf_estimators': 41, 'rf_criterion': 'gini', 'rf_cls_wgt': 'balanced'}. Best is trial 67 with value: -0.5288490679780538.\n",
      "[I 2023-07-06 05:24:46,371] Trial 165 finished with value: -0.5311554767717693 and parameters: {'classifier': 'RF', 'rf_max_depth': 3, 'rf_estimators': 50, 'rf_criterion': 'gini', 'rf_cls_wgt': 'balanced'}. Best is trial 67 with value: -0.5288490679780538.\n",
      "[I 2023-07-06 05:24:47,710] Trial 166 finished with value: -0.5311554767717693 and parameters: {'classifier': 'RF', 'rf_max_depth': 3, 'rf_estimators': 50, 'rf_criterion': 'gini', 'rf_cls_wgt': 'balanced'}. Best is trial 67 with value: -0.5288490679780538.\n",
      "[I 2023-07-06 05:24:49,055] Trial 167 finished with value: -0.5311554767717693 and parameters: {'classifier': 'RF', 'rf_max_depth': 3, 'rf_estimators': 50, 'rf_criterion': 'gini', 'rf_cls_wgt': 'balanced'}. Best is trial 67 with value: -0.5288490679780538.\n",
      "[I 2023-07-06 05:24:50,401] Trial 168 finished with value: -0.5349241310253484 and parameters: {'classifier': 'RF', 'rf_max_depth': 3, 'rf_estimators': 48, 'rf_criterion': 'gini', 'rf_cls_wgt': 'balanced'}. Best is trial 67 with value: -0.5288490679780538.\n",
      "[I 2023-07-06 05:24:51,687] Trial 169 finished with value: -0.5486288108682337 and parameters: {'classifier': 'RF', 'rf_max_depth': 3, 'rf_estimators': 37, 'rf_criterion': 'gini', 'rf_cls_wgt': 'balanced'}. Best is trial 67 with value: -0.5288490679780538.\n",
      "[I 2023-07-06 05:24:53,025] Trial 170 finished with value: -0.5399517966732746 and parameters: {'classifier': 'RF', 'rf_max_depth': 3, 'rf_estimators': 45, 'rf_criterion': 'gini', 'rf_cls_wgt': 'balanced'}. Best is trial 67 with value: -0.5288490679780538.\n",
      "[I 2023-07-06 05:24:54,361] Trial 171 finished with value: -0.5310065879664563 and parameters: {'classifier': 'RF', 'rf_max_depth': 3, 'rf_estimators': 51, 'rf_criterion': 'gini', 'rf_cls_wgt': 'balanced'}. Best is trial 67 with value: -0.5288490679780538.\n",
      "[I 2023-07-06 05:24:55,721] Trial 172 finished with value: -0.7718439622612646 and parameters: {'classifier': 'RF', 'rf_max_depth': 11, 'rf_estimators': 51, 'rf_criterion': 'gini', 'rf_cls_wgt': 'balanced'}. Best is trial 67 with value: -0.5288490679780538.\n",
      "[I 2023-07-06 05:24:57,022] Trial 173 finished with value: -0.5385882583229841 and parameters: {'classifier': 'RF', 'rf_max_depth': 3, 'rf_estimators': 41, 'rf_criterion': 'gini', 'rf_cls_wgt': 'balanced'}. Best is trial 67 with value: -0.5288490679780538.\n",
      "[I 2023-07-06 05:24:58,370] Trial 174 finished with value: -0.5331549494756269 and parameters: {'classifier': 'RF', 'rf_max_depth': 3, 'rf_estimators': 53, 'rf_criterion': 'gini', 'rf_cls_wgt': 'balanced'}. Best is trial 67 with value: -0.5288490679780538.\n",
      "[I 2023-07-06 05:24:59,687] Trial 175 finished with value: -0.7973151596792415 and parameters: {'classifier': 'RF', 'rf_max_depth': 18, 'rf_estimators': 34, 'rf_criterion': 'gini', 'rf_cls_wgt': 'balanced'}. Best is trial 67 with value: -0.5288490679780538.\n",
      "[I 2023-07-06 05:25:01,034] Trial 176 finished with value: -0.7824491057938578 and parameters: {'classifier': 'RF', 'rf_max_depth': 14, 'rf_estimators': 45, 'rf_criterion': 'gini', 'rf_cls_wgt': 'balanced'}. Best is trial 67 with value: -0.5288490679780538.\n",
      "[I 2023-07-06 05:25:02,496] Trial 177 finished with value: -0.5298473838753489 and parameters: {'classifier': 'RF', 'rf_max_depth': 3, 'rf_estimators': 57, 'rf_criterion': 'gini', 'rf_cls_wgt': 'balanced'}. Best is trial 67 with value: -0.5288490679780538.\n",
      "[I 2023-07-06 05:25:03,889] Trial 178 finished with value: -0.7069577777251321 and parameters: {'classifier': 'RF', 'rf_max_depth': 7, 'rf_estimators': 58, 'rf_criterion': 'gini', 'rf_cls_wgt': 'balanced'}. Best is trial 67 with value: -0.5288490679780538.\n",
      "[I 2023-07-06 05:25:05,244] Trial 179 finished with value: -0.5294553730720544 and parameters: {'classifier': 'RF', 'rf_max_depth': 3, 'rf_estimators': 55, 'rf_criterion': 'gini', 'rf_cls_wgt': 'balanced'}. Best is trial 67 with value: -0.5288490679780538.\n",
      "[I 2023-07-06 05:25:06,631] Trial 180 finished with value: -0.7439770371365083 and parameters: {'classifier': 'RF', 'rf_max_depth': 9, 'rf_estimators': 58, 'rf_criterion': 'gini', 'rf_cls_wgt': 'balanced'}. Best is trial 67 with value: -0.5288490679780538.\n",
      "[I 2023-07-06 05:25:07,989] Trial 181 finished with value: -0.5326083915130626 and parameters: {'classifier': 'RF', 'rf_max_depth': 3, 'rf_estimators': 52, 'rf_criterion': 'gini', 'rf_cls_wgt': 'balanced'}. Best is trial 67 with value: -0.5288490679780538.\n",
      "[I 2023-07-06 05:25:09,349] Trial 182 finished with value: -0.5305928286421623 and parameters: {'classifier': 'RF', 'rf_max_depth': 3, 'rf_estimators': 54, 'rf_criterion': 'gini', 'rf_cls_wgt': 'balanced'}. Best is trial 67 with value: -0.5288490679780538.\n",
      "[I 2023-07-06 05:25:10,690] Trial 183 finished with value: -0.5288086315954714 and parameters: {'classifier': 'RF', 'rf_max_depth': 3, 'rf_estimators': 56, 'rf_criterion': 'gini', 'rf_cls_wgt': 'balanced'}. Best is trial 183 with value: -0.5288086315954714.\n",
      "[I 2023-07-06 05:25:12,036] Trial 184 finished with value: -0.5323514239067711 and parameters: {'classifier': 'RF', 'rf_max_depth': 3, 'rf_estimators': 59, 'rf_criterion': 'gini', 'rf_cls_wgt': 'balanced'}. Best is trial 183 with value: -0.5288086315954714.\n",
      "[I 2023-07-06 05:25:13,369] Trial 185 finished with value: -0.5305928286421623 and parameters: {'classifier': 'RF', 'rf_max_depth': 3, 'rf_estimators': 54, 'rf_criterion': 'gini', 'rf_cls_wgt': 'balanced'}. Best is trial 183 with value: -0.5288086315954714.\n",
      "[I 2023-07-06 05:25:14,734] Trial 186 finished with value: -0.7672115498407441 and parameters: {'classifier': 'RF', 'rf_max_depth': 21, 'rf_estimators': 57, 'rf_criterion': 'gini', 'rf_cls_wgt': 'balanced'}. Best is trial 183 with value: -0.5288086315954714.\n",
      "[I 2023-07-06 05:25:16,074] Trial 187 finished with value: -0.7534378036039564 and parameters: {'classifier': 'RF', 'rf_max_depth': 9, 'rf_estimators': 55, 'rf_criterion': 'gini', 'rf_cls_wgt': 'balanced'}. Best is trial 183 with value: -0.5288086315954714.\n",
      "[I 2023-07-06 05:25:17,392] Trial 188 finished with value: -0.7824491057938578 and parameters: {'classifier': 'RF', 'rf_max_depth': 14, 'rf_estimators': 45, 'rf_criterion': 'gini', 'rf_cls_wgt': 'balanced'}. Best is trial 183 with value: -0.5288086315954714.\n",
      "[I 2023-07-06 05:25:19,782] Trial 189 finished with value: -2.543789239969095 and parameters: {'classifier': 'GB', 'gb_max_depth': 8, 'gb_estimators': 77, 'gb_criterion': 'friedman_mse'}. Best is trial 183 with value: -0.5288086315954714.\n",
      "[I 2023-07-06 05:25:21,214] Trial 190 finished with value: -1.1629723978484061 and parameters: {'classifier': 'SVC', 'svc_c': 2145440.4208331807, 'svc_algo': 'sigmoid', 'svc_cls_wgt': 'balanced'}. Best is trial 183 with value: -0.5288086315954714.\n",
      "[I 2023-07-06 05:25:22,549] Trial 191 finished with value: -0.5324088537353486 and parameters: {'classifier': 'RF', 'rf_max_depth': 3, 'rf_estimators': 60, 'rf_criterion': 'gini', 'rf_cls_wgt': 'balanced'}. Best is trial 183 with value: -0.5288086315954714.\n",
      "[I 2023-07-06 05:25:23,856] Trial 192 finished with value: -0.5325035024667766 and parameters: {'classifier': 'RF', 'rf_max_depth': 3, 'rf_estimators': 47, 'rf_criterion': 'gini', 'rf_cls_wgt': 'balanced'}. Best is trial 183 with value: -0.5288086315954714.\n",
      "[I 2023-07-06 05:25:25,170] Trial 193 finished with value: -0.5305928286421623 and parameters: {'classifier': 'RF', 'rf_max_depth': 3, 'rf_estimators': 54, 'rf_criterion': 'gini', 'rf_cls_wgt': 'balanced'}. Best is trial 183 with value: -0.5288086315954714.\n",
      "[I 2023-07-06 05:25:26,522] Trial 194 finished with value: -0.5341476298700576 and parameters: {'classifier': 'RF', 'rf_max_depth': 3, 'rf_estimators': 69, 'rf_criterion': 'gini', 'rf_cls_wgt': 'balanced'}. Best is trial 183 with value: -0.5288086315954714.\n",
      "[I 2023-07-06 05:25:27,975] Trial 195 finished with value: -0.5294553730720544 and parameters: {'classifier': 'RF', 'rf_max_depth': 3, 'rf_estimators': 55, 'rf_criterion': 'gini', 'rf_cls_wgt': 'balanced'}. Best is trial 183 with value: -0.5288086315954714.\n",
      "[I 2023-07-06 05:25:29,310] Trial 196 finished with value: -0.5321420224078185 and parameters: {'classifier': 'RF', 'rf_max_depth': 3, 'rf_estimators': 64, 'rf_criterion': 'gini', 'rf_cls_wgt': 'balanced'}. Best is trial 183 with value: -0.5288086315954714.\n",
      "[I 2023-07-06 05:25:30,645] Trial 197 finished with value: -0.7752511224206052 and parameters: {'classifier': 'RF', 'rf_max_depth': 18, 'rf_estimators': 54, 'rf_criterion': 'gini', 'rf_cls_wgt': 'balanced'}. Best is trial 183 with value: -0.5288086315954714.\n",
      "[I 2023-07-06 05:25:32,013] Trial 198 finished with value: -0.7610832853612671 and parameters: {'classifier': 'RF', 'rf_max_depth': 10, 'rf_estimators': 61, 'rf_criterion': 'gini', 'rf_cls_wgt': 'balanced'}. Best is trial 183 with value: -0.5288086315954714.\n",
      "[I 2023-07-06 05:25:33,329] Trial 199 finished with value: -0.5385882583229841 and parameters: {'classifier': 'RF', 'rf_max_depth': 3, 'rf_estimators': 41, 'rf_criterion': 'gini', 'rf_cls_wgt': 'balanced'}. Best is trial 183 with value: -0.5288086315954714.\n"
     ]
    },
    {
     "name": "stdout",
     "output_type": "stream",
     "text": [
      "FrozenTrial(number=183, state=TrialState.COMPLETE, values=[-0.5288086315954714], datetime_start=datetime.datetime(2023, 7, 6, 5, 25, 9, 350167), datetime_complete=datetime.datetime(2023, 7, 6, 5, 25, 10, 689754), params={'classifier': 'RF', 'rf_max_depth': 3, 'rf_estimators': 56, 'rf_criterion': 'gini', 'rf_cls_wgt': 'balanced'}, user_attrs={}, system_attrs={}, intermediate_values={}, distributions={'classifier': CategoricalDistribution(choices=('SVC', 'RF', 'GB')), 'rf_max_depth': IntDistribution(high=32, log=True, low=2, step=1), 'rf_estimators': IntDistribution(high=1000, log=True, low=10, step=1), 'rf_criterion': CategoricalDistribution(choices=('gini', 'entropy')), 'rf_cls_wgt': CategoricalDistribution(choices=(None, 'balanced', 'balanced_subsample'))}, trial_id=183, value=None)\n"
     ]
    }
   ],
   "source": [
    "study = optuna.create_study(direction='maximize')\n",
    "study.optimize(objective, n_trials=200)\n",
    "print(study.best_trial)"
   ]
  },
  {
   "cell_type": "code",
   "execution_count": 16,
   "id": "24d29721-5208-4d57-b2fb-18a0f1c1db9a",
   "metadata": {
    "execution": {
     "iopub.execute_input": "2023-07-06T05:25:33.334879Z",
     "iopub.status.busy": "2023-07-06T05:25:33.334702Z",
     "iopub.status.idle": "2023-07-06T05:25:33.339259Z",
     "shell.execute_reply": "2023-07-06T05:25:33.338683Z",
     "shell.execute_reply.started": "2023-07-06T05:25:33.334862Z"
    }
   },
   "outputs": [
    {
     "data": {
      "text/plain": [
       "{'classifier': 'RF',\n",
       " 'rf_max_depth': 3,\n",
       " 'rf_estimators': 56,\n",
       " 'rf_criterion': 'gini',\n",
       " 'rf_cls_wgt': 'balanced'}"
      ]
     },
     "execution_count": 16,
     "metadata": {},
     "output_type": "execute_result"
    }
   ],
   "source": [
    "study.best_params"
   ]
  },
  {
   "cell_type": "code",
   "execution_count": 17,
   "id": "76c25559-e0f0-4b8a-975f-585a5ac305b1",
   "metadata": {
    "execution": {
     "iopub.execute_input": "2023-07-06T05:36:20.101176Z",
     "iopub.status.busy": "2023-07-06T05:36:20.100689Z",
     "iopub.status.idle": "2023-07-06T05:36:20.104653Z",
     "shell.execute_reply": "2023-07-06T05:36:20.104011Z",
     "shell.execute_reply.started": "2023-07-06T05:36:20.101155Z"
    }
   },
   "outputs": [],
   "source": [
    "best_rf_pipeline = make_pipeline(CategoricalTransformer(index_of_ej), \n",
    "                                 OutlierRemover(),\n",
    "                                 IterativeImputer(initial_strategy='median'),\n",
    "                                 RandomForestClassifier(random_state=42,\n",
    "                                                        max_depth=3,\n",
    "                                                        n_estimators=56,\n",
    "                                                        criterion='gini',\n",
    "                                                        class_weight='balanced'))"
   ]
  },
  {
   "cell_type": "code",
   "execution_count": 22,
   "id": "c0ce333f-41e9-4e08-a185-0221e59467ce",
   "metadata": {
    "execution": {
     "iopub.execute_input": "2023-07-06T05:39:14.187475Z",
     "iopub.status.busy": "2023-07-06T05:39:14.186773Z",
     "iopub.status.idle": "2023-07-06T05:39:14.657081Z",
     "shell.execute_reply": "2023-07-06T05:39:14.655329Z",
     "shell.execute_reply.started": "2023-07-06T05:39:14.187447Z"
    },
    "tags": []
   },
   "outputs": [
    {
     "data": {
      "text/plain": [
       "-0.5870834369135836"
      ]
     },
     "execution_count": 22,
     "metadata": {},
     "output_type": "execute_result"
    }
   ],
   "source": [
    "best_rf_pipeline.fit(x_train, y_train)\n",
    "log_loss = get_bal_log_loss()\n",
    "log_loss(best_rf_pipeline, x_test, y_test)"
   ]
  },
  {
   "cell_type": "code",
   "execution_count": 23,
   "id": "d13f1f56-0079-49d9-b70c-37946456f70a",
   "metadata": {
    "execution": {
     "iopub.execute_input": "2023-07-06T05:39:57.373826Z",
     "iopub.status.busy": "2023-07-06T05:39:57.373584Z",
     "iopub.status.idle": "2023-07-06T05:39:57.377367Z",
     "shell.execute_reply": "2023-07-06T05:39:57.376684Z",
     "shell.execute_reply.started": "2023-07-06T05:39:57.373809Z"
    }
   },
   "outputs": [],
   "source": [
    "#From a previous run with log loss of: 0.3035\n",
    "old_best_rf_pipeline = make_pipeline(CategoricalTransformer(index_of_ej), \n",
    "                                     OutlierRemover(),\n",
    "                                     IterativeImputer(initial_strategy='median'),\n",
    "                                     RandomForestClassifier(random_state=42,\n",
    "                                                            max_depth=7,\n",
    "                                                            n_estimators=264,\n",
    "                                                            criterion='entropy'))"
   ]
  },
  {
   "cell_type": "code",
   "execution_count": 24,
   "id": "ba3ed7a4-aeb8-4975-ae49-b94601b41066",
   "metadata": {
    "execution": {
     "iopub.execute_input": "2023-07-06T05:40:14.508145Z",
     "iopub.status.busy": "2023-07-06T05:40:14.507666Z",
     "iopub.status.idle": "2023-07-06T05:40:15.328620Z",
     "shell.execute_reply": "2023-07-06T05:40:15.328037Z",
     "shell.execute_reply.started": "2023-07-06T05:40:14.508128Z"
    }
   },
   "outputs": [
    {
     "data": {
      "text/plain": [
       "-0.6437672570288462"
      ]
     },
     "execution_count": 24,
     "metadata": {},
     "output_type": "execute_result"
    }
   ],
   "source": [
    "old_best_rf_pipeline.fit(x_train, y_train)\n",
    "log_loss = get_bal_log_loss()\n",
    "log_loss(old_best_rf_pipeline, x_test, y_test)"
   ]
  },
  {
   "cell_type": "code",
   "execution_count": null,
   "id": "9dadd509-f686-4ce5-9a7e-3fad95d44b37",
   "metadata": {},
   "outputs": [],
   "source": []
  }
 ],
 "metadata": {
  "kernelspec": {
   "display_name": "azureml_py38_PT_and_TF",
   "language": "python",
   "name": "conda-env-azureml_py38_PT_and_TF-py"
  },
  "language_info": {
   "codemirror_mode": {
    "name": "ipython",
    "version": 3
   },
   "file_extension": ".py",
   "mimetype": "text/x-python",
   "name": "python",
   "nbconvert_exporter": "python",
   "pygments_lexer": "ipython3",
   "version": "3.8.5"
  }
 },
 "nbformat": 4,
 "nbformat_minor": 5
}
