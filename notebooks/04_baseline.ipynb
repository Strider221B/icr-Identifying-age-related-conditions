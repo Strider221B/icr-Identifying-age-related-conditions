{
 "cells": [
  {
   "cell_type": "code",
   "execution_count": 1,
   "id": "f5c242b0-1f55-4acd-8294-56ed4c5be580",
   "metadata": {
    "execution": {
     "iopub.execute_input": "2023-07-02T15:23:56.891917Z",
     "iopub.status.busy": "2023-07-02T15:23:56.891563Z",
     "iopub.status.idle": "2023-07-02T15:23:56.898625Z",
     "shell.execute_reply": "2023-07-02T15:23:56.898158Z",
     "shell.execute_reply.started": "2023-07-02T15:23:56.891883Z"
    }
   },
   "outputs": [],
   "source": [
    "import os\n",
    "os.chdir('./../')"
   ]
  },
  {
   "cell_type": "code",
   "execution_count": 2,
   "id": "7f144a9d-eec6-486c-883b-3e7f27f0947e",
   "metadata": {
    "execution": {
     "iopub.execute_input": "2023-07-02T15:23:56.899845Z",
     "iopub.status.busy": "2023-07-02T15:23:56.899681Z",
     "iopub.status.idle": "2023-07-02T15:23:57.498820Z",
     "shell.execute_reply": "2023-07-02T15:23:57.498262Z",
     "shell.execute_reply.started": "2023-07-02T15:23:56.899831Z"
    },
    "tags": []
   },
   "outputs": [
    {
     "name": "stderr",
     "output_type": "stream",
     "text": [
      "<frozen importlib._bootstrap>:219: RuntimeWarning: scipy._lib.messagestream.MessageStream size changed, may indicate binary incompatibility. Expected 56 from C header, got 64 from PyObject\n"
     ]
    }
   ],
   "source": [
    "import joblib\n",
    "import numpy as np\n",
    "import pandas as pd\n",
    "from sklearn.experimental import enable_iterative_imputer\n",
    "from sklearn.impute import IterativeImputer\n",
    "from sklearn.linear_model import LogisticRegression\n",
    "from sklearn.metrics import log_loss\n",
    "from sklearn.model_selection import cross_val_score, train_test_split\n",
    "from sklearn.pipeline import make_pipeline\n",
    "from sklearn.preprocessing import PowerTransformer"
   ]
  },
  {
   "cell_type": "code",
   "execution_count": 3,
   "id": "3ee92a31-f870-42ae-86ed-8aab97606d79",
   "metadata": {
    "execution": {
     "iopub.execute_input": "2023-07-02T15:23:57.499790Z",
     "iopub.status.busy": "2023-07-02T15:23:57.499515Z",
     "iopub.status.idle": "2023-07-02T15:23:57.509855Z",
     "shell.execute_reply": "2023-07-02T15:23:57.509394Z",
     "shell.execute_reply.started": "2023-07-02T15:23:57.499764Z"
    }
   },
   "outputs": [],
   "source": [
    "all_df = pd.read_csv('./data/train.csv', index_col=0)"
   ]
  },
  {
   "cell_type": "code",
   "execution_count": 4,
   "id": "d756cb90-de95-4038-a3ff-d718e016f150",
   "metadata": {
    "execution": {
     "iopub.execute_input": "2023-07-02T15:23:57.510652Z",
     "iopub.status.busy": "2023-07-02T15:23:57.510463Z",
     "iopub.status.idle": "2023-07-02T15:23:57.515644Z",
     "shell.execute_reply": "2023-07-02T15:23:57.515214Z",
     "shell.execute_reply.started": "2023-07-02T15:23:57.510630Z"
    },
    "tags": []
   },
   "outputs": [],
   "source": [
    "x_train, x_test, y_train, y_test = train_test_split(all_df.loc[:, all_df.columns != 'Class'], \n",
    "                                                    all_df.loc[:, 'Class'], \n",
    "                                                    random_state=42)"
   ]
  },
  {
   "cell_type": "code",
   "execution_count": 5,
   "id": "e0e7463f-d7a6-42a6-ac5f-b541da78fc89",
   "metadata": {
    "execution": {
     "iopub.execute_input": "2023-07-02T15:23:57.516421Z",
     "iopub.status.busy": "2023-07-02T15:23:57.516237Z",
     "iopub.status.idle": "2023-07-02T15:23:57.524942Z",
     "shell.execute_reply": "2023-07-02T15:23:57.524448Z",
     "shell.execute_reply.started": "2023-07-02T15:23:57.516391Z"
    },
    "tags": []
   },
   "outputs": [],
   "source": [
    "index_of_ej = list(x_train.columns).index('EJ')"
   ]
  },
  {
   "cell_type": "code",
   "execution_count": 6,
   "id": "39abe6ed-f25f-4966-ae03-afe8a2b09826",
   "metadata": {
    "execution": {
     "iopub.execute_input": "2023-07-02T15:23:57.525740Z",
     "iopub.status.busy": "2023-07-02T15:23:57.525550Z",
     "iopub.status.idle": "2023-07-02T15:23:57.535298Z",
     "shell.execute_reply": "2023-07-02T15:23:57.534784Z",
     "shell.execute_reply.started": "2023-07-02T15:23:57.525720Z"
    },
    "tags": []
   },
   "outputs": [],
   "source": [
    "class CategoricalTransformer:\n",
    "    \n",
    "    def __init__(self, index_of_col):\n",
    "        self._index_of_col = index_of_col\n",
    "        self._a = None\n",
    "        self._b = None\n",
    "    \n",
    "    def fit(self, x, y):\n",
    "        if isinstance(x, pd.DataFrame):\n",
    "            x = x.values\n",
    "        self._a = y[x[:, self._index_of_col] == 'A'].mean()\n",
    "        self._b = y[x[:, self._index_of_col] == 'B'].mean()\n",
    "    \n",
    "    def transform(self, x):\n",
    "        if isinstance(x, pd.DataFrame):\n",
    "            x = x.values\n",
    "        x[:, self._index_of_col] = np.where(x[:, self._index_of_col] == 'A', self._a, self._b)\n",
    "        return x\n",
    "        \n",
    "    def fit_transform(self, x, y):\n",
    "        self.fit(x, y)\n",
    "        return self.transform(x)"
   ]
  },
  {
   "cell_type": "code",
   "execution_count": 7,
   "id": "5008bd16-8837-46b2-b8de-5abc0afab37a",
   "metadata": {
    "execution": {
     "iopub.execute_input": "2023-07-02T15:23:57.537033Z",
     "iopub.status.busy": "2023-07-02T15:23:57.536806Z",
     "iopub.status.idle": "2023-07-02T15:23:57.545177Z",
     "shell.execute_reply": "2023-07-02T15:23:57.544725Z",
     "shell.execute_reply.started": "2023-07-02T15:23:57.537008Z"
    },
    "tags": []
   },
   "outputs": [],
   "source": [
    "pipeline = make_pipeline(CategoricalTransformer(index_of_ej), \n",
    "                        IterativeImputer(initial_strategy='median'),\n",
    "                        PowerTransformer(),\n",
    "                        LogisticRegression())"
   ]
  },
  {
   "cell_type": "code",
   "execution_count": 8,
   "id": "887781b4-acb8-49af-bbfc-203db6067c3c",
   "metadata": {
    "execution": {
     "iopub.execute_input": "2023-07-02T15:23:57.545832Z",
     "iopub.status.busy": "2023-07-02T15:23:57.545687Z",
     "iopub.status.idle": "2023-07-02T15:23:57.973906Z",
     "shell.execute_reply": "2023-07-02T15:23:57.973305Z",
     "shell.execute_reply.started": "2023-07-02T15:23:57.545819Z"
    },
    "tags": []
   },
   "outputs": [
    {
     "name": "stderr",
     "output_type": "stream",
     "text": [
      "/anaconda/envs/azureml_py38_PT_and_TF/lib/python3.8/site-packages/sklearn/preprocessing/_data.py:3253: RuntimeWarning: divide by zero encountered in log\n",
      "  loglike = -n_samples / 2 * np.log(x_trans.var())\n"
     ]
    },
    {
     "data": {
      "text/plain": [
       "Pipeline(steps=[('categoricaltransformer',\n",
       "                 <__main__.CategoricalTransformer object at 0x7f9ddadf29a0>),\n",
       "                ('iterativeimputer',\n",
       "                 IterativeImputer(initial_strategy='median')),\n",
       "                ('powertransformer', PowerTransformer()),\n",
       "                ('logisticregression', LogisticRegression())])"
      ]
     },
     "execution_count": 8,
     "metadata": {},
     "output_type": "execute_result"
    }
   ],
   "source": [
    "pipeline.fit(x_train.values, y_train)"
   ]
  },
  {
   "cell_type": "code",
   "execution_count": 9,
   "id": "aba13f7e-8415-487b-8e90-7c14e65a0b31",
   "metadata": {
    "execution": {
     "iopub.execute_input": "2023-07-02T15:23:57.976329Z",
     "iopub.status.busy": "2023-07-02T15:23:57.975746Z",
     "iopub.status.idle": "2023-07-02T15:23:57.987863Z",
     "shell.execute_reply": "2023-07-02T15:23:57.987321Z",
     "shell.execute_reply.started": "2023-07-02T15:23:57.976308Z"
    },
    "tags": []
   },
   "outputs": [
    {
     "data": {
      "text/plain": [
       "0.16008022602499214"
      ]
     },
     "execution_count": 9,
     "metadata": {},
     "output_type": "execute_result"
    }
   ],
   "source": [
    "log_loss(y_train, pipeline.predict_proba(x_train))"
   ]
  },
  {
   "cell_type": "code",
   "execution_count": null,
   "id": "7fc6bdbf-a5d4-46e2-bf3b-0dc1f66477c3",
   "metadata": {},
   "outputs": [],
   "source": []
  }
 ],
 "metadata": {
  "kernelspec": {
   "display_name": "azureml_py38_PT_and_TF",
   "language": "python",
   "name": "conda-env-azureml_py38_PT_and_TF-py"
  },
  "language_info": {
   "codemirror_mode": {
    "name": "ipython",
    "version": 3
   },
   "file_extension": ".py",
   "mimetype": "text/x-python",
   "name": "python",
   "nbconvert_exporter": "python",
   "pygments_lexer": "ipython3",
   "version": "3.8.5"
  }
 },
 "nbformat": 4,
 "nbformat_minor": 5
}
