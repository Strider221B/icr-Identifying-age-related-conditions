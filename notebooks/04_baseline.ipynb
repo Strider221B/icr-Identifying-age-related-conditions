{
 "cells": [
  {
   "cell_type": "code",
   "execution_count": 1,
   "id": "f5c242b0-1f55-4acd-8294-56ed4c5be580",
   "metadata": {
    "execution": {
     "iopub.execute_input": "2023-07-04T04:53:19.173037Z",
     "iopub.status.busy": "2023-07-04T04:53:19.172883Z",
     "iopub.status.idle": "2023-07-04T04:53:19.178276Z",
     "shell.execute_reply": "2023-07-04T04:53:19.177604Z",
     "shell.execute_reply.started": "2023-07-04T04:53:19.173022Z"
    }
   },
   "outputs": [],
   "source": [
    "import os\n",
    "os.chdir('./../')"
   ]
  },
  {
   "cell_type": "code",
   "execution_count": 2,
   "id": "7f144a9d-eec6-486c-883b-3e7f27f0947e",
   "metadata": {
    "execution": {
     "iopub.execute_input": "2023-07-04T04:53:19.180552Z",
     "iopub.status.busy": "2023-07-04T04:53:19.180054Z",
     "iopub.status.idle": "2023-07-04T04:53:19.797034Z",
     "shell.execute_reply": "2023-07-04T04:53:19.796440Z",
     "shell.execute_reply.started": "2023-07-04T04:53:19.180524Z"
    },
    "tags": []
   },
   "outputs": [
    {
     "name": "stderr",
     "output_type": "stream",
     "text": [
      "<frozen importlib._bootstrap>:219: RuntimeWarning: scipy._lib.messagestream.MessageStream size changed, may indicate binary incompatibility. Expected 56 from C header, got 64 from PyObject\n"
     ]
    }
   ],
   "source": [
    "import joblib\n",
    "import numpy as np\n",
    "import pandas as pd\n",
    "from sklearn.experimental import enable_iterative_imputer\n",
    "from sklearn.impute import IterativeImputer\n",
    "from sklearn.linear_model import LogisticRegression\n",
    "from sklearn.metrics import log_loss\n",
    "from sklearn.model_selection import cross_val_score, train_test_split\n",
    "from sklearn.pipeline import make_pipeline\n",
    "from sklearn.preprocessing import PowerTransformer"
   ]
  },
  {
   "cell_type": "code",
   "execution_count": 3,
   "id": "78b60997-71ac-48bd-86ef-183a1aa968be",
   "metadata": {
    "execution": {
     "iopub.execute_input": "2023-07-04T04:53:19.798340Z",
     "iopub.status.busy": "2023-07-04T04:53:19.797970Z",
     "iopub.status.idle": "2023-07-04T04:53:19.801565Z",
     "shell.execute_reply": "2023-07-04T04:53:19.800958Z",
     "shell.execute_reply.started": "2023-07-04T04:53:19.798311Z"
    },
    "tags": []
   },
   "outputs": [],
   "source": [
    "base_path = './data'"
   ]
  },
  {
   "cell_type": "code",
   "execution_count": 4,
   "id": "3ee92a31-f870-42ae-86ed-8aab97606d79",
   "metadata": {
    "execution": {
     "iopub.execute_input": "2023-07-04T04:53:19.802358Z",
     "iopub.status.busy": "2023-07-04T04:53:19.802198Z",
     "iopub.status.idle": "2023-07-04T04:53:19.828285Z",
     "shell.execute_reply": "2023-07-04T04:53:19.827648Z",
     "shell.execute_reply.started": "2023-07-04T04:53:19.802344Z"
    },
    "tags": []
   },
   "outputs": [],
   "source": [
    "all_df = pd.read_csv(f'{base_path}/train.csv', index_col=0)\n",
    "final_test_df = pd.read_csv(f'{base_path}/test.csv', index_col=0)"
   ]
  },
  {
   "cell_type": "code",
   "execution_count": 5,
   "id": "ae997bb7-5573-475a-8d22-bd7251d59ad4",
   "metadata": {
    "execution": {
     "iopub.execute_input": "2023-07-04T04:53:19.829917Z",
     "iopub.status.busy": "2023-07-04T04:53:19.829305Z",
     "iopub.status.idle": "2023-07-04T04:53:19.833226Z",
     "shell.execute_reply": "2023-07-04T04:53:19.832683Z",
     "shell.execute_reply.started": "2023-07-04T04:53:19.829894Z"
    }
   },
   "outputs": [],
   "source": [
    "all_train = all_df.loc[:, all_df.columns != 'Class']\n",
    "all_test = all_df.loc[:, 'Class']"
   ]
  },
  {
   "cell_type": "code",
   "execution_count": 6,
   "id": "d756cb90-de95-4038-a3ff-d718e016f150",
   "metadata": {
    "execution": {
     "iopub.execute_input": "2023-07-04T04:53:19.834114Z",
     "iopub.status.busy": "2023-07-04T04:53:19.833951Z",
     "iopub.status.idle": "2023-07-04T04:53:19.844269Z",
     "shell.execute_reply": "2023-07-04T04:53:19.843753Z",
     "shell.execute_reply.started": "2023-07-04T04:53:19.834099Z"
    },
    "tags": []
   },
   "outputs": [],
   "source": [
    "x_train, x_test, y_train, y_test = train_test_split(all_train, \n",
    "                                                    all_test, \n",
    "                                                    random_state=42)"
   ]
  },
  {
   "cell_type": "code",
   "execution_count": 7,
   "id": "04892a85-815b-4758-9453-b5c2f6ee138d",
   "metadata": {
    "execution": {
     "iopub.execute_input": "2023-07-04T04:53:19.847023Z",
     "iopub.status.busy": "2023-07-04T04:53:19.846591Z",
     "iopub.status.idle": "2023-07-04T04:53:19.854692Z",
     "shell.execute_reply": "2023-07-04T04:53:19.854192Z",
     "shell.execute_reply.started": "2023-07-04T04:53:19.847005Z"
    }
   },
   "outputs": [],
   "source": [
    "def delete_cols_from(df: pd.DataFrame, col_names: list):\n",
    "    for col in col_names:\n",
    "        if col in df:\n",
    "            del df[col]"
   ]
  },
  {
   "cell_type": "code",
   "execution_count": 8,
   "id": "ceba4246-f3e7-4cbe-b749-1a42715b57a8",
   "metadata": {
    "execution": {
     "iopub.execute_input": "2023-07-04T04:53:19.855920Z",
     "iopub.status.busy": "2023-07-04T04:53:19.855419Z",
     "iopub.status.idle": "2023-07-04T04:53:19.867681Z",
     "shell.execute_reply": "2023-07-04T04:53:19.866439Z",
     "shell.execute_reply.started": "2023-07-04T04:53:19.855891Z"
    }
   },
   "outputs": [],
   "source": [
    "# Performance of baseline model suffers, hence not deleting the correlated columns.\n",
    "# delete_cols_from(x_train, ['FD', 'GL'])\n",
    "# delete_cols_from(x_test, ['FD', 'GL'])"
   ]
  },
  {
   "cell_type": "code",
   "execution_count": 9,
   "id": "e0e7463f-d7a6-42a6-ac5f-b541da78fc89",
   "metadata": {
    "execution": {
     "iopub.execute_input": "2023-07-04T04:53:19.868497Z",
     "iopub.status.busy": "2023-07-04T04:53:19.868352Z",
     "iopub.status.idle": "2023-07-04T04:53:19.876515Z",
     "shell.execute_reply": "2023-07-04T04:53:19.875970Z",
     "shell.execute_reply.started": "2023-07-04T04:53:19.868484Z"
    },
    "tags": []
   },
   "outputs": [],
   "source": [
    "index_of_ej = list(x_train.columns).index('EJ')"
   ]
  },
  {
   "cell_type": "code",
   "execution_count": 10,
   "id": "39abe6ed-f25f-4966-ae03-afe8a2b09826",
   "metadata": {
    "execution": {
     "iopub.execute_input": "2023-07-04T04:53:19.877440Z",
     "iopub.status.busy": "2023-07-04T04:53:19.877222Z",
     "iopub.status.idle": "2023-07-04T04:53:19.888301Z",
     "shell.execute_reply": "2023-07-04T04:53:19.887832Z",
     "shell.execute_reply.started": "2023-07-04T04:53:19.877423Z"
    },
    "tags": []
   },
   "outputs": [],
   "source": [
    "class CategoricalTransformer:\n",
    "    \n",
    "    def __init__(self, index_of_col):\n",
    "        self._index_of_col = index_of_col\n",
    "        self._a = None\n",
    "        self._b = None\n",
    "    \n",
    "    def fit(self, x, y):\n",
    "        if isinstance(x, pd.DataFrame):\n",
    "            x = x.values\n",
    "        self._a = y[x[:, self._index_of_col] == 'A'].mean()\n",
    "        self._b = y[x[:, self._index_of_col] == 'B'].mean()\n",
    "    \n",
    "    def transform(self, x):\n",
    "        if isinstance(x, pd.DataFrame):\n",
    "            x = x.values\n",
    "        x[:, self._index_of_col] = np.where(x[:, self._index_of_col] == 'A', self._a, self._b)\n",
    "        return x\n",
    "        \n",
    "    def fit_transform(self, x, y):\n",
    "        self.fit(x, y)\n",
    "        return self.transform(x)"
   ]
  },
  {
   "cell_type": "code",
   "execution_count": 11,
   "id": "5008bd16-8837-46b2-b8de-5abc0afab37a",
   "metadata": {
    "execution": {
     "iopub.execute_input": "2023-07-04T04:53:19.889045Z",
     "iopub.status.busy": "2023-07-04T04:53:19.888878Z",
     "iopub.status.idle": "2023-07-04T04:53:19.898681Z",
     "shell.execute_reply": "2023-07-04T04:53:19.898136Z",
     "shell.execute_reply.started": "2023-07-04T04:53:19.889031Z"
    },
    "tags": []
   },
   "outputs": [],
   "source": [
    "pipeline = make_pipeline(CategoricalTransformer(index_of_ej), \n",
    "                        IterativeImputer(initial_strategy='median'),\n",
    "                        PowerTransformer(),\n",
    "                        LogisticRegression())"
   ]
  },
  {
   "cell_type": "code",
   "execution_count": 12,
   "id": "887781b4-acb8-49af-bbfc-203db6067c3c",
   "metadata": {
    "execution": {
     "iopub.execute_input": "2023-07-04T04:53:19.900077Z",
     "iopub.status.busy": "2023-07-04T04:53:19.899463Z",
     "iopub.status.idle": "2023-07-04T04:53:20.333474Z",
     "shell.execute_reply": "2023-07-04T04:53:20.332535Z",
     "shell.execute_reply.started": "2023-07-04T04:53:19.900049Z"
    },
    "tags": []
   },
   "outputs": [
    {
     "name": "stderr",
     "output_type": "stream",
     "text": [
      "/anaconda/envs/azureml_py38_PT_and_TF/lib/python3.8/site-packages/sklearn/preprocessing/_data.py:3253: RuntimeWarning: divide by zero encountered in log\n",
      "  loglike = -n_samples / 2 * np.log(x_trans.var())\n"
     ]
    },
    {
     "data": {
      "text/plain": [
       "Pipeline(steps=[('categoricaltransformer',\n",
       "                 <__main__.CategoricalTransformer object at 0x7f31b87d7640>),\n",
       "                ('iterativeimputer',\n",
       "                 IterativeImputer(initial_strategy='median')),\n",
       "                ('powertransformer', PowerTransformer()),\n",
       "                ('logisticregression', LogisticRegression())])"
      ]
     },
     "execution_count": 12,
     "metadata": {},
     "output_type": "execute_result"
    }
   ],
   "source": [
    "pipeline.fit(x_train.values, y_train)"
   ]
  },
  {
   "cell_type": "code",
   "execution_count": 13,
   "id": "aba13f7e-8415-487b-8e90-7c14e65a0b31",
   "metadata": {
    "execution": {
     "iopub.execute_input": "2023-07-04T04:53:20.334534Z",
     "iopub.status.busy": "2023-07-04T04:53:20.334339Z",
     "iopub.status.idle": "2023-07-04T04:53:20.349051Z",
     "shell.execute_reply": "2023-07-04T04:53:20.348513Z",
     "shell.execute_reply.started": "2023-07-04T04:53:20.334515Z"
    },
    "tags": []
   },
   "outputs": [
    {
     "data": {
      "text/plain": [
       "0.16008022602499214"
      ]
     },
     "execution_count": 13,
     "metadata": {},
     "output_type": "execute_result"
    }
   ],
   "source": [
    "log_loss(y_train, pipeline.predict_proba(x_train))"
   ]
  },
  {
   "cell_type": "code",
   "execution_count": 14,
   "id": "2da897e0-57d6-4a67-9998-30c903465eb3",
   "metadata": {
    "execution": {
     "iopub.execute_input": "2023-07-04T04:53:20.350465Z",
     "iopub.status.busy": "2023-07-04T04:53:20.350120Z",
     "iopub.status.idle": "2023-07-04T04:53:21.925103Z",
     "shell.execute_reply": "2023-07-04T04:53:21.924418Z",
     "shell.execute_reply.started": "2023-07-04T04:53:20.350438Z"
    },
    "tags": []
   },
   "outputs": [
    {
     "data": {
      "text/plain": [
       "array([-0.26179176, -0.24844446, -0.58985217, -0.25304711, -0.42036003])"
      ]
     },
     "execution_count": 14,
     "metadata": {},
     "output_type": "execute_result"
    }
   ],
   "source": [
    "cv_scores = cross_val_score(pipeline, x_train, y_train, cv=5, scoring='neg_log_loss')\n",
    "cv_scores"
   ]
  },
  {
   "cell_type": "code",
   "execution_count": 15,
   "id": "549c0ce0-3127-4358-b5a7-eef3b1a54987",
   "metadata": {
    "execution": {
     "iopub.execute_input": "2023-07-04T04:53:21.926251Z",
     "iopub.status.busy": "2023-07-04T04:53:21.925993Z",
     "iopub.status.idle": "2023-07-04T04:53:21.930347Z",
     "shell.execute_reply": "2023-07-04T04:53:21.929669Z",
     "shell.execute_reply.started": "2023-07-04T04:53:21.926230Z"
    }
   },
   "outputs": [
    {
     "data": {
      "text/plain": [
       "(-0.3546991070340024, 0.13406212942824208)"
      ]
     },
     "execution_count": 15,
     "metadata": {},
     "output_type": "execute_result"
    }
   ],
   "source": [
    "cv_scores.mean(), cv_scores.std()"
   ]
  },
  {
   "cell_type": "code",
   "execution_count": 16,
   "id": "8c8c3cc9-63aa-48cb-a543-c8618ec1e067",
   "metadata": {
    "execution": {
     "iopub.execute_input": "2023-07-04T04:53:21.931690Z",
     "iopub.status.busy": "2023-07-04T04:53:21.931424Z",
     "iopub.status.idle": "2023-07-04T04:53:22.199780Z",
     "shell.execute_reply": "2023-07-04T04:53:22.199175Z",
     "shell.execute_reply.started": "2023-07-04T04:53:21.931664Z"
    },
    "tags": []
   },
   "outputs": [],
   "source": [
    "final_model = pipeline.fit(all_train, all_test)"
   ]
  },
  {
   "cell_type": "code",
   "execution_count": 17,
   "id": "b4ba74a1-22ce-43b5-ab3b-758eccdcfc7d",
   "metadata": {
    "execution": {
     "iopub.execute_input": "2023-07-04T04:53:22.201110Z",
     "iopub.status.busy": "2023-07-04T04:53:22.200830Z",
     "iopub.status.idle": "2023-07-04T04:53:22.209498Z",
     "shell.execute_reply": "2023-07-04T04:53:22.208830Z",
     "shell.execute_reply.started": "2023-07-04T04:53:22.201082Z"
    },
    "tags": []
   },
   "outputs": [],
   "source": [
    "submission_df = pd.DataFrame(pipeline.predict_proba(final_test_df), \n",
    "                             index=final_test_df.index,\n",
    "                             columns=['class_0', 'class_1'])"
   ]
  },
  {
   "cell_type": "code",
   "execution_count": 18,
   "id": "c0faa8ca-f1d5-46ef-81b2-74681f6c88c7",
   "metadata": {
    "execution": {
     "iopub.execute_input": "2023-07-04T04:53:22.210790Z",
     "iopub.status.busy": "2023-07-04T04:53:22.210440Z",
     "iopub.status.idle": "2023-07-04T04:53:22.226390Z",
     "shell.execute_reply": "2023-07-04T04:53:22.225817Z",
     "shell.execute_reply.started": "2023-07-04T04:53:22.210768Z"
    },
    "tags": []
   },
   "outputs": [
    {
     "data": {
      "text/html": [
       "<div>\n",
       "<style scoped>\n",
       "    .dataframe tbody tr th:only-of-type {\n",
       "        vertical-align: middle;\n",
       "    }\n",
       "\n",
       "    .dataframe tbody tr th {\n",
       "        vertical-align: top;\n",
       "    }\n",
       "\n",
       "    .dataframe thead th {\n",
       "        text-align: right;\n",
       "    }\n",
       "</style>\n",
       "<table border=\"1\" class=\"dataframe\">\n",
       "  <thead>\n",
       "    <tr style=\"text-align: right;\">\n",
       "      <th></th>\n",
       "      <th>class_0</th>\n",
       "      <th>class_1</th>\n",
       "    </tr>\n",
       "    <tr>\n",
       "      <th>Id</th>\n",
       "      <th></th>\n",
       "      <th></th>\n",
       "    </tr>\n",
       "  </thead>\n",
       "  <tbody>\n",
       "    <tr>\n",
       "      <th>00eed32682bb</th>\n",
       "      <td>1.0</td>\n",
       "      <td>0.0</td>\n",
       "    </tr>\n",
       "    <tr>\n",
       "      <th>010ebe33f668</th>\n",
       "      <td>1.0</td>\n",
       "      <td>0.0</td>\n",
       "    </tr>\n",
       "    <tr>\n",
       "      <th>02fa521e1838</th>\n",
       "      <td>1.0</td>\n",
       "      <td>0.0</td>\n",
       "    </tr>\n",
       "    <tr>\n",
       "      <th>040e15f562a2</th>\n",
       "      <td>1.0</td>\n",
       "      <td>0.0</td>\n",
       "    </tr>\n",
       "    <tr>\n",
       "      <th>046e85c7cc7f</th>\n",
       "      <td>1.0</td>\n",
       "      <td>0.0</td>\n",
       "    </tr>\n",
       "  </tbody>\n",
       "</table>\n",
       "</div>"
      ],
      "text/plain": [
       "              class_0  class_1\n",
       "Id                            \n",
       "00eed32682bb      1.0      0.0\n",
       "010ebe33f668      1.0      0.0\n",
       "02fa521e1838      1.0      0.0\n",
       "040e15f562a2      1.0      0.0\n",
       "046e85c7cc7f      1.0      0.0"
      ]
     },
     "execution_count": 18,
     "metadata": {},
     "output_type": "execute_result"
    }
   ],
   "source": [
    "submission_df"
   ]
  },
  {
   "cell_type": "code",
   "execution_count": 19,
   "id": "0248416b-b58f-43d9-bfe9-ee404bd6ca2c",
   "metadata": {
    "execution": {
     "iopub.execute_input": "2023-07-04T04:53:22.227353Z",
     "iopub.status.busy": "2023-07-04T04:53:22.227154Z",
     "iopub.status.idle": "2023-07-04T04:53:22.238943Z",
     "shell.execute_reply": "2023-07-04T04:53:22.238443Z",
     "shell.execute_reply.started": "2023-07-04T04:53:22.227334Z"
    },
    "tags": []
   },
   "outputs": [],
   "source": [
    "submission_df.to_csv(f'{base_path}/submission.csv')"
   ]
  }
 ],
 "metadata": {
  "kernelspec": {
   "display_name": "azureml_py38_PT_and_TF",
   "language": "python",
   "name": "conda-env-azureml_py38_PT_and_TF-py"
  },
  "language_info": {
   "codemirror_mode": {
    "name": "ipython",
    "version": 3
   },
   "file_extension": ".py",
   "mimetype": "text/x-python",
   "name": "python",
   "nbconvert_exporter": "python",
   "pygments_lexer": "ipython3",
   "version": "3.8.5"
  }
 },
 "nbformat": 4,
 "nbformat_minor": 5
}
