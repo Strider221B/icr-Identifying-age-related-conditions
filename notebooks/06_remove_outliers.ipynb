{
 "cells": [
  {
   "cell_type": "code",
   "execution_count": 1,
   "id": "456ad55e-a7e1-40c9-a026-67ccd5b13f97",
   "metadata": {
    "execution": {
     "iopub.execute_input": "2023-07-05T17:33:50.830221Z",
     "iopub.status.busy": "2023-07-05T17:33:50.829586Z",
     "iopub.status.idle": "2023-07-05T17:33:50.837593Z",
     "shell.execute_reply": "2023-07-05T17:33:50.837086Z",
     "shell.execute_reply.started": "2023-07-05T17:33:50.830191Z"
    }
   },
   "outputs": [],
   "source": [
    "import os\n",
    "os.chdir('./../')"
   ]
  },
  {
   "cell_type": "code",
   "execution_count": 2,
   "id": "67f781b7-82a3-40e1-9182-7f0ce311da35",
   "metadata": {
    "execution": {
     "iopub.execute_input": "2023-07-05T17:33:51.027122Z",
     "iopub.status.busy": "2023-07-05T17:33:51.026419Z",
     "iopub.status.idle": "2023-07-05T17:33:51.913419Z",
     "shell.execute_reply": "2023-07-05T17:33:51.912861Z",
     "shell.execute_reply.started": "2023-07-05T17:33:51.027088Z"
    }
   },
   "outputs": [
    {
     "name": "stderr",
     "output_type": "stream",
     "text": [
      "<frozen importlib._bootstrap>:219: RuntimeWarning: scipy._lib.messagestream.MessageStream size changed, may indicate binary incompatibility. Expected 56 from C header, got 64 from PyObject\n"
     ]
    }
   ],
   "source": [
    "import joblib\n",
    "import numpy as np\n",
    "import optuna\n",
    "import pandas as pd\n",
    "from sklearn.ensemble import GradientBoostingClassifier, RandomForestClassifier\n",
    "from sklearn.experimental import enable_iterative_imputer\n",
    "from sklearn.impute import IterativeImputer\n",
    "from sklearn.linear_model import LogisticRegression\n",
    "from sklearn.metrics import log_loss\n",
    "from sklearn.model_selection import cross_val_score, train_test_split\n",
    "from sklearn.svm import SVC\n",
    "from sklearn.pipeline import make_pipeline\n",
    "from sklearn.preprocessing import PowerTransformer"
   ]
  },
  {
   "cell_type": "code",
   "execution_count": 3,
   "id": "7948edc5-8354-4b78-9a7c-cda5dce8cd89",
   "metadata": {
    "execution": {
     "iopub.execute_input": "2023-07-05T17:33:51.915782Z",
     "iopub.status.busy": "2023-07-05T17:33:51.914928Z",
     "iopub.status.idle": "2023-07-05T17:33:51.918680Z",
     "shell.execute_reply": "2023-07-05T17:33:51.918150Z",
     "shell.execute_reply.started": "2023-07-05T17:33:51.915749Z"
    }
   },
   "outputs": [],
   "source": [
    "base_path = './data'"
   ]
  },
  {
   "cell_type": "code",
   "execution_count": 4,
   "id": "7c5bf4d6-2436-493e-bf2d-5d0c4d201b09",
   "metadata": {
    "execution": {
     "iopub.execute_input": "2023-07-05T17:33:51.919489Z",
     "iopub.status.busy": "2023-07-05T17:33:51.919330Z",
     "iopub.status.idle": "2023-07-05T17:33:51.943300Z",
     "shell.execute_reply": "2023-07-05T17:33:51.942672Z",
     "shell.execute_reply.started": "2023-07-05T17:33:51.919476Z"
    }
   },
   "outputs": [],
   "source": [
    "all_df = pd.read_csv(f'{base_path}/train.csv', index_col=0)\n",
    "final_test_df = pd.read_csv(f'{base_path}/test.csv', index_col=0)"
   ]
  },
  {
   "cell_type": "code",
   "execution_count": 5,
   "id": "c62eeb02-74e4-41c7-b5a9-dc113a811667",
   "metadata": {
    "execution": {
     "iopub.execute_input": "2023-07-05T17:33:51.944765Z",
     "iopub.status.busy": "2023-07-05T17:33:51.944166Z",
     "iopub.status.idle": "2023-07-05T17:33:51.948530Z",
     "shell.execute_reply": "2023-07-05T17:33:51.948024Z",
     "shell.execute_reply.started": "2023-07-05T17:33:51.944732Z"
    }
   },
   "outputs": [],
   "source": [
    "all_train = all_df.loc[:, all_df.columns != 'Class']\n",
    "all_test = all_df.loc[:, 'Class']"
   ]
  },
  {
   "cell_type": "code",
   "execution_count": 6,
   "id": "c609058e-0ba4-4241-bc34-04d94f308289",
   "metadata": {
    "execution": {
     "iopub.execute_input": "2023-07-05T17:33:51.950027Z",
     "iopub.status.busy": "2023-07-05T17:33:51.949834Z",
     "iopub.status.idle": "2023-07-05T17:33:51.959495Z",
     "shell.execute_reply": "2023-07-05T17:33:51.958915Z",
     "shell.execute_reply.started": "2023-07-05T17:33:51.950013Z"
    }
   },
   "outputs": [],
   "source": [
    "x_train, x_test, y_train, y_test = train_test_split(all_train, \n",
    "                                                    all_test, \n",
    "                                                    random_state=42)"
   ]
  },
  {
   "cell_type": "code",
   "execution_count": 7,
   "id": "0810ea3d-e596-48c2-b1d4-820e7496ff24",
   "metadata": {
    "execution": {
     "iopub.execute_input": "2023-07-05T17:33:51.961678Z",
     "iopub.status.busy": "2023-07-05T17:33:51.961205Z",
     "iopub.status.idle": "2023-07-05T17:33:51.969523Z",
     "shell.execute_reply": "2023-07-05T17:33:51.968899Z",
     "shell.execute_reply.started": "2023-07-05T17:33:51.961658Z"
    }
   },
   "outputs": [],
   "source": [
    "index_of_ej = list(x_train.columns).index('EJ')"
   ]
  },
  {
   "cell_type": "code",
   "execution_count": 8,
   "id": "ee208aad-890e-4ed6-bd3f-69fa1bc3030e",
   "metadata": {
    "execution": {
     "iopub.execute_input": "2023-07-05T17:33:51.970928Z",
     "iopub.status.busy": "2023-07-05T17:33:51.970655Z",
     "iopub.status.idle": "2023-07-05T17:33:51.979206Z",
     "shell.execute_reply": "2023-07-05T17:33:51.978658Z",
     "shell.execute_reply.started": "2023-07-05T17:33:51.970902Z"
    }
   },
   "outputs": [],
   "source": [
    "class CategoricalTransformer:\n",
    "    \n",
    "    def __init__(self, index_of_col):\n",
    "        self._index_of_col = index_of_col\n",
    "        self._a = None\n",
    "        self._b = None\n",
    "    \n",
    "    def fit(self, x, y):\n",
    "        if isinstance(x, pd.DataFrame):\n",
    "            x = x.values\n",
    "        self._a = y[x[:, self._index_of_col] == 'A'].mean()\n",
    "        self._b = y[x[:, self._index_of_col] == 'B'].mean()\n",
    "    \n",
    "    def transform(self, x):\n",
    "        if isinstance(x, pd.DataFrame):\n",
    "            x = x.values\n",
    "        x[:, self._index_of_col] = np.where(x[:, self._index_of_col] == 'A', self._a, self._b)\n",
    "        return x\n",
    "        \n",
    "    def fit_transform(self, x, y):\n",
    "        self.fit(x, y)\n",
    "        return self.transform(x)"
   ]
  },
  {
   "cell_type": "code",
   "execution_count": 9,
   "id": "b20351a1-2270-49b5-bf32-a049edba4a05",
   "metadata": {
    "execution": {
     "iopub.execute_input": "2023-07-05T17:33:51.980640Z",
     "iopub.status.busy": "2023-07-05T17:33:51.980149Z",
     "iopub.status.idle": "2023-07-05T17:33:51.990250Z",
     "shell.execute_reply": "2023-07-05T17:33:51.989779Z",
     "shell.execute_reply.started": "2023-07-05T17:33:51.980612Z"
    }
   },
   "outputs": [],
   "source": [
    "class OutlierRemover:\n",
    "    \n",
    "    def __init__(self):\n",
    "        self._lower_lims = {}\n",
    "        self._upper_lims = {}\n",
    "    \n",
    "    def fit(self, x, y):\n",
    "        for i in range(x.shape[1]):\n",
    "            data = x[:, i].copy()\n",
    "            mean = data.mean()\n",
    "            std = data.std()\n",
    "            self._lower_lims[i] = mean - 6*std\n",
    "            self._upper_lims[i] = mean + 6*std\n",
    "    \n",
    "    def transform(self, x):\n",
    "        for i in range(x.shape[1]):\n",
    "            x[:, i] = np.where(((x[:, i] > self._upper_lims[i]) | (x[:, i] < self._lower_lims[i])), np.nan, x[:, i])\n",
    "        return x\n",
    "        \n",
    "    def fit_transform(self, x, y):\n",
    "        self.fit(x, y)\n",
    "        return self.transform(x)"
   ]
  },
  {
   "cell_type": "code",
   "execution_count": 10,
   "id": "4dc05363-6991-4765-80df-bb45550362e4",
   "metadata": {
    "execution": {
     "iopub.execute_input": "2023-07-05T17:33:51.991395Z",
     "iopub.status.busy": "2023-07-05T17:33:51.991135Z",
     "iopub.status.idle": "2023-07-05T17:33:52.001569Z",
     "shell.execute_reply": "2023-07-05T17:33:52.001035Z",
     "shell.execute_reply.started": "2023-07-05T17:33:51.991371Z"
    }
   },
   "outputs": [],
   "source": [
    "svc_pipeline = make_pipeline(CategoricalTransformer(index_of_ej), \n",
    "                             OutlierRemover(),\n",
    "                             IterativeImputer(initial_strategy='median'),\n",
    "                             PowerTransformer(),\n",
    "                             SVC(probability=True, random_state=42))"
   ]
  },
  {
   "cell_type": "code",
   "execution_count": 11,
   "id": "356d3b1a-3d2c-4780-89e7-7efe935515c5",
   "metadata": {
    "execution": {
     "iopub.execute_input": "2023-07-05T17:33:52.002357Z",
     "iopub.status.busy": "2023-07-05T17:33:52.002199Z",
     "iopub.status.idle": "2023-07-05T17:33:54.628829Z",
     "shell.execute_reply": "2023-07-05T17:33:54.628183Z",
     "shell.execute_reply.started": "2023-07-05T17:33:52.002343Z"
    }
   },
   "outputs": [
    {
     "data": {
      "text/plain": [
       "array([-0.20314225, -0.16314338, -0.3751    , -0.1582064 , -0.28970652])"
      ]
     },
     "execution_count": 11,
     "metadata": {},
     "output_type": "execute_result"
    }
   ],
   "source": [
    "cv_scores = cross_val_score(svc_pipeline, x_train, y_train, cv=5, scoring='neg_log_loss')\n",
    "cv_scores"
   ]
  },
  {
   "cell_type": "code",
   "execution_count": 12,
   "id": "9e0ef095-6244-4a65-bd63-805506e735d8",
   "metadata": {
    "execution": {
     "iopub.execute_input": "2023-07-05T17:33:54.630119Z",
     "iopub.status.busy": "2023-07-05T17:33:54.629886Z",
     "iopub.status.idle": "2023-07-05T17:33:54.633620Z",
     "shell.execute_reply": "2023-07-05T17:33:54.632951Z",
     "shell.execute_reply.started": "2023-07-05T17:33:54.630099Z"
    }
   },
   "outputs": [],
   "source": [
    "rf_pipeline = make_pipeline(CategoricalTransformer(index_of_ej), \n",
    "                            OutlierRemover(),\n",
    "                            IterativeImputer(initial_strategy='median'),\n",
    "                            RandomForestClassifier(random_state=42))"
   ]
  },
  {
   "cell_type": "code",
   "execution_count": 13,
   "id": "d8b01391-37e0-4bfd-9f42-eb130eba2599",
   "metadata": {
    "execution": {
     "iopub.execute_input": "2023-07-05T17:33:54.634668Z",
     "iopub.status.busy": "2023-07-05T17:33:54.634465Z",
     "iopub.status.idle": "2023-07-05T17:33:57.475427Z",
     "shell.execute_reply": "2023-07-05T17:33:57.474817Z",
     "shell.execute_reply.started": "2023-07-05T17:33:54.634650Z"
    }
   },
   "outputs": [
    {
     "data": {
      "text/plain": [
       "array([-0.23712174, -0.24068814, -0.31638874, -0.22337477, -0.26578255])"
      ]
     },
     "execution_count": 13,
     "metadata": {},
     "output_type": "execute_result"
    }
   ],
   "source": [
    "cv_scores = cross_val_score(rf_pipeline, x_train, y_train, cv=5, scoring='neg_log_loss')\n",
    "cv_scores"
   ]
  },
  {
   "cell_type": "code",
   "execution_count": 14,
   "id": "e969e42b-96c6-45d8-919a-0663bc87f1b4",
   "metadata": {
    "execution": {
     "iopub.execute_input": "2023-07-05T17:33:57.476356Z",
     "iopub.status.busy": "2023-07-05T17:33:57.476152Z",
     "iopub.status.idle": "2023-07-05T17:33:57.479522Z",
     "shell.execute_reply": "2023-07-05T17:33:57.478995Z",
     "shell.execute_reply.started": "2023-07-05T17:33:57.476334Z"
    }
   },
   "outputs": [],
   "source": [
    "gb_pipeline = make_pipeline(CategoricalTransformer(index_of_ej), \n",
    "                            OutlierRemover(),\n",
    "                            IterativeImputer(initial_strategy='median'),\n",
    "                            GradientBoostingClassifier(random_state=42))"
   ]
  },
  {
   "cell_type": "code",
   "execution_count": 15,
   "id": "973f53f4-feff-46d6-8b82-7072f336de34",
   "metadata": {
    "execution": {
     "iopub.execute_input": "2023-07-05T17:33:57.481445Z",
     "iopub.status.busy": "2023-07-05T17:33:57.481264Z",
     "iopub.status.idle": "2023-07-05T17:34:01.242914Z",
     "shell.execute_reply": "2023-07-05T17:34:01.242218Z",
     "shell.execute_reply.started": "2023-07-05T17:33:57.481430Z"
    }
   },
   "outputs": [
    {
     "data": {
      "text/plain": [
       "array([-0.1612475 , -0.19537146, -0.3971608 , -0.15972658, -0.2568481 ])"
      ]
     },
     "execution_count": 15,
     "metadata": {},
     "output_type": "execute_result"
    }
   ],
   "source": [
    "cv_scores = cross_val_score(gb_pipeline, x_train, y_train, cv=5, scoring='neg_log_loss')\n",
    "cv_scores"
   ]
  },
  {
   "cell_type": "code",
   "execution_count": 16,
   "id": "1b093116-b733-4097-ab65-07aa5fa633ca",
   "metadata": {
    "execution": {
     "iopub.execute_input": "2023-07-05T17:34:01.244546Z",
     "iopub.status.busy": "2023-07-05T17:34:01.243979Z",
     "iopub.status.idle": "2023-07-05T17:34:01.250983Z",
     "shell.execute_reply": "2023-07-05T17:34:01.250314Z",
     "shell.execute_reply.started": "2023-07-05T17:34:01.244516Z"
    }
   },
   "outputs": [],
   "source": [
    "def objective(trial):\n",
    "    x, y = x_train, y_train\n",
    "\n",
    "    classifier_name = trial.suggest_categorical(\"classifier\", [\"RF\"])\n",
    "    if classifier_name == \"SVC\":\n",
    "        svc_c = trial.suggest_float(\"svc_c\", 1e-10, 1e10, log=True)\n",
    "        svc_algo = trial.suggest_categorical(\"svc_algo\", ['poly', 'rbf', 'sigmoid'])\n",
    "        classifier_obj = make_pipeline(CategoricalTransformer(index_of_ej), \n",
    "                                       OutlierRemover(),\n",
    "                                       IterativeImputer(initial_strategy='median'),\n",
    "                                       PowerTransformer(),\n",
    "                                       SVC(C=svc_c, kernel=svc_algo, random_state=42, probability=True))\n",
    "    elif classifier_name == 'RF':\n",
    "        rf_max_depth = trial.suggest_int(\"rf_max_depth\", 2, 32, log=True)\n",
    "        rf_estimators = trial.suggest_int(\"rf_estimators\", 10, 1000, log=True)\n",
    "        rf_criterion = trial.suggest_categorical(\"rf_criterion\", ['gini', 'entropy'])\n",
    "        classifier_obj = make_pipeline(CategoricalTransformer(index_of_ej),  \n",
    "                                       OutlierRemover(),\n",
    "                                       IterativeImputer(initial_strategy='median'),\n",
    "                                       RandomForestClassifier(max_depth=rf_max_depth,  \n",
    "                                                              criterion=rf_criterion,\n",
    "                                                              n_estimators=rf_estimators,\n",
    "                                                              random_state=42))\n",
    "    else:\n",
    "        gb_max_depth = trial.suggest_int(\"gb_max_depth\", 2, 32, log=True)\n",
    "        gb_estimators = trial.suggest_int(\"gb_estimators\", 10, 1000, log=True)\n",
    "        gb_criterion = trial.suggest_categorical(\"gb_criterion\", ['friedman_mse', 'squared_error'])\n",
    "        classifier_obj = make_pipeline(CategoricalTransformer(index_of_ej), \n",
    "                                       OutlierRemover(),\n",
    "                                       IterativeImputer(initial_strategy='median'),\n",
    "                                       GradientBoostingClassifier(max_depth=gb_max_depth,  \n",
    "                                                                  criterion=gb_criterion,\n",
    "                                                                  n_estimators=gb_estimators,\n",
    "                                                                  random_state=42))\n",
    "\n",
    "    score = cross_val_score(classifier_obj, x, y, n_jobs=-1, cv=5, scoring='neg_log_loss')\n",
    "    accuracy = score.min()\n",
    "    return accuracy"
   ]
  },
  {
   "cell_type": "code",
   "execution_count": 17,
   "id": "a3b273fe-7d01-4e79-a64b-465f0e4a8ec4",
   "metadata": {
    "execution": {
     "iopub.execute_input": "2023-07-05T17:34:01.253176Z",
     "iopub.status.busy": "2023-07-05T17:34:01.252662Z",
     "iopub.status.idle": "2023-07-05T17:38:00.888767Z",
     "shell.execute_reply": "2023-07-05T17:38:00.888172Z",
     "shell.execute_reply.started": "2023-07-05T17:34:01.253158Z"
    }
   },
   "outputs": [
    {
     "name": "stderr",
     "output_type": "stream",
     "text": [
      "[I 2023-07-05 17:34:01,267] A new study created in memory with name: no-name-834efac1-fff6-48fd-9ad1-52bfb4fe70ee\n",
      "[I 2023-07-05 17:34:04,343] Trial 0 finished with value: -0.31727899963711215 and parameters: {'classifier': 'RF', 'rf_max_depth': 22, 'rf_estimators': 102, 'rf_criterion': 'entropy'}. Best is trial 0 with value: -0.31727899963711215.\n",
      "[I 2023-07-05 17:34:05,670] Trial 1 finished with value: -0.3514347133065879 and parameters: {'classifier': 'RF', 'rf_max_depth': 3, 'rf_estimators': 88, 'rf_criterion': 'gini'}. Best is trial 0 with value: -0.31727899963711215.\n",
      "[I 2023-07-05 17:34:07,336] Trial 2 finished with value: -0.3228992630528764 and parameters: {'classifier': 'RF', 'rf_max_depth': 6, 'rf_estimators': 174, 'rf_criterion': 'gini'}. Best is trial 0 with value: -0.31727899963711215.\n",
      "[I 2023-07-05 17:34:08,783] Trial 3 finished with value: -0.31691897638487 and parameters: {'classifier': 'RF', 'rf_max_depth': 29, 'rf_estimators': 101, 'rf_criterion': 'gini'}. Best is trial 3 with value: -0.31691897638487.\n",
      "[I 2023-07-05 17:34:09,905] Trial 4 finished with value: -0.3714210258823927 and parameters: {'classifier': 'RF', 'rf_max_depth': 3, 'rf_estimators': 20, 'rf_criterion': 'entropy'}. Best is trial 3 with value: -0.31691897638487.\n",
      "[I 2023-07-05 17:34:11,288] Trial 5 finished with value: -0.319254013062576 and parameters: {'classifier': 'RF', 'rf_max_depth': 6, 'rf_estimators': 99, 'rf_criterion': 'gini'}. Best is trial 3 with value: -0.31691897638487.\n",
      "[I 2023-07-05 17:34:13,612] Trial 6 finished with value: -0.33488136396715373 and parameters: {'classifier': 'RF', 'rf_max_depth': 4, 'rf_estimators': 354, 'rf_criterion': 'entropy'}. Best is trial 3 with value: -0.31691897638487.\n",
      "[I 2023-07-05 17:34:14,724] Trial 7 finished with value: -1.0169375865882224 and parameters: {'classifier': 'RF', 'rf_max_depth': 11, 'rf_estimators': 11, 'rf_criterion': 'entropy'}. Best is trial 3 with value: -0.31691897638487.\n",
      "[I 2023-07-05 17:34:15,868] Trial 8 finished with value: -0.34911790343105964 and parameters: {'classifier': 'RF', 'rf_max_depth': 5, 'rf_estimators': 20, 'rf_criterion': 'gini'}. Best is trial 3 with value: -0.31691897638487.\n",
      "[I 2023-07-05 17:34:17,229] Trial 9 finished with value: -0.3257278837475953 and parameters: {'classifier': 'RF', 'rf_max_depth': 17, 'rf_estimators': 81, 'rf_criterion': 'gini'}. Best is trial 3 with value: -0.31691897638487.\n",
      "[I 2023-07-05 17:34:21,301] Trial 10 finished with value: -0.3158851432105576 and parameters: {'classifier': 'RF', 'rf_max_depth': 28, 'rf_estimators': 812, 'rf_criterion': 'gini'}. Best is trial 10 with value: -0.3158851432105576.\n",
      "[I 2023-07-05 17:34:26,183] Trial 11 finished with value: -0.31548341290936316 and parameters: {'classifier': 'RF', 'rf_max_depth': 32, 'rf_estimators': 984, 'rf_criterion': 'gini'}. Best is trial 11 with value: -0.31548341290936316.\n",
      "[I 2023-07-05 17:34:30,444] Trial 12 finished with value: -0.3163585453425861 and parameters: {'classifier': 'RF', 'rf_max_depth': 29, 'rf_estimators': 863, 'rf_criterion': 'gini'}. Best is trial 11 with value: -0.31548341290936316.\n",
      "[I 2023-07-05 17:34:35,205] Trial 13 finished with value: -0.3164451895607872 and parameters: {'classifier': 'RF', 'rf_max_depth': 14, 'rf_estimators': 975, 'rf_criterion': 'gini'}. Best is trial 11 with value: -0.31548341290936316.\n",
      "[I 2023-07-05 17:34:38,136] Trial 14 finished with value: -0.3150414807824763 and parameters: {'classifier': 'RF', 'rf_max_depth': 32, 'rf_estimators': 501, 'rf_criterion': 'gini'}. Best is trial 14 with value: -0.3150414807824763.\n",
      "[I 2023-07-05 17:34:40,671] Trial 15 finished with value: -0.3215055621653026 and parameters: {'classifier': 'RF', 'rf_max_depth': 10, 'rf_estimators': 385, 'rf_criterion': 'gini'}. Best is trial 14 with value: -0.3150414807824763.\n",
      "[I 2023-07-05 17:34:43,453] Trial 16 finished with value: -0.318513549429663 and parameters: {'classifier': 'RF', 'rf_max_depth': 19, 'rf_estimators': 446, 'rf_criterion': 'gini'}. Best is trial 14 with value: -0.3150414807824763.\n",
      "[I 2023-07-05 17:34:46,494] Trial 17 finished with value: -0.3131520504573051 and parameters: {'classifier': 'RF', 'rf_max_depth': 32, 'rf_estimators': 532, 'rf_criterion': 'gini'}. Best is trial 17 with value: -0.3131520504573051.\n",
      "[I 2023-07-05 17:34:49,551] Trial 18 finished with value: -0.3082344196958427 and parameters: {'classifier': 'RF', 'rf_max_depth': 9, 'rf_estimators': 518, 'rf_criterion': 'entropy'}. Best is trial 18 with value: -0.3082344196958427.\n",
      "[I 2023-07-05 17:34:51,334] Trial 19 finished with value: -0.37199779220607615 and parameters: {'classifier': 'RF', 'rf_max_depth': 2, 'rf_estimators': 244, 'rf_criterion': 'entropy'}. Best is trial 18 with value: -0.3082344196958427.\n",
      "[I 2023-07-05 17:34:54,651] Trial 20 finished with value: -0.3082462532626963 and parameters: {'classifier': 'RF', 'rf_max_depth': 9, 'rf_estimators': 576, 'rf_criterion': 'entropy'}. Best is trial 18 with value: -0.3082344196958427.\n",
      "[I 2023-07-05 17:34:57,876] Trial 21 finished with value: -0.3079711281432794 and parameters: {'classifier': 'RF', 'rf_max_depth': 9, 'rf_estimators': 563, 'rf_criterion': 'entropy'}. Best is trial 21 with value: -0.3079711281432794.\n",
      "[I 2023-07-05 17:35:01,366] Trial 22 finished with value: -0.3093055658090709 and parameters: {'classifier': 'RF', 'rf_max_depth': 8, 'rf_estimators': 632, 'rf_criterion': 'entropy'}. Best is trial 21 with value: -0.3079711281432794.\n",
      "[I 2023-07-05 17:35:03,632] Trial 23 finished with value: -0.3057764777981022 and parameters: {'classifier': 'RF', 'rf_max_depth': 8, 'rf_estimators': 278, 'rf_criterion': 'entropy'}. Best is trial 23 with value: -0.3057764777981022.\n",
      "[I 2023-07-05 17:35:05,704] Trial 24 finished with value: -0.30513962462235744 and parameters: {'classifier': 'RF', 'rf_max_depth': 12, 'rf_estimators': 259, 'rf_criterion': 'entropy'}. Best is trial 24 with value: -0.30513962462235744.\n",
      "[I 2023-07-05 17:35:07,804] Trial 25 finished with value: -0.3049706191809695 and parameters: {'classifier': 'RF', 'rf_max_depth': 12, 'rf_estimators': 267, 'rf_criterion': 'entropy'}. Best is trial 25 with value: -0.3049706191809695.\n",
      "[I 2023-07-05 17:35:09,846] Trial 26 finished with value: -0.3047297712906788 and parameters: {'classifier': 'RF', 'rf_max_depth': 13, 'rf_estimators': 250, 'rf_criterion': 'entropy'}. Best is trial 26 with value: -0.3047297712906788.\n",
      "[I 2023-07-05 17:35:11,697] Trial 27 finished with value: -0.3091570258480714 and parameters: {'classifier': 'RF', 'rf_max_depth': 14, 'rf_estimators': 195, 'rf_criterion': 'entropy'}. Best is trial 26 with value: -0.3047297712906788.\n",
      "[I 2023-07-05 17:35:13,502] Trial 28 finished with value: -0.3135213628579918 and parameters: {'classifier': 'RF', 'rf_max_depth': 12, 'rf_estimators': 174, 'rf_criterion': 'entropy'}. Best is trial 26 with value: -0.3047297712906788.\n",
      "[I 2023-07-05 17:35:15,097] Trial 29 finished with value: -0.3159728344458659 and parameters: {'classifier': 'RF', 'rf_max_depth': 21, 'rf_estimators': 136, 'rf_criterion': 'entropy'}. Best is trial 26 with value: -0.3047297712906788.\n",
      "[I 2023-07-05 17:35:17,450] Trial 30 finished with value: -0.30532482077727674 and parameters: {'classifier': 'RF', 'rf_max_depth': 15, 'rf_estimators': 325, 'rf_criterion': 'entropy'}. Best is trial 26 with value: -0.3047297712906788.\n",
      "[I 2023-07-05 17:35:19,732] Trial 31 finished with value: -0.3050202751655496 and parameters: {'classifier': 'RF', 'rf_max_depth': 15, 'rf_estimators': 313, 'rf_criterion': 'entropy'}. Best is trial 26 with value: -0.3047297712906788.\n",
      "[I 2023-07-05 17:35:21,770] Trial 32 finished with value: -0.30582478122342605 and parameters: {'classifier': 'RF', 'rf_max_depth': 12, 'rf_estimators': 240, 'rf_criterion': 'entropy'}. Best is trial 26 with value: -0.3047297712906788.\n",
      "[I 2023-07-05 17:35:24,084] Trial 33 finished with value: -0.30562306888464114 and parameters: {'classifier': 'RF', 'rf_max_depth': 17, 'rf_estimators': 311, 'rf_criterion': 'entropy'}. Best is trial 26 with value: -0.3047297712906788.\n",
      "[I 2023-07-05 17:35:25,693] Trial 34 finished with value: -0.31572565473479225 and parameters: {'classifier': 'RF', 'rf_max_depth': 22, 'rf_estimators': 134, 'rf_criterion': 'entropy'}. Best is trial 26 with value: -0.3047297712906788.\n",
      "[I 2023-07-05 17:35:27,608] Trial 35 finished with value: -0.3073282569042897 and parameters: {'classifier': 'RF', 'rf_max_depth': 13, 'rf_estimators': 217, 'rf_criterion': 'entropy'}. Best is trial 26 with value: -0.3047297712906788.\n",
      "[I 2023-07-05 17:35:30,120] Trial 36 finished with value: -0.3062156472139325 and parameters: {'classifier': 'RF', 'rf_max_depth': 16, 'rf_estimators': 371, 'rf_criterion': 'entropy'}. Best is trial 26 with value: -0.3047297712906788.\n",
      "[I 2023-07-05 17:35:32,249] Trial 37 finished with value: -0.3059920059651599 and parameters: {'classifier': 'RF', 'rf_max_depth': 12, 'rf_estimators': 271, 'rf_criterion': 'entropy'}. Best is trial 26 with value: -0.3047297712906788.\n",
      "[I 2023-07-05 17:35:33,982] Trial 38 finished with value: -0.3144686625089753 and parameters: {'classifier': 'RF', 'rf_max_depth': 11, 'rf_estimators': 164, 'rf_criterion': 'entropy'}. Best is trial 26 with value: -0.3047297712906788.\n",
      "[I 2023-07-05 17:35:36,688] Trial 39 finished with value: -0.30679763224914025 and parameters: {'classifier': 'RF', 'rf_max_depth': 7, 'rf_estimators': 416, 'rf_criterion': 'entropy'}. Best is trial 26 with value: -0.3047297712906788.\n",
      "[I 2023-07-05 17:35:38,967] Trial 40 finished with value: -0.30661227151987847 and parameters: {'classifier': 'RF', 'rf_max_depth': 19, 'rf_estimators': 307, 'rf_criterion': 'entropy'}. Best is trial 26 with value: -0.3047297712906788.\n",
      "[I 2023-07-05 17:35:41,261] Trial 41 finished with value: -0.3053053916018151 and parameters: {'classifier': 'RF', 'rf_max_depth': 15, 'rf_estimators': 314, 'rf_criterion': 'entropy'}. Best is trial 26 with value: -0.3047297712906788.\n",
      "[I 2023-07-05 17:35:43,108] Trial 42 finished with value: -0.3116535644948368 and parameters: {'classifier': 'RF', 'rf_max_depth': 14, 'rf_estimators': 204, 'rf_criterion': 'entropy'}. Best is trial 26 with value: -0.3047297712906788.\n",
      "[I 2023-07-05 17:35:45,656] Trial 43 finished with value: -0.308555119250895 and parameters: {'classifier': 'RF', 'rf_max_depth': 10, 'rf_estimators': 374, 'rf_criterion': 'entropy'}. Best is trial 26 with value: -0.3047297712906788.\n",
      "[I 2023-07-05 17:35:47,748] Trial 44 finished with value: -0.30443679175636845 and parameters: {'classifier': 'RF', 'rf_max_depth': 16, 'rf_estimators': 256, 'rf_criterion': 'entropy'}. Best is trial 44 with value: -0.30443679175636845.\n",
      "[I 2023-07-05 17:35:49,718] Trial 45 finished with value: -0.3068912595473555 and parameters: {'classifier': 'RF', 'rf_max_depth': 24, 'rf_estimators': 235, 'rf_criterion': 'entropy'}. Best is trial 44 with value: -0.30443679175636845.\n",
      "[I 2023-07-05 17:35:51,352] Trial 46 finished with value: -0.31704507494326306 and parameters: {'classifier': 'RF', 'rf_max_depth': 17, 'rf_estimators': 145, 'rf_criterion': 'entropy'}. Best is trial 44 with value: -0.30443679175636845.\n",
      "[I 2023-07-05 17:35:52,855] Trial 47 finished with value: -0.3183357218248582 and parameters: {'classifier': 'RF', 'rf_max_depth': 13, 'rf_estimators': 109, 'rf_criterion': 'entropy'}. Best is trial 44 with value: -0.30443679175636845.\n",
      "[I 2023-07-05 17:35:54,733] Trial 48 finished with value: -0.30921881770857207 and parameters: {'classifier': 'RF', 'rf_max_depth': 18, 'rf_estimators': 194, 'rf_criterion': 'entropy'}. Best is trial 44 with value: -0.30443679175636845.\n",
      "[I 2023-07-05 17:35:57,451] Trial 49 finished with value: -0.30516186531210254 and parameters: {'classifier': 'RF', 'rf_max_depth': 25, 'rf_estimators': 430, 'rf_criterion': 'entropy'}. Best is trial 44 with value: -0.30443679175636845.\n",
      "[I 2023-07-05 17:35:58,863] Trial 50 finished with value: -0.3255106742268534 and parameters: {'classifier': 'RF', 'rf_max_depth': 16, 'rf_estimators': 76, 'rf_criterion': 'entropy'}. Best is trial 44 with value: -0.30443679175636845.\n",
      "[I 2023-07-05 17:36:01,631] Trial 51 finished with value: -0.3066578043008084 and parameters: {'classifier': 'RF', 'rf_max_depth': 21, 'rf_estimators': 446, 'rf_criterion': 'entropy'}. Best is trial 44 with value: -0.30443679175636845.\n",
      "[I 2023-07-05 17:36:05,386] Trial 52 finished with value: -0.31047632049583496 and parameters: {'classifier': 'RF', 'rf_max_depth': 25, 'rf_estimators': 690, 'rf_criterion': 'entropy'}. Best is trial 44 with value: -0.30443679175636845.\n",
      "[I 2023-07-05 17:36:07,491] Trial 53 finished with value: -0.30428902018516873 and parameters: {'classifier': 'RF', 'rf_max_depth': 19, 'rf_estimators': 263, 'rf_criterion': 'entropy'}. Best is trial 53 with value: -0.30428902018516873.\n",
      "[I 2023-07-05 17:36:09,512] Trial 54 finished with value: -0.3050841138923807 and parameters: {'classifier': 'RF', 'rf_max_depth': 20, 'rf_estimators': 249, 'rf_criterion': 'entropy'}. Best is trial 53 with value: -0.30428902018516873.\n",
      "[I 2023-07-05 17:36:11,653] Trial 55 finished with value: -0.3063278951091553 and parameters: {'classifier': 'RF', 'rf_max_depth': 20, 'rf_estimators': 278, 'rf_criterion': 'entropy'}. Best is trial 53 with value: -0.30428902018516873.\n",
      "[I 2023-07-05 17:36:14,030] Trial 56 finished with value: -0.304300026852057 and parameters: {'classifier': 'RF', 'rf_max_depth': 19, 'rf_estimators': 342, 'rf_criterion': 'entropy'}. Best is trial 53 with value: -0.30428902018516873.\n",
      "[I 2023-07-05 17:36:16,479] Trial 57 finished with value: -0.30537933565801884 and parameters: {'classifier': 'RF', 'rf_max_depth': 17, 'rf_estimators': 348, 'rf_criterion': 'entropy'}. Best is trial 53 with value: -0.30428902018516873.\n",
      "[I 2023-07-05 17:36:19,363] Trial 58 finished with value: -0.3167936150661448 and parameters: {'classifier': 'RF', 'rf_max_depth': 18, 'rf_estimators': 492, 'rf_criterion': 'gini'}. Best is trial 53 with value: -0.30428902018516873.\n",
      "[I 2023-07-05 17:36:23,084] Trial 59 finished with value: -0.3101373179096339 and parameters: {'classifier': 'RF', 'rf_max_depth': 15, 'rf_estimators': 697, 'rf_criterion': 'entropy'}. Best is trial 53 with value: -0.30428902018516873.\n",
      "[I 2023-07-05 17:36:25,736] Trial 60 finished with value: -0.3047249687830991 and parameters: {'classifier': 'RF', 'rf_max_depth': 24, 'rf_estimators': 404, 'rf_criterion': 'entropy'}. Best is trial 53 with value: -0.30428902018516873.\n",
      "[I 2023-07-05 17:36:28,231] Trial 61 finished with value: -0.30615800477620153 and parameters: {'classifier': 'RF', 'rf_max_depth': 22, 'rf_estimators': 368, 'rf_criterion': 'entropy'}. Best is trial 53 with value: -0.30428902018516873.\n",
      "[I 2023-07-05 17:36:31,050] Trial 62 finished with value: -0.3070776963841744 and parameters: {'classifier': 'RF', 'rf_max_depth': 24, 'rf_estimators': 459, 'rf_criterion': 'entropy'}. Best is trial 53 with value: -0.30428902018516873.\n",
      "[I 2023-07-05 17:36:33,298] Trial 63 finished with value: -0.3072828095172926 and parameters: {'classifier': 'RF', 'rf_max_depth': 27, 'rf_estimators': 304, 'rf_criterion': 'entropy'}. Best is trial 53 with value: -0.30428902018516873.\n",
      "[I 2023-07-05 17:36:35,265] Trial 64 finished with value: -0.3073282569042897 and parameters: {'classifier': 'RF', 'rf_max_depth': 20, 'rf_estimators': 217, 'rf_criterion': 'entropy'}. Best is trial 53 with value: -0.30428902018516873.\n",
      "[I 2023-07-05 17:36:37,888] Trial 65 finished with value: -0.3051578055698858 and parameters: {'classifier': 'RF', 'rf_max_depth': 18, 'rf_estimators': 401, 'rf_criterion': 'entropy'}. Best is trial 53 with value: -0.30428902018516873.\n",
      "[I 2023-07-05 17:36:40,008] Trial 66 finished with value: -0.3200685098244599 and parameters: {'classifier': 'RF', 'rf_max_depth': 28, 'rf_estimators': 283, 'rf_criterion': 'gini'}. Best is trial 53 with value: -0.30428902018516873.\n",
      "[I 2023-07-05 17:36:42,385] Trial 67 finished with value: -0.3047105690957229 and parameters: {'classifier': 'RF', 'rf_max_depth': 23, 'rf_estimators': 339, 'rf_criterion': 'entropy'}. Best is trial 53 with value: -0.30428902018516873.\n",
      "[I 2023-07-05 17:36:45,457] Trial 68 finished with value: -0.3085567826624129 and parameters: {'classifier': 'RF', 'rf_max_depth': 22, 'rf_estimators': 518, 'rf_criterion': 'entropy'}. Best is trial 53 with value: -0.30428902018516873.\n",
      "[I 2023-07-05 17:36:47,871] Trial 69 finished with value: -0.3051642048781631 and parameters: {'classifier': 'RF', 'rf_max_depth': 27, 'rf_estimators': 347, 'rf_criterion': 'entropy'}. Best is trial 53 with value: -0.30428902018516873.\n",
      "[I 2023-07-05 17:36:49,916] Trial 70 finished with value: -0.3056150173835535 and parameters: {'classifier': 'RF', 'rf_max_depth': 31, 'rf_estimators': 253, 'rf_criterion': 'entropy'}. Best is trial 53 with value: -0.30428902018516873.\n",
      "[I 2023-07-05 17:36:52,316] Trial 71 finished with value: -0.3046286293102254 and parameters: {'classifier': 'RF', 'rf_max_depth': 19, 'rf_estimators': 344, 'rf_criterion': 'entropy'}. Best is trial 53 with value: -0.30428902018516873.\n",
      "[I 2023-07-05 17:36:54,917] Trial 72 finished with value: -0.30568307867431577 and parameters: {'classifier': 'RF', 'rf_max_depth': 19, 'rf_estimators': 398, 'rf_criterion': 'entropy'}. Best is trial 53 with value: -0.30428902018516873.\n",
      "[I 2023-07-05 17:36:57,256] Trial 73 finished with value: -0.30449371353080174 and parameters: {'classifier': 'RF', 'rf_max_depth': 22, 'rf_estimators': 330, 'rf_criterion': 'entropy'}. Best is trial 53 with value: -0.30428902018516873.\n",
      "[I 2023-07-05 17:37:00,571] Trial 74 finished with value: -0.30931204991289846 and parameters: {'classifier': 'RF', 'rf_max_depth': 23, 'rf_estimators': 586, 'rf_criterion': 'entropy'}. Best is trial 53 with value: -0.30428902018516873.\n",
      "[I 2023-07-05 17:37:03,504] Trial 75 finished with value: -0.30711926382413945 and parameters: {'classifier': 'RF', 'rf_max_depth': 25, 'rf_estimators': 475, 'rf_criterion': 'entropy'}. Best is trial 53 with value: -0.30428902018516873.\n",
      "[I 2023-07-05 17:37:05,484] Trial 76 finished with value: -0.32023844438794524 and parameters: {'classifier': 'RF', 'rf_max_depth': 22, 'rf_estimators': 233, 'rf_criterion': 'gini'}. Best is trial 53 with value: -0.30428902018516873.\n",
      "[I 2023-07-05 17:37:07,836] Trial 77 finished with value: -0.3052821116891668 and parameters: {'classifier': 'RF', 'rf_max_depth': 30, 'rf_estimators': 336, 'rf_criterion': 'entropy'}. Best is trial 53 with value: -0.30428902018516873.\n",
      "[I 2023-07-05 17:37:10,444] Trial 78 finished with value: -0.30526320850933714 and parameters: {'classifier': 'RF', 'rf_max_depth': 27, 'rf_estimators': 402, 'rf_criterion': 'entropy'}. Best is trial 53 with value: -0.30428902018516873.\n",
      "[I 2023-07-05 17:37:12,659] Trial 79 finished with value: -0.30679152849103747 and parameters: {'classifier': 'RF', 'rf_max_depth': 20, 'rf_estimators': 290, 'rf_criterion': 'entropy'}. Best is trial 53 with value: -0.30428902018516873.\n",
      "[I 2023-07-05 17:37:15,078] Trial 80 finished with value: -0.30467456376251645 and parameters: {'classifier': 'RF', 'rf_max_depth': 16, 'rf_estimators': 345, 'rf_criterion': 'entropy'}. Best is trial 53 with value: -0.30428902018516873.\n",
      "[I 2023-07-05 17:37:17,430] Trial 81 finished with value: -0.3056598024082671 and parameters: {'classifier': 'RF', 'rf_max_depth': 16, 'rf_estimators': 335, 'rf_criterion': 'entropy'}. Best is trial 53 with value: -0.30428902018516873.\n",
      "[I 2023-07-05 17:37:20,285] Trial 82 finished with value: -0.3063503307008356 and parameters: {'classifier': 'RF', 'rf_max_depth': 19, 'rf_estimators': 442, 'rf_criterion': 'entropy'}. Best is trial 53 with value: -0.30428902018516873.\n",
      "[I 2023-07-05 17:37:22,768] Trial 83 finished with value: -0.30641476755376085 and parameters: {'classifier': 'RF', 'rf_max_depth': 23, 'rf_estimators': 367, 'rf_criterion': 'entropy'}. Best is trial 53 with value: -0.30428902018516873.\n",
      "[I 2023-07-05 17:37:24,887] Trial 84 finished with value: -0.30553472375355484 and parameters: {'classifier': 'RF', 'rf_max_depth': 18, 'rf_estimators': 272, 'rf_criterion': 'entropy'}. Best is trial 53 with value: -0.30428902018516873.\n",
      "[I 2023-07-05 17:37:28,141] Trial 85 finished with value: -0.30801658515212305 and parameters: {'classifier': 'RF', 'rf_max_depth': 21, 'rf_estimators': 555, 'rf_criterion': 'entropy'}. Best is trial 53 with value: -0.30428902018516873.\n",
      "[I 2023-07-05 17:37:30,421] Trial 86 finished with value: -0.3052002569129451 and parameters: {'classifier': 'RF', 'rf_max_depth': 16, 'rf_estimators': 312, 'rf_criterion': 'entropy'}. Best is trial 53 with value: -0.30428902018516873.\n",
      "[I 2023-07-05 17:37:32,384] Trial 87 finished with value: -0.3079682974299196 and parameters: {'classifier': 'RF', 'rf_max_depth': 14, 'rf_estimators': 230, 'rf_criterion': 'entropy'}. Best is trial 53 with value: -0.30428902018516873.\n",
      "[I 2023-07-05 17:37:34,217] Trial 88 finished with value: -0.30921881770857207 and parameters: {'classifier': 'RF', 'rf_max_depth': 24, 'rf_estimators': 194, 'rf_criterion': 'entropy'}. Best is trial 53 with value: -0.30428902018516873.\n",
      "[I 2023-07-05 17:37:37,223] Trial 89 finished with value: -0.3145670390016493 and parameters: {'classifier': 'RF', 'rf_max_depth': 26, 'rf_estimators': 496, 'rf_criterion': 'gini'}. Best is trial 53 with value: -0.30428902018516873.\n",
      "[I 2023-07-05 17:37:39,800] Trial 90 finished with value: -0.3066390966795601 and parameters: {'classifier': 'RF', 'rf_max_depth': 29, 'rf_estimators': 391, 'rf_criterion': 'entropy'}. Best is trial 53 with value: -0.30428902018516873.\n",
      "[I 2023-07-05 17:37:41,889] Trial 91 finished with value: -0.30428902018516873 and parameters: {'classifier': 'RF', 'rf_max_depth': 17, 'rf_estimators': 263, 'rf_criterion': 'entropy'}. Best is trial 53 with value: -0.30428902018516873.\n",
      "[I 2023-07-05 17:37:44,159] Trial 92 finished with value: -0.3049897265299944 and parameters: {'classifier': 'RF', 'rf_max_depth': 19, 'rf_estimators': 254, 'rf_criterion': 'entropy'}. Best is trial 53 with value: -0.30428902018516873.\n",
      "[I 2023-07-05 17:37:46,404] Trial 93 finished with value: -0.3072343117539289 and parameters: {'classifier': 'RF', 'rf_max_depth': 17, 'rf_estimators': 298, 'rf_criterion': 'entropy'}. Best is trial 53 with value: -0.30428902018516873.\n",
      "[I 2023-07-05 17:37:48,760] Trial 94 finished with value: -0.3046784236989857 and parameters: {'classifier': 'RF', 'rf_max_depth': 21, 'rf_estimators': 332, 'rf_criterion': 'entropy'}. Best is trial 53 with value: -0.30428902018516873.\n",
      "[I 2023-07-05 17:37:51,133] Trial 95 finished with value: -0.3047105690957229 and parameters: {'classifier': 'RF', 'rf_max_depth': 21, 'rf_estimators': 339, 'rf_criterion': 'entropy'}. Best is trial 53 with value: -0.30428902018516873.\n",
      "[I 2023-07-05 17:37:53,471] Trial 96 finished with value: -0.3051000807471723 and parameters: {'classifier': 'RF', 'rf_max_depth': 21, 'rf_estimators': 334, 'rf_criterion': 'entropy'}. Best is trial 53 with value: -0.30428902018516873.\n",
      "[I 2023-07-05 17:37:55,635] Trial 97 finished with value: -0.3065828759074387 and parameters: {'classifier': 'RF', 'rf_max_depth': 23, 'rf_estimators': 280, 'rf_criterion': 'entropy'}. Best is trial 53 with value: -0.30428902018516873.\n",
      "[I 2023-07-05 17:37:58,117] Trial 98 finished with value: -0.3063302154466867 and parameters: {'classifier': 'RF', 'rf_max_depth': 17, 'rf_estimators': 357, 'rf_criterion': 'entropy'}. Best is trial 53 with value: -0.30428902018516873.\n",
      "[I 2023-07-05 17:38:00,885] Trial 99 finished with value: -0.3067450487249198 and parameters: {'classifier': 'RF', 'rf_max_depth': 15, 'rf_estimators': 444, 'rf_criterion': 'entropy'}. Best is trial 53 with value: -0.30428902018516873.\n"
     ]
    },
    {
     "name": "stdout",
     "output_type": "stream",
     "text": [
      "FrozenTrial(number=53, state=TrialState.COMPLETE, values=[-0.30428902018516873], datetime_start=datetime.datetime(2023, 7, 5, 17, 36, 5, 387550), datetime_complete=datetime.datetime(2023, 7, 5, 17, 36, 7, 491132), params={'classifier': 'RF', 'rf_max_depth': 19, 'rf_estimators': 263, 'rf_criterion': 'entropy'}, user_attrs={}, system_attrs={}, intermediate_values={}, distributions={'classifier': CategoricalDistribution(choices=('RF',)), 'rf_max_depth': IntDistribution(high=32, log=True, low=2, step=1), 'rf_estimators': IntDistribution(high=1000, log=True, low=10, step=1), 'rf_criterion': CategoricalDistribution(choices=('gini', 'entropy'))}, trial_id=53, value=None)\n"
     ]
    }
   ],
   "source": [
    "study = optuna.create_study(direction='maximize')\n",
    "study.optimize(objective, n_trials=100)\n",
    "print(study.best_trial)"
   ]
  },
  {
   "cell_type": "code",
   "execution_count": 18,
   "id": "99799496-e583-4aeb-b4dd-321522aee3a0",
   "metadata": {
    "execution": {
     "iopub.execute_input": "2023-07-05T17:38:00.889822Z",
     "iopub.status.busy": "2023-07-05T17:38:00.889609Z",
     "iopub.status.idle": "2023-07-05T17:38:00.894213Z",
     "shell.execute_reply": "2023-07-05T17:38:00.893610Z",
     "shell.execute_reply.started": "2023-07-05T17:38:00.889797Z"
    },
    "tags": []
   },
   "outputs": [
    {
     "data": {
      "text/plain": [
       "{'classifier': 'RF',\n",
       " 'rf_max_depth': 19,\n",
       " 'rf_estimators': 263,\n",
       " 'rf_criterion': 'entropy'}"
      ]
     },
     "execution_count": 18,
     "metadata": {},
     "output_type": "execute_result"
    }
   ],
   "source": [
    "study.best_params"
   ]
  },
  {
   "cell_type": "code",
   "execution_count": 20,
   "id": "afb3ac5e-9dfb-4d76-9841-1a52fb0c1658",
   "metadata": {
    "execution": {
     "iopub.execute_input": "2023-07-05T17:41:25.256632Z",
     "iopub.status.busy": "2023-07-05T17:41:25.255986Z",
     "iopub.status.idle": "2023-07-05T17:41:25.260195Z",
     "shell.execute_reply": "2023-07-05T17:41:25.259421Z",
     "shell.execute_reply.started": "2023-07-05T17:41:25.256607Z"
    },
    "tags": []
   },
   "outputs": [],
   "source": [
    "#From a previous run with log loss of: 0.3035\n",
    "best_rf_pipeline = make_pipeline(CategoricalTransformer(index_of_ej), \n",
    "                                 OutlierRemover(),\n",
    "                                 IterativeImputer(initial_strategy='median'),\n",
    "                                 RandomForestClassifier(random_state=42,\n",
    "                                                        max_depth=7,\n",
    "                                                        n_estimators=264,\n",
    "                                                        criterion='entropy'))"
   ]
  },
  {
   "cell_type": "code",
   "execution_count": 21,
   "id": "fa46d8aa-5c7c-49fc-a651-2ca147f745a1",
   "metadata": {
    "execution": {
     "iopub.execute_input": "2023-07-05T17:42:17.142464Z",
     "iopub.status.busy": "2023-07-05T17:42:17.142177Z",
     "iopub.status.idle": "2023-07-05T17:42:18.110391Z",
     "shell.execute_reply": "2023-07-05T17:42:18.109717Z",
     "shell.execute_reply.started": "2023-07-05T17:42:17.142443Z"
    }
   },
   "outputs": [
    {
     "data": {
      "text/plain": [
       "0.22734551340825515"
      ]
     },
     "execution_count": 21,
     "metadata": {},
     "output_type": "execute_result"
    },
    {
     "name": "stderr",
     "output_type": "stream",
     "text": [
      "<frozen importlib._bootstrap>:219: RuntimeWarning: scipy._lib.messagestream.MessageStream size changed, may indicate binary incompatibility. Expected 56 from C header, got 64 from PyObject\n",
      "<frozen importlib._bootstrap>:219: RuntimeWarning: scipy._lib.messagestream.MessageStream size changed, may indicate binary incompatibility. Expected 56 from C header, got 64 from PyObject\n",
      "<frozen importlib._bootstrap>:219: RuntimeWarning: scipy._lib.messagestream.MessageStream size changed, may indicate binary incompatibility. Expected 56 from C header, got 64 from PyObject\n"
     ]
    }
   ],
   "source": [
    "best_rf_pipeline.fit(x_train, y_train)\n",
    "log_loss(y_test, best_rf_pipeline.predict_proba(x_test))"
   ]
  },
  {
   "cell_type": "code",
   "execution_count": null,
   "id": "af9b942d-1f27-4575-893a-9e5fb85dfd5a",
   "metadata": {},
   "outputs": [],
   "source": []
  }
 ],
 "metadata": {
  "kernelspec": {
   "display_name": "azureml_py38_PT_and_TF",
   "language": "python",
   "name": "conda-env-azureml_py38_PT_and_TF-py"
  },
  "language_info": {
   "codemirror_mode": {
    "name": "ipython",
    "version": 3
   },
   "file_extension": ".py",
   "mimetype": "text/x-python",
   "name": "python",
   "nbconvert_exporter": "python",
   "pygments_lexer": "ipython3",
   "version": "3.8.5"
  }
 },
 "nbformat": 4,
 "nbformat_minor": 5
}
