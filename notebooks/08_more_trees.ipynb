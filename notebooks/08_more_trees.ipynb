{
 "cells": [
  {
   "cell_type": "code",
   "execution_count": 1,
   "id": "86bde3a6-16e8-4d72-ac38-29e98e8b3098",
   "metadata": {
    "execution": {
     "iopub.execute_input": "2023-07-08T08:24:35.558150Z",
     "iopub.status.busy": "2023-07-08T08:24:35.557995Z",
     "iopub.status.idle": "2023-07-08T08:24:35.563593Z",
     "shell.execute_reply": "2023-07-08T08:24:35.563042Z",
     "shell.execute_reply.started": "2023-07-08T08:24:35.558135Z"
    }
   },
   "outputs": [],
   "source": [
    "import os\n",
    "os.chdir('./../')"
   ]
  },
  {
   "cell_type": "code",
   "execution_count": 2,
   "id": "989ca871-154f-43d8-9a55-d9e25ed0bbf2",
   "metadata": {
    "execution": {
     "iopub.execute_input": "2023-07-08T08:24:35.564689Z",
     "iopub.status.busy": "2023-07-08T08:24:35.564528Z",
     "iopub.status.idle": "2023-07-08T08:24:36.830222Z",
     "shell.execute_reply": "2023-07-08T08:24:36.829494Z",
     "shell.execute_reply.started": "2023-07-08T08:24:35.564676Z"
    },
    "tags": []
   },
   "outputs": [
    {
     "name": "stderr",
     "output_type": "stream",
     "text": [
      "<frozen importlib._bootstrap>:219: RuntimeWarning: scipy._lib.messagestream.MessageStream size changed, may indicate binary incompatibility. Expected 56 from C header, got 64 from PyObject\n",
      "/anaconda/envs/azureml_py38_PT_and_TF/lib/python3.8/site-packages/xgboost/compat.py:31: FutureWarning: pandas.Int64Index is deprecated and will be removed from pandas in a future version. Use pandas.Index with the appropriate dtype instead.\n",
      "  from pandas import MultiIndex, Int64Index\n"
     ]
    }
   ],
   "source": [
    "import numpy as np\n",
    "import optuna\n",
    "import pandas as pd\n",
    "from sklearn.ensemble import GradientBoostingClassifier, RandomForestClassifier\n",
    "from sklearn.experimental import enable_iterative_imputer\n",
    "from sklearn.impute import IterativeImputer\n",
    "from sklearn.linear_model import LogisticRegression\n",
    "from sklearn.model_selection import cross_val_score, StratifiedKFold, train_test_split\n",
    "from sklearn.pipeline import make_pipeline\n",
    "from sklearn.preprocessing import PowerTransformer\n",
    "from sklearn.svm import SVC\n",
    "import xgboost as xgb\n",
    "\n",
    "from scripts.categorical_transformer import CategoricalTransformer\n",
    "from scripts.loss import get_bal_log_loss\n",
    "from scripts.outlier_remover import OutlierRemover"
   ]
  },
  {
   "cell_type": "code",
   "execution_count": 3,
   "id": "15b4ad1f-a1e3-4b0e-a280-3fe9761ba87d",
   "metadata": {
    "execution": {
     "iopub.execute_input": "2023-07-08T08:24:36.831264Z",
     "iopub.status.busy": "2023-07-08T08:24:36.830998Z",
     "iopub.status.idle": "2023-07-08T08:24:36.835268Z",
     "shell.execute_reply": "2023-07-08T08:24:36.834756Z",
     "shell.execute_reply.started": "2023-07-08T08:24:36.831248Z"
    }
   },
   "outputs": [],
   "source": [
    "base_path = './data'"
   ]
  },
  {
   "cell_type": "code",
   "execution_count": 4,
   "id": "5d800cb2-1712-452c-8247-8f94ad0dc428",
   "metadata": {
    "execution": {
     "iopub.execute_input": "2023-07-08T08:24:36.836317Z",
     "iopub.status.busy": "2023-07-08T08:24:36.836074Z",
     "iopub.status.idle": "2023-07-08T08:24:36.858055Z",
     "shell.execute_reply": "2023-07-08T08:24:36.857576Z",
     "shell.execute_reply.started": "2023-07-08T08:24:36.836294Z"
    }
   },
   "outputs": [],
   "source": [
    "all_df = pd.read_csv(f'{base_path}/train.csv', index_col=0)\n",
    "final_test_df = pd.read_csv(f'{base_path}/test.csv', index_col=0)"
   ]
  },
  {
   "cell_type": "code",
   "execution_count": 5,
   "id": "812a374d-fcd3-4ed3-98b8-67ca28347698",
   "metadata": {
    "execution": {
     "iopub.execute_input": "2023-07-08T08:24:36.859508Z",
     "iopub.status.busy": "2023-07-08T08:24:36.859328Z",
     "iopub.status.idle": "2023-07-08T08:24:36.863038Z",
     "shell.execute_reply": "2023-07-08T08:24:36.862484Z",
     "shell.execute_reply.started": "2023-07-08T08:24:36.859494Z"
    },
    "tags": []
   },
   "outputs": [],
   "source": [
    "all_train = all_df.loc[:, all_df.columns != 'Class']\n",
    "all_test = all_df.loc[:, 'Class']"
   ]
  },
  {
   "cell_type": "code",
   "execution_count": 6,
   "id": "74cefd64-409d-44e5-8155-7bf3aab4cb7a",
   "metadata": {
    "execution": {
     "iopub.execute_input": "2023-07-08T08:24:36.863953Z",
     "iopub.status.busy": "2023-07-08T08:24:36.863763Z",
     "iopub.status.idle": "2023-07-08T08:24:36.872982Z",
     "shell.execute_reply": "2023-07-08T08:24:36.872564Z",
     "shell.execute_reply.started": "2023-07-08T08:24:36.863939Z"
    }
   },
   "outputs": [],
   "source": [
    "x_train, x_test, y_train, y_test = train_test_split(all_train, \n",
    "                                                    all_test, \n",
    "                                                    random_state=42, \n",
    "                                                    stratify=all_test)"
   ]
  },
  {
   "cell_type": "code",
   "execution_count": 7,
   "id": "0b60ade3-3d73-44a5-8123-e5ab50672243",
   "metadata": {
    "execution": {
     "iopub.execute_input": "2023-07-08T08:24:36.874126Z",
     "iopub.status.busy": "2023-07-08T08:24:36.873711Z",
     "iopub.status.idle": "2023-07-08T08:24:36.880478Z",
     "shell.execute_reply": "2023-07-08T08:24:36.879999Z",
     "shell.execute_reply.started": "2023-07-08T08:24:36.874100Z"
    }
   },
   "outputs": [],
   "source": [
    "index_of_ej = list(x_train.columns).index('EJ')"
   ]
  },
  {
   "cell_type": "code",
   "execution_count": 8,
   "id": "cc59d178-d828-426e-8a96-99d051c98755",
   "metadata": {
    "execution": {
     "iopub.execute_input": "2023-07-08T08:24:36.881690Z",
     "iopub.status.busy": "2023-07-08T08:24:36.881206Z",
     "iopub.status.idle": "2023-07-08T08:24:36.889823Z",
     "shell.execute_reply": "2023-07-08T08:24:36.889286Z",
     "shell.execute_reply.started": "2023-07-08T08:24:36.881664Z"
    },
    "tags": []
   },
   "outputs": [],
   "source": [
    "xgb_pipeline = make_pipeline(CategoricalTransformer(index_of_ej), \n",
    "                             OutlierRemover(),\n",
    "                             IterativeImputer(initial_strategy='median'),\n",
    "                             xgb.XGBClassifier(random_state=42, \n",
    "                                               use_label_encoder=False,\n",
    "                                               eval_metric='logloss'))"
   ]
  },
  {
   "cell_type": "code",
   "execution_count": 9,
   "id": "05354a24-7d9d-418c-91d9-63e16b0bb7cb",
   "metadata": {
    "execution": {
     "iopub.execute_input": "2023-07-08T08:24:36.890654Z",
     "iopub.status.busy": "2023-07-08T08:24:36.890486Z",
     "iopub.status.idle": "2023-07-08T08:24:39.611027Z",
     "shell.execute_reply": "2023-07-08T08:24:39.610373Z",
     "shell.execute_reply.started": "2023-07-08T08:24:36.890641Z"
    },
    "tags": []
   },
   "outputs": [
    {
     "data": {
      "text/plain": [
       "array([-0.74439085, -0.5822911 , -0.8178164 , -0.99961527, -0.56996175])"
      ]
     },
     "execution_count": 9,
     "metadata": {},
     "output_type": "execute_result"
    }
   ],
   "source": [
    "cv_scores = cross_val_score(xgb_pipeline, \n",
    "                            x_train, \n",
    "                            y_train, \n",
    "                            cv=StratifiedKFold(shuffle=True, random_state=42), \n",
    "                            scoring=get_bal_log_loss())\n",
    "cv_scores"
   ]
  },
  {
   "cell_type": "code",
   "execution_count": 10,
   "id": "78ee4b08-ed6e-4bd5-ae9f-274fcacdd072",
   "metadata": {
    "execution": {
     "iopub.execute_input": "2023-07-08T08:24:39.612410Z",
     "iopub.status.busy": "2023-07-08T08:24:39.611832Z",
     "iopub.status.idle": "2023-07-08T08:24:39.619267Z",
     "shell.execute_reply": "2023-07-08T08:24:39.618757Z",
     "shell.execute_reply.started": "2023-07-08T08:24:39.612388Z"
    }
   },
   "outputs": [],
   "source": [
    "rf_pipeline = make_pipeline(CategoricalTransformer(index_of_ej), \n",
    "                            OutlierRemover(),\n",
    "                            IterativeImputer(initial_strategy='median'),\n",
    "                            RandomForestClassifier(random_state=42, class_weight='balanced'))"
   ]
  },
  {
   "cell_type": "code",
   "execution_count": 11,
   "id": "5b105dd8-e50b-41e1-bd41-b43ae3dc29ed",
   "metadata": {
    "execution": {
     "iopub.execute_input": "2023-07-08T08:24:39.620461Z",
     "iopub.status.busy": "2023-07-08T08:24:39.619953Z",
     "iopub.status.idle": "2023-07-08T08:24:42.589772Z",
     "shell.execute_reply": "2023-07-08T08:24:42.589202Z",
     "shell.execute_reply.started": "2023-07-08T08:24:39.620440Z"
    }
   },
   "outputs": [
    {
     "data": {
      "text/plain": [
       "array([-0.73018173, -0.66375817, -0.82382843, -0.84717035, -0.72656212])"
      ]
     },
     "execution_count": 11,
     "metadata": {},
     "output_type": "execute_result"
    }
   ],
   "source": [
    "cv_scores = cross_val_score(rf_pipeline, \n",
    "                            x_train, \n",
    "                            y_train, \n",
    "                            cv=StratifiedKFold(shuffle=True, random_state=42), \n",
    "                            scoring=get_bal_log_loss())\n",
    "cv_scores"
   ]
  },
  {
   "cell_type": "code",
   "execution_count": 12,
   "id": "1be299d1-8527-4902-bdd1-ae5039ad9d8e",
   "metadata": {
    "execution": {
     "iopub.execute_input": "2023-07-08T08:24:42.590879Z",
     "iopub.status.busy": "2023-07-08T08:24:42.590597Z",
     "iopub.status.idle": "2023-07-08T08:24:42.596070Z",
     "shell.execute_reply": "2023-07-08T08:24:42.595552Z",
     "shell.execute_reply.started": "2023-07-08T08:24:42.590848Z"
    },
    "tags": []
   },
   "outputs": [],
   "source": [
    "svc_pipeline = make_pipeline(CategoricalTransformer(index_of_ej), \n",
    "                             OutlierRemover(),\n",
    "                             IterativeImputer(initial_strategy='median'),\n",
    "                             PowerTransformer(),\n",
    "                             SVC(probability=True, random_state=42, class_weight='balanced'))"
   ]
  },
  {
   "cell_type": "code",
   "execution_count": 13,
   "id": "5ae03005-40c2-483c-9568-e5c40249bc63",
   "metadata": {
    "execution": {
     "iopub.execute_input": "2023-07-08T08:24:42.597125Z",
     "iopub.status.busy": "2023-07-08T08:24:42.596870Z",
     "iopub.status.idle": "2023-07-08T08:24:45.306826Z",
     "shell.execute_reply": "2023-07-08T08:24:45.306156Z",
     "shell.execute_reply.started": "2023-07-08T08:24:42.597101Z"
    }
   },
   "outputs": [
    {
     "name": "stderr",
     "output_type": "stream",
     "text": [
      "/anaconda/envs/azureml_py38_PT_and_TF/lib/python3.8/site-packages/sklearn/preprocessing/_data.py:3253: RuntimeWarning: divide by zero encountered in log\n",
      "  loglike = -n_samples / 2 * np.log(x_trans.var())\n"
     ]
    },
    {
     "data": {
      "text/plain": [
       "array([-0.64154054, -0.48676298, -0.82831744, -0.74206446, -0.48861026])"
      ]
     },
     "execution_count": 13,
     "metadata": {},
     "output_type": "execute_result"
    }
   ],
   "source": [
    "cv_scores = cross_val_score(svc_pipeline, \n",
    "                            x_train, \n",
    "                            y_train, \n",
    "                            cv=StratifiedKFold(shuffle=True, random_state=42), \n",
    "                            scoring=get_bal_log_loss())\n",
    "cv_scores"
   ]
  },
  {
   "cell_type": "code",
   "execution_count": 14,
   "id": "ec6642c5-05b1-4050-afa9-5de1d8ee9cf7",
   "metadata": {
    "execution": {
     "iopub.execute_input": "2023-07-08T08:24:45.309681Z",
     "iopub.status.busy": "2023-07-08T08:24:45.309183Z",
     "iopub.status.idle": "2023-07-08T08:24:45.313185Z",
     "shell.execute_reply": "2023-07-08T08:24:45.312660Z",
     "shell.execute_reply.started": "2023-07-08T08:24:45.309661Z"
    }
   },
   "outputs": [],
   "source": [
    "gb_pipeline = make_pipeline(CategoricalTransformer(index_of_ej), \n",
    "                            OutlierRemover(),\n",
    "                            IterativeImputer(initial_strategy='median'),\n",
    "                            GradientBoostingClassifier(random_state=42))"
   ]
  },
  {
   "cell_type": "code",
   "execution_count": 15,
   "id": "0aa21986-9fd4-41df-bb81-d08cbc1e7281",
   "metadata": {
    "execution": {
     "iopub.execute_input": "2023-07-08T08:24:45.314238Z",
     "iopub.status.busy": "2023-07-08T08:24:45.314051Z",
     "iopub.status.idle": "2023-07-08T08:24:49.047896Z",
     "shell.execute_reply": "2023-07-08T08:24:49.047202Z",
     "shell.execute_reply.started": "2023-07-08T08:24:45.314221Z"
    }
   },
   "outputs": [
    {
     "data": {
      "text/plain": [
       "array([-0.98588675, -0.68526406, -0.98045097, -1.38011402, -0.70573669])"
      ]
     },
     "execution_count": 15,
     "metadata": {},
     "output_type": "execute_result"
    }
   ],
   "source": [
    "cv_scores = cross_val_score(gb_pipeline, \n",
    "                            x_train, \n",
    "                            y_train, \n",
    "                            cv=StratifiedKFold(shuffle=True, random_state=42), \n",
    "                            scoring=get_bal_log_loss())\n",
    "cv_scores"
   ]
  },
  {
   "cell_type": "code",
   "execution_count": 16,
   "id": "73fcfb81-8f27-46c9-80a3-2084ad7f8cd2",
   "metadata": {
    "execution": {
     "iopub.execute_input": "2023-07-08T08:24:49.049104Z",
     "iopub.status.busy": "2023-07-08T08:24:49.048864Z",
     "iopub.status.idle": "2023-07-08T08:24:49.060824Z",
     "shell.execute_reply": "2023-07-08T08:24:49.060090Z",
     "shell.execute_reply.started": "2023-07-08T08:24:49.049083Z"
    },
    "tags": []
   },
   "outputs": [],
   "source": [
    "def objective(trial):\n",
    "    x, y = x_train, y_train\n",
    "\n",
    "    classifier_name = trial.suggest_categorical(\"classifier\", ['SVC' ,'RF', 'XGB'])\n",
    "    if classifier_name == \"SVC\":\n",
    "        svc_c = trial.suggest_float(\"svc_c\", 1e-10, 1e10, log=True)\n",
    "        svc_algo = trial.suggest_categorical(\"svc_algo\", ['poly', 'rbf', 'sigmoid'])\n",
    "        svc_cls_wgt = trial.suggest_categorical(\"svc_cls_wgt\", [None, 'balanced'])\n",
    "        classifier_obj = make_pipeline(CategoricalTransformer(index_of_ej), \n",
    "                                       OutlierRemover(),\n",
    "                                       IterativeImputer(initial_strategy='median'),\n",
    "                                       PowerTransformer(),\n",
    "                                       SVC(C=svc_c, \n",
    "                                           kernel=svc_algo, \n",
    "                                           random_state=42, \n",
    "                                           probability=True,\n",
    "                                           class_weight=svc_cls_wgt))\n",
    "    elif classifier_name == 'RF':\n",
    "        rf_max_depth = trial.suggest_int(\"rf_max_depth\", 2, 32, log=True)\n",
    "        rf_estimators = trial.suggest_int(\"rf_estimators\", 10, 1000, log=True)\n",
    "        rf_criterion = trial.suggest_categorical(\"rf_criterion\", ['gini', 'entropy'])\n",
    "        rf_cls_wgt = trial.suggest_categorical(\"rf_cls_wgt\", [None, 'balanced', 'balanced_subsample'])\n",
    "        classifier_obj = make_pipeline(CategoricalTransformer(index_of_ej),  \n",
    "                                       OutlierRemover(),\n",
    "                                       IterativeImputer(initial_strategy='median'),\n",
    "                                       RandomForestClassifier(max_depth=rf_max_depth,  \n",
    "                                                              criterion=rf_criterion,\n",
    "                                                              n_estimators=rf_estimators,\n",
    "                                                              random_state=42,\n",
    "                                                             class_weight=rf_cls_wgt))\n",
    "    else:\n",
    "        xgb_max_depth = trial.suggest_int(\"xgb_max_depth\", 2, 32, log=True)\n",
    "        xgb_estimators = trial.suggest_int(\"xgb_estimators\", 10, 1000, log=True)\n",
    "        xgb_booster = trial.suggest_categorical(\"xgb_booster\", ['gbtree', 'dart'])\n",
    "        xgb_scale_pos_weight = trial.suggest_float('xgb_scale_pos_weight', 1, 10, log=True)\n",
    "        classifier_obj = make_pipeline(CategoricalTransformer(index_of_ej), \n",
    "                                       OutlierRemover(),\n",
    "                                       IterativeImputer(initial_strategy='median'),\n",
    "                                       xgb.XGBClassifier(max_depth=xgb_max_depth,\n",
    "                                                         n_estimators=xgb_estimators,\n",
    "                                                         booster=xgb_booster,\n",
    "                                                         scale_pos_weight = xgb_scale_pos_weight,\n",
    "                                                         random_state=42,\n",
    "                                                         use_label_encoder=False,\n",
    "                                                         eval_metric='logloss'))\n",
    "    score = cross_val_score(classifier_obj, \n",
    "                            x, \n",
    "                            y, \n",
    "                            cv=StratifiedKFold(shuffle=True, random_state=42), \n",
    "                            scoring=get_bal_log_loss(),\n",
    "                            n_jobs=-1)\n",
    "    accuracy = score.mean()\n",
    "    return accuracy"
   ]
  },
  {
   "cell_type": "code",
   "execution_count": 17,
   "id": "2e8a6876-41ea-43b9-9ae4-fe43dd0154a5",
   "metadata": {
    "collapsed": true,
    "execution": {
     "iopub.execute_input": "2023-07-08T08:24:49.061792Z",
     "iopub.status.busy": "2023-07-08T08:24:49.061576Z",
     "iopub.status.idle": "2023-07-08T08:30:32.547542Z",
     "shell.execute_reply": "2023-07-08T08:30:32.546940Z",
     "shell.execute_reply.started": "2023-07-08T08:24:49.061773Z"
    },
    "jupyter": {
     "outputs_hidden": true
    },
    "tags": []
   },
   "outputs": [
    {
     "name": "stderr",
     "output_type": "stream",
     "text": [
      "[I 2023-07-08 08:24:49,071] A new study created in memory with name: no-name-beca3247-e003-4545-847c-629771ea6d2d\n",
      "[I 2023-07-08 08:24:52,480] Trial 0 finished with value: -0.6788845950756731 and parameters: {'classifier': 'XGB', 'xgb_max_depth': 7, 'xgb_estimators': 12, 'xgb_booster': 'dart', 'xgb_scale_pos_weight': 1.9838155356548532}. Best is trial 0 with value: -0.6788845950756731.\n",
      "[I 2023-07-08 08:24:54,215] Trial 1 finished with value: -0.756378254510902 and parameters: {'classifier': 'RF', 'rf_max_depth': 11, 'rf_estimators': 114, 'rf_criterion': 'entropy', 'rf_cls_wgt': 'balanced_subsample'}. Best is trial 0 with value: -0.6788845950756731.\n",
      "[I 2023-07-08 08:24:57,357] Trial 2 finished with value: -0.6070818261052898 and parameters: {'classifier': 'XGB', 'xgb_max_depth': 3, 'xgb_estimators': 694, 'xgb_booster': 'gbtree', 'xgb_scale_pos_weight': 7.606684136001854}. Best is trial 2 with value: -0.6070818261052898.\n",
      "[I 2023-07-08 08:25:01,605] Trial 3 finished with value: -0.7783931289443122 and parameters: {'classifier': 'XGB', 'xgb_max_depth': 15, 'xgb_estimators': 500, 'xgb_booster': 'dart', 'xgb_scale_pos_weight': 1.2934120306688224}. Best is trial 2 with value: -0.6070818261052898.\n",
      "[I 2023-07-08 08:25:03,076] Trial 4 finished with value: -0.641440678160907 and parameters: {'classifier': 'SVC', 'svc_c': 59052456.59030327, 'svc_algo': 'poly', 'svc_cls_wgt': 'balanced'}. Best is trial 2 with value: -0.6070818261052898.\n",
      "[I 2023-07-08 08:25:04,258] Trial 5 finished with value: -0.7848379655632547 and parameters: {'classifier': 'RF', 'rf_max_depth': 5, 'rf_estimators': 22, 'rf_criterion': 'entropy', 'rf_cls_wgt': None}. Best is trial 2 with value: -0.6070818261052898.\n",
      "[I 2023-07-08 08:25:05,606] Trial 6 finished with value: -0.553253852769234 and parameters: {'classifier': 'RF', 'rf_max_depth': 3, 'rf_estimators': 72, 'rf_criterion': 'entropy', 'rf_cls_wgt': 'balanced_subsample'}. Best is trial 6 with value: -0.553253852769234.\n",
      "[I 2023-07-08 08:25:06,984] Trial 7 finished with value: -0.6215153190270171 and parameters: {'classifier': 'SVC', 'svc_c': 116056.57344620932, 'svc_algo': 'rbf', 'svc_cls_wgt': None}. Best is trial 6 with value: -0.553253852769234.\n",
      "[I 2023-07-08 08:25:08,689] Trial 8 finished with value: -0.5368952146486947 and parameters: {'classifier': 'RF', 'rf_max_depth': 3, 'rf_estimators': 192, 'rf_criterion': 'entropy', 'rf_cls_wgt': 'balanced'}. Best is trial 8 with value: -0.5368952146486947.\n",
      "[I 2023-07-08 08:25:12,571] Trial 9 finished with value: -0.5484053410053555 and parameters: {'classifier': 'RF', 'rf_max_depth': 2, 'rf_estimators': 963, 'rf_criterion': 'entropy', 'rf_cls_wgt': 'balanced'}. Best is trial 8 with value: -0.5368952146486947.\n",
      "[I 2023-07-08 08:25:14,824] Trial 10 finished with value: -0.7484681051961535 and parameters: {'classifier': 'RF', 'rf_max_depth': 24, 'rf_estimators': 350, 'rf_criterion': 'gini', 'rf_cls_wgt': 'balanced'}. Best is trial 8 with value: -0.5368952146486947.\n",
      "[I 2023-07-08 08:25:18,114] Trial 11 finished with value: -0.5471609318718013 and parameters: {'classifier': 'RF', 'rf_max_depth': 2, 'rf_estimators': 781, 'rf_criterion': 'entropy', 'rf_cls_wgt': 'balanced'}. Best is trial 8 with value: -0.5368952146486947.\n",
      "[I 2023-07-08 08:25:21,837] Trial 12 finished with value: -0.5484129338311268 and parameters: {'classifier': 'RF', 'rf_max_depth': 2, 'rf_estimators': 924, 'rf_criterion': 'entropy', 'rf_cls_wgt': 'balanced'}. Best is trial 8 with value: -0.5368952146486947.\n",
      "[I 2023-07-08 08:25:23,750] Trial 13 finished with value: -0.5702568205070478 and parameters: {'classifier': 'RF', 'rf_max_depth': 4, 'rf_estimators': 268, 'rf_criterion': 'gini', 'rf_cls_wgt': 'balanced'}. Best is trial 8 with value: -0.5368952146486947.\n",
      "[I 2023-07-08 08:25:25,846] Trial 14 finished with value: -0.5454516914456465 and parameters: {'classifier': 'RF', 'rf_max_depth': 2, 'rf_estimators': 352, 'rf_criterion': 'entropy', 'rf_cls_wgt': 'balanced'}. Best is trial 8 with value: -0.5368952146486947.\n",
      "[I 2023-07-08 08:25:27,247] Trial 15 finished with value: -1.365703182483902 and parameters: {'classifier': 'SVC', 'svc_c': 1.27302327782505e-10, 'svc_algo': 'sigmoid', 'svc_cls_wgt': 'balanced'}. Best is trial 8 with value: -0.5368952146486947.\n",
      "[I 2023-07-08 08:25:29,142] Trial 16 finished with value: -0.7069703300340059 and parameters: {'classifier': 'RF', 'rf_max_depth': 7, 'rf_estimators': 207, 'rf_criterion': 'entropy', 'rf_cls_wgt': None}. Best is trial 8 with value: -0.5368952146486947.\n",
      "[I 2023-07-08 08:25:30,556] Trial 17 finished with value: -0.5472537215942077 and parameters: {'classifier': 'RF', 'rf_max_depth': 3, 'rf_estimators': 96, 'rf_criterion': 'gini', 'rf_cls_wgt': 'balanced'}. Best is trial 8 with value: -0.5368952146486947.\n",
      "[I 2023-07-08 08:25:32,517] Trial 18 finished with value: -0.5883098299875189 and parameters: {'classifier': 'XGB', 'xgb_max_depth': 32, 'xgb_estimators': 57, 'xgb_booster': 'gbtree', 'xgb_scale_pos_weight': 5.26261570371734}. Best is trial 8 with value: -0.5368952146486947.\n",
      "[I 2023-07-08 08:25:33,930] Trial 19 finished with value: -0.692391602868683 and parameters: {'classifier': 'SVC', 'svc_c': 0.0010525238279925537, 'svc_algo': 'poly', 'svc_cls_wgt': None}. Best is trial 8 with value: -0.5368952146486947.\n",
      "[I 2023-07-08 08:25:36,098] Trial 20 finished with value: -0.5460723017313835 and parameters: {'classifier': 'RF', 'rf_max_depth': 2, 'rf_estimators': 381, 'rf_criterion': 'entropy', 'rf_cls_wgt': 'balanced'}. Best is trial 8 with value: -0.5368952146486947.\n",
      "[I 2023-07-08 08:25:38,278] Trial 21 finished with value: -0.5463153067057203 and parameters: {'classifier': 'RF', 'rf_max_depth': 2, 'rf_estimators': 384, 'rf_criterion': 'entropy', 'rf_cls_wgt': 'balanced'}. Best is trial 8 with value: -0.5368952146486947.\n",
      "[I 2023-07-08 08:25:40,805] Trial 22 finished with value: -0.5377993076866672 and parameters: {'classifier': 'RF', 'rf_max_depth': 3, 'rf_estimators': 455, 'rf_criterion': 'entropy', 'rf_cls_wgt': 'balanced'}. Best is trial 8 with value: -0.5368952146486947.\n",
      "[I 2023-07-08 08:25:42,522] Trial 23 finished with value: -0.5359246907418344 and parameters: {'classifier': 'RF', 'rf_max_depth': 3, 'rf_estimators': 185, 'rf_criterion': 'entropy', 'rf_cls_wgt': 'balanced'}. Best is trial 23 with value: -0.5359246907418344.\n",
      "[I 2023-07-08 08:25:44,163] Trial 24 finished with value: -0.5717418297094572 and parameters: {'classifier': 'RF', 'rf_max_depth': 4, 'rf_estimators': 159, 'rf_criterion': 'entropy', 'rf_cls_wgt': 'balanced'}. Best is trial 23 with value: -0.5359246907418344.\n",
      "[I 2023-07-08 08:25:45,778] Trial 25 finished with value: -0.8575421132752459 and parameters: {'classifier': 'RF', 'rf_max_depth': 3, 'rf_estimators': 161, 'rf_criterion': 'entropy', 'rf_cls_wgt': None}. Best is trial 23 with value: -0.5359246907418344.\n",
      "[I 2023-07-08 08:25:49,021] Trial 26 finished with value: -0.6905170267648688 and parameters: {'classifier': 'RF', 'rf_max_depth': 6, 'rf_estimators': 553, 'rf_criterion': 'gini', 'rf_cls_wgt': 'balanced_subsample'}. Best is trial 23 with value: -0.5359246907418344.\n",
      "[I 2023-07-08 08:25:50,844] Trial 27 finished with value: -0.536658894151306 and parameters: {'classifier': 'RF', 'rf_max_depth': 3, 'rf_estimators': 226, 'rf_criterion': 'entropy', 'rf_cls_wgt': 'balanced'}. Best is trial 23 with value: -0.5359246907418344.\n",
      "[I 2023-07-08 08:25:52,278] Trial 28 finished with value: -0.6215153190270171 and parameters: {'classifier': 'SVC', 'svc_c': 7721800064.967915, 'svc_algo': 'rbf', 'svc_cls_wgt': None}. Best is trial 23 with value: -0.5359246907418344.\n",
      "[I 2023-07-08 08:25:54,109] Trial 29 finished with value: -0.5878655312173912 and parameters: {'classifier': 'XGB', 'xgb_max_depth': 2, 'xgb_estimators': 112, 'xgb_booster': 'gbtree', 'xgb_scale_pos_weight': 3.642035752060363}. Best is trial 23 with value: -0.5359246907418344.\n",
      "[I 2023-07-08 08:25:55,660] Trial 30 finished with value: -0.5599204661413222 and parameters: {'classifier': 'XGB', 'xgb_max_depth': 4, 'xgb_estimators': 10, 'xgb_booster': 'dart', 'xgb_scale_pos_weight': 9.584840082844694}. Best is trial 23 with value: -0.5359246907418344.\n",
      "[I 2023-07-08 08:25:57,543] Trial 31 finished with value: -0.5384210836068833 and parameters: {'classifier': 'RF', 'rf_max_depth': 3, 'rf_estimators': 217, 'rf_criterion': 'entropy', 'rf_cls_wgt': 'balanced'}. Best is trial 23 with value: -0.5359246907418344.\n",
      "[I 2023-07-08 08:26:00,283] Trial 32 finished with value: -0.5736841475532451 and parameters: {'classifier': 'RF', 'rf_max_depth': 4, 'rf_estimators': 490, 'rf_criterion': 'entropy', 'rf_cls_wgt': 'balanced'}. Best is trial 23 with value: -0.5359246907418344.\n",
      "[I 2023-07-08 08:26:02,214] Trial 33 finished with value: -0.5361218826191332 and parameters: {'classifier': 'RF', 'rf_max_depth': 3, 'rf_estimators': 250, 'rf_criterion': 'entropy', 'rf_cls_wgt': 'balanced'}. Best is trial 23 with value: -0.5359246907418344.\n",
      "[I 2023-07-08 08:26:04,122] Trial 34 finished with value: -0.5740310187396385 and parameters: {'classifier': 'RF', 'rf_max_depth': 4, 'rf_estimators': 239, 'rf_criterion': 'entropy', 'rf_cls_wgt': 'balanced'}. Best is trial 23 with value: -0.5359246907418344.\n",
      "[I 2023-07-08 08:26:05,660] Trial 35 finished with value: -0.540138098345926 and parameters: {'classifier': 'RF', 'rf_max_depth': 3, 'rf_estimators': 143, 'rf_criterion': 'entropy', 'rf_cls_wgt': 'balanced'}. Best is trial 23 with value: -0.5359246907418344.\n",
      "[I 2023-07-08 08:26:07,833] Trial 36 finished with value: -0.7490540567886447 and parameters: {'classifier': 'XGB', 'xgb_max_depth': 8, 'xgb_estimators': 206, 'xgb_booster': 'gbtree', 'xgb_scale_pos_weight': 1.1504221651579738}. Best is trial 23 with value: -0.5359246907418344.\n",
      "[I 2023-07-08 08:26:09,315] Trial 37 finished with value: -0.6322521926823527 and parameters: {'classifier': 'RF', 'rf_max_depth': 5, 'rf_estimators': 84, 'rf_criterion': 'entropy', 'rf_cls_wgt': 'balanced'}. Best is trial 23 with value: -0.5359246907418344.\n",
      "[I 2023-07-08 08:26:11,276] Trial 38 finished with value: -0.6977975627956243 and parameters: {'classifier': 'RF', 'rf_max_depth': 8, 'rf_estimators': 232, 'rf_criterion': 'entropy', 'rf_cls_wgt': None}. Best is trial 23 with value: -0.5359246907418344.\n",
      "[I 2023-07-08 08:26:12,642] Trial 39 finished with value: -1.1327856234868965 and parameters: {'classifier': 'SVC', 'svc_c': 4.216635665498361, 'svc_algo': 'sigmoid', 'svc_cls_wgt': 'balanced'}. Best is trial 23 with value: -0.5359246907418344.\n",
      "[I 2023-07-08 08:26:14,094] Trial 40 finished with value: -0.5421362391022019 and parameters: {'classifier': 'RF', 'rf_max_depth': 3, 'rf_estimators': 129, 'rf_criterion': 'gini', 'rf_cls_wgt': 'balanced'}. Best is trial 23 with value: -0.5359246907418344.\n",
      "[I 2023-07-08 08:26:16,123] Trial 41 finished with value: -0.5343325874737858 and parameters: {'classifier': 'RF', 'rf_max_depth': 3, 'rf_estimators': 300, 'rf_criterion': 'entropy', 'rf_cls_wgt': 'balanced'}. Best is trial 41 with value: -0.5343325874737858.\n",
      "[I 2023-07-08 08:26:18,186] Trial 42 finished with value: -0.5723765123731265 and parameters: {'classifier': 'RF', 'rf_max_depth': 4, 'rf_estimators': 291, 'rf_criterion': 'entropy', 'rf_cls_wgt': 'balanced'}. Best is trial 41 with value: -0.5343325874737858.\n",
      "[I 2023-07-08 08:26:20,140] Trial 43 finished with value: -0.5343602518060613 and parameters: {'classifier': 'RF', 'rf_max_depth': 3, 'rf_estimators': 275, 'rf_criterion': 'entropy', 'rf_cls_wgt': 'balanced'}. Best is trial 41 with value: -0.5343325874737858.\n",
      "[I 2023-07-08 08:26:22,444] Trial 44 finished with value: -0.7412063296283081 and parameters: {'classifier': 'RF', 'rf_max_depth': 10, 'rf_estimators': 280, 'rf_criterion': 'entropy', 'rf_cls_wgt': 'balanced_subsample'}. Best is trial 41 with value: -0.5343325874737858.\n",
      "[I 2023-07-08 08:26:24,175] Trial 45 finished with value: -0.628025052361733 and parameters: {'classifier': 'RF', 'rf_max_depth': 5, 'rf_estimators': 176, 'rf_criterion': 'entropy', 'rf_cls_wgt': 'balanced'}. Best is trial 41 with value: -0.5343325874737858.\n",
      "[I 2023-07-08 08:26:25,786] Trial 46 finished with value: -0.6281572190233072 and parameters: {'classifier': 'RF', 'rf_max_depth': 5, 'rf_estimators': 126, 'rf_criterion': 'entropy', 'rf_cls_wgt': 'balanced_subsample'}. Best is trial 41 with value: -0.5343325874737858.\n",
      "[I 2023-07-08 08:26:27,923] Trial 47 finished with value: -0.5727020368893753 and parameters: {'classifier': 'RF', 'rf_max_depth': 4, 'rf_estimators': 310, 'rf_criterion': 'entropy', 'rf_cls_wgt': 'balanced'}. Best is trial 41 with value: -0.5343325874737858.\n",
      "[I 2023-07-08 08:26:29,528] Trial 48 finished with value: -0.4940470014936619 and parameters: {'classifier': 'XGB', 'xgb_max_depth': 2, 'xgb_estimators': 35, 'xgb_booster': 'dart', 'xgb_scale_pos_weight': 2.88068836452284}. Best is trial 48 with value: -0.4940470014936619.\n",
      "[I 2023-07-08 08:26:31,132] Trial 49 finished with value: -0.48448596400816824 and parameters: {'classifier': 'XGB', 'xgb_max_depth': 2, 'xgb_estimators': 33, 'xgb_booster': 'dart', 'xgb_scale_pos_weight': 2.618085708319764}. Best is trial 49 with value: -0.48448596400816824.\n",
      "[I 2023-07-08 08:26:32,831] Trial 50 finished with value: -0.5202933329943826 and parameters: {'classifier': 'XGB', 'xgb_max_depth': 2, 'xgb_estimators': 34, 'xgb_booster': 'dart', 'xgb_scale_pos_weight': 2.5402847559653394}. Best is trial 49 with value: -0.48448596400816824.\n",
      "[I 2023-07-08 08:26:34,603] Trial 51 finished with value: -0.5131678054175164 and parameters: {'classifier': 'XGB', 'xgb_max_depth': 2, 'xgb_estimators': 29, 'xgb_booster': 'dart', 'xgb_scale_pos_weight': 2.5912255339854045}. Best is trial 49 with value: -0.48448596400816824.\n",
      "[I 2023-07-08 08:26:36,269] Trial 52 finished with value: -0.5249316879926146 and parameters: {'classifier': 'XGB', 'xgb_max_depth': 2, 'xgb_estimators': 34, 'xgb_booster': 'dart', 'xgb_scale_pos_weight': 2.678247101008393}. Best is trial 49 with value: -0.48448596400816824.\n",
      "[I 2023-07-08 08:26:37,879] Trial 53 finished with value: -0.5242310796867046 and parameters: {'classifier': 'XGB', 'xgb_max_depth': 2, 'xgb_estimators': 35, 'xgb_booster': 'dart', 'xgb_scale_pos_weight': 2.6576363664418885}. Best is trial 49 with value: -0.48448596400816824.\n",
      "[I 2023-07-08 08:26:39,526] Trial 54 finished with value: -0.5235934819777304 and parameters: {'classifier': 'XGB', 'xgb_max_depth': 2, 'xgb_estimators': 33, 'xgb_booster': 'dart', 'xgb_scale_pos_weight': 2.6677219488995183}. Best is trial 49 with value: -0.48448596400816824.\n",
      "[I 2023-07-08 08:26:41,141] Trial 55 finished with value: -0.4971395195500266 and parameters: {'classifier': 'XGB', 'xgb_max_depth': 2, 'xgb_estimators': 31, 'xgb_booster': 'dart', 'xgb_scale_pos_weight': 2.690132837686613}. Best is trial 49 with value: -0.48448596400816824.\n",
      "[I 2023-07-08 08:26:42,747] Trial 56 finished with value: -0.5255741817621118 and parameters: {'classifier': 'XGB', 'xgb_max_depth': 2, 'xgb_estimators': 28, 'xgb_booster': 'dart', 'xgb_scale_pos_weight': 2.6551764855239757}. Best is trial 49 with value: -0.48448596400816824.\n",
      "[I 2023-07-08 08:26:44,322] Trial 57 finished with value: -0.5209173797304814 and parameters: {'classifier': 'XGB', 'xgb_max_depth': 2, 'xgb_estimators': 27, 'xgb_booster': 'dart', 'xgb_scale_pos_weight': 2.605671502535888}. Best is trial 49 with value: -0.48448596400816824.\n",
      "[I 2023-07-08 08:26:45,954] Trial 58 finished with value: -0.587573929707379 and parameters: {'classifier': 'XGB', 'xgb_max_depth': 3, 'xgb_estimators': 23, 'xgb_booster': 'dart', 'xgb_scale_pos_weight': 2.171722326470679}. Best is trial 49 with value: -0.48448596400816824.\n",
      "[I 2023-07-08 08:26:47,479] Trial 59 finished with value: -0.5014141277380708 and parameters: {'classifier': 'XGB', 'xgb_max_depth': 2, 'xgb_estimators': 20, 'xgb_booster': 'dart', 'xgb_scale_pos_weight': 3.3578545739452257}. Best is trial 49 with value: -0.48448596400816824.\n",
      "[I 2023-07-08 08:26:49,002] Trial 60 finished with value: -0.5364344907221835 and parameters: {'classifier': 'XGB', 'xgb_max_depth': 3, 'xgb_estimators': 18, 'xgb_booster': 'dart', 'xgb_scale_pos_weight': 3.5842351635010745}. Best is trial 49 with value: -0.48448596400816824.\n",
      "[I 2023-07-08 08:26:50,542] Trial 61 finished with value: -0.5103520977377569 and parameters: {'classifier': 'XGB', 'xgb_max_depth': 2, 'xgb_estimators': 23, 'xgb_booster': 'dart', 'xgb_scale_pos_weight': 3.1912794518114564}. Best is trial 49 with value: -0.48448596400816824.\n",
      "[I 2023-07-08 08:26:52,053] Trial 62 finished with value: -0.49609595448057997 and parameters: {'classifier': 'XGB', 'xgb_max_depth': 2, 'xgb_estimators': 19, 'xgb_booster': 'dart', 'xgb_scale_pos_weight': 3.2552496464114946}. Best is trial 49 with value: -0.48448596400816824.\n",
      "[I 2023-07-08 08:26:53,605] Trial 63 finished with value: -0.47254186092462624 and parameters: {'classifier': 'XGB', 'xgb_max_depth': 2, 'xgb_estimators': 19, 'xgb_booster': 'dart', 'xgb_scale_pos_weight': 3.6256895315436855}. Best is trial 63 with value: -0.47254186092462624.\n",
      "[I 2023-07-08 08:26:55,196] Trial 64 finished with value: -0.5591045604394963 and parameters: {'classifier': 'XGB', 'xgb_max_depth': 3, 'xgb_estimators': 17, 'xgb_booster': 'dart', 'xgb_scale_pos_weight': 3.495691358417151}. Best is trial 63 with value: -0.47254186092462624.\n",
      "[I 2023-07-08 08:26:56,701] Trial 65 finished with value: -0.4656084933249452 and parameters: {'classifier': 'XGB', 'xgb_max_depth': 2, 'xgb_estimators': 17, 'xgb_booster': 'dart', 'xgb_scale_pos_weight': 3.5374645265109663}. Best is trial 65 with value: -0.4656084933249452.\n",
      "[I 2023-07-08 08:26:58,248] Trial 66 finished with value: -0.4833688649306846 and parameters: {'classifier': 'XGB', 'xgb_max_depth': 3, 'xgb_estimators': 16, 'xgb_booster': 'dart', 'xgb_scale_pos_weight': 4.044322572910826}. Best is trial 65 with value: -0.4656084933249452.\n",
      "[I 2023-07-08 08:26:59,801] Trial 67 finished with value: -0.5108554506312938 and parameters: {'classifier': 'XGB', 'xgb_max_depth': 3, 'xgb_estimators': 14, 'xgb_booster': 'dart', 'xgb_scale_pos_weight': 3.8193439205700668}. Best is trial 65 with value: -0.4656084933249452.\n",
      "[I 2023-07-08 08:27:01,290] Trial 68 finished with value: -0.47301021309197744 and parameters: {'classifier': 'XGB', 'xgb_max_depth': 3, 'xgb_estimators': 13, 'xgb_booster': 'dart', 'xgb_scale_pos_weight': 4.294423503804297}. Best is trial 65 with value: -0.4656084933249452.\n",
      "[I 2023-07-08 08:27:02,862] Trial 69 finished with value: -0.5161177744416896 and parameters: {'classifier': 'XGB', 'xgb_max_depth': 4, 'xgb_estimators': 13, 'xgb_booster': 'dart', 'xgb_scale_pos_weight': 4.554616389151727}. Best is trial 65 with value: -0.4656084933249452.\n",
      "[I 2023-07-08 08:27:04,391] Trial 70 finished with value: -0.4937249133399182 and parameters: {'classifier': 'XGB', 'xgb_max_depth': 3, 'xgb_estimators': 15, 'xgb_booster': 'dart', 'xgb_scale_pos_weight': 4.301203191626961}. Best is trial 65 with value: -0.4656084933249452.\n",
      "[I 2023-07-08 08:27:05,945] Trial 71 finished with value: -0.47103004090027356 and parameters: {'classifier': 'XGB', 'xgb_max_depth': 3, 'xgb_estimators': 17, 'xgb_booster': 'dart', 'xgb_scale_pos_weight': 4.122506567255722}. Best is trial 65 with value: -0.4656084933249452.\n",
      "[I 2023-07-08 08:27:07,463] Trial 72 finished with value: -0.4979899752247908 and parameters: {'classifier': 'XGB', 'xgb_max_depth': 3, 'xgb_estimators': 15, 'xgb_booster': 'dart', 'xgb_scale_pos_weight': 4.344522548076221}. Best is trial 65 with value: -0.4656084933249452.\n",
      "[I 2023-07-08 08:27:09,019] Trial 73 finished with value: -0.5596760887680938 and parameters: {'classifier': 'XGB', 'xgb_max_depth': 4, 'xgb_estimators': 10, 'xgb_booster': 'dart', 'xgb_scale_pos_weight': 4.290980000776283}. Best is trial 65 with value: -0.4656084933249452.\n",
      "[I 2023-07-08 08:27:10,591] Trial 74 finished with value: -0.4881944852171591 and parameters: {'classifier': 'XGB', 'xgb_max_depth': 3, 'xgb_estimators': 15, 'xgb_booster': 'dart', 'xgb_scale_pos_weight': 4.855578791174146}. Best is trial 65 with value: -0.4656084933249452.\n",
      "[I 2023-07-08 08:27:12,103] Trial 75 finished with value: -0.5029980678893564 and parameters: {'classifier': 'XGB', 'xgb_max_depth': 3, 'xgb_estimators': 12, 'xgb_booster': 'dart', 'xgb_scale_pos_weight': 5.009073242921387}. Best is trial 65 with value: -0.4656084933249452.\n",
      "[I 2023-07-08 08:27:13,726] Trial 76 finished with value: -0.5737014555969203 and parameters: {'classifier': 'XGB', 'xgb_max_depth': 4, 'xgb_estimators': 14, 'xgb_booster': 'dart', 'xgb_scale_pos_weight': 4.140696316004449}. Best is trial 65 with value: -0.4656084933249452.\n",
      "[I 2023-07-08 08:27:15,240] Trial 77 finished with value: -0.5090333757842347 and parameters: {'classifier': 'XGB', 'xgb_max_depth': 3, 'xgb_estimators': 16, 'xgb_booster': 'dart', 'xgb_scale_pos_weight': 5.014286503976443}. Best is trial 65 with value: -0.4656084933249452.\n",
      "[I 2023-07-08 08:27:16,627] Trial 78 finished with value: -1.4693567855623173 and parameters: {'classifier': 'SVC', 'svc_c': 1.5052217978493855e-10, 'svc_algo': 'sigmoid', 'svc_cls_wgt': None}. Best is trial 65 with value: -0.4656084933249452.\n",
      "[I 2023-07-08 08:27:18,109] Trial 79 finished with value: -0.5629756127244097 and parameters: {'classifier': 'XGB', 'xgb_max_depth': 4, 'xgb_estimators': 12, 'xgb_booster': 'dart', 'xgb_scale_pos_weight': 3.957915559996944}. Best is trial 65 with value: -0.4656084933249452.\n",
      "[I 2023-07-08 08:27:19,742] Trial 80 finished with value: -0.5290410236720463 and parameters: {'classifier': 'XGB', 'xgb_max_depth': 5, 'xgb_estimators': 18, 'xgb_booster': 'dart', 'xgb_scale_pos_weight': 5.517244913721543}. Best is trial 65 with value: -0.4656084933249452.\n",
      "[I 2023-07-08 08:27:21,306] Trial 81 finished with value: -0.5256496011808772 and parameters: {'classifier': 'XGB', 'xgb_max_depth': 3, 'xgb_estimators': 21, 'xgb_booster': 'dart', 'xgb_scale_pos_weight': 3.926361910882271}. Best is trial 65 with value: -0.4656084933249452.\n",
      "[I 2023-07-08 08:27:22,875] Trial 82 finished with value: -0.5032091099788056 and parameters: {'classifier': 'XGB', 'xgb_max_depth': 3, 'xgb_estimators': 15, 'xgb_booster': 'dart', 'xgb_scale_pos_weight': 4.618879179672259}. Best is trial 65 with value: -0.4656084933249452.\n",
      "[I 2023-07-08 08:27:24,486] Trial 83 finished with value: -0.5520150890780762 and parameters: {'classifier': 'XGB', 'xgb_max_depth': 7, 'xgb_estimators': 10, 'xgb_booster': 'gbtree', 'xgb_scale_pos_weight': 5.851351229765862}. Best is trial 65 with value: -0.4656084933249452.\n",
      "[I 2023-07-08 08:27:26,162] Trial 84 finished with value: -0.6131153886663473 and parameters: {'classifier': 'XGB', 'xgb_max_depth': 5, 'xgb_estimators': 22, 'xgb_booster': 'dart', 'xgb_scale_pos_weight': 3.787448582840456}. Best is trial 65 with value: -0.4656084933249452.\n",
      "[I 2023-07-08 08:27:27,718] Trial 85 finished with value: -0.5787798098642012 and parameters: {'classifier': 'XGB', 'xgb_max_depth': 3, 'xgb_estimators': 15, 'xgb_booster': 'dart', 'xgb_scale_pos_weight': 3.096035710307645}. Best is trial 65 with value: -0.4656084933249452.\n",
      "[I 2023-07-08 08:27:29,416] Trial 86 finished with value: -0.4613786447719973 and parameters: {'classifier': 'XGB', 'xgb_max_depth': 2, 'xgb_estimators': 46, 'xgb_booster': 'gbtree', 'xgb_scale_pos_weight': 4.571081848513139}. Best is trial 86 with value: -0.4613786447719973.\n",
      "[I 2023-07-08 08:27:31,045] Trial 87 finished with value: -0.5475643187922851 and parameters: {'classifier': 'XGB', 'xgb_max_depth': 10, 'xgb_estimators': 12, 'xgb_booster': 'gbtree', 'xgb_scale_pos_weight': 4.637801064907748}. Best is trial 86 with value: -0.4613786447719973.\n",
      "[I 2023-07-08 08:27:32,925] Trial 88 finished with value: -0.6171369248651134 and parameters: {'classifier': 'XGB', 'xgb_max_depth': 13, 'xgb_estimators': 66, 'xgb_booster': 'gbtree', 'xgb_scale_pos_weight': 4.108640963777105}. Best is trial 86 with value: -0.4613786447719973.\n",
      "[I 2023-07-08 08:27:34,413] Trial 89 finished with value: -0.641440678160907 and parameters: {'classifier': 'SVC', 'svc_c': 746.9486928439995, 'svc_algo': 'poly', 'svc_cls_wgt': 'balanced'}. Best is trial 86 with value: -0.4613786447719973.\n",
      "[I 2023-07-08 08:27:36,036] Trial 90 finished with value: -0.6168395083772318 and parameters: {'classifier': 'XGB', 'xgb_max_depth': 5, 'xgb_estimators': 24, 'xgb_booster': 'gbtree', 'xgb_scale_pos_weight': 3.6185803425173195}. Best is trial 86 with value: -0.4613786447719973.\n",
      "[I 2023-07-08 08:27:37,812] Trial 91 finished with value: -0.48626232196608915 and parameters: {'classifier': 'XGB', 'xgb_max_depth': 2, 'xgb_estimators': 42, 'xgb_booster': 'gbtree', 'xgb_scale_pos_weight': 4.996084163285389}. Best is trial 86 with value: -0.4613786447719973.\n",
      "[I 2023-07-08 08:27:39,526] Trial 92 finished with value: -0.42646585646972934 and parameters: {'classifier': 'XGB', 'xgb_max_depth': 2, 'xgb_estimators': 56, 'xgb_booster': 'gbtree', 'xgb_scale_pos_weight': 4.960454951735379}. Best is trial 92 with value: -0.42646585646972934.\n",
      "[I 2023-07-08 08:27:41,180] Trial 93 finished with value: -0.4252766739269644 and parameters: {'classifier': 'XGB', 'xgb_max_depth': 2, 'xgb_estimators': 44, 'xgb_booster': 'gbtree', 'xgb_scale_pos_weight': 5.920212381611387}. Best is trial 93 with value: -0.4252766739269644.\n",
      "[I 2023-07-08 08:27:42,899] Trial 94 finished with value: -0.4486230708255263 and parameters: {'classifier': 'XGB', 'xgb_max_depth': 2, 'xgb_estimators': 46, 'xgb_booster': 'gbtree', 'xgb_scale_pos_weight': 5.637980304219656}. Best is trial 93 with value: -0.4252766739269644.\n",
      "[I 2023-07-08 08:27:44,606] Trial 95 finished with value: -0.4139580177610016 and parameters: {'classifier': 'XGB', 'xgb_max_depth': 2, 'xgb_estimators': 45, 'xgb_booster': 'gbtree', 'xgb_scale_pos_weight': 6.029811752029718}. Best is trial 95 with value: -0.4139580177610016.\n",
      "[I 2023-07-08 08:27:46,319] Trial 96 finished with value: -0.4526558937756954 and parameters: {'classifier': 'XGB', 'xgb_max_depth': 2, 'xgb_estimators': 55, 'xgb_booster': 'gbtree', 'xgb_scale_pos_weight': 6.383435893369466}. Best is trial 95 with value: -0.4139580177610016.\n",
      "[I 2023-07-08 08:27:47,991] Trial 97 finished with value: -0.4315657415774214 and parameters: {'classifier': 'XGB', 'xgb_max_depth': 2, 'xgb_estimators': 52, 'xgb_booster': 'gbtree', 'xgb_scale_pos_weight': 6.051237419890632}. Best is trial 95 with value: -0.4139580177610016.\n",
      "[I 2023-07-08 08:27:49,685] Trial 98 finished with value: -0.42419283001468744 and parameters: {'classifier': 'XGB', 'xgb_max_depth': 2, 'xgb_estimators': 48, 'xgb_booster': 'gbtree', 'xgb_scale_pos_weight': 5.890358327778397}. Best is trial 95 with value: -0.4139580177610016.\n",
      "[I 2023-07-08 08:27:51,380] Trial 99 finished with value: -0.4586987285193997 and parameters: {'classifier': 'XGB', 'xgb_max_depth': 2, 'xgb_estimators': 48, 'xgb_booster': 'gbtree', 'xgb_scale_pos_weight': 6.175048713021747}. Best is trial 95 with value: -0.4139580177610016.\n",
      "[I 2023-07-08 08:27:52,844] Trial 100 finished with value: -1.3661555525549618 and parameters: {'classifier': 'SVC', 'svc_c': 9.023305338673499e-05, 'svc_algo': 'rbf', 'svc_cls_wgt': 'balanced'}. Best is trial 95 with value: -0.4139580177610016.\n",
      "[I 2023-07-08 08:27:54,505] Trial 101 finished with value: -0.40928106121626345 and parameters: {'classifier': 'XGB', 'xgb_max_depth': 2, 'xgb_estimators': 50, 'xgb_booster': 'gbtree', 'xgb_scale_pos_weight': 6.108205041812495}. Best is trial 101 with value: -0.40928106121626345.\n",
      "[I 2023-07-08 08:27:56,180] Trial 102 finished with value: -0.40654953150758455 and parameters: {'classifier': 'XGB', 'xgb_max_depth': 2, 'xgb_estimators': 49, 'xgb_booster': 'gbtree', 'xgb_scale_pos_weight': 6.116379577995687}. Best is trial 102 with value: -0.40654953150758455.\n",
      "[I 2023-07-08 08:27:57,894] Trial 103 finished with value: -0.42309062718205065 and parameters: {'classifier': 'XGB', 'xgb_max_depth': 2, 'xgb_estimators': 48, 'xgb_booster': 'gbtree', 'xgb_scale_pos_weight': 6.132620925101205}. Best is trial 102 with value: -0.40654953150758455.\n",
      "[I 2023-07-08 08:27:59,599] Trial 104 finished with value: -0.45499150990624304 and parameters: {'classifier': 'XGB', 'xgb_max_depth': 2, 'xgb_estimators': 59, 'xgb_booster': 'gbtree', 'xgb_scale_pos_weight': 6.388525991485909}. Best is trial 102 with value: -0.40654953150758455.\n",
      "[I 2023-07-08 08:28:01,338] Trial 105 finished with value: -0.44103779013713923 and parameters: {'classifier': 'XGB', 'xgb_max_depth': 2, 'xgb_estimators': 63, 'xgb_booster': 'gbtree', 'xgb_scale_pos_weight': 6.473184314598817}. Best is trial 102 with value: -0.40654953150758455.\n",
      "[I 2023-07-08 08:28:03,141] Trial 106 finished with value: -0.49640802951903007 and parameters: {'classifier': 'XGB', 'xgb_max_depth': 2, 'xgb_estimators': 67, 'xgb_booster': 'gbtree', 'xgb_scale_pos_weight': 6.86101515343691}. Best is trial 102 with value: -0.40654953150758455.\n",
      "[I 2023-07-08 08:28:04,974] Trial 107 finished with value: -0.5500203161277256 and parameters: {'classifier': 'XGB', 'xgb_max_depth': 23, 'xgb_estimators': 41, 'xgb_booster': 'gbtree', 'xgb_scale_pos_weight': 6.893778982517918}. Best is trial 102 with value: -0.40654953150758455.\n",
      "[I 2023-07-08 08:28:06,658] Trial 108 finished with value: -0.4421607229629022 and parameters: {'classifier': 'XGB', 'xgb_max_depth': 2, 'xgb_estimators': 54, 'xgb_booster': 'gbtree', 'xgb_scale_pos_weight': 5.549717608345227}. Best is trial 102 with value: -0.40654953150758455.\n",
      "[I 2023-07-08 08:28:08,399] Trial 109 finished with value: -0.45256998722325514 and parameters: {'classifier': 'XGB', 'xgb_max_depth': 2, 'xgb_estimators': 52, 'xgb_booster': 'gbtree', 'xgb_scale_pos_weight': 5.53500737183052}. Best is trial 102 with value: -0.40654953150758455.\n",
      "[I 2023-07-08 08:28:10,044] Trial 110 finished with value: -0.4328019568474784 and parameters: {'classifier': 'XGB', 'xgb_max_depth': 2, 'xgb_estimators': 40, 'xgb_booster': 'gbtree', 'xgb_scale_pos_weight': 5.730374964050132}. Best is trial 102 with value: -0.40654953150758455.\n",
      "[I 2023-07-08 08:28:11,683] Trial 111 finished with value: -0.4342078449947593 and parameters: {'classifier': 'XGB', 'xgb_max_depth': 2, 'xgb_estimators': 40, 'xgb_booster': 'gbtree', 'xgb_scale_pos_weight': 5.592384511316205}. Best is trial 102 with value: -0.40654953150758455.\n",
      "[I 2023-07-08 08:28:13,349] Trial 112 finished with value: -0.3985569384125159 and parameters: {'classifier': 'XGB', 'xgb_max_depth': 2, 'xgb_estimators': 40, 'xgb_booster': 'gbtree', 'xgb_scale_pos_weight': 5.958936589459224}. Best is trial 112 with value: -0.3985569384125159.\n",
      "[I 2023-07-08 08:28:15,072] Trial 113 finished with value: -0.4237988172303215 and parameters: {'classifier': 'XGB', 'xgb_max_depth': 2, 'xgb_estimators': 39, 'xgb_booster': 'gbtree', 'xgb_scale_pos_weight': 5.8877203470391315}. Best is trial 112 with value: -0.3985569384125159.\n",
      "[I 2023-07-08 08:28:16,710] Trial 114 finished with value: -0.4209590757394793 and parameters: {'classifier': 'XGB', 'xgb_max_depth': 2, 'xgb_estimators': 38, 'xgb_booster': 'gbtree', 'xgb_scale_pos_weight': 5.908914528511651}. Best is trial 112 with value: -0.3985569384125159.\n",
      "[I 2023-07-08 08:28:18,486] Trial 115 finished with value: -0.5199250467283937 and parameters: {'classifier': 'XGB', 'xgb_max_depth': 8, 'xgb_estimators': 37, 'xgb_booster': 'gbtree', 'xgb_scale_pos_weight': 6.095217656223573}. Best is trial 112 with value: -0.3985569384125159.\n",
      "[I 2023-07-08 08:28:20,116] Trial 116 finished with value: -0.38680564247822036 and parameters: {'classifier': 'XGB', 'xgb_max_depth': 2, 'xgb_estimators': 36, 'xgb_booster': 'gbtree', 'xgb_scale_pos_weight': 7.241843765887814}. Best is trial 116 with value: -0.38680564247822036.\n",
      "[I 2023-07-08 08:28:21,742] Trial 117 finished with value: -0.38136409558436907 and parameters: {'classifier': 'XGB', 'xgb_max_depth': 2, 'xgb_estimators': 33, 'xgb_booster': 'gbtree', 'xgb_scale_pos_weight': 7.158928987695491}. Best is trial 117 with value: -0.38136409558436907.\n",
      "[I 2023-07-08 08:28:23,348] Trial 118 finished with value: -0.37770968044223213 and parameters: {'classifier': 'XGB', 'xgb_max_depth': 2, 'xgb_estimators': 31, 'xgb_booster': 'gbtree', 'xgb_scale_pos_weight': 7.601894077818783}. Best is trial 118 with value: -0.37770968044223213.\n",
      "[I 2023-07-08 08:28:25,244] Trial 119 finished with value: -0.5080530552132069 and parameters: {'classifier': 'XGB', 'xgb_max_depth': 6, 'xgb_estimators': 31, 'xgb_booster': 'gbtree', 'xgb_scale_pos_weight': 7.766548483508419}. Best is trial 118 with value: -0.37770968044223213.\n",
      "[I 2023-07-08 08:28:26,837] Trial 120 finished with value: -0.378368671677005 and parameters: {'classifier': 'XGB', 'xgb_max_depth': 2, 'xgb_estimators': 36, 'xgb_booster': 'gbtree', 'xgb_scale_pos_weight': 7.645662771077338}. Best is trial 118 with value: -0.37770968044223213.\n",
      "[I 2023-07-08 08:28:28,430] Trial 121 finished with value: -0.3648462294534904 and parameters: {'classifier': 'XGB', 'xgb_max_depth': 2, 'xgb_estimators': 33, 'xgb_booster': 'gbtree', 'xgb_scale_pos_weight': 7.714828260752277}. Best is trial 121 with value: -0.3648462294534904.\n",
      "[I 2023-07-08 08:28:30,038] Trial 122 finished with value: -0.44573862216470683 and parameters: {'classifier': 'XGB', 'xgb_max_depth': 2, 'xgb_estimators': 35, 'xgb_booster': 'gbtree', 'xgb_scale_pos_weight': 7.08410407674513}. Best is trial 121 with value: -0.3648462294534904.\n",
      "[I 2023-07-08 08:28:31,769] Trial 123 finished with value: -0.5266183030351084 and parameters: {'classifier': 'XGB', 'xgb_max_depth': 28, 'xgb_estimators': 30, 'xgb_booster': 'gbtree', 'xgb_scale_pos_weight': 7.7598561195125155}. Best is trial 121 with value: -0.3648462294534904.\n",
      "[I 2023-07-08 08:28:33,343] Trial 124 finished with value: -0.4234625256189311 and parameters: {'classifier': 'XGB', 'xgb_max_depth': 2, 'xgb_estimators': 34, 'xgb_booster': 'gbtree', 'xgb_scale_pos_weight': 8.336202887526182}. Best is trial 121 with value: -0.3648462294534904.\n",
      "[I 2023-07-08 08:28:34,935] Trial 125 finished with value: -0.41081223235428493 and parameters: {'classifier': 'XGB', 'xgb_max_depth': 2, 'xgb_estimators': 27, 'xgb_booster': 'gbtree', 'xgb_scale_pos_weight': 8.29068038822266}. Best is trial 121 with value: -0.3648462294534904.\n",
      "[I 2023-07-08 08:28:36,529] Trial 126 finished with value: -0.3959875520255277 and parameters: {'classifier': 'XGB', 'xgb_max_depth': 2, 'xgb_estimators': 27, 'xgb_booster': 'gbtree', 'xgb_scale_pos_weight': 8.31523570860512}. Best is trial 121 with value: -0.3648462294534904.\n",
      "[I 2023-07-08 08:28:37,974] Trial 127 finished with value: -0.641440678160907 and parameters: {'classifier': 'SVC', 'svc_c': 6465.164156894248, 'svc_algo': 'poly', 'svc_cls_wgt': None}. Best is trial 121 with value: -0.3648462294534904.\n",
      "[I 2023-07-08 08:28:39,727] Trial 128 finished with value: -0.5324782660953183 and parameters: {'classifier': 'XGB', 'xgb_max_depth': 8, 'xgb_estimators': 31, 'xgb_booster': 'gbtree', 'xgb_scale_pos_weight': 8.671557839652815}. Best is trial 121 with value: -0.3648462294534904.\n",
      "[I 2023-07-08 08:28:41,506] Trial 129 finished with value: -0.503047231686929 and parameters: {'classifier': 'XGB', 'xgb_max_depth': 6, 'xgb_estimators': 28, 'xgb_booster': 'gbtree', 'xgb_scale_pos_weight': 7.308387938345168}. Best is trial 121 with value: -0.3648462294534904.\n",
      "[I 2023-07-08 08:28:43,043] Trial 130 finished with value: -0.3722724963914622 and parameters: {'classifier': 'XGB', 'xgb_max_depth': 2, 'xgb_estimators': 26, 'xgb_booster': 'gbtree', 'xgb_scale_pos_weight': 7.4249779651253816}. Best is trial 121 with value: -0.3648462294534904.\n",
      "[I 2023-07-08 08:28:44,759] Trial 131 finished with value: -0.5430718910808403 and parameters: {'classifier': 'XGB', 'xgb_max_depth': 16, 'xgb_estimators': 26, 'xgb_booster': 'gbtree', 'xgb_scale_pos_weight': 7.475117594421609}. Best is trial 121 with value: -0.3648462294534904.\n",
      "[I 2023-07-08 08:28:46,298] Trial 132 finished with value: -0.40401284044706304 and parameters: {'classifier': 'XGB', 'xgb_max_depth': 2, 'xgb_estimators': 26, 'xgb_booster': 'gbtree', 'xgb_scale_pos_weight': 6.823272301648919}. Best is trial 121 with value: -0.3648462294534904.\n",
      "[I 2023-07-08 08:28:47,855] Trial 133 finished with value: -0.39846275688660077 and parameters: {'classifier': 'XGB', 'xgb_max_depth': 2, 'xgb_estimators': 26, 'xgb_booster': 'gbtree', 'xgb_scale_pos_weight': 6.735076203931843}. Best is trial 121 with value: -0.3648462294534904.\n",
      "[I 2023-07-08 08:28:49,474] Trial 134 finished with value: -0.3885825031669311 and parameters: {'classifier': 'XGB', 'xgb_max_depth': 2, 'xgb_estimators': 26, 'xgb_booster': 'gbtree', 'xgb_scale_pos_weight': 8.136447788658634}. Best is trial 121 with value: -0.3648462294534904.\n",
      "[I 2023-07-08 08:28:51,072] Trial 135 finished with value: -0.4040287618747132 and parameters: {'classifier': 'XGB', 'xgb_max_depth': 2, 'xgb_estimators': 26, 'xgb_booster': 'gbtree', 'xgb_scale_pos_weight': 8.269530922742286}. Best is trial 121 with value: -0.3648462294534904.\n",
      "[I 2023-07-08 08:28:52,772] Trial 136 finished with value: -0.5267937445230298 and parameters: {'classifier': 'XGB', 'xgb_max_depth': 11, 'xgb_estimators': 25, 'xgb_booster': 'gbtree', 'xgb_scale_pos_weight': 6.7887957825177105}. Best is trial 121 with value: -0.3648462294534904.\n",
      "[I 2023-07-08 08:28:54,354] Trial 137 finished with value: -0.35812364154573223 and parameters: {'classifier': 'XGB', 'xgb_max_depth': 2, 'xgb_estimators': 23, 'xgb_booster': 'gbtree', 'xgb_scale_pos_weight': 7.418987721524444}. Best is trial 137 with value: -0.35812364154573223.\n",
      "[I 2023-07-08 08:28:55,985] Trial 138 finished with value: -0.35815264638064603 and parameters: {'classifier': 'XGB', 'xgb_max_depth': 2, 'xgb_estimators': 23, 'xgb_booster': 'gbtree', 'xgb_scale_pos_weight': 7.41691246058249}. Best is trial 137 with value: -0.35812364154573223.\n",
      "[I 2023-07-08 08:28:57,508] Trial 139 finished with value: -0.3583404821747013 and parameters: {'classifier': 'XGB', 'xgb_max_depth': 2, 'xgb_estimators': 23, 'xgb_booster': 'gbtree', 'xgb_scale_pos_weight': 7.40349552909878}. Best is trial 137 with value: -0.35812364154573223.\n",
      "[I 2023-07-08 08:28:59,078] Trial 140 finished with value: -0.5127125716545778 and parameters: {'classifier': 'XGB', 'xgb_max_depth': 4, 'xgb_estimators': 21, 'xgb_booster': 'gbtree', 'xgb_scale_pos_weight': 7.314081022171717}. Best is trial 137 with value: -0.35812364154573223.\n",
      "[I 2023-07-08 08:29:00,687] Trial 141 finished with value: -0.3679508576122082 and parameters: {'classifier': 'XGB', 'xgb_max_depth': 2, 'xgb_estimators': 25, 'xgb_booster': 'gbtree', 'xgb_scale_pos_weight': 7.8701350221757345}. Best is trial 137 with value: -0.35812364154573223.\n",
      "[I 2023-07-08 08:29:02,255] Trial 142 finished with value: -0.3599402556543493 and parameters: {'classifier': 'XGB', 'xgb_max_depth': 2, 'xgb_estimators': 23, 'xgb_booster': 'gbtree', 'xgb_scale_pos_weight': 7.861423221665374}. Best is trial 137 with value: -0.35812364154573223.\n",
      "[I 2023-07-08 08:29:03,919] Trial 143 finished with value: -0.5455516234124054 and parameters: {'classifier': 'XGB', 'xgb_max_depth': 9, 'xgb_estimators': 23, 'xgb_booster': 'gbtree', 'xgb_scale_pos_weight': 7.714527993757332}. Best is trial 137 with value: -0.35812364154573223.\n",
      "[I 2023-07-08 08:29:05,656] Trial 144 finished with value: -0.5159701528470796 and parameters: {'classifier': 'XGB', 'xgb_max_depth': 17, 'xgb_estimators': 29, 'xgb_booster': 'gbtree', 'xgb_scale_pos_weight': 9.262428741275276}. Best is trial 137 with value: -0.35812364154573223.\n",
      "[I 2023-07-08 08:29:07,195] Trial 145 finished with value: -0.3604177817090008 and parameters: {'classifier': 'XGB', 'xgb_max_depth': 2, 'xgb_estimators': 20, 'xgb_booster': 'gbtree', 'xgb_scale_pos_weight': 7.8594151471189635}. Best is trial 137 with value: -0.35812364154573223.\n",
      "[I 2023-07-08 08:29:08,796] Trial 146 finished with value: -0.36537006256405374 and parameters: {'classifier': 'XGB', 'xgb_max_depth': 2, 'xgb_estimators': 23, 'xgb_booster': 'gbtree', 'xgb_scale_pos_weight': 7.985238489649092}. Best is trial 137 with value: -0.35812364154573223.\n",
      "[I 2023-07-08 08:29:10,455] Trial 147 finished with value: -0.552226893097169 and parameters: {'classifier': 'XGB', 'xgb_max_depth': 32, 'xgb_estimators': 21, 'xgb_booster': 'gbtree', 'xgb_scale_pos_weight': 7.961998018399581}. Best is trial 137 with value: -0.35812364154573223.\n",
      "[I 2023-07-08 08:29:12,133] Trial 148 finished with value: -0.5577233507237702 and parameters: {'classifier': 'XGB', 'xgb_max_depth': 13, 'xgb_estimators': 23, 'xgb_booster': 'gbtree', 'xgb_scale_pos_weight': 7.437917412657285}. Best is trial 137 with value: -0.35812364154573223.\n",
      "[I 2023-07-08 08:29:13,543] Trial 149 finished with value: -0.8362039128863525 and parameters: {'classifier': 'SVC', 'svc_c': 0.005802218918820231, 'svc_algo': 'sigmoid', 'svc_cls_wgt': None}. Best is trial 137 with value: -0.35812364154573223.\n",
      "[I 2023-07-08 08:29:15,165] Trial 150 finished with value: -0.5607928923152399 and parameters: {'classifier': 'XGB', 'xgb_max_depth': 9, 'xgb_estimators': 20, 'xgb_booster': 'gbtree', 'xgb_scale_pos_weight': 8.94830581161275}. Best is trial 137 with value: -0.35812364154573223.\n",
      "[I 2023-07-08 08:29:16,881] Trial 151 finished with value: -0.5249347021536243 and parameters: {'classifier': 'XGB', 'xgb_max_depth': 7, 'xgb_estimators': 24, 'xgb_booster': 'gbtree', 'xgb_scale_pos_weight': 8.038026248827673}. Best is trial 137 with value: -0.35812364154573223.\n",
      "[I 2023-07-08 08:29:18,467] Trial 152 finished with value: -0.3648894005869394 and parameters: {'classifier': 'XGB', 'xgb_max_depth': 2, 'xgb_estimators': 19, 'xgb_booster': 'gbtree', 'xgb_scale_pos_weight': 8.497440905729189}. Best is trial 137 with value: -0.35812364154573223.\n",
      "[I 2023-07-08 08:29:19,994] Trial 153 finished with value: -0.36832547782451946 and parameters: {'classifier': 'XGB', 'xgb_max_depth': 2, 'xgb_estimators': 18, 'xgb_booster': 'gbtree', 'xgb_scale_pos_weight': 8.019801913979707}. Best is trial 137 with value: -0.35812364154573223.\n",
      "[I 2023-07-08 08:29:21,492] Trial 154 finished with value: -0.35906166402121253 and parameters: {'classifier': 'XGB', 'xgb_max_depth': 2, 'xgb_estimators': 18, 'xgb_booster': 'gbtree', 'xgb_scale_pos_weight': 7.521759802061766}. Best is trial 137 with value: -0.35812364154573223.\n",
      "[I 2023-07-08 08:29:23,099] Trial 155 finished with value: -0.4921476995753671 and parameters: {'classifier': 'XGB', 'xgb_max_depth': 4, 'xgb_estimators': 20, 'xgb_booster': 'gbtree', 'xgb_scale_pos_weight': 7.569874983204136}. Best is trial 137 with value: -0.35812364154573223.\n",
      "[I 2023-07-08 08:29:24,681] Trial 156 finished with value: -0.3425043271540434 and parameters: {'classifier': 'XGB', 'xgb_max_depth': 2, 'xgb_estimators': 18, 'xgb_booster': 'gbtree', 'xgb_scale_pos_weight': 7.227257176847681}. Best is trial 156 with value: -0.3425043271540434.\n",
      "[I 2023-07-08 08:29:26,399] Trial 157 finished with value: -0.5518982821600311 and parameters: {'classifier': 'XGB', 'xgb_max_depth': 6, 'xgb_estimators': 18, 'xgb_booster': 'gbtree', 'xgb_scale_pos_weight': 8.828416553359729}. Best is trial 156 with value: -0.3425043271540434.\n",
      "[I 2023-07-08 08:29:27,934] Trial 158 finished with value: -0.3622244592463703 and parameters: {'classifier': 'XGB', 'xgb_max_depth': 2, 'xgb_estimators': 19, 'xgb_booster': 'gbtree', 'xgb_scale_pos_weight': 7.793110153844714}. Best is trial 156 with value: -0.3425043271540434.\n",
      "[I 2023-07-08 08:29:29,479] Trial 159 finished with value: -0.33834386431309516 and parameters: {'classifier': 'XGB', 'xgb_max_depth': 2, 'xgb_estimators': 19, 'xgb_booster': 'gbtree', 'xgb_scale_pos_weight': 9.596736713028248}. Best is trial 159 with value: -0.33834386431309516.\n",
      "[I 2023-07-08 08:29:31,153] Trial 160 finished with value: -0.4873758552504319 and parameters: {'classifier': 'XGB', 'xgb_max_depth': 5, 'xgb_estimators': 19, 'xgb_booster': 'gbtree', 'xgb_scale_pos_weight': 9.981768325049522}. Best is trial 159 with value: -0.33834386431309516.\n",
      "[I 2023-07-08 08:29:32,738] Trial 161 finished with value: -0.357639907192209 and parameters: {'classifier': 'XGB', 'xgb_max_depth': 2, 'xgb_estimators': 22, 'xgb_booster': 'gbtree', 'xgb_scale_pos_weight': 7.8488268659980776}. Best is trial 159 with value: -0.33834386431309516.\n",
      "[I 2023-07-08 08:29:34,286] Trial 162 finished with value: -0.3622296865080923 and parameters: {'classifier': 'XGB', 'xgb_max_depth': 2, 'xgb_estimators': 22, 'xgb_booster': 'gbtree', 'xgb_scale_pos_weight': 8.601383082127441}. Best is trial 159 with value: -0.33834386431309516.\n",
      "[I 2023-07-08 08:29:35,841] Trial 163 finished with value: -0.36078287709081464 and parameters: {'classifier': 'XGB', 'xgb_max_depth': 2, 'xgb_estimators': 22, 'xgb_booster': 'gbtree', 'xgb_scale_pos_weight': 8.638226596967824}. Best is trial 159 with value: -0.33834386431309516.\n",
      "[I 2023-07-08 08:29:37,538] Trial 164 finished with value: -0.5651126606335877 and parameters: {'classifier': 'XGB', 'xgb_max_depth': 18, 'xgb_estimators': 17, 'xgb_booster': 'gbtree', 'xgb_scale_pos_weight': 8.581600436855636}. Best is trial 159 with value: -0.33834386431309516.\n",
      "[I 2023-07-08 08:29:39,086] Trial 165 finished with value: -0.35975992577437604 and parameters: {'classifier': 'XGB', 'xgb_max_depth': 2, 'xgb_estimators': 22, 'xgb_booster': 'gbtree', 'xgb_scale_pos_weight': 9.131566934000046}. Best is trial 159 with value: -0.33834386431309516.\n",
      "[I 2023-07-08 08:29:40,750] Trial 166 finished with value: -0.5695236142219722 and parameters: {'classifier': 'XGB', 'xgb_max_depth': 11, 'xgb_estimators': 22, 'xgb_booster': 'gbtree', 'xgb_scale_pos_weight': 9.15809765470881}. Best is trial 159 with value: -0.33834386431309516.\n",
      "[I 2023-07-08 08:29:42,425] Trial 167 finished with value: -0.3397226050804017 and parameters: {'classifier': 'XGB', 'xgb_max_depth': 2, 'xgb_estimators': 20, 'xgb_booster': 'gbtree', 'xgb_scale_pos_weight': 9.287151049345086}. Best is trial 159 with value: -0.33834386431309516.\n",
      "[I 2023-07-08 08:29:44,098] Trial 168 finished with value: -0.5040111648193493 and parameters: {'classifier': 'XGB', 'xgb_max_depth': 19, 'xgb_estimators': 20, 'xgb_booster': 'gbtree', 'xgb_scale_pos_weight': 9.566440838662633}. Best is trial 159 with value: -0.33834386431309516.\n",
      "[I 2023-07-08 08:29:45,758] Trial 169 finished with value: -0.5346954868326721 and parameters: {'classifier': 'XGB', 'xgb_max_depth': 5, 'xgb_estimators': 22, 'xgb_booster': 'gbtree', 'xgb_scale_pos_weight': 8.882986687674027}. Best is trial 159 with value: -0.33834386431309516.\n",
      "[I 2023-07-08 08:29:47,428] Trial 170 finished with value: -0.5216105205707867 and parameters: {'classifier': 'XGB', 'xgb_max_depth': 13, 'xgb_estimators': 19, 'xgb_booster': 'gbtree', 'xgb_scale_pos_weight': 9.336396637169614}. Best is trial 159 with value: -0.33834386431309516.\n",
      "[I 2023-07-08 08:29:48,980] Trial 171 finished with value: -0.3594477068932458 and parameters: {'classifier': 'XGB', 'xgb_max_depth': 2, 'xgb_estimators': 22, 'xgb_booster': 'gbtree', 'xgb_scale_pos_weight': 8.513078450236748}. Best is trial 159 with value: -0.33834386431309516.\n",
      "[I 2023-07-08 08:29:50,672] Trial 172 finished with value: -0.5643612533243302 and parameters: {'classifier': 'XGB', 'xgb_max_depth': 21, 'xgb_estimators': 18, 'xgb_booster': 'gbtree', 'xgb_scale_pos_weight': 8.58912762284359}. Best is trial 159 with value: -0.33834386431309516.\n",
      "[I 2023-07-08 08:29:52,213] Trial 173 finished with value: -0.3635760053211353 and parameters: {'classifier': 'XGB', 'xgb_max_depth': 2, 'xgb_estimators': 16, 'xgb_booster': 'gbtree', 'xgb_scale_pos_weight': 8.644307930557646}. Best is trial 159 with value: -0.33834386431309516.\n",
      "[I 2023-07-08 08:29:53,757] Trial 174 finished with value: -0.3622296798109058 and parameters: {'classifier': 'XGB', 'xgb_max_depth': 2, 'xgb_estimators': 17, 'xgb_booster': 'gbtree', 'xgb_scale_pos_weight': 8.56903403523163}. Best is trial 159 with value: -0.33834386431309516.\n",
      "[I 2023-07-08 08:29:55,302] Trial 175 finished with value: -0.3428659027998779 and parameters: {'classifier': 'XGB', 'xgb_max_depth': 2, 'xgb_estimators': 16, 'xgb_booster': 'gbtree', 'xgb_scale_pos_weight': 9.719161354176947}. Best is trial 159 with value: -0.33834386431309516.\n",
      "[I 2023-07-08 08:29:56,892] Trial 176 finished with value: -0.34301431002313754 and parameters: {'classifier': 'XGB', 'xgb_max_depth': 2, 'xgb_estimators': 16, 'xgb_booster': 'gbtree', 'xgb_scale_pos_weight': 9.704558754749183}. Best is trial 159 with value: -0.33834386431309516.\n",
      "[I 2023-07-08 08:29:58,396] Trial 177 finished with value: -0.3321467898092588 and parameters: {'classifier': 'XGB', 'xgb_max_depth': 2, 'xgb_estimators': 17, 'xgb_booster': 'gbtree', 'xgb_scale_pos_weight': 9.556343851909885}. Best is trial 177 with value: -0.3321467898092588.\n",
      "[I 2023-07-08 08:29:59,904] Trial 178 finished with value: -0.33724520697437343 and parameters: {'classifier': 'XGB', 'xgb_max_depth': 2, 'xgb_estimators': 16, 'xgb_booster': 'gbtree', 'xgb_scale_pos_weight': 9.877057726852534}. Best is trial 177 with value: -0.3321467898092588.\n",
      "[I 2023-07-08 08:30:01,375] Trial 179 finished with value: -1.4916896949047043 and parameters: {'classifier': 'SVC', 'svc_c': 7.817211691555543e-07, 'svc_algo': 'rbf', 'svc_cls_wgt': 'balanced'}. Best is trial 177 with value: -0.3321467898092588.\n",
      "[I 2023-07-08 08:30:02,867] Trial 180 finished with value: -0.3419651200826624 and parameters: {'classifier': 'XGB', 'xgb_max_depth': 2, 'xgb_estimators': 14, 'xgb_booster': 'gbtree', 'xgb_scale_pos_weight': 9.79679885024768}. Best is trial 177 with value: -0.3321467898092588.\n",
      "[I 2023-07-08 08:30:04,394] Trial 181 finished with value: -0.34355257215623897 and parameters: {'classifier': 'XGB', 'xgb_max_depth': 2, 'xgb_estimators': 16, 'xgb_booster': 'gbtree', 'xgb_scale_pos_weight': 9.651879593914174}. Best is trial 177 with value: -0.3321467898092588.\n",
      "[I 2023-07-08 08:30:05,911] Trial 182 finished with value: -0.32988972151043655 and parameters: {'classifier': 'XGB', 'xgb_max_depth': 2, 'xgb_estimators': 14, 'xgb_booster': 'gbtree', 'xgb_scale_pos_weight': 9.993754743337236}. Best is trial 182 with value: -0.32988972151043655.\n",
      "[I 2023-07-08 08:30:07,462] Trial 183 finished with value: -0.4326675094887313 and parameters: {'classifier': 'XGB', 'xgb_max_depth': 3, 'xgb_estimators': 14, 'xgb_booster': 'gbtree', 'xgb_scale_pos_weight': 9.906536251699245}. Best is trial 182 with value: -0.32988972151043655.\n",
      "[I 2023-07-08 08:30:09,071] Trial 184 finished with value: -0.526454154013669 and parameters: {'classifier': 'XGB', 'xgb_max_depth': 4, 'xgb_estimators': 13, 'xgb_booster': 'gbtree', 'xgb_scale_pos_weight': 9.581533963203595}. Best is trial 182 with value: -0.32988972151043655.\n",
      "[I 2023-07-08 08:30:10,705] Trial 185 finished with value: -0.5214298068578068 and parameters: {'classifier': 'XGB', 'xgb_max_depth': 16, 'xgb_estimators': 16, 'xgb_booster': 'gbtree', 'xgb_scale_pos_weight': 9.93620288021252}. Best is trial 182 with value: -0.32988972151043655.\n",
      "[I 2023-07-08 08:30:12,354] Trial 186 finished with value: -0.5325998028967447 and parameters: {'classifier': 'XGB', 'xgb_max_depth': 26, 'xgb_estimators': 15, 'xgb_booster': 'gbtree', 'xgb_scale_pos_weight': 9.235924575015334}. Best is trial 182 with value: -0.32988972151043655.\n",
      "[I 2023-07-08 08:30:13,998] Trial 187 finished with value: -0.5041406489271674 and parameters: {'classifier': 'XGB', 'xgb_max_depth': 12, 'xgb_estimators': 16, 'xgb_booster': 'gbtree', 'xgb_scale_pos_weight': 9.488731995744079}. Best is trial 182 with value: -0.32988972151043655.\n",
      "[I 2023-07-08 08:30:15,513] Trial 188 finished with value: -0.3460878723049085 and parameters: {'classifier': 'XGB', 'xgb_max_depth': 2, 'xgb_estimators': 14, 'xgb_booster': 'gbtree', 'xgb_scale_pos_weight': 9.159215562341124}. Best is trial 182 with value: -0.32988972151043655.\n",
      "[I 2023-07-08 08:30:17,143] Trial 189 finished with value: -0.3570812811581732 and parameters: {'classifier': 'XGB', 'xgb_max_depth': 2, 'xgb_estimators': 17, 'xgb_booster': 'gbtree', 'xgb_scale_pos_weight': 9.112686988200023}. Best is trial 182 with value: -0.32988972151043655.\n",
      "[I 2023-07-08 08:30:18,702] Trial 190 finished with value: -0.5652824971512296 and parameters: {'classifier': 'XGB', 'xgb_max_depth': 9, 'xgb_estimators': 11, 'xgb_booster': 'gbtree', 'xgb_scale_pos_weight': 9.228253025681736}. Best is trial 182 with value: -0.32988972151043655.\n",
      "[I 2023-07-08 08:30:20,204] Trial 191 finished with value: -0.33529320289566866 and parameters: {'classifier': 'XGB', 'xgb_max_depth': 2, 'xgb_estimators': 13, 'xgb_booster': 'gbtree', 'xgb_scale_pos_weight': 9.689796588737327}. Best is trial 182 with value: -0.32988972151043655.\n",
      "[I 2023-07-08 08:30:21,828] Trial 192 finished with value: -0.5056635954211992 and parameters: {'classifier': 'XGB', 'xgb_max_depth': 15, 'xgb_estimators': 14, 'xgb_booster': 'gbtree', 'xgb_scale_pos_weight': 9.680855992276923}. Best is trial 182 with value: -0.32988972151043655.\n",
      "[I 2023-07-08 08:30:23,303] Trial 193 finished with value: -0.3580474626125245 and parameters: {'classifier': 'XGB', 'xgb_max_depth': 2, 'xgb_estimators': 13, 'xgb_booster': 'gbtree', 'xgb_scale_pos_weight': 9.117412892234686}. Best is trial 182 with value: -0.32988972151043655.\n",
      "[I 2023-07-08 08:30:24,802] Trial 194 finished with value: -0.32495545478861454 and parameters: {'classifier': 'XGB', 'xgb_max_depth': 2, 'xgb_estimators': 13, 'xgb_booster': 'gbtree', 'xgb_scale_pos_weight': 9.974904601424486}. Best is trial 194 with value: -0.32495545478861454.\n",
      "[I 2023-07-08 08:30:26,290] Trial 195 finished with value: -0.3353644283371895 and parameters: {'classifier': 'XGB', 'xgb_max_depth': 2, 'xgb_estimators': 13, 'xgb_booster': 'gbtree', 'xgb_scale_pos_weight': 9.682586679154257}. Best is trial 194 with value: -0.32495545478861454.\n",
      "[I 2023-07-08 08:30:27,920] Trial 196 finished with value: -0.506151921811915 and parameters: {'classifier': 'XGB', 'xgb_max_depth': 10, 'xgb_estimators': 13, 'xgb_booster': 'gbtree', 'xgb_scale_pos_weight': 9.985294094703317}. Best is trial 194 with value: -0.32495545478861454.\n",
      "[I 2023-07-08 08:30:29,453] Trial 197 finished with value: -0.3323217856526798 and parameters: {'classifier': 'XGB', 'xgb_max_depth': 2, 'xgb_estimators': 12, 'xgb_booster': 'gbtree', 'xgb_scale_pos_weight': 9.564615981782614}. Best is trial 194 with value: -0.32495545478861454.\n",
      "[I 2023-07-08 08:30:30,926] Trial 198 finished with value: -0.3417831051328295 and parameters: {'classifier': 'XGB', 'xgb_max_depth': 2, 'xgb_estimators': 11, 'xgb_booster': 'gbtree', 'xgb_scale_pos_weight': 9.528565385128902}. Best is trial 194 with value: -0.32495545478861454.\n",
      "[I 2023-07-08 08:30:32,542] Trial 199 finished with value: -0.5076698237295696 and parameters: {'classifier': 'XGB', 'xgb_max_depth': 8, 'xgb_estimators': 11, 'xgb_booster': 'gbtree', 'xgb_scale_pos_weight': 9.502496083001592}. Best is trial 194 with value: -0.32495545478861454.\n"
     ]
    },
    {
     "name": "stdout",
     "output_type": "stream",
     "text": [
      "FrozenTrial(number=194, state=TrialState.COMPLETE, values=[-0.32495545478861454], datetime_start=datetime.datetime(2023, 7, 8, 8, 30, 23, 306331), datetime_complete=datetime.datetime(2023, 7, 8, 8, 30, 24, 801950), params={'classifier': 'XGB', 'xgb_max_depth': 2, 'xgb_estimators': 13, 'xgb_booster': 'gbtree', 'xgb_scale_pos_weight': 9.974904601424486}, user_attrs={}, system_attrs={}, intermediate_values={}, distributions={'classifier': CategoricalDistribution(choices=('SVC', 'RF', 'XGB')), 'xgb_max_depth': IntDistribution(high=32, log=True, low=2, step=1), 'xgb_estimators': IntDistribution(high=1000, log=True, low=10, step=1), 'xgb_booster': CategoricalDistribution(choices=('gbtree', 'dart')), 'xgb_scale_pos_weight': FloatDistribution(high=10.0, log=True, low=1.0, step=None)}, trial_id=194, value=None)\n"
     ]
    }
   ],
   "source": [
    "study = optuna.create_study(direction='maximize')\n",
    "study.optimize(objective, n_trials=200)\n",
    "print(study.best_trial)"
   ]
  },
  {
   "cell_type": "code",
   "execution_count": 18,
   "id": "fa965f65-1ac0-42a1-9320-9cdffb408812",
   "metadata": {
    "execution": {
     "iopub.execute_input": "2023-07-08T08:31:22.352264Z",
     "iopub.status.busy": "2023-07-08T08:31:22.351729Z",
     "iopub.status.idle": "2023-07-08T08:31:22.357005Z",
     "shell.execute_reply": "2023-07-08T08:31:22.356283Z",
     "shell.execute_reply.started": "2023-07-08T08:31:22.352237Z"
    }
   },
   "outputs": [
    {
     "data": {
      "text/plain": [
       "{'classifier': 'XGB',\n",
       " 'xgb_max_depth': 2,\n",
       " 'xgb_estimators': 13,\n",
       " 'xgb_booster': 'gbtree',\n",
       " 'xgb_scale_pos_weight': 9.974904601424486}"
      ]
     },
     "execution_count": 18,
     "metadata": {},
     "output_type": "execute_result"
    }
   ],
   "source": [
    "study.best_params"
   ]
  },
  {
   "cell_type": "code",
   "execution_count": 19,
   "id": "52e6d404-8704-4492-87f2-4536bd591d6a",
   "metadata": {
    "execution": {
     "iopub.execute_input": "2023-07-08T08:34:27.901503Z",
     "iopub.status.busy": "2023-07-08T08:34:27.900744Z",
     "iopub.status.idle": "2023-07-08T08:34:27.905214Z",
     "shell.execute_reply": "2023-07-08T08:34:27.904607Z",
     "shell.execute_reply.started": "2023-07-08T08:34:27.901476Z"
    }
   },
   "outputs": [],
   "source": [
    "best_pipeline = make_pipeline(CategoricalTransformer(index_of_ej), \n",
    "                              OutlierRemover(),\n",
    "                              IterativeImputer(initial_strategy='median'),\n",
    "                              xgb.XGBClassifier(max_depth=2,\n",
    "                                                n_estimators=13,\n",
    "                                                booster='gbtree',\n",
    "                                                scale_pos_weight = 9.974904601424486,\n",
    "                                                random_state=42,\n",
    "                                                use_label_encoder=False,\n",
    "                                                eval_metric='logloss'))"
   ]
  },
  {
   "cell_type": "code",
   "execution_count": 20,
   "id": "b557c0d7-11ce-4ad7-9a8a-6d203789c332",
   "metadata": {
    "execution": {
     "iopub.execute_input": "2023-07-08T08:34:48.172717Z",
     "iopub.status.busy": "2023-07-08T08:34:48.171941Z",
     "iopub.status.idle": "2023-07-08T08:34:48.647773Z",
     "shell.execute_reply": "2023-07-08T08:34:48.647144Z",
     "shell.execute_reply.started": "2023-07-08T08:34:48.172689Z"
    },
    "tags": []
   },
   "outputs": [
    {
     "data": {
      "text/plain": [
       "-0.41475448386352204"
      ]
     },
     "execution_count": 20,
     "metadata": {},
     "output_type": "execute_result"
    },
    {
     "name": "stderr",
     "output_type": "stream",
     "text": [
      "<frozen importlib._bootstrap>:219: RuntimeWarning: scipy._lib.messagestream.MessageStream size changed, may indicate binary incompatibility. Expected 56 from C header, got 64 from PyObject\n",
      "/anaconda/envs/azureml_py38_PT_and_TF/lib/python3.8/site-packages/xgboost/compat.py:31: FutureWarning: pandas.Int64Index is deprecated and will be removed from pandas in a future version. Use pandas.Index with the appropriate dtype instead.\n",
      "  from pandas import MultiIndex, Int64Index\n",
      "/anaconda/envs/azureml_py38_PT_and_TF/lib/python3.8/site-packages/sklearn/preprocessing/_data.py:3253: RuntimeWarning: divide by zero encountered in log\n",
      "  loglike = -n_samples / 2 * np.log(x_trans.var())\n",
      "/anaconda/envs/azureml_py38_PT_and_TF/lib/python3.8/site-packages/sklearn/preprocessing/_data.py:3253: RuntimeWarning: divide by zero encountered in log\n",
      "  loglike = -n_samples / 2 * np.log(x_trans.var())\n",
      "/anaconda/envs/azureml_py38_PT_and_TF/lib/python3.8/site-packages/sklearn/preprocessing/_data.py:3253: RuntimeWarning: divide by zero encountered in log\n",
      "  loglike = -n_samples / 2 * np.log(x_trans.var())\n",
      "<frozen importlib._bootstrap>:219: RuntimeWarning: scipy._lib.messagestream.MessageStream size changed, may indicate binary incompatibility. Expected 56 from C header, got 64 from PyObject\n",
      "/anaconda/envs/azureml_py38_PT_and_TF/lib/python3.8/site-packages/xgboost/compat.py:31: FutureWarning: pandas.Int64Index is deprecated and will be removed from pandas in a future version. Use pandas.Index with the appropriate dtype instead.\n",
      "  from pandas import MultiIndex, Int64Index\n",
      "/anaconda/envs/azureml_py38_PT_and_TF/lib/python3.8/site-packages/sklearn/preprocessing/_data.py:3253: RuntimeWarning: divide by zero encountered in log\n",
      "  loglike = -n_samples / 2 * np.log(x_trans.var())\n",
      "<frozen importlib._bootstrap>:219: RuntimeWarning: scipy._lib.messagestream.MessageStream size changed, may indicate binary incompatibility. Expected 56 from C header, got 64 from PyObject\n",
      "/anaconda/envs/azureml_py38_PT_and_TF/lib/python3.8/site-packages/xgboost/compat.py:31: FutureWarning: pandas.Int64Index is deprecated and will be removed from pandas in a future version. Use pandas.Index with the appropriate dtype instead.\n",
      "  from pandas import MultiIndex, Int64Index\n",
      "/anaconda/envs/azureml_py38_PT_and_TF/lib/python3.8/site-packages/sklearn/preprocessing/_data.py:3253: RuntimeWarning: divide by zero encountered in log\n",
      "  loglike = -n_samples / 2 * np.log(x_trans.var())\n",
      "/anaconda/envs/azureml_py38_PT_and_TF/lib/python3.8/site-packages/sklearn/preprocessing/_data.py:3253: RuntimeWarning: divide by zero encountered in log\n",
      "  loglike = -n_samples / 2 * np.log(x_trans.var())\n",
      "/anaconda/envs/azureml_py38_PT_and_TF/lib/python3.8/site-packages/sklearn/preprocessing/_data.py:3253: RuntimeWarning: divide by zero encountered in log\n",
      "  loglike = -n_samples / 2 * np.log(x_trans.var())\n",
      "<frozen importlib._bootstrap>:219: RuntimeWarning: scipy._lib.messagestream.MessageStream size changed, may indicate binary incompatibility. Expected 56 from C header, got 64 from PyObject\n",
      "/anaconda/envs/azureml_py38_PT_and_TF/lib/python3.8/site-packages/xgboost/compat.py:31: FutureWarning: pandas.Int64Index is deprecated and will be removed from pandas in a future version. Use pandas.Index with the appropriate dtype instead.\n",
      "  from pandas import MultiIndex, Int64Index\n",
      "/anaconda/envs/azureml_py38_PT_and_TF/lib/python3.8/site-packages/sklearn/preprocessing/_data.py:3253: RuntimeWarning: divide by zero encountered in log\n",
      "  loglike = -n_samples / 2 * np.log(x_trans.var())\n",
      "/anaconda/envs/azureml_py38_PT_and_TF/lib/python3.8/site-packages/sklearn/preprocessing/_data.py:3253: RuntimeWarning: divide by zero encountered in log\n",
      "  loglike = -n_samples / 2 * np.log(x_trans.var())\n",
      "/anaconda/envs/azureml_py38_PT_and_TF/lib/python3.8/site-packages/sklearn/preprocessing/_data.py:3253: RuntimeWarning: divide by zero encountered in log\n",
      "  loglike = -n_samples / 2 * np.log(x_trans.var())\n",
      "/anaconda/envs/azureml_py38_PT_and_TF/lib/python3.8/site-packages/sklearn/preprocessing/_data.py:3253: RuntimeWarning: divide by zero encountered in log\n",
      "  loglike = -n_samples / 2 * np.log(x_trans.var())\n",
      "/anaconda/envs/azureml_py38_PT_and_TF/lib/python3.8/site-packages/sklearn/preprocessing/_data.py:3253: RuntimeWarning: divide by zero encountered in log\n",
      "  loglike = -n_samples / 2 * np.log(x_trans.var())\n"
     ]
    }
   ],
   "source": [
    "best_pipeline.fit(x_train, y_train)\n",
    "log_loss = get_bal_log_loss()\n",
    "log_loss(best_pipeline, x_test, y_test)"
   ]
  },
  {
   "cell_type": "code",
   "execution_count": 21,
   "id": "2fe6ee4a-ba53-4ee2-b28a-1287dd9f6ef0",
   "metadata": {
    "execution": {
     "iopub.execute_input": "2023-07-08T08:36:55.318956Z",
     "iopub.status.busy": "2023-07-08T08:36:55.318480Z",
     "iopub.status.idle": "2023-07-08T08:36:55.323803Z",
     "shell.execute_reply": "2023-07-08T08:36:55.323192Z",
     "shell.execute_reply.started": "2023-07-08T08:36:55.318934Z"
    }
   },
   "outputs": [],
   "source": [
    "def objective(trial):\n",
    "    x, y = x_train, y_train\n",
    "\n",
    "    xgb_max_depth = trial.suggest_int(\"xgb_max_depth\", 2, 32, log=True)\n",
    "    xgb_estimators = trial.suggest_int(\"xgb_estimators\", 10, 1000, log=True)\n",
    "    xgb_booster = trial.suggest_categorical(\"xgb_booster\", ['gbtree', 'dart'])\n",
    "    xgb_scale_pos_weight = trial.suggest_float('xgb_scale_pos_weight', 1, 100, log=True)\n",
    "    classifier_obj = make_pipeline(CategoricalTransformer(index_of_ej), \n",
    "                                   OutlierRemover(),\n",
    "                                   IterativeImputer(initial_strategy='median'),\n",
    "                                   xgb.XGBClassifier(max_depth=xgb_max_depth,\n",
    "                                                     n_estimators=xgb_estimators,\n",
    "                                                     booster=xgb_booster,\n",
    "                                                     scale_pos_weight = xgb_scale_pos_weight,\n",
    "                                                     random_state=42,\n",
    "                                                     use_label_encoder=False,\n",
    "                                                     eval_metric='logloss'))\n",
    "    score = cross_val_score(classifier_obj, \n",
    "                            x, \n",
    "                            y, \n",
    "                            cv=StratifiedKFold(shuffle=True, random_state=42), \n",
    "                            scoring=get_bal_log_loss(),\n",
    "                            n_jobs=-1)\n",
    "    accuracy = score.mean()\n",
    "    return accuracy"
   ]
  },
  {
   "cell_type": "code",
   "execution_count": 22,
   "id": "6d425c11-1aee-4c3d-a12f-ddb439cf006c",
   "metadata": {
    "collapsed": true,
    "execution": {
     "iopub.execute_input": "2023-07-08T08:37:13.599468Z",
     "iopub.status.busy": "2023-07-08T08:37:13.598810Z",
     "iopub.status.idle": "2023-07-08T08:42:50.463409Z",
     "shell.execute_reply": "2023-07-08T08:42:50.462783Z",
     "shell.execute_reply.started": "2023-07-08T08:37:13.599449Z"
    },
    "jupyter": {
     "outputs_hidden": true
    },
    "tags": []
   },
   "outputs": [
    {
     "name": "stderr",
     "output_type": "stream",
     "text": [
      "[I 2023-07-08 08:37:13,600] A new study created in memory with name: no-name-b9c1ad40-77ee-4396-8cf0-e43fd06de551\n",
      "[I 2023-07-08 08:37:16,763] Trial 0 finished with value: -0.30415180946414483 and parameters: {'xgb_max_depth': 2, 'xgb_estimators': 36, 'xgb_booster': 'dart', 'xgb_scale_pos_weight': 22.048752372764103}. Best is trial 0 with value: -0.30415180946414483.\n",
      "[I 2023-07-08 08:37:18,528] Trial 1 finished with value: -0.4325461474861214 and parameters: {'xgb_max_depth': 3, 'xgb_estimators': 42, 'xgb_booster': 'gbtree', 'xgb_scale_pos_weight': 21.752490714820986}. Best is trial 0 with value: -0.30415180946414483.\n",
      "[I 2023-07-08 08:37:21,550] Trial 2 finished with value: -0.5927261629681405 and parameters: {'xgb_max_depth': 10, 'xgb_estimators': 507, 'xgb_booster': 'gbtree', 'xgb_scale_pos_weight': 24.02842720997775}. Best is trial 0 with value: -0.30415180946414483.\n",
      "[I 2023-07-08 08:37:23,467] Trial 3 finished with value: -0.48477949980991786 and parameters: {'xgb_max_depth': 2, 'xgb_estimators': 101, 'xgb_booster': 'gbtree', 'xgb_scale_pos_weight': 8.820838958584757}. Best is trial 0 with value: -0.30415180946414483.\n",
      "[I 2023-07-08 08:37:25,276] Trial 4 finished with value: -0.48937907653572565 and parameters: {'xgb_max_depth': 4, 'xgb_estimators': 39, 'xgb_booster': 'gbtree', 'xgb_scale_pos_weight': 11.311265844079157}. Best is trial 0 with value: -0.30415180946414483.\n",
      "[I 2023-07-08 08:37:26,903] Trial 5 finished with value: -0.47545505427166834 and parameters: {'xgb_max_depth': 6, 'xgb_estimators': 13, 'xgb_booster': 'gbtree', 'xgb_scale_pos_weight': 45.319244033586415}. Best is trial 0 with value: -0.30415180946414483.\n",
      "[I 2023-07-08 08:37:29,798] Trial 6 finished with value: -0.6740328164584781 and parameters: {'xgb_max_depth': 21, 'xgb_estimators': 495, 'xgb_booster': 'gbtree', 'xgb_scale_pos_weight': 5.517283769004837}. Best is trial 0 with value: -0.30415180946414483.\n",
      "[I 2023-07-08 08:37:31,460] Trial 7 finished with value: -0.6408728204350832 and parameters: {'xgb_max_depth': 10, 'xgb_estimators': 12, 'xgb_booster': 'gbtree', 'xgb_scale_pos_weight': 1.8709757680735601}. Best is trial 0 with value: -0.30415180946414483.\n",
      "[I 2023-07-08 08:37:33,209] Trial 8 finished with value: -0.5328104940170003 and parameters: {'xgb_max_depth': 4, 'xgb_estimators': 34, 'xgb_booster': 'dart', 'xgb_scale_pos_weight': 6.557856826004857}. Best is trial 0 with value: -0.30415180946414483.\n",
      "[I 2023-07-08 08:37:34,739] Trial 9 finished with value: -0.24089247760922125 and parameters: {'xgb_max_depth': 2, 'xgb_estimators': 18, 'xgb_booster': 'gbtree', 'xgb_scale_pos_weight': 41.299335701372826}. Best is trial 9 with value: -0.24089247760922125.\n",
      "[I 2023-07-08 08:37:36,213] Trial 10 finished with value: -0.32170259179721467 and parameters: {'xgb_max_depth': 2, 'xgb_estimators': 10, 'xgb_booster': 'dart', 'xgb_scale_pos_weight': 96.07544251642716}. Best is trial 9 with value: -0.24089247760922125.\n",
      "[I 2023-07-08 08:37:37,775] Trial 11 finished with value: -0.2571584239619015 and parameters: {'xgb_max_depth': 2, 'xgb_estimators': 25, 'xgb_booster': 'dart', 'xgb_scale_pos_weight': 50.752171181596914}. Best is trial 9 with value: -0.24089247760922125.\n",
      "[I 2023-07-08 08:37:39,252] Trial 12 finished with value: -0.2538788623850431 and parameters: {'xgb_max_depth': 2, 'xgb_estimators': 21, 'xgb_booster': 'dart', 'xgb_scale_pos_weight': 85.23917697609292}. Best is trial 9 with value: -0.24089247760922125.\n",
      "[I 2023-07-08 08:37:41,190] Trial 13 finished with value: -0.4517013697413108 and parameters: {'xgb_max_depth': 3, 'xgb_estimators': 75, 'xgb_booster': 'dart', 'xgb_scale_pos_weight': 83.01121862041848}. Best is trial 9 with value: -0.24089247760922125.\n",
      "[I 2023-07-08 08:37:42,807] Trial 14 finished with value: -0.31947506491275174 and parameters: {'xgb_max_depth': 3, 'xgb_estimators': 20, 'xgb_booster': 'dart', 'xgb_scale_pos_weight': 98.80607695967149}. Best is trial 9 with value: -0.24089247760922125.\n",
      "[I 2023-07-08 08:37:44,486] Trial 15 finished with value: -0.42394767128541766 and parameters: {'xgb_max_depth': 5, 'xgb_estimators': 18, 'xgb_booster': 'dart', 'xgb_scale_pos_weight': 46.03830503212666}. Best is trial 9 with value: -0.24089247760922125.\n",
      "[I 2023-07-08 08:37:45,936] Trial 16 finished with value: -0.29270084587417255 and parameters: {'xgb_max_depth': 2, 'xgb_estimators': 10, 'xgb_booster': 'dart', 'xgb_scale_pos_weight': 52.10538095243693}. Best is trial 9 with value: -0.24089247760922125.\n",
      "[I 2023-07-08 08:37:47,940] Trial 17 finished with value: -0.4978979610425568 and parameters: {'xgb_max_depth': 8, 'xgb_estimators': 85, 'xgb_booster': 'gbtree', 'xgb_scale_pos_weight': 29.703408153610567}. Best is trial 9 with value: -0.24089247760922125.\n",
      "[I 2023-07-08 08:37:49,541] Trial 18 finished with value: -0.3630663715128026 and parameters: {'xgb_max_depth': 3, 'xgb_estimators': 19, 'xgb_booster': 'gbtree', 'xgb_scale_pos_weight': 64.6493743286014}. Best is trial 9 with value: -0.24089247760922125.\n",
      "[I 2023-07-08 08:37:51,481] Trial 19 finished with value: -0.5188599209777812 and parameters: {'xgb_max_depth': 31, 'xgb_estimators': 60, 'xgb_booster': 'dart', 'xgb_scale_pos_weight': 28.9577799534922}. Best is trial 9 with value: -0.24089247760922125.\n",
      "[I 2023-07-08 08:37:53,680] Trial 20 finished with value: -0.5091706139894059 and parameters: {'xgb_max_depth': 4, 'xgb_estimators': 118, 'xgb_booster': 'dart', 'xgb_scale_pos_weight': 67.34495896901825}. Best is trial 9 with value: -0.24089247760922125.\n",
      "[I 2023-07-08 08:37:55,273] Trial 21 finished with value: -0.23918377630856352 and parameters: {'xgb_max_depth': 2, 'xgb_estimators': 23, 'xgb_booster': 'dart', 'xgb_scale_pos_weight': 42.3421811282007}. Best is trial 21 with value: -0.23918377630856352.\n",
      "[I 2023-07-08 08:37:56,847] Trial 22 finished with value: -0.2679636632926433 and parameters: {'xgb_max_depth': 2, 'xgb_estimators': 26, 'xgb_booster': 'dart', 'xgb_scale_pos_weight': 37.257331922981535}. Best is trial 21 with value: -0.23918377630856352.\n",
      "[I 2023-07-08 08:37:58,390] Trial 23 finished with value: -0.31996092315058533 and parameters: {'xgb_max_depth': 3, 'xgb_estimators': 16, 'xgb_booster': 'dart', 'xgb_scale_pos_weight': 69.16984969762579}. Best is trial 21 with value: -0.23918377630856352.\n",
      "[I 2023-07-08 08:38:00,156] Trial 24 finished with value: -0.23371325915400903 and parameters: {'xgb_max_depth': 2, 'xgb_estimators': 25, 'xgb_booster': 'dart', 'xgb_scale_pos_weight': 35.92582512604342}. Best is trial 24 with value: -0.23371325915400903.\n",
      "[I 2023-07-08 08:38:01,716] Trial 25 finished with value: -0.3432373297334347 and parameters: {'xgb_max_depth': 3, 'xgb_estimators': 14, 'xgb_booster': 'dart', 'xgb_scale_pos_weight': 17.036301534153978}. Best is trial 24 with value: -0.23371325915400903.\n",
      "[I 2023-07-08 08:38:03,447] Trial 26 finished with value: -0.45586919236119583 and parameters: {'xgb_max_depth': 5, 'xgb_estimators': 32, 'xgb_booster': 'gbtree', 'xgb_scale_pos_weight': 35.158790317155024}. Best is trial 24 with value: -0.23371325915400903.\n",
      "[I 2023-07-08 08:38:05,202] Trial 27 finished with value: -0.3603499422583606 and parameters: {'xgb_max_depth': 2, 'xgb_estimators': 52, 'xgb_booster': 'dart', 'xgb_scale_pos_weight': 16.011410305008898}. Best is trial 24 with value: -0.23371325915400903.\n",
      "[I 2023-07-08 08:38:06,875] Trial 28 finished with value: -0.42806801146903206 and parameters: {'xgb_max_depth': 4, 'xgb_estimators': 26, 'xgb_booster': 'gbtree', 'xgb_scale_pos_weight': 37.16862316418469}. Best is trial 24 with value: -0.23371325915400903.\n",
      "[I 2023-07-08 08:38:08,412] Trial 29 finished with value: -0.2933252297965704 and parameters: {'xgb_max_depth': 2, 'xgb_estimators': 14, 'xgb_booster': 'dart', 'xgb_scale_pos_weight': 23.93116901813963}. Best is trial 24 with value: -0.23371325915400903.\n",
      "[I 2023-07-08 08:38:10,272] Trial 30 finished with value: -0.44959461222606095 and parameters: {'xgb_max_depth': 7, 'xgb_estimators': 46, 'xgb_booster': 'dart', 'xgb_scale_pos_weight': 54.324928536006155}. Best is trial 24 with value: -0.23371325915400903.\n",
      "[I 2023-07-08 08:38:11,839] Trial 31 finished with value: -0.24586765362885563 and parameters: {'xgb_max_depth': 2, 'xgb_estimators': 24, 'xgb_booster': 'dart', 'xgb_scale_pos_weight': 75.7774640451619}. Best is trial 24 with value: -0.23371325915400903.\n",
      "[I 2023-07-08 08:38:13,446] Trial 32 finished with value: -0.274064954999883 and parameters: {'xgb_max_depth': 2, 'xgb_estimators': 27, 'xgb_booster': 'dart', 'xgb_scale_pos_weight': 64.68025739530945}. Best is trial 24 with value: -0.23371325915400903.\n",
      "[I 2023-07-08 08:38:15,208] Trial 33 finished with value: -0.3795251044919842 and parameters: {'xgb_max_depth': 3, 'xgb_estimators': 37, 'xgb_booster': 'dart', 'xgb_scale_pos_weight': 40.52111939871346}. Best is trial 24 with value: -0.23371325915400903.\n",
      "[I 2023-07-08 08:38:16,742] Trial 34 finished with value: -0.26079804553096897 and parameters: {'xgb_max_depth': 2, 'xgb_estimators': 16, 'xgb_booster': 'dart', 'xgb_scale_pos_weight': 29.19447507619016}. Best is trial 24 with value: -0.23371325915400903.\n",
      "[I 2023-07-08 08:38:18,358] Trial 35 finished with value: -0.3641254708238349 and parameters: {'xgb_max_depth': 3, 'xgb_estimators': 22, 'xgb_booster': 'gbtree', 'xgb_scale_pos_weight': 18.48530307839991}. Best is trial 24 with value: -0.23371325915400903.\n",
      "[I 2023-07-08 08:38:20,058] Trial 36 finished with value: -0.4045985598808324 and parameters: {'xgb_max_depth': 4, 'xgb_estimators': 31, 'xgb_booster': 'gbtree', 'xgb_scale_pos_weight': 54.27758928685436}. Best is trial 24 with value: -0.23371325915400903.\n",
      "[I 2023-07-08 08:38:21,883] Trial 37 finished with value: -0.5143497859804296 and parameters: {'xgb_max_depth': 15, 'xgb_estimators': 37, 'xgb_booster': 'dart', 'xgb_scale_pos_weight': 22.700832872302062}. Best is trial 24 with value: -0.23371325915400903.\n",
      "[I 2023-07-08 08:38:23,494] Trial 38 finished with value: -0.44712645759835395 and parameters: {'xgb_max_depth': 5, 'xgb_estimators': 13, 'xgb_booster': 'gbtree', 'xgb_scale_pos_weight': 75.40569517354655}. Best is trial 24 with value: -0.23371325915400903.\n",
      "[I 2023-07-08 08:38:25,067] Trial 39 finished with value: -0.24254681442367607 and parameters: {'xgb_max_depth': 2, 'xgb_estimators': 18, 'xgb_booster': 'gbtree', 'xgb_scale_pos_weight': 43.16238717887618}. Best is trial 24 with value: -0.23371325915400903.\n",
      "[I 2023-07-08 08:38:26,689] Trial 40 finished with value: -0.587230815945083 and parameters: {'xgb_max_depth': 9, 'xgb_estimators': 11, 'xgb_booster': 'gbtree', 'xgb_scale_pos_weight': 13.700485587590013}. Best is trial 24 with value: -0.23371325915400903.\n",
      "[I 2023-07-08 08:38:28,291] Trial 41 finished with value: -0.23403458157756293 and parameters: {'xgb_max_depth': 2, 'xgb_estimators': 16, 'xgb_booster': 'gbtree', 'xgb_scale_pos_weight': 44.376105990532075}. Best is trial 24 with value: -0.23371325915400903.\n",
      "[I 2023-07-08 08:38:30,015] Trial 42 finished with value: -0.4883176718088099 and parameters: {'xgb_max_depth': 12, 'xgb_estimators': 18, 'xgb_booster': 'gbtree', 'xgb_scale_pos_weight': 43.63974326655787}. Best is trial 24 with value: -0.23371325915400903.\n",
      "[I 2023-07-08 08:38:31,569] Trial 43 finished with value: -0.2747967288760779 and parameters: {'xgb_max_depth': 2, 'xgb_estimators': 12, 'xgb_booster': 'gbtree', 'xgb_scale_pos_weight': 29.578822076904288}. Best is trial 24 with value: -0.23371325915400903.\n",
      "[I 2023-07-08 08:38:33,199] Trial 44 finished with value: -0.4105470124609926 and parameters: {'xgb_max_depth': 3, 'xgb_estimators': 16, 'xgb_booster': 'gbtree', 'xgb_scale_pos_weight': 20.352803636362566}. Best is trial 24 with value: -0.23371325915400903.\n",
      "[I 2023-07-08 08:38:34,798] Trial 45 finished with value: -0.4997717417877676 and parameters: {'xgb_max_depth': 6, 'xgb_estimators': 10, 'xgb_booster': 'gbtree', 'xgb_scale_pos_weight': 34.21381316743356}. Best is trial 24 with value: -0.23371325915400903.\n",
      "[I 2023-07-08 08:38:36,349] Trial 46 finished with value: -0.24931028939322908 and parameters: {'xgb_max_depth': 2, 'xgb_estimators': 20, 'xgb_booster': 'gbtree', 'xgb_scale_pos_weight': 43.77896886944077}. Best is trial 24 with value: -0.23371325915400903.\n",
      "[I 2023-07-08 08:38:37,975] Trial 47 finished with value: -0.2775650791153489 and parameters: {'xgb_max_depth': 2, 'xgb_estimators': 29, 'xgb_booster': 'gbtree', 'xgb_scale_pos_weight': 56.69358098029039}. Best is trial 24 with value: -0.23371325915400903.\n",
      "[I 2023-07-08 08:38:39,583] Trial 48 finished with value: -0.34214100619158655 and parameters: {'xgb_max_depth': 3, 'xgb_estimators': 14, 'xgb_booster': 'gbtree', 'xgb_scale_pos_weight': 25.44699460332734}. Best is trial 24 with value: -0.23371325915400903.\n",
      "[I 2023-07-08 08:38:41,330] Trial 49 finished with value: -0.5516207323627993 and parameters: {'xgb_max_depth': 11, 'xgb_estimators': 24, 'xgb_booster': 'gbtree', 'xgb_scale_pos_weight': 88.15524994403731}. Best is trial 24 with value: -0.23371325915400903.\n",
      "[I 2023-07-08 08:38:43,333] Trial 50 finished with value: -0.5257943432000038 and parameters: {'xgb_max_depth': 17, 'xgb_estimators': 41, 'xgb_booster': 'gbtree', 'xgb_scale_pos_weight': 49.220876171555524}. Best is trial 24 with value: -0.23371325915400903.\n",
      "[I 2023-07-08 08:38:44,898] Trial 51 finished with value: -0.2560713966837262 and parameters: {'xgb_max_depth': 2, 'xgb_estimators': 22, 'xgb_booster': 'dart', 'xgb_scale_pos_weight': 78.48476079668605}. Best is trial 24 with value: -0.23371325915400903.\n",
      "[I 2023-07-08 08:38:46,462] Trial 52 finished with value: -0.2558853062271916 and parameters: {'xgb_max_depth': 2, 'xgb_estimators': 17, 'xgb_booster': 'dart', 'xgb_scale_pos_weight': 61.80523585526806}. Best is trial 24 with value: -0.23371325915400903.\n",
      "[I 2023-07-08 08:38:48,022] Trial 53 finished with value: -0.25514509669660324 and parameters: {'xgb_max_depth': 2, 'xgb_estimators': 22, 'xgb_booster': 'gbtree', 'xgb_scale_pos_weight': 44.69410934721986}. Best is trial 24 with value: -0.23371325915400903.\n",
      "[I 2023-07-08 08:38:49,735] Trial 54 finished with value: -0.38457572337072915 and parameters: {'xgb_max_depth': 3, 'xgb_estimators': 31, 'xgb_booster': 'dart', 'xgb_scale_pos_weight': 33.823890461764634}. Best is trial 24 with value: -0.23371325915400903.\n",
      "[I 2023-07-08 08:38:51,336] Trial 55 finished with value: -0.5237171650885089 and parameters: {'xgb_max_depth': 8, 'xgb_estimators': 11, 'xgb_booster': 'dart', 'xgb_scale_pos_weight': 95.01153624137913}. Best is trial 24 with value: -0.23371325915400903.\n",
      "[I 2023-07-08 08:38:52,909] Trial 56 finished with value: -0.24870991606895357 and parameters: {'xgb_max_depth': 2, 'xgb_estimators': 19, 'xgb_booster': 'gbtree', 'xgb_scale_pos_weight': 73.99779737372548}. Best is trial 24 with value: -0.23371325915400903.\n",
      "[I 2023-07-08 08:38:54,603] Trial 57 finished with value: -0.456706914731592 and parameters: {'xgb_max_depth': 4, 'xgb_estimators': 26, 'xgb_booster': 'dart', 'xgb_scale_pos_weight': 58.90499854423424}. Best is trial 24 with value: -0.23371325915400903.\n",
      "[I 2023-07-08 08:38:56,196] Trial 58 finished with value: -0.3045859728413651 and parameters: {'xgb_max_depth': 3, 'xgb_estimators': 15, 'xgb_booster': 'gbtree', 'xgb_scale_pos_weight': 39.750766288445725}. Best is trial 24 with value: -0.23371325915400903.\n",
      "[I 2023-07-08 08:38:57,814] Trial 59 finished with value: -0.4563498798707708 and parameters: {'xgb_max_depth': 6, 'xgb_estimators': 13, 'xgb_booster': 'dart', 'xgb_scale_pos_weight': 49.76113664835113}. Best is trial 24 with value: -0.23371325915400903.\n",
      "[I 2023-07-08 08:38:59,386] Trial 60 finished with value: -0.25909061723473037 and parameters: {'xgb_max_depth': 2, 'xgb_estimators': 18, 'xgb_booster': 'dart', 'xgb_scale_pos_weight': 82.6962418850892}. Best is trial 24 with value: -0.23371325915400903.\n",
      "[I 2023-07-08 08:39:00,978] Trial 61 finished with value: -0.2591586465430863 and parameters: {'xgb_max_depth': 2, 'xgb_estimators': 19, 'xgb_booster': 'gbtree', 'xgb_scale_pos_weight': 64.34899818661889}. Best is trial 24 with value: -0.23371325915400903.\n",
      "[I 2023-07-08 08:39:02,638] Trial 62 finished with value: -0.2622729008087941 and parameters: {'xgb_max_depth': 2, 'xgb_estimators': 22, 'xgb_booster': 'gbtree', 'xgb_scale_pos_weight': 73.41837422573028}. Best is trial 24 with value: -0.23371325915400903.\n",
      "[I 2023-07-08 08:39:04,361] Trial 63 finished with value: -0.28026959158932796 and parameters: {'xgb_max_depth': 2, 'xgb_estimators': 35, 'xgb_booster': 'gbtree', 'xgb_scale_pos_weight': 51.66059414354307}. Best is trial 24 with value: -0.23371325915400903.\n",
      "[I 2023-07-08 08:39:06,014] Trial 64 finished with value: -0.3696360163188887 and parameters: {'xgb_max_depth': 3, 'xgb_estimators': 25, 'xgb_booster': 'gbtree', 'xgb_scale_pos_weight': 96.48452940593428}. Best is trial 24 with value: -0.23371325915400903.\n",
      "[I 2023-07-08 08:39:07,647] Trial 65 finished with value: -0.49234530510755176 and parameters: {'xgb_max_depth': 7, 'xgb_estimators': 15, 'xgb_booster': 'gbtree', 'xgb_scale_pos_weight': 38.62024888203104}. Best is trial 24 with value: -0.23371325915400903.\n",
      "[I 2023-07-08 08:39:09,473] Trial 66 finished with value: -0.6255755770457584 and parameters: {'xgb_max_depth': 29, 'xgb_estimators': 18, 'xgb_booster': 'gbtree', 'xgb_scale_pos_weight': 72.77954288313254}. Best is trial 24 with value: -0.23371325915400903.\n",
      "[I 2023-07-08 08:39:11,067] Trial 67 finished with value: -0.25158738233913325 and parameters: {'xgb_max_depth': 2, 'xgb_estimators': 28, 'xgb_booster': 'dart', 'xgb_scale_pos_weight': 47.02388292091081}. Best is trial 24 with value: -0.23371325915400903.\n",
      "[I 2023-07-08 08:39:12,735] Trial 68 finished with value: -0.4166541799383581 and parameters: {'xgb_max_depth': 4, 'xgb_estimators': 20, 'xgb_booster': 'dart', 'xgb_scale_pos_weight': 58.510655397856}. Best is trial 24 with value: -0.23371325915400903.\n",
      "[I 2023-07-08 08:39:14,569] Trial 69 finished with value: -0.45015927355796903 and parameters: {'xgb_max_depth': 5, 'xgb_estimators': 32, 'xgb_booster': 'gbtree', 'xgb_scale_pos_weight': 33.14921282617899}. Best is trial 24 with value: -0.23371325915400903.\n",
      "[I 2023-07-08 08:39:16,115] Trial 70 finished with value: -0.3233095909624083 and parameters: {'xgb_max_depth': 3, 'xgb_estimators': 12, 'xgb_booster': 'dart', 'xgb_scale_pos_weight': 27.141307631000007}. Best is trial 24 with value: -0.23371325915400903.\n",
      "[I 2023-07-08 08:39:17,671] Trial 71 finished with value: -0.25251277658281807 and parameters: {'xgb_max_depth': 2, 'xgb_estimators': 20, 'xgb_booster': 'gbtree', 'xgb_scale_pos_weight': 42.885979908883}. Best is trial 24 with value: -0.23371325915400903.\n",
      "[I 2023-07-08 08:39:19,312] Trial 72 finished with value: -0.2541160871831118 and parameters: {'xgb_max_depth': 2, 'xgb_estimators': 23, 'xgb_booster': 'gbtree', 'xgb_scale_pos_weight': 41.62614592229712}. Best is trial 24 with value: -0.23371325915400903.\n",
      "[I 2023-07-08 08:39:20,886] Trial 73 finished with value: -0.26547680887088954 and parameters: {'xgb_max_depth': 2, 'xgb_estimators': 17, 'xgb_booster': 'gbtree', 'xgb_scale_pos_weight': 68.97029559003846}. Best is trial 24 with value: -0.23371325915400903.\n",
      "[I 2023-07-08 08:39:22,427] Trial 74 finished with value: -0.271065061531966 and parameters: {'xgb_max_depth': 2, 'xgb_estimators': 20, 'xgb_booster': 'gbtree', 'xgb_scale_pos_weight': 31.07162070246423}. Best is trial 24 with value: -0.23371325915400903.\n",
      "[I 2023-07-08 08:39:24,061] Trial 75 finished with value: -0.2656822837978079 and parameters: {'xgb_max_depth': 2, 'xgb_estimators': 15, 'xgb_booster': 'gbtree', 'xgb_scale_pos_weight': 37.44273621299674}. Best is trial 24 with value: -0.23371325915400903.\n",
      "[I 2023-07-08 08:39:25,841] Trial 76 finished with value: -0.4592358483429437 and parameters: {'xgb_max_depth': 10, 'xgb_estimators': 26, 'xgb_booster': 'gbtree', 'xgb_scale_pos_weight': 51.825141112134375}. Best is trial 24 with value: -0.23371325915400903.\n",
      "[I 2023-07-08 08:39:27,636] Trial 77 finished with value: -0.48844826623452714 and parameters: {'xgb_max_depth': 9, 'xgb_estimators': 24, 'xgb_booster': 'gbtree', 'xgb_scale_pos_weight': 24.313904626940865}. Best is trial 24 with value: -0.23371325915400903.\n",
      "[I 2023-07-08 08:39:29,420] Trial 78 finished with value: -0.3771241690636467 and parameters: {'xgb_max_depth': 3, 'xgb_estimators': 34, 'xgb_booster': 'dart', 'xgb_scale_pos_weight': 84.2253935830054}. Best is trial 24 with value: -0.23371325915400903.\n",
      "[I 2023-07-08 08:39:31,103] Trial 79 finished with value: -0.5228799698491975 and parameters: {'xgb_max_depth': 13, 'xgb_estimators': 13, 'xgb_booster': 'gbtree', 'xgb_scale_pos_weight': 44.889031504930564}. Best is trial 24 with value: -0.23371325915400903.\n",
      "[I 2023-07-08 08:39:33,040] Trial 80 finished with value: -0.5670584162773938 and parameters: {'xgb_max_depth': 22, 'xgb_estimators': 44, 'xgb_booster': 'dart', 'xgb_scale_pos_weight': 60.52274467632286}. Best is trial 24 with value: -0.23371325915400903.\n",
      "[I 2023-07-08 08:39:34,727] Trial 81 finished with value: -0.261482407819157 and parameters: {'xgb_max_depth': 2, 'xgb_estimators': 28, 'xgb_booster': 'dart', 'xgb_scale_pos_weight': 47.907780356793744}. Best is trial 24 with value: -0.23371325915400903.\n",
      "[I 2023-07-08 08:39:36,275] Trial 82 finished with value: -0.2675797343078747 and parameters: {'xgb_max_depth': 2, 'xgb_estimators': 28, 'xgb_booster': 'dart', 'xgb_scale_pos_weight': 35.237509789303815}. Best is trial 24 with value: -0.23371325915400903.\n",
      "[I 2023-07-08 08:39:37,811] Trial 83 finished with value: -0.27163200442647667 and parameters: {'xgb_max_depth': 2, 'xgb_estimators': 21, 'xgb_booster': 'dart', 'xgb_scale_pos_weight': 45.03981908149892}. Best is trial 24 with value: -0.23371325915400903.\n",
      "[I 2023-07-08 08:39:39,469] Trial 84 finished with value: -0.46203794329920533 and parameters: {'xgb_max_depth': 5, 'xgb_estimators': 17, 'xgb_booster': 'dart', 'xgb_scale_pos_weight': 57.757189506618076}. Best is trial 24 with value: -0.23371325915400903.\n",
      "[I 2023-07-08 08:39:41,180] Trial 85 finished with value: -0.5196255171000906 and parameters: {'xgb_max_depth': 8, 'xgb_estimators': 19, 'xgb_booster': 'dart', 'xgb_scale_pos_weight': 31.60256300478351}. Best is trial 24 with value: -0.23371325915400903.\n",
      "[I 2023-07-08 08:39:43,013] Trial 86 finished with value: -0.4838128730239541 and parameters: {'xgb_max_depth': 14, 'xgb_estimators': 29, 'xgb_booster': 'dart', 'xgb_scale_pos_weight': 27.611096454173396}. Best is trial 24 with value: -0.23371325915400903.\n",
      "[I 2023-07-08 08:39:44,705] Trial 87 finished with value: -0.359816090940073 and parameters: {'xgb_max_depth': 3, 'xgb_estimators': 24, 'xgb_booster': 'gbtree', 'xgb_scale_pos_weight': 65.83653621766008}. Best is trial 24 with value: -0.23371325915400903.\n",
      "[I 2023-07-08 08:39:46,245] Trial 88 finished with value: -0.2656366009845442 and parameters: {'xgb_max_depth': 2, 'xgb_estimators': 16, 'xgb_booster': 'dart', 'xgb_scale_pos_weight': 39.288233062898136}. Best is trial 24 with value: -0.23371325915400903.\n",
      "[I 2023-07-08 08:39:48,000] Trial 89 finished with value: -0.5367655520211032 and parameters: {'xgb_max_depth': 18, 'xgb_estimators': 23, 'xgb_booster': 'gbtree', 'xgb_scale_pos_weight': 53.443206443838626}. Best is trial 24 with value: -0.23371325915400903.\n",
      "[I 2023-07-08 08:39:49,853] Trial 90 finished with value: -0.4267526387399895 and parameters: {'xgb_max_depth': 4, 'xgb_estimators': 39, 'xgb_booster': 'gbtree', 'xgb_scale_pos_weight': 47.64752512188408}. Best is trial 24 with value: -0.23371325915400903.\n",
      "[I 2023-07-08 08:39:51,397] Trial 91 finished with value: -0.2423788741823148 and parameters: {'xgb_max_depth': 2, 'xgb_estimators': 20, 'xgb_booster': 'gbtree', 'xgb_scale_pos_weight': 41.42432654743344}. Best is trial 24 with value: -0.23371325915400903.\n",
      "[I 2023-07-08 08:39:52,972] Trial 92 finished with value: -0.24257434357566537 and parameters: {'xgb_max_depth': 2, 'xgb_estimators': 20, 'xgb_booster': 'gbtree', 'xgb_scale_pos_weight': 35.89054037758244}. Best is trial 24 with value: -0.23371325915400903.\n",
      "[I 2023-07-08 08:39:54,594] Trial 93 finished with value: -0.26379233182111095 and parameters: {'xgb_max_depth': 2, 'xgb_estimators': 21, 'xgb_booster': 'gbtree', 'xgb_scale_pos_weight': 31.60529441602146}. Best is trial 24 with value: -0.23371325915400903.\n",
      "[I 2023-07-08 08:39:56,349] Trial 94 finished with value: -0.5297972652027858 and parameters: {'xgb_max_depth': 11, 'xgb_estimators': 18, 'xgb_booster': 'gbtree', 'xgb_scale_pos_weight': 39.65183220222209}. Best is trial 24 with value: -0.23371325915400903.\n",
      "[I 2023-07-08 08:39:57,871] Trial 95 finished with value: -0.26502732359311326 and parameters: {'xgb_max_depth': 2, 'xgb_estimators': 14, 'xgb_booster': 'gbtree', 'xgb_scale_pos_weight': 35.92322958076513}. Best is trial 24 with value: -0.23371325915400903.\n",
      "[I 2023-07-08 08:39:59,560] Trial 96 finished with value: -0.4155379481788096 and parameters: {'xgb_max_depth': 7, 'xgb_estimators': 19, 'xgb_booster': 'gbtree', 'xgb_scale_pos_weight': 68.97420221413063}. Best is trial 24 with value: -0.23371325915400903.\n",
      "[I 2023-07-08 08:40:01,114] Trial 97 finished with value: -0.3115273585951245 and parameters: {'xgb_max_depth': 2, 'xgb_estimators': 11, 'xgb_booster': 'gbtree', 'xgb_scale_pos_weight': 76.1071960419586}. Best is trial 24 with value: -0.23371325915400903.\n",
      "[I 2023-07-08 08:40:02,792] Trial 98 finished with value: -0.35916898227541927 and parameters: {'xgb_max_depth': 3, 'xgb_estimators': 16, 'xgb_booster': 'gbtree', 'xgb_scale_pos_weight': 54.727047264349935}. Best is trial 24 with value: -0.23371325915400903.\n",
      "[I 2023-07-08 08:40:04,617] Trial 99 finished with value: -0.48307471171531696 and parameters: {'xgb_max_depth': 5, 'xgb_estimators': 22, 'xgb_booster': 'gbtree', 'xgb_scale_pos_weight': 42.965932940641515}. Best is trial 24 with value: -0.23371325915400903.\n",
      "[I 2023-07-08 08:40:06,238] Trial 100 finished with value: -0.2667866902937353 and parameters: {'xgb_max_depth': 2, 'xgb_estimators': 26, 'xgb_booster': 'gbtree', 'xgb_scale_pos_weight': 21.690917471297997}. Best is trial 24 with value: -0.23371325915400903.\n",
      "[I 2023-07-08 08:40:07,876] Trial 101 finished with value: -0.27499199237591776 and parameters: {'xgb_max_depth': 2, 'xgb_estimators': 30, 'xgb_booster': 'dart', 'xgb_scale_pos_weight': 48.85381157131101}. Best is trial 24 with value: -0.23371325915400903.\n",
      "[I 2023-07-08 08:40:09,610] Trial 102 finished with value: -0.5181941928139429 and parameters: {'xgb_max_depth': 12, 'xgb_estimators': 20, 'xgb_booster': 'gbtree', 'xgb_scale_pos_weight': 28.60350465975012}. Best is trial 24 with value: -0.23371325915400903.\n",
      "[I 2023-07-08 08:40:11,181] Trial 103 finished with value: -0.23914347541897332 and parameters: {'xgb_max_depth': 2, 'xgb_estimators': 24, 'xgb_booster': 'gbtree', 'xgb_scale_pos_weight': 35.44811686839179}. Best is trial 24 with value: -0.23371325915400903.\n",
      "[I 2023-07-08 08:40:12,736] Trial 104 finished with value: -0.23663962281713888 and parameters: {'xgb_max_depth': 2, 'xgb_estimators': 17, 'xgb_booster': 'gbtree', 'xgb_scale_pos_weight': 36.09287013738144}. Best is trial 24 with value: -0.23371325915400903.\n",
      "[I 2023-07-08 08:40:14,330] Trial 105 finished with value: -0.2617693313201245 and parameters: {'xgb_max_depth': 2, 'xgb_estimators': 24, 'xgb_booster': 'gbtree', 'xgb_scale_pos_weight': 34.76035428937499}. Best is trial 24 with value: -0.23371325915400903.\n",
      "[I 2023-07-08 08:40:16,018] Trial 106 finished with value: -0.5179279512027837 and parameters: {'xgb_max_depth': 21, 'xgb_estimators': 16, 'xgb_booster': 'gbtree', 'xgb_scale_pos_weight': 26.23399334900744}. Best is trial 24 with value: -0.23371325915400903.\n",
      "[I 2023-07-08 08:40:17,698] Trial 107 finished with value: -0.4666543884115851 and parameters: {'xgb_max_depth': 6, 'xgb_estimators': 14, 'xgb_booster': 'gbtree', 'xgb_scale_pos_weight': 38.84379084301383}. Best is trial 24 with value: -0.23371325915400903.\n",
      "[I 2023-07-08 08:40:19,405] Trial 108 finished with value: -0.46695505715204255 and parameters: {'xgb_max_depth': 10, 'xgb_estimators': 18, 'xgb_booster': 'gbtree', 'xgb_scale_pos_weight': 31.30965087986277}. Best is trial 24 with value: -0.23371325915400903.\n",
      "[I 2023-07-08 08:40:21,217] Trial 109 finished with value: -0.48087039862185926 and parameters: {'xgb_max_depth': 9, 'xgb_estimators': 33, 'xgb_booster': 'gbtree', 'xgb_scale_pos_weight': 36.399266169003674}. Best is trial 24 with value: -0.23371325915400903.\n",
      "[I 2023-07-08 08:40:22,996] Trial 110 finished with value: -0.4638604341076986 and parameters: {'xgb_max_depth': 16, 'xgb_estimators': 22, 'xgb_booster': 'gbtree', 'xgb_scale_pos_weight': 42.020400080101574}. Best is trial 24 with value: -0.23371325915400903.\n",
      "[I 2023-07-08 08:40:24,532] Trial 111 finished with value: -0.2628901826879545 and parameters: {'xgb_max_depth': 2, 'xgb_estimators': 17, 'xgb_booster': 'gbtree', 'xgb_scale_pos_weight': 55.92973553988084}. Best is trial 24 with value: -0.23371325915400903.\n",
      "[I 2023-07-08 08:40:26,255] Trial 112 finished with value: -0.44010879490001653 and parameters: {'xgb_max_depth': 6, 'xgb_estimators': 20, 'xgb_booster': 'gbtree', 'xgb_scale_pos_weight': 62.949875322591126}. Best is trial 24 with value: -0.23371325915400903.\n",
      "[I 2023-07-08 08:40:27,814] Trial 113 finished with value: -0.2503712780312347 and parameters: {'xgb_max_depth': 2, 'xgb_estimators': 25, 'xgb_booster': 'gbtree', 'xgb_scale_pos_weight': 41.962896617046255}. Best is trial 24 with value: -0.23371325915400903.\n",
      "[I 2023-07-08 08:40:29,358] Trial 114 finished with value: -0.25774220619049687 and parameters: {'xgb_max_depth': 2, 'xgb_estimators': 19, 'xgb_booster': 'gbtree', 'xgb_scale_pos_weight': 33.23685131318475}. Best is trial 24 with value: -0.23371325915400903.\n",
      "[I 2023-07-08 08:40:30,975] Trial 115 finished with value: -0.38592405921417355 and parameters: {'xgb_max_depth': 4, 'xgb_estimators': 15, 'xgb_booster': 'gbtree', 'xgb_scale_pos_weight': 51.5398285402474}. Best is trial 24 with value: -0.23371325915400903.\n",
      "[I 2023-07-08 08:40:32,479] Trial 116 finished with value: -0.2645652056943441 and parameters: {'xgb_max_depth': 2, 'xgb_estimators': 27, 'xgb_booster': 'gbtree', 'xgb_scale_pos_weight': 46.65398296163012}. Best is trial 24 with value: -0.23371325915400903.\n",
      "[I 2023-07-08 08:40:34,078] Trial 117 finished with value: -0.2731572968913739 and parameters: {'xgb_max_depth': 2, 'xgb_estimators': 22, 'xgb_booster': 'gbtree', 'xgb_scale_pos_weight': 37.10962916901468}. Best is trial 24 with value: -0.23371325915400903.\n",
      "[I 2023-07-08 08:40:35,695] Trial 118 finished with value: -0.3334934847789653 and parameters: {'xgb_max_depth': 3, 'xgb_estimators': 13, 'xgb_booster': 'gbtree', 'xgb_scale_pos_weight': 30.020035734831623}. Best is trial 24 with value: -0.23371325915400903.\n",
      "[I 2023-07-08 08:40:37,464] Trial 119 finished with value: -0.4636469823806884 and parameters: {'xgb_max_depth': 8, 'xgb_estimators': 31, 'xgb_booster': 'gbtree', 'xgb_scale_pos_weight': 24.369192850212357}. Best is trial 24 with value: -0.23371325915400903.\n",
      "[I 2023-07-08 08:40:39,024] Trial 120 finished with value: -0.2649907399073685 and parameters: {'xgb_max_depth': 2, 'xgb_estimators': 17, 'xgb_booster': 'gbtree', 'xgb_scale_pos_weight': 79.85894337622317}. Best is trial 24 with value: -0.23371325915400903.\n",
      "[I 2023-07-08 08:40:40,604] Trial 121 finished with value: -0.27567971725512896 and parameters: {'xgb_max_depth': 2, 'xgb_estimators': 26, 'xgb_booster': 'gbtree', 'xgb_scale_pos_weight': 41.00591360108946}. Best is trial 24 with value: -0.23371325915400903.\n",
      "[I 2023-07-08 08:40:42,187] Trial 122 finished with value: -0.23798152579816606 and parameters: {'xgb_max_depth': 2, 'xgb_estimators': 24, 'xgb_booster': 'gbtree', 'xgb_scale_pos_weight': 42.360240709365414}. Best is trial 24 with value: -0.23371325915400903.\n",
      "[I 2023-07-08 08:40:43,748] Trial 123 finished with value: -0.25238265400063475 and parameters: {'xgb_max_depth': 2, 'xgb_estimators': 21, 'xgb_booster': 'gbtree', 'xgb_scale_pos_weight': 44.62572187632578}. Best is trial 24 with value: -0.23371325915400903.\n",
      "[I 2023-07-08 08:40:45,553] Trial 124 finished with value: -0.4897998904418158 and parameters: {'xgb_max_depth': 11, 'xgb_estimators': 23, 'xgb_booster': 'gbtree', 'xgb_scale_pos_weight': 33.40853445266677}. Best is trial 24 with value: -0.23371325915400903.\n",
      "[I 2023-07-08 08:40:47,390] Trial 125 finished with value: -0.5102138924144597 and parameters: {'xgb_max_depth': 23, 'xgb_estimators': 36, 'xgb_booster': 'gbtree', 'xgb_scale_pos_weight': 28.160051093773113}. Best is trial 24 with value: -0.23371325915400903.\n",
      "[I 2023-07-08 08:40:48,967] Trial 126 finished with value: -0.2585589570198545 and parameters: {'xgb_max_depth': 2, 'xgb_estimators': 19, 'xgb_booster': 'gbtree', 'xgb_scale_pos_weight': 60.55205810451566}. Best is trial 24 with value: -0.23371325915400903.\n",
      "[I 2023-07-08 08:40:50,818] Trial 127 finished with value: -0.5468967269481257 and parameters: {'xgb_max_depth': 17, 'xgb_estimators': 24, 'xgb_booster': 'dart', 'xgb_scale_pos_weight': 52.35965909539677}. Best is trial 24 with value: -0.23371325915400903.\n",
      "[I 2023-07-08 08:40:52,414] Trial 128 finished with value: -0.2691272345211979 and parameters: {'xgb_max_depth': 2, 'xgb_estimators': 29, 'xgb_booster': 'gbtree', 'xgb_scale_pos_weight': 37.92113291155782}. Best is trial 24 with value: -0.23371325915400903.\n",
      "[I 2023-07-08 08:40:53,883] Trial 129 finished with value: -0.3020891715509621 and parameters: {'xgb_max_depth': 2, 'xgb_estimators': 12, 'xgb_booster': 'gbtree', 'xgb_scale_pos_weight': 46.76105022074989}. Best is trial 24 with value: -0.23371325915400903.\n",
      "[I 2023-07-08 08:40:55,482] Trial 130 finished with value: -0.286758048366726 and parameters: {'xgb_max_depth': 2, 'xgb_estimators': 15, 'xgb_booster': 'dart', 'xgb_scale_pos_weight': 67.51659736393403}. Best is trial 24 with value: -0.23371325915400903.\n",
      "[I 2023-07-08 08:40:57,254] Trial 131 finished with value: -0.5221432082176274 and parameters: {'xgb_max_depth': 13, 'xgb_estimators': 25, 'xgb_booster': 'gbtree', 'xgb_scale_pos_weight': 41.09067371813624}. Best is trial 24 with value: -0.23371325915400903.\n",
      "[I 2023-07-08 08:40:58,836] Trial 132 finished with value: -0.23830741070956285 and parameters: {'xgb_max_depth': 2, 'xgb_estimators': 20, 'xgb_booster': 'gbtree', 'xgb_scale_pos_weight': 42.3555108637796}. Best is trial 24 with value: -0.23371325915400903.\n",
      "[I 2023-07-08 08:41:00,349] Trial 133 finished with value: -0.25948250208381596 and parameters: {'xgb_max_depth': 2, 'xgb_estimators': 18, 'xgb_booster': 'gbtree', 'xgb_scale_pos_weight': 35.17768328840291}. Best is trial 24 with value: -0.23371325915400903.\n",
      "[I 2023-07-08 08:41:02,139] Trial 134 finished with value: -0.505049937960323 and parameters: {'xgb_max_depth': 16, 'xgb_estimators': 21, 'xgb_booster': 'gbtree', 'xgb_scale_pos_weight': 48.65232581572357}. Best is trial 24 with value: -0.23371325915400903.\n",
      "[I 2023-07-08 08:41:03,803] Trial 135 finished with value: -0.47060862611478627 and parameters: {'xgb_max_depth': 9, 'xgb_estimators': 17, 'xgb_booster': 'gbtree', 'xgb_scale_pos_weight': 57.10727724796034}. Best is trial 24 with value: -0.23371325915400903.\n",
      "[I 2023-07-08 08:41:05,626] Trial 136 finished with value: -0.5614799645190988 and parameters: {'xgb_max_depth': 14, 'xgb_estimators': 20, 'xgb_booster': 'gbtree', 'xgb_scale_pos_weight': 87.0493877784143}. Best is trial 24 with value: -0.23371325915400903.\n",
      "[I 2023-07-08 08:41:07,486] Trial 137 finished with value: -0.4336902846874399 and parameters: {'xgb_max_depth': 8, 'xgb_estimators': 23, 'xgb_booster': 'gbtree', 'xgb_scale_pos_weight': 43.69558937893296}. Best is trial 24 with value: -0.23371325915400903.\n",
      "[I 2023-07-08 08:41:09,116] Trial 138 finished with value: -0.5295073579675998 and parameters: {'xgb_max_depth': 24, 'xgb_estimators': 16, 'xgb_booster': 'dart', 'xgb_scale_pos_weight': 32.53349850658371}. Best is trial 24 with value: -0.23371325915400903.\n",
      "[I 2023-07-08 08:41:10,933] Trial 139 finished with value: -0.49395611188964794 and parameters: {'xgb_max_depth': 19, 'xgb_estimators': 28, 'xgb_booster': 'gbtree', 'xgb_scale_pos_weight': 26.03254541788465}. Best is trial 24 with value: -0.23371325915400903.\n",
      "[I 2023-07-08 08:41:12,737] Trial 140 finished with value: -0.5580861739647145 and parameters: {'xgb_max_depth': 29, 'xgb_estimators': 19, 'xgb_booster': 'gbtree', 'xgb_scale_pos_weight': 51.31132213038323}. Best is trial 24 with value: -0.23371325915400903.\n",
      "[I 2023-07-08 08:41:14,339] Trial 141 finished with value: -0.26752754435050424 and parameters: {'xgb_max_depth': 2, 'xgb_estimators': 25, 'xgb_booster': 'gbtree', 'xgb_scale_pos_weight': 40.57466942865396}. Best is trial 24 with value: -0.23371325915400903.\n",
      "[I 2023-07-08 08:41:15,947] Trial 142 finished with value: -0.24696133056792777 and parameters: {'xgb_max_depth': 2, 'xgb_estimators': 21, 'xgb_booster': 'gbtree', 'xgb_scale_pos_weight': 43.76933798839701}. Best is trial 24 with value: -0.23371325915400903.\n",
      "[I 2023-07-08 08:41:17,617] Trial 143 finished with value: -0.41203719796343724 and parameters: {'xgb_max_depth': 7, 'xgb_estimators': 21, 'xgb_booster': 'gbtree', 'xgb_scale_pos_weight': 36.53693101606852}. Best is trial 24 with value: -0.23371325915400903.\n",
      "[I 2023-07-08 08:41:19,278] Trial 144 finished with value: -0.472964789799385 and parameters: {'xgb_max_depth': 6, 'xgb_estimators': 18, 'xgb_booster': 'gbtree', 'xgb_scale_pos_weight': 72.61485150896647}. Best is trial 24 with value: -0.23371325915400903.\n",
      "[I 2023-07-08 08:41:20,941] Trial 145 finished with value: -0.48167840157027175 and parameters: {'xgb_max_depth': 7, 'xgb_estimators': 14, 'xgb_booster': 'gbtree', 'xgb_scale_pos_weight': 95.36108324747244}. Best is trial 24 with value: -0.23371325915400903.\n",
      "[I 2023-07-08 08:41:22,717] Trial 146 finished with value: -0.496923486436296 and parameters: {'xgb_max_depth': 19, 'xgb_estimators': 23, 'xgb_booster': 'gbtree', 'xgb_scale_pos_weight': 29.615817620569196}. Best is trial 24 with value: -0.23371325915400903.\n",
      "[I 2023-07-08 08:41:24,343] Trial 147 finished with value: -0.24661507842625313 and parameters: {'xgb_max_depth': 2, 'xgb_estimators': 20, 'xgb_booster': 'dart', 'xgb_scale_pos_weight': 44.69117599207972}. Best is trial 24 with value: -0.23371325915400903.\n",
      "[I 2023-07-08 08:41:26,009] Trial 148 finished with value: -0.4205591444829591 and parameters: {'xgb_max_depth': 4, 'xgb_estimators': 16, 'xgb_booster': 'dart', 'xgb_scale_pos_weight': 38.96893521213864}. Best is trial 24 with value: -0.23371325915400903.\n",
      "[I 2023-07-08 08:41:27,594] Trial 149 finished with value: -0.262904646273047 and parameters: {'xgb_max_depth': 2, 'xgb_estimators': 21, 'xgb_booster': 'dart', 'xgb_scale_pos_weight': 45.79512508423389}. Best is trial 24 with value: -0.23371325915400903.\n",
      "[I 2023-07-08 08:41:29,286] Trial 150 finished with value: -0.26758389197844784 and parameters: {'xgb_max_depth': 2, 'xgb_estimators': 32, 'xgb_booster': 'dart', 'xgb_scale_pos_weight': 55.2514596118222}. Best is trial 24 with value: -0.23371325915400903.\n",
      "[I 2023-07-08 08:41:30,832] Trial 151 finished with value: -0.25673173838778296 and parameters: {'xgb_max_depth': 2, 'xgb_estimators': 19, 'xgb_booster': 'dart', 'xgb_scale_pos_weight': 49.593502871679945}. Best is trial 24 with value: -0.23371325915400903.\n",
      "[I 2023-07-08 08:41:32,337] Trial 152 finished with value: -0.2494694953379461 and parameters: {'xgb_max_depth': 2, 'xgb_estimators': 17, 'xgb_booster': 'dart', 'xgb_scale_pos_weight': 43.963453477591386}. Best is trial 24 with value: -0.23371325915400903.\n",
      "[I 2023-07-08 08:41:33,971] Trial 153 finished with value: -0.2732653945632717 and parameters: {'xgb_max_depth': 2, 'xgb_estimators': 27, 'xgb_booster': 'gbtree', 'xgb_scale_pos_weight': 34.84452660035808}. Best is trial 24 with value: -0.23371325915400903.\n",
      "[I 2023-07-08 08:41:35,693] Trial 154 finished with value: -0.39628205455466 and parameters: {'xgb_max_depth': 5, 'xgb_estimators': 23, 'xgb_booster': 'dart', 'xgb_scale_pos_weight': 62.90883132669476}. Best is trial 24 with value: -0.23371325915400903.\n",
      "[I 2023-07-08 08:41:37,260] Trial 155 finished with value: -0.27616294373914096 and parameters: {'xgb_max_depth': 2, 'xgb_estimators': 20, 'xgb_booster': 'gbtree', 'xgb_scale_pos_weight': 38.50335158394614}. Best is trial 24 with value: -0.23371325915400903.\n",
      "[I 2023-07-08 08:41:39,127] Trial 156 finished with value: -0.45284546916085333 and parameters: {'xgb_max_depth': 3, 'xgb_estimators': 66, 'xgb_booster': 'gbtree', 'xgb_scale_pos_weight': 32.5314999642632}. Best is trial 24 with value: -0.23371325915400903.\n",
      "[I 2023-07-08 08:41:40,857] Trial 157 finished with value: -0.5466093176826166 and parameters: {'xgb_max_depth': 30, 'xgb_estimators': 15, 'xgb_booster': 'gbtree', 'xgb_scale_pos_weight': 42.461144243326736}. Best is trial 24 with value: -0.23371325915400903.\n",
      "[I 2023-07-08 08:41:42,583] Trial 158 finished with value: -0.4385418619598422 and parameters: {'xgb_max_depth': 6, 'xgb_estimators': 18, 'xgb_booster': 'dart', 'xgb_scale_pos_weight': 49.23527499446759}. Best is trial 24 with value: -0.23371325915400903.\n",
      "[I 2023-07-08 08:41:44,186] Trial 159 finished with value: -0.2393107000417604 and parameters: {'xgb_max_depth': 2, 'xgb_estimators': 21, 'xgb_booster': 'gbtree', 'xgb_scale_pos_weight': 53.999857893976234}. Best is trial 24 with value: -0.23371325915400903.\n",
      "[I 2023-07-08 08:41:45,853] Trial 160 finished with value: -0.4248368962393415 and parameters: {'xgb_max_depth': 5, 'xgb_estimators': 22, 'xgb_booster': 'gbtree', 'xgb_scale_pos_weight': 55.661011867848444}. Best is trial 24 with value: -0.23371325915400903.\n",
      "[I 2023-07-08 08:41:47,446] Trial 161 finished with value: -0.26357087895997544 and parameters: {'xgb_max_depth': 2, 'xgb_estimators': 20, 'xgb_booster': 'gbtree', 'xgb_scale_pos_weight': 45.963208369407326}. Best is trial 24 with value: -0.23371325915400903.\n",
      "[I 2023-07-08 08:41:48,993] Trial 162 finished with value: -0.2630758555997539 and parameters: {'xgb_max_depth': 2, 'xgb_estimators': 17, 'xgb_booster': 'gbtree', 'xgb_scale_pos_weight': 37.72529567922344}. Best is trial 24 with value: -0.23371325915400903.\n",
      "[I 2023-07-08 08:41:50,773] Trial 163 finished with value: -0.49911135401480095 and parameters: {'xgb_max_depth': 25, 'xgb_estimators': 24, 'xgb_booster': 'gbtree', 'xgb_scale_pos_weight': 41.36633412841719}. Best is trial 24 with value: -0.23371325915400903.\n",
      "[I 2023-07-08 08:41:52,536] Trial 164 finished with value: -0.4682312440469471 and parameters: {'xgb_max_depth': 10, 'xgb_estimators': 27, 'xgb_booster': 'gbtree', 'xgb_scale_pos_weight': 62.09115593239024}. Best is trial 24 with value: -0.23371325915400903.\n",
      "[I 2023-07-08 08:41:54,758] Trial 165 finished with value: -0.5869684953935833 and parameters: {'xgb_max_depth': 32, 'xgb_estimators': 135, 'xgb_booster': 'gbtree', 'xgb_scale_pos_weight': 52.53348756240993}. Best is trial 24 with value: -0.23371325915400903.\n",
      "[I 2023-07-08 08:41:56,546] Trial 166 finished with value: -0.4128451183281843 and parameters: {'xgb_max_depth': 4, 'xgb_estimators': 21, 'xgb_booster': 'gbtree', 'xgb_scale_pos_weight': 79.56654186793212}. Best is trial 24 with value: -0.23371325915400903.\n",
      "[I 2023-07-08 08:41:58,106] Trial 167 finished with value: -0.255303760623369 and parameters: {'xgb_max_depth': 2, 'xgb_estimators': 19, 'xgb_booster': 'dart', 'xgb_scale_pos_weight': 35.15146705216408}. Best is trial 24 with value: -0.23371325915400903.\n",
      "[I 2023-07-08 08:41:59,648] Trial 168 finished with value: -0.2589097506068202 and parameters: {'xgb_max_depth': 2, 'xgb_estimators': 13, 'xgb_booster': 'gbtree', 'xgb_scale_pos_weight': 44.43970912332357}. Best is trial 24 with value: -0.23371325915400903.\n",
      "[I 2023-07-08 08:42:01,435] Trial 169 finished with value: -0.4411937888159848 and parameters: {'xgb_max_depth': 11, 'xgb_estimators': 25, 'xgb_booster': 'gbtree', 'xgb_scale_pos_weight': 30.449241879472247}. Best is trial 24 with value: -0.23371325915400903.\n",
      "[I 2023-07-08 08:42:03,155] Trial 170 finished with value: -0.6291985882800426 and parameters: {'xgb_max_depth': 28, 'xgb_estimators': 15, 'xgb_booster': 'gbtree', 'xgb_scale_pos_weight': 71.02416463502595}. Best is trial 24 with value: -0.23371325915400903.\n",
      "[I 2023-07-08 08:42:04,696] Trial 171 finished with value: -0.2623034098066881 and parameters: {'xgb_max_depth': 2, 'xgb_estimators': 17, 'xgb_booster': 'dart', 'xgb_scale_pos_weight': 45.229805637861126}. Best is trial 24 with value: -0.23371325915400903.\n",
      "[I 2023-07-08 08:42:06,476] Trial 172 finished with value: -0.4773705934440794 and parameters: {'xgb_max_depth': 26, 'xgb_estimators': 18, 'xgb_booster': 'dart', 'xgb_scale_pos_weight': 39.64030777420584}. Best is trial 24 with value: -0.23371325915400903.\n",
      "[I 2023-07-08 08:42:08,026] Trial 173 finished with value: -0.2666948095975644 and parameters: {'xgb_max_depth': 2, 'xgb_estimators': 22, 'xgb_booster': 'dart', 'xgb_scale_pos_weight': 48.51413433438085}. Best is trial 24 with value: -0.23371325915400903.\n",
      "[I 2023-07-08 08:42:09,642] Trial 174 finished with value: -0.2560535770352186 and parameters: {'xgb_max_depth': 2, 'xgb_estimators': 17, 'xgb_booster': 'dart', 'xgb_scale_pos_weight': 41.25112266954709}. Best is trial 24 with value: -0.23371325915400903.\n",
      "[I 2023-07-08 08:42:11,214] Trial 175 finished with value: -0.25016541927952457 and parameters: {'xgb_max_depth': 2, 'xgb_estimators': 20, 'xgb_booster': 'dart', 'xgb_scale_pos_weight': 36.422249091173}. Best is trial 24 with value: -0.23371325915400903.\n",
      "[I 2023-07-08 08:42:12,743] Trial 176 finished with value: -0.27158875735110277 and parameters: {'xgb_max_depth': 2, 'xgb_estimators': 16, 'xgb_booster': 'dart', 'xgb_scale_pos_weight': 59.64792509623385}. Best is trial 24 with value: -0.23371325915400903.\n",
      "[I 2023-07-08 08:42:14,565] Trial 177 finished with value: -0.4723249074920802 and parameters: {'xgb_max_depth': 14, 'xgb_estimators': 23, 'xgb_booster': 'gbtree', 'xgb_scale_pos_weight': 51.73619171343492}. Best is trial 24 with value: -0.23371325915400903.\n",
      "[I 2023-07-08 08:42:16,219] Trial 178 finished with value: -0.5381821562925421 and parameters: {'xgb_max_depth': 9, 'xgb_estimators': 14, 'xgb_booster': 'dart', 'xgb_scale_pos_weight': 43.65411836834882}. Best is trial 24 with value: -0.23371325915400903.\n",
      "[I 2023-07-08 08:42:18,105] Trial 179 finished with value: -0.6516979095183737 and parameters: {'xgb_max_depth': 16, 'xgb_estimators': 29, 'xgb_booster': 'gbtree', 'xgb_scale_pos_weight': 89.35777919340396}. Best is trial 24 with value: -0.23371325915400903.\n",
      "[I 2023-07-08 08:42:19,705] Trial 180 finished with value: -0.3228575448809147 and parameters: {'xgb_max_depth': 2, 'xgb_estimators': 20, 'xgb_booster': 'gbtree', 'xgb_scale_pos_weight': 13.829437237812614}. Best is trial 24 with value: -0.23371325915400903.\n",
      "[I 2023-07-08 08:42:21,448] Trial 181 finished with value: -0.4944727044216831 and parameters: {'xgb_max_depth': 19, 'xgb_estimators': 19, 'xgb_booster': 'dart', 'xgb_scale_pos_weight': 36.46308360633891}. Best is trial 24 with value: -0.23371325915400903.\n",
      "[I 2023-07-08 08:42:22,994] Trial 182 finished with value: -0.27171870019833944 and parameters: {'xgb_max_depth': 2, 'xgb_estimators': 22, 'xgb_booster': 'dart', 'xgb_scale_pos_weight': 32.18955794303252}. Best is trial 24 with value: -0.23371325915400903.\n",
      "[I 2023-07-08 08:42:24,521] Trial 183 finished with value: -0.25619443985415374 and parameters: {'xgb_max_depth': 2, 'xgb_estimators': 18, 'xgb_booster': 'dart', 'xgb_scale_pos_weight': 38.211604536122415}. Best is trial 24 with value: -0.23371325915400903.\n",
      "[I 2023-07-08 08:42:26,056] Trial 184 finished with value: -0.25083629141161473 and parameters: {'xgb_max_depth': 2, 'xgb_estimators': 21, 'xgb_booster': 'dart', 'xgb_scale_pos_weight': 43.1997642223151}. Best is trial 24 with value: -0.23371325915400903.\n",
      "[I 2023-07-08 08:42:27,686] Trial 185 finished with value: -0.25891317243508166 and parameters: {'xgb_max_depth': 2, 'xgb_estimators': 25, 'xgb_booster': 'dart', 'xgb_scale_pos_weight': 46.637099413879504}. Best is trial 24 with value: -0.23371325915400903.\n",
      "[I 2023-07-08 08:42:29,256] Trial 186 finished with value: -0.25954890543729947 and parameters: {'xgb_max_depth': 2, 'xgb_estimators': 20, 'xgb_booster': 'dart', 'xgb_scale_pos_weight': 34.74695893547731}. Best is trial 24 with value: -0.23371325915400903.\n",
      "[I 2023-07-08 08:42:30,842] Trial 187 finished with value: -0.4903230258121992 and parameters: {'xgb_max_depth': 26, 'xgb_estimators': 16, 'xgb_booster': 'gbtree', 'xgb_scale_pos_weight': 39.725534020662415}. Best is trial 24 with value: -0.23371325915400903.\n",
      "[I 2023-07-08 08:42:32,334] Trial 188 finished with value: -0.30112522959504645 and parameters: {'xgb_max_depth': 2, 'xgb_estimators': 10, 'xgb_booster': 'gbtree', 'xgb_scale_pos_weight': 28.626470739639423}. Best is trial 24 with value: -0.23371325915400903.\n",
      "[I 2023-07-08 08:42:33,889] Trial 189 finished with value: -0.24141841068732584 and parameters: {'xgb_max_depth': 2, 'xgb_estimators': 24, 'xgb_booster': 'dart', 'xgb_scale_pos_weight': 54.83982474126263}. Best is trial 24 with value: -0.23371325915400903.\n",
      "[I 2023-07-08 08:42:35,598] Trial 190 finished with value: -0.481324012236763 and parameters: {'xgb_max_depth': 10, 'xgb_estimators': 24, 'xgb_booster': 'gbtree', 'xgb_scale_pos_weight': 56.34576906357607}. Best is trial 24 with value: -0.23371325915400903.\n",
      "[I 2023-07-08 08:42:37,191] Trial 191 finished with value: -0.256814528341656 and parameters: {'xgb_max_depth': 2, 'xgb_estimators': 19, 'xgb_booster': 'dart', 'xgb_scale_pos_weight': 49.478038374921326}. Best is trial 24 with value: -0.23371325915400903.\n",
      "[I 2023-07-08 08:42:38,741] Trial 192 finished with value: -0.2423671611163301 and parameters: {'xgb_max_depth': 2, 'xgb_estimators': 22, 'xgb_booster': 'dart', 'xgb_scale_pos_weight': 41.6007723211075}. Best is trial 24 with value: -0.23371325915400903.\n",
      "[I 2023-07-08 08:42:40,299] Trial 193 finished with value: -0.23388619862986734 and parameters: {'xgb_max_depth': 2, 'xgb_estimators': 26, 'xgb_booster': 'dart', 'xgb_scale_pos_weight': 43.58471748582157}. Best is trial 24 with value: -0.23371325915400903.\n",
      "[I 2023-07-08 08:42:41,975] Trial 194 finished with value: -0.40154231822717923 and parameters: {'xgb_max_depth': 4, 'xgb_estimators': 26, 'xgb_booster': 'dart', 'xgb_scale_pos_weight': 66.1576502185701}. Best is trial 24 with value: -0.23371325915400903.\n",
      "[I 2023-07-08 08:42:43,503] Trial 195 finished with value: -0.3536215017908611 and parameters: {'xgb_max_depth': 2, 'xgb_estimators': 23, 'xgb_booster': 'dart', 'xgb_scale_pos_weight': 7.752990972077063}. Best is trial 24 with value: -0.23371325915400903.\n",
      "[I 2023-07-08 08:42:45,102] Trial 196 finished with value: -0.2561398591718189 and parameters: {'xgb_max_depth': 2, 'xgb_estimators': 28, 'xgb_booster': 'gbtree', 'xgb_scale_pos_weight': 50.864660515456904}. Best is trial 24 with value: -0.23371325915400903.\n",
      "[I 2023-07-08 08:42:46,909] Trial 197 finished with value: -0.5339520207584458 and parameters: {'xgb_max_depth': 21, 'xgb_estimators': 26, 'xgb_booster': 'dart', 'xgb_scale_pos_weight': 46.09576264059927}. Best is trial 24 with value: -0.23371325915400903.\n",
      "[I 2023-07-08 08:42:48,702] Trial 198 finished with value: -0.45877945243866947 and parameters: {'xgb_max_depth': 8, 'xgb_estimators': 30, 'xgb_booster': 'gbtree', 'xgb_scale_pos_weight': 40.157201502725805}. Best is trial 24 with value: -0.23371325915400903.\n",
      "[I 2023-07-08 08:42:50,453] Trial 199 finished with value: -0.4159508441030895 and parameters: {'xgb_max_depth': 7, 'xgb_estimators': 23, 'xgb_booster': 'gbtree', 'xgb_scale_pos_weight': 56.15534790678466}. Best is trial 24 with value: -0.23371325915400903.\n"
     ]
    },
    {
     "name": "stdout",
     "output_type": "stream",
     "text": [
      "FrozenTrial(number=24, state=TrialState.COMPLETE, values=[-0.23371325915400903], datetime_start=datetime.datetime(2023, 7, 8, 8, 37, 58, 391704), datetime_complete=datetime.datetime(2023, 7, 8, 8, 38, 0, 155860), params={'xgb_max_depth': 2, 'xgb_estimators': 25, 'xgb_booster': 'dart', 'xgb_scale_pos_weight': 35.92582512604342}, user_attrs={}, system_attrs={}, intermediate_values={}, distributions={'xgb_max_depth': IntDistribution(high=32, log=True, low=2, step=1), 'xgb_estimators': IntDistribution(high=1000, log=True, low=10, step=1), 'xgb_booster': CategoricalDistribution(choices=('gbtree', 'dart')), 'xgb_scale_pos_weight': FloatDistribution(high=100.0, log=True, low=1.0, step=None)}, trial_id=24, value=None)\n"
     ]
    },
    {
     "name": "stderr",
     "output_type": "stream",
     "text": [
      "<frozen importlib._bootstrap>:219: RuntimeWarning: scipy._lib.messagestream.MessageStream size changed, may indicate binary incompatibility. Expected 56 from C header, got 64 from PyObject\n",
      "/anaconda/envs/azureml_py38_PT_and_TF/lib/python3.8/site-packages/xgboost/compat.py:31: FutureWarning: pandas.Int64Index is deprecated and will be removed from pandas in a future version. Use pandas.Index with the appropriate dtype instead.\n",
      "  from pandas import MultiIndex, Int64Index\n",
      "<frozen importlib._bootstrap>:219: RuntimeWarning: scipy._lib.messagestream.MessageStream size changed, may indicate binary incompatibility. Expected 56 from C header, got 64 from PyObject\n",
      "/anaconda/envs/azureml_py38_PT_and_TF/lib/python3.8/site-packages/xgboost/compat.py:31: FutureWarning: pandas.Int64Index is deprecated and will be removed from pandas in a future version. Use pandas.Index with the appropriate dtype instead.\n",
      "  from pandas import MultiIndex, Int64Index\n",
      "<frozen importlib._bootstrap>:219: RuntimeWarning: scipy._lib.messagestream.MessageStream size changed, may indicate binary incompatibility. Expected 56 from C header, got 64 from PyObject\n",
      "/anaconda/envs/azureml_py38_PT_and_TF/lib/python3.8/site-packages/xgboost/compat.py:31: FutureWarning: pandas.Int64Index is deprecated and will be removed from pandas in a future version. Use pandas.Index with the appropriate dtype instead.\n",
      "  from pandas import MultiIndex, Int64Index\n",
      "<frozen importlib._bootstrap>:219: RuntimeWarning: scipy._lib.messagestream.MessageStream size changed, may indicate binary incompatibility. Expected 56 from C header, got 64 from PyObject\n",
      "/anaconda/envs/azureml_py38_PT_and_TF/lib/python3.8/site-packages/xgboost/compat.py:31: FutureWarning: pandas.Int64Index is deprecated and will be removed from pandas in a future version. Use pandas.Index with the appropriate dtype instead.\n",
      "  from pandas import MultiIndex, Int64Index\n"
     ]
    }
   ],
   "source": [
    "study = optuna.create_study(direction='maximize')\n",
    "study.optimize(objective, n_trials=200)\n",
    "print(study.best_trial)"
   ]
  },
  {
   "cell_type": "code",
   "execution_count": 23,
   "id": "32e7f507-5579-4684-b289-881dbc409e8a",
   "metadata": {
    "execution": {
     "iopub.execute_input": "2023-07-08T08:53:08.303214Z",
     "iopub.status.busy": "2023-07-08T08:53:08.302834Z",
     "iopub.status.idle": "2023-07-08T08:53:08.307662Z",
     "shell.execute_reply": "2023-07-08T08:53:08.307133Z",
     "shell.execute_reply.started": "2023-07-08T08:53:08.303195Z"
    }
   },
   "outputs": [
    {
     "data": {
      "text/plain": [
       "{'xgb_max_depth': 2,\n",
       " 'xgb_estimators': 25,\n",
       " 'xgb_booster': 'dart',\n",
       " 'xgb_scale_pos_weight': 35.92582512604342}"
      ]
     },
     "execution_count": 23,
     "metadata": {},
     "output_type": "execute_result"
    }
   ],
   "source": [
    "study.best_params"
   ]
  },
  {
   "cell_type": "code",
   "execution_count": 24,
   "id": "64b01e29-f7d3-42da-a48b-14ff70f3f98f",
   "metadata": {
    "execution": {
     "iopub.execute_input": "2023-07-08T08:53:50.374604Z",
     "iopub.status.busy": "2023-07-08T08:53:50.373986Z",
     "iopub.status.idle": "2023-07-08T08:53:50.379383Z",
     "shell.execute_reply": "2023-07-08T08:53:50.378778Z",
     "shell.execute_reply.started": "2023-07-08T08:53:50.374580Z"
    }
   },
   "outputs": [],
   "source": [
    "best_pipeline = make_pipeline(CategoricalTransformer(index_of_ej), \n",
    "                              OutlierRemover(),\n",
    "                              IterativeImputer(initial_strategy='median'),\n",
    "                              xgb.XGBClassifier(max_depth=2,\n",
    "                                                n_estimators=25,\n",
    "                                                booster='dart',\n",
    "                                                scale_pos_weight = 35.92582512604342,\n",
    "                                                random_state=42,\n",
    "                                                use_label_encoder=False,\n",
    "                                                eval_metric='logloss'))"
   ]
  },
  {
   "cell_type": "code",
   "execution_count": 25,
   "id": "27973acc-aa57-48ff-9202-19504b9ebdcd",
   "metadata": {
    "execution": {
     "iopub.execute_input": "2023-07-08T08:54:01.719061Z",
     "iopub.status.busy": "2023-07-08T08:54:01.718496Z",
     "iopub.status.idle": "2023-07-08T08:54:02.184917Z",
     "shell.execute_reply": "2023-07-08T08:54:02.184332Z",
     "shell.execute_reply.started": "2023-07-08T08:54:01.719034Z"
    }
   },
   "outputs": [
    {
     "data": {
      "text/plain": [
       "-0.30998755209192785"
      ]
     },
     "execution_count": 25,
     "metadata": {},
     "output_type": "execute_result"
    }
   ],
   "source": [
    "best_pipeline.fit(x_train, y_train)\n",
    "log_loss = get_bal_log_loss()\n",
    "log_loss(best_pipeline, x_test, y_test)"
   ]
  },
  {
   "cell_type": "code",
   "execution_count": 31,
   "id": "05a69a9a-6e5b-4e27-b35c-4a6973bdda13",
   "metadata": {
    "execution": {
     "iopub.execute_input": "2023-07-08T09:20:39.821203Z",
     "iopub.status.busy": "2023-07-08T09:20:39.820680Z",
     "iopub.status.idle": "2023-07-08T09:20:39.826301Z",
     "shell.execute_reply": "2023-07-08T09:20:39.825613Z",
     "shell.execute_reply.started": "2023-07-08T09:20:39.821184Z"
    },
    "tags": []
   },
   "outputs": [],
   "source": [
    "def objective(trial):\n",
    "    x, y = x_train, y_train\n",
    "\n",
    "    xgb_max_depth = trial.suggest_int(\"xgb_max_depth\", 2, 16, log=True)\n",
    "    xgb_estimators = trial.suggest_int(\"xgb_estimators\", 10, 50, log=True)\n",
    "    xgb_booster = trial.suggest_categorical(\"xgb_booster\", ['gbtree', 'dart'])\n",
    "    xgb_scale_pos_weight = trial.suggest_float('xgb_scale_pos_weight', 29, 40, log=True)\n",
    "    classifier_obj = make_pipeline(CategoricalTransformer(index_of_ej), \n",
    "                                   OutlierRemover(),\n",
    "                                   IterativeImputer(initial_strategy='median'),\n",
    "                                   xgb.XGBClassifier(max_depth=xgb_max_depth,\n",
    "                                                     n_estimators=xgb_estimators,\n",
    "                                                     booster=xgb_booster,\n",
    "                                                     scale_pos_weight = xgb_scale_pos_weight,\n",
    "                                                     random_state=42,\n",
    "                                                     use_label_encoder=False,\n",
    "                                                     eval_metric='logloss'))\n",
    "    score = cross_val_score(classifier_obj, \n",
    "                            x, \n",
    "                            y, \n",
    "                            cv=StratifiedKFold(shuffle=True, random_state=42), \n",
    "                            scoring=get_bal_log_loss(),\n",
    "                            n_jobs=-1)\n",
    "    accuracy = score.mean()\n",
    "    return accuracy"
   ]
  },
  {
   "cell_type": "code",
   "execution_count": 32,
   "id": "139cfdc0-f621-47f3-87cf-809061f09fec",
   "metadata": {
    "collapsed": true,
    "execution": {
     "iopub.execute_input": "2023-07-08T09:20:40.934890Z",
     "iopub.status.busy": "2023-07-08T09:20:40.934205Z",
     "iopub.status.idle": "2023-07-08T09:26:15.354042Z",
     "shell.execute_reply": "2023-07-08T09:26:15.353456Z",
     "shell.execute_reply.started": "2023-07-08T09:20:40.934864Z"
    },
    "jupyter": {
     "outputs_hidden": true
    },
    "tags": []
   },
   "outputs": [
    {
     "name": "stderr",
     "output_type": "stream",
     "text": [
      "[I 2023-07-08 09:20:40,935] A new study created in memory with name: no-name-51b4eaea-f155-4dce-bcb4-6c2d24976fa4\n",
      "[I 2023-07-08 09:20:44,325] Trial 0 finished with value: -0.5506846183937621 and parameters: {'xgb_max_depth': 8, 'xgb_estimators': 31, 'xgb_booster': 'dart', 'xgb_scale_pos_weight': 33.70393621885378}. Best is trial 0 with value: -0.5506846183937621.\n",
      "[I 2023-07-08 09:20:45,940] Trial 1 finished with value: -0.34893396757601514 and parameters: {'xgb_max_depth': 3, 'xgb_estimators': 20, 'xgb_booster': 'dart', 'xgb_scale_pos_weight': 39.27758388120352}. Best is trial 1 with value: -0.34893396757601514.\n",
      "[I 2023-07-08 09:20:47,507] Trial 2 finished with value: -0.39898827967907 and parameters: {'xgb_max_depth': 4, 'xgb_estimators': 14, 'xgb_booster': 'gbtree', 'xgb_scale_pos_weight': 30.40327715229492}. Best is trial 1 with value: -0.34893396757601514.\n",
      "[I 2023-07-08 09:20:49,353] Trial 3 finished with value: -0.4581841958080711 and parameters: {'xgb_max_depth': 9, 'xgb_estimators': 30, 'xgb_booster': 'gbtree', 'xgb_scale_pos_weight': 29.99591883531529}. Best is trial 1 with value: -0.34893396757601514.\n",
      "[I 2023-07-08 09:20:50,889] Trial 4 finished with value: -0.2776005864977555 and parameters: {'xgb_max_depth': 2, 'xgb_estimators': 13, 'xgb_booster': 'dart', 'xgb_scale_pos_weight': 37.50958852787332}. Best is trial 4 with value: -0.2776005864977555.\n",
      "[I 2023-07-08 09:20:52,500] Trial 5 finished with value: -0.5494418692813765 and parameters: {'xgb_max_depth': 15, 'xgb_estimators': 11, 'xgb_booster': 'gbtree', 'xgb_scale_pos_weight': 34.50380880462047}. Best is trial 4 with value: -0.2776005864977555.\n",
      "[I 2023-07-08 09:20:54,280] Trial 6 finished with value: -0.5060245703206459 and parameters: {'xgb_max_depth': 6, 'xgb_estimators': 20, 'xgb_booster': 'dart', 'xgb_scale_pos_weight': 32.8188041613775}. Best is trial 4 with value: -0.2776005864977555.\n",
      "[I 2023-07-08 09:20:56,121] Trial 7 finished with value: -0.4435400364419536 and parameters: {'xgb_max_depth': 6, 'xgb_estimators': 41, 'xgb_booster': 'gbtree', 'xgb_scale_pos_weight': 39.534699186666266}. Best is trial 4 with value: -0.2776005864977555.\n",
      "[I 2023-07-08 09:20:58,032] Trial 8 finished with value: -0.47392613734551026 and parameters: {'xgb_max_depth': 9, 'xgb_estimators': 46, 'xgb_booster': 'gbtree', 'xgb_scale_pos_weight': 36.79625726126793}. Best is trial 4 with value: -0.2776005864977555.\n",
      "[I 2023-07-08 09:20:59,874] Trial 9 finished with value: -0.47290734269374185 and parameters: {'xgb_max_depth': 16, 'xgb_estimators': 36, 'xgb_booster': 'dart', 'xgb_scale_pos_weight': 37.855958343972596}. Best is trial 4 with value: -0.2776005864977555.\n",
      "[I 2023-07-08 09:21:01,400] Trial 10 finished with value: -0.2917241571337331 and parameters: {'xgb_max_depth': 2, 'xgb_estimators': 10, 'xgb_booster': 'dart', 'xgb_scale_pos_weight': 36.14518642898296}. Best is trial 4 with value: -0.2776005864977555.\n",
      "[I 2023-07-08 09:21:02,923] Trial 11 finished with value: -0.3058911955299319 and parameters: {'xgb_max_depth': 2, 'xgb_estimators': 10, 'xgb_booster': 'dart', 'xgb_scale_pos_weight': 36.25653741099746}. Best is trial 4 with value: -0.2776005864977555.\n",
      "[I 2023-07-08 09:21:04,477] Trial 12 finished with value: -0.2651600088617906 and parameters: {'xgb_max_depth': 2, 'xgb_estimators': 14, 'xgb_booster': 'dart', 'xgb_scale_pos_weight': 35.76526960868046}. Best is trial 12 with value: -0.2651600088617906.\n",
      "[I 2023-07-08 09:21:06,014] Trial 13 finished with value: -0.2654506673136665 and parameters: {'xgb_max_depth': 2, 'xgb_estimators': 15, 'xgb_booster': 'dart', 'xgb_scale_pos_weight': 34.89842507502005}. Best is trial 12 with value: -0.2651600088617906.\n",
      "[I 2023-07-08 09:21:07,558] Trial 14 finished with value: -0.3469680674329012 and parameters: {'xgb_max_depth': 3, 'xgb_estimators': 16, 'xgb_booster': 'dart', 'xgb_scale_pos_weight': 34.6149354346045}. Best is trial 12 with value: -0.2651600088617906.\n",
      "[I 2023-07-08 09:21:09,181] Trial 15 finished with value: -0.33589336910053547 and parameters: {'xgb_max_depth': 3, 'xgb_estimators': 16, 'xgb_booster': 'dart', 'xgb_scale_pos_weight': 32.52406794249369}. Best is trial 12 with value: -0.2651600088617906.\n",
      "[I 2023-07-08 09:21:10,639] Trial 16 finished with value: -0.2633495349574489 and parameters: {'xgb_max_depth': 2, 'xgb_estimators': 13, 'xgb_booster': 'dart', 'xgb_scale_pos_weight': 35.469564246061765}. Best is trial 16 with value: -0.2633495349574489.\n",
      "[I 2023-07-08 09:21:12,259] Trial 17 finished with value: -0.41669417302297324 and parameters: {'xgb_max_depth': 4, 'xgb_estimators': 13, 'xgb_booster': 'dart', 'xgb_scale_pos_weight': 35.26766857926997}. Best is trial 16 with value: -0.2633495349574489.\n",
      "[I 2023-07-08 09:21:13,804] Trial 18 finished with value: -0.29210754071635153 and parameters: {'xgb_max_depth': 2, 'xgb_estimators': 23, 'xgb_booster': 'dart', 'xgb_scale_pos_weight': 38.41777507828185}. Best is trial 16 with value: -0.2633495349574489.\n",
      "[I 2023-07-08 09:21:15,417] Trial 19 finished with value: -0.32836695215374406 and parameters: {'xgb_max_depth': 3, 'xgb_estimators': 12, 'xgb_booster': 'dart', 'xgb_scale_pos_weight': 35.75833864944457}. Best is trial 16 with value: -0.2633495349574489.\n",
      "[I 2023-07-08 09:21:16,935] Trial 20 finished with value: -0.29161101623941904 and parameters: {'xgb_max_depth': 2, 'xgb_estimators': 11, 'xgb_booster': 'dart', 'xgb_scale_pos_weight': 37.57893401229081}. Best is trial 16 with value: -0.2633495349574489.\n",
      "[I 2023-07-08 09:21:18,430] Trial 21 finished with value: -0.2601222255155603 and parameters: {'xgb_max_depth': 2, 'xgb_estimators': 16, 'xgb_booster': 'dart', 'xgb_scale_pos_weight': 35.35270578309758}. Best is trial 21 with value: -0.2601222255155603.\n",
      "[I 2023-07-08 09:21:19,940] Trial 22 finished with value: -0.251451517309064 and parameters: {'xgb_max_depth': 2, 'xgb_estimators': 18, 'xgb_booster': 'dart', 'xgb_scale_pos_weight': 36.48991180224944}. Best is trial 22 with value: -0.251451517309064.\n",
      "[I 2023-07-08 09:21:21,526] Trial 23 finished with value: -0.3104425615458403 and parameters: {'xgb_max_depth': 3, 'xgb_estimators': 18, 'xgb_booster': 'dart', 'xgb_scale_pos_weight': 37.24294520302097}. Best is trial 22 with value: -0.251451517309064.\n",
      "[I 2023-07-08 09:21:23,160] Trial 24 finished with value: -0.39832213152546164 and parameters: {'xgb_max_depth': 4, 'xgb_estimators': 17, 'xgb_booster': 'dart', 'xgb_scale_pos_weight': 36.66382839817002}. Best is trial 22 with value: -0.251451517309064.\n",
      "[I 2023-07-08 09:21:24,794] Trial 25 finished with value: -0.2672478184209383 and parameters: {'xgb_max_depth': 2, 'xgb_estimators': 22, 'xgb_booster': 'dart', 'xgb_scale_pos_weight': 33.80072895844472}. Best is trial 22 with value: -0.251451517309064.\n",
      "[I 2023-07-08 09:21:26,394] Trial 26 finished with value: -0.3268230748531608 and parameters: {'xgb_max_depth': 3, 'xgb_estimators': 18, 'xgb_booster': 'gbtree', 'xgb_scale_pos_weight': 35.271746409247505}. Best is trial 22 with value: -0.251451517309064.\n",
      "[I 2023-07-08 09:21:28,006] Trial 27 finished with value: -0.41357831974629 and parameters: {'xgb_max_depth': 4, 'xgb_estimators': 15, 'xgb_booster': 'dart', 'xgb_scale_pos_weight': 36.662507953383326}. Best is trial 22 with value: -0.251451517309064.\n",
      "[I 2023-07-08 09:21:29,536] Trial 28 finished with value: -0.2717245055933564 and parameters: {'xgb_max_depth': 2, 'xgb_estimators': 24, 'xgb_booster': 'dart', 'xgb_scale_pos_weight': 38.85520090256779}. Best is trial 22 with value: -0.251451517309064.\n",
      "[I 2023-07-08 09:21:31,143] Trial 29 finished with value: -0.4622715746619509 and parameters: {'xgb_max_depth': 5, 'xgb_estimators': 12, 'xgb_booster': 'dart', 'xgb_scale_pos_weight': 34.00332787278995}. Best is trial 22 with value: -0.251451517309064.\n",
      "[I 2023-07-08 09:21:32,744] Trial 30 finished with value: -0.33345571926071915 and parameters: {'xgb_max_depth': 3, 'xgb_estimators': 18, 'xgb_booster': 'dart', 'xgb_scale_pos_weight': 33.04047114444167}. Best is trial 22 with value: -0.251451517309064.\n",
      "[I 2023-07-08 09:21:34,321] Trial 31 finished with value: -0.26501109926752975 and parameters: {'xgb_max_depth': 2, 'xgb_estimators': 14, 'xgb_booster': 'dart', 'xgb_scale_pos_weight': 35.298911837702256}. Best is trial 22 with value: -0.251451517309064.\n",
      "[I 2023-07-08 09:21:35,882] Trial 32 finished with value: -0.26543838403016706 and parameters: {'xgb_max_depth': 2, 'xgb_estimators': 14, 'xgb_booster': 'dart', 'xgb_scale_pos_weight': 35.43895345106182}. Best is trial 22 with value: -0.251451517309064.\n",
      "[I 2023-07-08 09:21:37,521] Trial 33 finished with value: -0.37133794472159165 and parameters: {'xgb_max_depth': 3, 'xgb_estimators': 20, 'xgb_booster': 'dart', 'xgb_scale_pos_weight': 34.40473956978043}. Best is trial 22 with value: -0.251451517309064.\n",
      "[I 2023-07-08 09:21:39,059] Trial 34 finished with value: -0.24351668455093964 and parameters: {'xgb_max_depth': 2, 'xgb_estimators': 16, 'xgb_booster': 'dart', 'xgb_scale_pos_weight': 36.09382680643295}. Best is trial 34 with value: -0.24351668455093964.\n",
      "[I 2023-07-08 09:21:40,584] Trial 35 finished with value: -0.3286677535583807 and parameters: {'xgb_max_depth': 3, 'xgb_estimators': 16, 'xgb_booster': 'gbtree', 'xgb_scale_pos_weight': 38.22805921107917}. Best is trial 34 with value: -0.24351668455093964.\n",
      "[I 2023-07-08 09:21:42,195] Trial 36 finished with value: -0.2364130984616545 and parameters: {'xgb_max_depth': 2, 'xgb_estimators': 26, 'xgb_booster': 'dart', 'xgb_scale_pos_weight': 36.13084580731175}. Best is trial 36 with value: -0.2364130984616545.\n",
      "[I 2023-07-08 09:21:43,997] Trial 37 finished with value: -0.4648554129883463 and parameters: {'xgb_max_depth': 7, 'xgb_estimators': 26, 'xgb_booster': 'dart', 'xgb_scale_pos_weight': 37.18837130549835}. Best is trial 36 with value: -0.2364130984616545.\n",
      "[I 2023-07-08 09:21:45,834] Trial 38 finished with value: -0.5332159760290394 and parameters: {'xgb_max_depth': 12, 'xgb_estimators': 27, 'xgb_booster': 'gbtree', 'xgb_scale_pos_weight': 36.135176681979274}. Best is trial 36 with value: -0.2364130984616545.\n",
      "[I 2023-07-08 09:21:47,621] Trial 39 finished with value: -0.4911585636291034 and parameters: {'xgb_max_depth': 10, 'xgb_estimators': 20, 'xgb_booster': 'dart', 'xgb_scale_pos_weight': 39.07213179694996}. Best is trial 36 with value: -0.2364130984616545.\n",
      "[I 2023-07-08 09:21:49,417] Trial 40 finished with value: -0.4483316897469586 and parameters: {'xgb_max_depth': 7, 'xgb_estimators': 32, 'xgb_booster': 'gbtree', 'xgb_scale_pos_weight': 37.26086614014777}. Best is trial 36 with value: -0.2364130984616545.\n",
      "[I 2023-07-08 09:21:50,987] Trial 41 finished with value: -0.2612053476534053 and parameters: {'xgb_max_depth': 2, 'xgb_estimators': 21, 'xgb_booster': 'dart', 'xgb_scale_pos_weight': 39.9362180791636}. Best is trial 36 with value: -0.2364130984616545.\n",
      "[I 2023-07-08 09:21:52,536] Trial 42 finished with value: -0.2611716967395596 and parameters: {'xgb_max_depth': 2, 'xgb_estimators': 21, 'xgb_booster': 'dart', 'xgb_scale_pos_weight': 39.96423163829035}. Best is trial 36 with value: -0.2364130984616545.\n",
      "[I 2023-07-08 09:21:54,276] Trial 43 finished with value: -0.4276356748159741 and parameters: {'xgb_max_depth': 5, 'xgb_estimators': 19, 'xgb_booster': 'dart', 'xgb_scale_pos_weight': 37.98402125363979}. Best is trial 36 with value: -0.2364130984616545.\n",
      "[I 2023-07-08 09:21:55,874] Trial 44 finished with value: -0.2752843409803921 and parameters: {'xgb_max_depth': 2, 'xgb_estimators': 21, 'xgb_booster': 'dart', 'xgb_scale_pos_weight': 38.739489659693454}. Best is trial 36 with value: -0.2364130984616545.\n",
      "[I 2023-07-08 09:21:57,645] Trial 45 finished with value: -0.4582444433847142 and parameters: {'xgb_max_depth': 13, 'xgb_estimators': 25, 'xgb_booster': 'dart', 'xgb_scale_pos_weight': 39.43840860538468}. Best is trial 36 with value: -0.2364130984616545.\n",
      "[I 2023-07-08 09:21:59,396] Trial 46 finished with value: -0.47830764107015683 and parameters: {'xgb_max_depth': 10, 'xgb_estimators': 22, 'xgb_booster': 'dart', 'xgb_scale_pos_weight': 38.02745612842009}. Best is trial 36 with value: -0.2364130984616545.\n",
      "[I 2023-07-08 09:22:01,073] Trial 47 finished with value: -0.45254526446877463 and parameters: {'xgb_max_depth': 6, 'xgb_estimators': 19, 'xgb_booster': 'dart', 'xgb_scale_pos_weight': 36.545647404949214}. Best is trial 36 with value: -0.2364130984616545.\n",
      "[I 2023-07-08 09:22:02,684] Trial 48 finished with value: -0.25750277271149347 and parameters: {'xgb_max_depth': 2, 'xgb_estimators': 23, 'xgb_booster': 'gbtree', 'xgb_scale_pos_weight': 36.9552262838288}. Best is trial 36 with value: -0.2364130984616545.\n",
      "[I 2023-07-08 09:22:04,408] Trial 49 finished with value: -0.3633862952576908 and parameters: {'xgb_max_depth': 4, 'xgb_estimators': 28, 'xgb_booster': 'gbtree', 'xgb_scale_pos_weight': 36.066211852792634}. Best is trial 36 with value: -0.2364130984616545.\n",
      "[I 2023-07-08 09:22:06,243] Trial 50 finished with value: -0.5074572863087559 and parameters: {'xgb_max_depth': 15, 'xgb_estimators': 23, 'xgb_booster': 'gbtree', 'xgb_scale_pos_weight': 36.85054005352608}. Best is trial 36 with value: -0.2364130984616545.\n",
      "[I 2023-07-08 09:22:07,876] Trial 51 finished with value: -0.259949350462627 and parameters: {'xgb_max_depth': 2, 'xgb_estimators': 24, 'xgb_booster': 'gbtree', 'xgb_scale_pos_weight': 37.6398619462271}. Best is trial 36 with value: -0.2364130984616545.\n",
      "[I 2023-07-08 09:22:09,488] Trial 52 finished with value: -0.2337231503758003 and parameters: {'xgb_max_depth': 2, 'xgb_estimators': 25, 'xgb_booster': 'gbtree', 'xgb_scale_pos_weight': 35.9178031038942}. Best is trial 52 with value: -0.2337231503758003.\n",
      "[I 2023-07-08 09:22:11,094] Trial 53 finished with value: -0.27945366452904186 and parameters: {'xgb_max_depth': 2, 'xgb_estimators': 29, 'xgb_booster': 'gbtree', 'xgb_scale_pos_weight': 37.51305116907447}. Best is trial 52 with value: -0.2337231503758003.\n",
      "[I 2023-07-08 09:22:12,643] Trial 54 finished with value: -0.2595141783691278 and parameters: {'xgb_max_depth': 2, 'xgb_estimators': 25, 'xgb_booster': 'gbtree', 'xgb_scale_pos_weight': 36.24344832138139}. Best is trial 52 with value: -0.2337231503758003.\n",
      "[I 2023-07-08 09:22:14,299] Trial 55 finished with value: -0.3918789266980105 and parameters: {'xgb_max_depth': 3, 'xgb_estimators': 26, 'xgb_booster': 'gbtree', 'xgb_scale_pos_weight': 35.95973169725676}. Best is trial 52 with value: -0.2337231503758003.\n",
      "[I 2023-07-08 09:22:15,924] Trial 56 finished with value: -0.26301139579258603 and parameters: {'xgb_max_depth': 2, 'xgb_estimators': 29, 'xgb_booster': 'gbtree', 'xgb_scale_pos_weight': 36.328857605923645}. Best is trial 52 with value: -0.2337231503758003.\n",
      "[I 2023-07-08 09:22:17,576] Trial 57 finished with value: -0.38273023381637533 and parameters: {'xgb_max_depth': 3, 'xgb_estimators': 24, 'xgb_booster': 'gbtree', 'xgb_scale_pos_weight': 35.77011360419375}. Best is trial 52 with value: -0.2337231503758003.\n",
      "[I 2023-07-08 09:22:19,168] Trial 58 finished with value: -0.2839405382965519 and parameters: {'xgb_max_depth': 2, 'xgb_estimators': 30, 'xgb_booster': 'gbtree', 'xgb_scale_pos_weight': 34.88716062991598}. Best is trial 52 with value: -0.2337231503758003.\n",
      "[I 2023-07-08 09:22:20,982] Trial 59 finished with value: -0.40984016991099753 and parameters: {'xgb_max_depth': 5, 'xgb_estimators': 33, 'xgb_booster': 'gbtree', 'xgb_scale_pos_weight': 37.00173589423573}. Best is trial 52 with value: -0.2337231503758003.\n",
      "[I 2023-07-08 09:22:22,684] Trial 60 finished with value: -0.3971899225970464 and parameters: {'xgb_max_depth': 4, 'xgb_estimators': 26, 'xgb_booster': 'gbtree', 'xgb_scale_pos_weight': 36.52290312851106}. Best is trial 52 with value: -0.2337231503758003.\n",
      "[I 2023-07-08 09:22:24,287] Trial 61 finished with value: -0.27553661483946273 and parameters: {'xgb_max_depth': 2, 'xgb_estimators': 24, 'xgb_booster': 'gbtree', 'xgb_scale_pos_weight': 37.51344956744454}. Best is trial 52 with value: -0.2337231503758003.\n",
      "[I 2023-07-08 09:22:25,868] Trial 62 finished with value: -0.2574723355740135 and parameters: {'xgb_max_depth': 2, 'xgb_estimators': 23, 'xgb_booster': 'gbtree', 'xgb_scale_pos_weight': 36.976731399662164}. Best is trial 52 with value: -0.2337231503758003.\n",
      "[I 2023-07-08 09:22:27,489] Trial 63 finished with value: -0.25484013959915963 and parameters: {'xgb_max_depth': 2, 'xgb_estimators': 27, 'xgb_booster': 'gbtree', 'xgb_scale_pos_weight': 36.37586870670879}. Best is trial 52 with value: -0.2337231503758003.\n",
      "[I 2023-07-08 09:22:29,070] Trial 64 finished with value: -0.2561967491576785 and parameters: {'xgb_max_depth': 2, 'xgb_estimators': 27, 'xgb_booster': 'gbtree', 'xgb_scale_pos_weight': 36.90977077932265}. Best is trial 52 with value: -0.2337231503758003.\n",
      "[I 2023-07-08 09:22:30,868] Trial 65 finished with value: -0.4777524852751519 and parameters: {'xgb_max_depth': 9, 'xgb_estimators': 27, 'xgb_booster': 'gbtree', 'xgb_scale_pos_weight': 35.6732892631047}. Best is trial 52 with value: -0.2337231503758003.\n",
      "[I 2023-07-08 09:22:32,624] Trial 66 finished with value: -0.4210738608942976 and parameters: {'xgb_max_depth': 7, 'xgb_estimators': 31, 'xgb_booster': 'gbtree', 'xgb_scale_pos_weight': 36.63487219069706}. Best is trial 52 with value: -0.2337231503758003.\n",
      "[I 2023-07-08 09:22:34,238] Trial 67 finished with value: -0.2322264397128782 and parameters: {'xgb_max_depth': 2, 'xgb_estimators': 27, 'xgb_booster': 'gbtree', 'xgb_scale_pos_weight': 35.83703016351064}. Best is trial 67 with value: -0.2322264397128782.\n",
      "[I 2023-07-08 09:22:36,019] Trial 68 finished with value: -0.468067645403766 and parameters: {'xgb_max_depth': 8, 'xgb_estimators': 28, 'xgb_booster': 'gbtree', 'xgb_scale_pos_weight': 34.969555157800286}. Best is trial 67 with value: -0.2322264397128782.\n",
      "[I 2023-07-08 09:22:38,007] Trial 69 finished with value: -0.40653644449149573 and parameters: {'xgb_max_depth': 3, 'xgb_estimators': 35, 'xgb_booster': 'gbtree', 'xgb_scale_pos_weight': 35.95485543185613}. Best is trial 67 with value: -0.2322264397128782.\n",
      "[I 2023-07-08 09:22:39,775] Trial 70 finished with value: -0.4359982972311675 and parameters: {'xgb_max_depth': 6, 'xgb_estimators': 29, 'xgb_booster': 'gbtree', 'xgb_scale_pos_weight': 35.61291978893587}. Best is trial 67 with value: -0.2322264397128782.\n",
      "[I 2023-07-08 09:22:41,367] Trial 71 finished with value: -0.25410792441981556 and parameters: {'xgb_max_depth': 2, 'xgb_estimators': 26, 'xgb_booster': 'gbtree', 'xgb_scale_pos_weight': 36.36784319956103}. Best is trial 67 with value: -0.2322264397128782.\n",
      "[I 2023-07-08 09:22:42,891] Trial 72 finished with value: -0.25491602245391143 and parameters: {'xgb_max_depth': 2, 'xgb_estimators': 27, 'xgb_booster': 'gbtree', 'xgb_scale_pos_weight': 36.319890128324744}. Best is trial 67 with value: -0.2322264397128782.\n",
      "[I 2023-07-08 09:22:44,437] Trial 73 finished with value: -0.259280889958842 and parameters: {'xgb_max_depth': 2, 'xgb_estimators': 25, 'xgb_booster': 'gbtree', 'xgb_scale_pos_weight': 36.36515233075501}. Best is trial 67 with value: -0.2322264397128782.\n",
      "[I 2023-07-08 09:22:46,045] Trial 74 finished with value: -0.2374855557934811 and parameters: {'xgb_max_depth': 2, 'xgb_estimators': 31, 'xgb_booster': 'gbtree', 'xgb_scale_pos_weight': 35.91194427388182}. Best is trial 67 with value: -0.2322264397128782.\n",
      "[I 2023-07-08 09:22:47,720] Trial 75 finished with value: -0.41479592936449894 and parameters: {'xgb_max_depth': 3, 'xgb_estimators': 31, 'xgb_booster': 'gbtree', 'xgb_scale_pos_weight': 35.74306578517908}. Best is trial 67 with value: -0.2322264397128782.\n",
      "[I 2023-07-08 09:22:49,510] Trial 76 finished with value: -0.5240839593526172 and parameters: {'xgb_max_depth': 13, 'xgb_estimators': 28, 'xgb_booster': 'gbtree', 'xgb_scale_pos_weight': 35.424739441209624}. Best is trial 67 with value: -0.2322264397128782.\n",
      "[I 2023-07-08 09:22:51,253] Trial 77 finished with value: -0.40703340589352016 and parameters: {'xgb_max_depth': 4, 'xgb_estimators': 33, 'xgb_booster': 'gbtree', 'xgb_scale_pos_weight': 35.07365878343591}. Best is trial 67 with value: -0.2322264397128782.\n",
      "[I 2023-07-08 09:22:52,841] Trial 78 finished with value: -0.24594604272242346 and parameters: {'xgb_max_depth': 2, 'xgb_estimators': 30, 'xgb_booster': 'dart', 'xgb_scale_pos_weight': 35.96495781072371}. Best is trial 67 with value: -0.2322264397128782.\n",
      "[I 2023-07-08 09:22:54,457] Trial 79 finished with value: -0.2774371533430328 and parameters: {'xgb_max_depth': 2, 'xgb_estimators': 35, 'xgb_booster': 'dart', 'xgb_scale_pos_weight': 34.54251291386783}. Best is trial 67 with value: -0.2322264397128782.\n",
      "[I 2023-07-08 09:22:56,289] Trial 80 finished with value: -0.478035641222066 and parameters: {'xgb_max_depth': 5, 'xgb_estimators': 39, 'xgb_booster': 'dart', 'xgb_scale_pos_weight': 35.938705260899766}. Best is trial 67 with value: -0.2322264397128782.\n",
      "[I 2023-07-08 09:22:57,870] Trial 81 finished with value: -0.2676552128011865 and parameters: {'xgb_max_depth': 2, 'xgb_estimators': 30, 'xgb_booster': 'dart', 'xgb_scale_pos_weight': 36.62268695868962}. Best is trial 67 with value: -0.2322264397128782.\n",
      "[I 2023-07-08 09:22:59,436] Trial 82 finished with value: -0.24447579581805087 and parameters: {'xgb_max_depth': 2, 'xgb_estimators': 26, 'xgb_booster': 'dart', 'xgb_scale_pos_weight': 36.15379027681243}. Best is trial 67 with value: -0.2322264397128782.\n",
      "[I 2023-07-08 09:23:01,012] Trial 83 finished with value: -0.23415144593924206 and parameters: {'xgb_max_depth': 2, 'xgb_estimators': 26, 'xgb_booster': 'dart', 'xgb_scale_pos_weight': 35.53272542534795}. Best is trial 67 with value: -0.2322264397128782.\n",
      "[I 2023-07-08 09:23:02,763] Trial 84 finished with value: -0.42204677142542674 and parameters: {'xgb_max_depth': 7, 'xgb_estimators': 25, 'xgb_booster': 'dart', 'xgb_scale_pos_weight': 35.44974781897252}. Best is trial 67 with value: -0.2322264397128782.\n",
      "[I 2023-07-08 09:23:04,438] Trial 85 finished with value: -0.27129538695255634 and parameters: {'xgb_max_depth': 2, 'xgb_estimators': 32, 'xgb_booster': 'dart', 'xgb_scale_pos_weight': 35.27103001393703}. Best is trial 67 with value: -0.2322264397128782.\n",
      "[I 2023-07-08 09:23:06,249] Trial 86 finished with value: -0.5378242858856483 and parameters: {'xgb_max_depth': 15, 'xgb_estimators': 22, 'xgb_booster': 'dart', 'xgb_scale_pos_weight': 36.01320246583803}. Best is trial 67 with value: -0.2322264397128782.\n",
      "[I 2023-07-08 09:23:07,919] Trial 87 finished with value: -0.44138184182214707 and parameters: {'xgb_max_depth': 6, 'xgb_estimators': 17, 'xgb_booster': 'dart', 'xgb_scale_pos_weight': 35.722214599551}. Best is trial 67 with value: -0.2322264397128782.\n",
      "[I 2023-07-08 09:23:09,624] Trial 88 finished with value: -0.40018178096421797 and parameters: {'xgb_max_depth': 3, 'xgb_estimators': 29, 'xgb_booster': 'dart', 'xgb_scale_pos_weight': 34.782627317105415}. Best is trial 67 with value: -0.2322264397128782.\n",
      "[I 2023-07-08 09:23:11,276] Trial 89 finished with value: -0.2741780200722745 and parameters: {'xgb_max_depth': 2, 'xgb_estimators': 30, 'xgb_booster': 'dart', 'xgb_scale_pos_weight': 35.25715265950911}. Best is trial 67 with value: -0.2322264397128782.\n",
      "[I 2023-07-08 09:23:13,076] Trial 90 finished with value: -0.4801097548655675 and parameters: {'xgb_max_depth': 10, 'xgb_estimators': 28, 'xgb_booster': 'dart', 'xgb_scale_pos_weight': 36.030066466457434}. Best is trial 67 with value: -0.2322264397128782.\n",
      "[I 2023-07-08 09:23:14,681] Trial 91 finished with value: -0.25208840290977064 and parameters: {'xgb_max_depth': 2, 'xgb_estimators': 26, 'xgb_booster': 'dart', 'xgb_scale_pos_weight': 36.204405066407155}. Best is trial 67 with value: -0.2322264397128782.\n",
      "[I 2023-07-08 09:23:16,368] Trial 92 finished with value: -0.2679716333644617 and parameters: {'xgb_max_depth': 2, 'xgb_estimators': 26, 'xgb_booster': 'dart', 'xgb_scale_pos_weight': 37.25219018974851}. Best is trial 67 with value: -0.2322264397128782.\n",
      "[I 2023-07-08 09:23:18,153] Trial 93 finished with value: -0.5081326524900127 and parameters: {'xgb_max_depth': 11, 'xgb_estimators': 24, 'xgb_booster': 'dart', 'xgb_scale_pos_weight': 36.712603594171256}. Best is trial 67 with value: -0.2322264397128782.\n",
      "[I 2023-07-08 09:23:19,778] Trial 94 finished with value: -0.49588221577695046 and parameters: {'xgb_max_depth': 8, 'xgb_estimators': 15, 'xgb_booster': 'dart', 'xgb_scale_pos_weight': 36.12723077707993}. Best is trial 67 with value: -0.2322264397128782.\n",
      "[I 2023-07-08 09:23:21,399] Trial 95 finished with value: -0.2378561076943498 and parameters: {'xgb_max_depth': 2, 'xgb_estimators': 28, 'xgb_booster': 'dart', 'xgb_scale_pos_weight': 35.559580324346115}. Best is trial 67 with value: -0.2322264397128782.\n",
      "[I 2023-07-08 09:23:23,176] Trial 96 finished with value: -0.4887496765914937 and parameters: {'xgb_max_depth': 9, 'xgb_estimators': 28, 'xgb_booster': 'dart', 'xgb_scale_pos_weight': 35.07110412116454}. Best is trial 67 with value: -0.2322264397128782.\n",
      "[I 2023-07-08 09:23:24,803] Trial 97 finished with value: -0.26678819073497284 and parameters: {'xgb_max_depth': 2, 'xgb_estimators': 25, 'xgb_booster': 'dart', 'xgb_scale_pos_weight': 34.749324463243816}. Best is trial 67 with value: -0.2322264397128782.\n",
      "[I 2023-07-08 09:23:26,485] Trial 98 finished with value: -0.23778579306551886 and parameters: {'xgb_max_depth': 2, 'xgb_estimators': 31, 'xgb_booster': 'dart', 'xgb_scale_pos_weight': 35.69491644624251}. Best is trial 67 with value: -0.2322264397128782.\n",
      "[I 2023-07-08 09:23:28,141] Trial 99 finished with value: -0.2504201244795453 and parameters: {'xgb_max_depth': 2, 'xgb_estimators': 31, 'xgb_booster': 'dart', 'xgb_scale_pos_weight': 35.5776940853825}. Best is trial 67 with value: -0.2322264397128782.\n",
      "[I 2023-07-08 09:23:29,916] Trial 100 finished with value: -0.4488457660923405 and parameters: {'xgb_max_depth': 5, 'xgb_estimators': 29, 'xgb_booster': 'dart', 'xgb_scale_pos_weight': 35.86654142744539}. Best is trial 67 with value: -0.2322264397128782.\n",
      "[I 2023-07-08 09:23:31,561] Trial 101 finished with value: -0.24075166497274347 and parameters: {'xgb_max_depth': 2, 'xgb_estimators': 32, 'xgb_booster': 'dart', 'xgb_scale_pos_weight': 35.71436943493364}. Best is trial 67 with value: -0.2322264397128782.\n",
      "[I 2023-07-08 09:23:33,197] Trial 102 finished with value: -0.27900927549148846 and parameters: {'xgb_max_depth': 2, 'xgb_estimators': 32, 'xgb_booster': 'dart', 'xgb_scale_pos_weight': 35.1401615342933}. Best is trial 67 with value: -0.2322264397128782.\n",
      "[I 2023-07-08 09:23:34,823] Trial 103 finished with value: -0.24599507469514062 and parameters: {'xgb_max_depth': 2, 'xgb_estimators': 30, 'xgb_booster': 'dart', 'xgb_scale_pos_weight': 35.54655220623692}. Best is trial 67 with value: -0.2322264397128782.\n",
      "[I 2023-07-08 09:23:36,495] Trial 104 finished with value: -0.2752763088587966 and parameters: {'xgb_max_depth': 2, 'xgb_estimators': 33, 'xgb_booster': 'dart', 'xgb_scale_pos_weight': 34.3510907116527}. Best is trial 67 with value: -0.2322264397128782.\n",
      "[I 2023-07-08 09:23:38,153] Trial 105 finished with value: -0.23231336820157003 and parameters: {'xgb_max_depth': 2, 'xgb_estimators': 27, 'xgb_booster': 'dart', 'xgb_scale_pos_weight': 35.769486302980724}. Best is trial 67 with value: -0.2322264397128782.\n",
      "[I 2023-07-08 09:23:39,810] Trial 106 finished with value: -0.3528070778304461 and parameters: {'xgb_max_depth': 3, 'xgb_estimators': 23, 'xgb_booster': 'dart', 'xgb_scale_pos_weight': 35.56732511247949}. Best is trial 67 with value: -0.2322264397128782.\n",
      "[I 2023-07-08 09:23:41,572] Trial 107 finished with value: -0.40355397312951863 and parameters: {'xgb_max_depth': 4, 'xgb_estimators': 27, 'xgb_booster': 'dart', 'xgb_scale_pos_weight': 35.7848582766776}. Best is trial 67 with value: -0.2322264397128782.\n",
      "[I 2023-07-08 09:23:43,202] Trial 108 finished with value: -0.2674839885727188 and parameters: {'xgb_max_depth': 2, 'xgb_estimators': 28, 'xgb_booster': 'dart', 'xgb_scale_pos_weight': 35.300176620615346}. Best is trial 67 with value: -0.2322264397128782.\n",
      "[I 2023-07-08 09:23:44,971] Trial 109 finished with value: -0.40853725068867847 and parameters: {'xgb_max_depth': 7, 'xgb_estimators': 24, 'xgb_booster': 'dart', 'xgb_scale_pos_weight': 36.49727456543308}. Best is trial 67 with value: -0.2322264397128782.\n",
      "[I 2023-07-08 09:23:46,721] Trial 110 finished with value: -0.43651546582628153 and parameters: {'xgb_max_depth': 6, 'xgb_estimators': 26, 'xgb_booster': 'dart', 'xgb_scale_pos_weight': 36.210640615957814}. Best is trial 67 with value: -0.2322264397128782.\n",
      "[I 2023-07-08 09:23:48,360] Trial 111 finished with value: -0.24649553340931413 and parameters: {'xgb_max_depth': 2, 'xgb_estimators': 29, 'xgb_booster': 'dart', 'xgb_scale_pos_weight': 35.837835555356286}. Best is trial 67 with value: -0.2322264397128782.\n",
      "[I 2023-07-08 09:23:50,004] Trial 112 finished with value: -0.25398436853234463 and parameters: {'xgb_max_depth': 2, 'xgb_estimators': 31, 'xgb_booster': 'dart', 'xgb_scale_pos_weight': 35.41094624201407}. Best is trial 67 with value: -0.2322264397128782.\n",
      "[I 2023-07-08 09:23:51,600] Trial 113 finished with value: -0.23399554638087242 and parameters: {'xgb_max_depth': 2, 'xgb_estimators': 27, 'xgb_booster': 'dart', 'xgb_scale_pos_weight': 36.057801289508085}. Best is trial 67 with value: -0.2322264397128782.\n",
      "[I 2023-07-08 09:23:53,337] Trial 114 finished with value: -0.5002386939105757 and parameters: {'xgb_max_depth': 12, 'xgb_estimators': 27, 'xgb_booster': 'dart', 'xgb_scale_pos_weight': 36.76862730966955}. Best is trial 67 with value: -0.2322264397128782.\n",
      "[I 2023-07-08 09:23:54,917] Trial 115 finished with value: -0.2662546448906913 and parameters: {'xgb_max_depth': 2, 'xgb_estimators': 25, 'xgb_booster': 'dart', 'xgb_scale_pos_weight': 35.11134177179397}. Best is trial 67 with value: -0.2322264397128782.\n",
      "[I 2023-07-08 09:23:56,559] Trial 116 finished with value: -0.24873042963067568 and parameters: {'xgb_max_depth': 2, 'xgb_estimators': 28, 'xgb_booster': 'dart', 'xgb_scale_pos_weight': 36.179815879812104}. Best is trial 67 with value: -0.2322264397128782.\n",
      "[I 2023-07-08 09:23:58,192] Trial 117 finished with value: -0.25918196936368987 and parameters: {'xgb_max_depth': 2, 'xgb_estimators': 25, 'xgb_booster': 'dart', 'xgb_scale_pos_weight': 36.43883926914279}. Best is trial 67 with value: -0.2322264397128782.\n",
      "[I 2023-07-08 09:23:59,915] Trial 118 finished with value: -0.4795847327223354 and parameters: {'xgb_max_depth': 8, 'xgb_estimators': 26, 'xgb_booster': 'dart', 'xgb_scale_pos_weight': 34.905403711131825}. Best is trial 67 with value: -0.2322264397128782.\n",
      "[I 2023-07-08 09:24:01,721] Trial 119 finished with value: -0.524551434572705 and parameters: {'xgb_max_depth': 13, 'xgb_estimators': 27, 'xgb_booster': 'dart', 'xgb_scale_pos_weight': 35.41746519888732}. Best is trial 67 with value: -0.2322264397128782.\n",
      "[I 2023-07-08 09:24:03,361] Trial 120 finished with value: -0.38638317841839437 and parameters: {'xgb_max_depth': 3, 'xgb_estimators': 29, 'xgb_booster': 'dart', 'xgb_scale_pos_weight': 35.65220084654926}. Best is trial 67 with value: -0.2322264397128782.\n",
      "[I 2023-07-08 09:24:05,023] Trial 121 finished with value: -0.2464920612654188 and parameters: {'xgb_max_depth': 2, 'xgb_estimators': 30, 'xgb_booster': 'dart', 'xgb_scale_pos_weight': 35.99332890121726}. Best is trial 67 with value: -0.2322264397128782.\n",
      "[I 2023-07-08 09:24:06,663] Trial 122 finished with value: -0.25056392280490436 and parameters: {'xgb_max_depth': 2, 'xgb_estimators': 34, 'xgb_booster': 'dart', 'xgb_scale_pos_weight': 35.765982289314}. Best is trial 67 with value: -0.2322264397128782.\n",
      "[I 2023-07-08 09:24:08,370] Trial 123 finished with value: -0.24826065303755418 and parameters: {'xgb_max_depth': 2, 'xgb_estimators': 32, 'xgb_booster': 'dart', 'xgb_scale_pos_weight': 36.02943224600655}. Best is trial 67 with value: -0.2322264397128782.\n",
      "[I 2023-07-08 09:24:10,161] Trial 124 finished with value: -0.4218106018855443 and parameters: {'xgb_max_depth': 5, 'xgb_estimators': 30, 'xgb_booster': 'dart', 'xgb_scale_pos_weight': 36.50103930630306}. Best is trial 67 with value: -0.2322264397128782.\n",
      "[I 2023-07-08 09:24:11,872] Trial 125 finished with value: -0.40476216905077783 and parameters: {'xgb_max_depth': 4, 'xgb_estimators': 31, 'xgb_booster': 'dart', 'xgb_scale_pos_weight': 35.8704061448386}. Best is trial 67 with value: -0.2322264397128782.\n",
      "[I 2023-07-08 09:24:13,583] Trial 126 finished with value: -0.2723745675337241 and parameters: {'xgb_max_depth': 2, 'xgb_estimators': 37, 'xgb_booster': 'dart', 'xgb_scale_pos_weight': 36.245614548571744}. Best is trial 67 with value: -0.2322264397128782.\n",
      "[I 2023-07-08 09:24:15,205] Trial 127 finished with value: -0.26550303715754053 and parameters: {'xgb_max_depth': 2, 'xgb_estimators': 28, 'xgb_booster': 'dart', 'xgb_scale_pos_weight': 37.04785489460958}. Best is trial 67 with value: -0.2322264397128782.\n",
      "[I 2023-07-08 09:24:16,883] Trial 128 finished with value: -0.48466742640695415 and parameters: {'xgb_max_depth': 15, 'xgb_estimators': 23, 'xgb_booster': 'dart', 'xgb_scale_pos_weight': 36.76849645591871}. Best is trial 67 with value: -0.2322264397128782.\n",
      "[I 2023-07-08 09:24:18,523] Trial 129 finished with value: -0.23414942263890212 and parameters: {'xgb_max_depth': 2, 'xgb_estimators': 26, 'xgb_booster': 'dart', 'xgb_scale_pos_weight': 35.534321340090955}. Best is trial 67 with value: -0.2322264397128782.\n",
      "[I 2023-07-08 09:24:20,134] Trial 130 finished with value: -0.25856797249566343 and parameters: {'xgb_max_depth': 2, 'xgb_estimators': 25, 'xgb_booster': 'gbtree', 'xgb_scale_pos_weight': 35.243484443823576}. Best is trial 67 with value: -0.2322264397128782.\n",
      "[I 2023-07-08 09:24:21,763] Trial 131 finished with value: -0.23714900462712904 and parameters: {'xgb_max_depth': 2, 'xgb_estimators': 27, 'xgb_booster': 'dart', 'xgb_scale_pos_weight': 35.5747369381993}. Best is trial 67 with value: -0.2322264397128782.\n",
      "[I 2023-07-08 09:24:23,354] Trial 132 finished with value: -0.23718025009348104 and parameters: {'xgb_max_depth': 2, 'xgb_estimators': 27, 'xgb_booster': 'dart', 'xgb_scale_pos_weight': 35.55090766055456}. Best is trial 67 with value: -0.2322264397128782.\n",
      "[I 2023-07-08 09:24:25,079] Trial 133 finished with value: -0.40208177295717806 and parameters: {'xgb_max_depth': 4, 'xgb_estimators': 27, 'xgb_booster': 'dart', 'xgb_scale_pos_weight': 35.57922349720224}. Best is trial 67 with value: -0.2322264397128782.\n",
      "[I 2023-07-08 09:24:26,876] Trial 134 finished with value: -0.5445867030025008 and parameters: {'xgb_max_depth': 12, 'xgb_estimators': 29, 'xgb_booster': 'dart', 'xgb_scale_pos_weight': 34.99099909222537}. Best is trial 67 with value: -0.2322264397128782.\n",
      "[I 2023-07-08 09:24:28,522] Trial 135 finished with value: -0.23910936617885287 and parameters: {'xgb_max_depth': 2, 'xgb_estimators': 27, 'xgb_booster': 'dart', 'xgb_scale_pos_weight': 35.46345139870443}. Best is trial 67 with value: -0.2322264397128782.\n",
      "[I 2023-07-08 09:24:30,205] Trial 136 finished with value: -0.273365780963364 and parameters: {'xgb_max_depth': 2, 'xgb_estimators': 27, 'xgb_booster': 'dart', 'xgb_scale_pos_weight': 34.778746010397114}. Best is trial 67 with value: -0.2322264397128782.\n",
      "[I 2023-07-08 09:24:31,991] Trial 137 finished with value: -0.4504491584295883 and parameters: {'xgb_max_depth': 6, 'xgb_estimators': 28, 'xgb_booster': 'dart', 'xgb_scale_pos_weight': 35.509778207441755}. Best is trial 67 with value: -0.2322264397128782.\n",
      "[I 2023-07-08 09:24:33,495] Trial 138 finished with value: -0.2511542259569205 and parameters: {'xgb_max_depth': 2, 'xgb_estimators': 24, 'xgb_booster': 'dart', 'xgb_scale_pos_weight': 35.29455463203763}. Best is trial 67 with value: -0.2322264397128782.\n",
      "[I 2023-07-08 09:24:35,215] Trial 139 finished with value: -0.265348972344797 and parameters: {'xgb_max_depth': 2, 'xgb_estimators': 26, 'xgb_booster': 'gbtree', 'xgb_scale_pos_weight': 35.08908371483764}. Best is trial 67 with value: -0.2322264397128782.\n",
      "[I 2023-07-08 09:24:36,946] Trial 140 finished with value: -0.4570707130185806 and parameters: {'xgb_max_depth': 5, 'xgb_estimators': 26, 'xgb_booster': 'dart', 'xgb_scale_pos_weight': 35.738699749471756}. Best is trial 67 with value: -0.2322264397128782.\n",
      "[I 2023-07-08 09:24:38,812] Trial 141 finished with value: -0.533710954427911 and parameters: {'xgb_max_depth': 14, 'xgb_estimators': 28, 'xgb_booster': 'dart', 'xgb_scale_pos_weight': 35.58193289963119}. Best is trial 67 with value: -0.2322264397128782.\n",
      "[I 2023-07-08 09:24:40,412] Trial 142 finished with value: -0.23376839902196292 and parameters: {'xgb_max_depth': 2, 'xgb_estimators': 25, 'xgb_booster': 'dart', 'xgb_scale_pos_weight': 35.88110202709716}. Best is trial 67 with value: -0.2322264397128782.\n",
      "[I 2023-07-08 09:24:42,070] Trial 143 finished with value: -0.233802765211369 and parameters: {'xgb_max_depth': 2, 'xgb_estimators': 25, 'xgb_booster': 'dart', 'xgb_scale_pos_weight': 35.85326208554829}. Best is trial 67 with value: -0.2322264397128782.\n",
      "[I 2023-07-08 09:24:43,918] Trial 144 finished with value: -0.47319028984456935 and parameters: {'xgb_max_depth': 7, 'xgb_estimators': 25, 'xgb_booster': 'dart', 'xgb_scale_pos_weight': 35.398584664474654}. Best is trial 67 with value: -0.2322264397128782.\n",
      "[I 2023-07-08 09:24:45,556] Trial 145 finished with value: -0.2612154047226983 and parameters: {'xgb_max_depth': 2, 'xgb_estimators': 24, 'xgb_booster': 'dart', 'xgb_scale_pos_weight': 34.64599911468583}. Best is trial 67 with value: -0.2322264397128782.\n",
      "[I 2023-07-08 09:24:47,159] Trial 146 finished with value: -0.2335900919467008 and parameters: {'xgb_max_depth': 2, 'xgb_estimators': 27, 'xgb_booster': 'dart', 'xgb_scale_pos_weight': 35.956005434551386}. Best is trial 67 with value: -0.2322264397128782.\n",
      "[I 2023-07-08 09:24:49,007] Trial 147 finished with value: -0.4657257844390953 and parameters: {'xgb_max_depth': 9, 'xgb_estimators': 25, 'xgb_booster': 'gbtree', 'xgb_scale_pos_weight': 35.94829290396326}. Best is trial 67 with value: -0.2322264397128782.\n",
      "[I 2023-07-08 09:24:50,625] Trial 148 finished with value: -0.2541484910349928 and parameters: {'xgb_max_depth': 2, 'xgb_estimators': 26, 'xgb_booster': 'dart', 'xgb_scale_pos_weight': 36.33765814849455}. Best is trial 67 with value: -0.2322264397128782.\n",
      "[I 2023-07-08 09:24:52,184] Trial 149 finished with value: -0.2500672936670362 and parameters: {'xgb_max_depth': 2, 'xgb_estimators': 22, 'xgb_booster': 'dart', 'xgb_scale_pos_weight': 36.54875328579064}. Best is trial 67 with value: -0.2322264397128782.\n",
      "[I 2023-07-08 09:24:53,814] Trial 150 finished with value: -0.38928944675425836 and parameters: {'xgb_max_depth': 3, 'xgb_estimators': 27, 'xgb_booster': 'gbtree', 'xgb_scale_pos_weight': 36.10133627841026}. Best is trial 67 with value: -0.2322264397128782.\n",
      "[I 2023-07-08 09:24:55,478] Trial 151 finished with value: -0.23224679102692525 and parameters: {'xgb_max_depth': 2, 'xgb_estimators': 27, 'xgb_booster': 'dart', 'xgb_scale_pos_weight': 35.82118895622562}. Best is trial 67 with value: -0.2322264397128782.\n",
      "[I 2023-07-08 09:24:57,073] Trial 152 finished with value: -0.23709352304277553 and parameters: {'xgb_max_depth': 2, 'xgb_estimators': 28, 'xgb_booster': 'dart', 'xgb_scale_pos_weight': 35.8279986343986}. Best is trial 67 with value: -0.2322264397128782.\n",
      "[I 2023-07-08 09:24:58,693] Trial 153 finished with value: -0.23372497542956405 and parameters: {'xgb_max_depth': 2, 'xgb_estimators': 25, 'xgb_booster': 'dart', 'xgb_scale_pos_weight': 35.91633530683851}. Best is trial 67 with value: -0.2322264397128782.\n",
      "[I 2023-07-08 09:25:00,481] Trial 154 finished with value: -0.5330840729541864 and parameters: {'xgb_max_depth': 11, 'xgb_estimators': 24, 'xgb_booster': 'dart', 'xgb_scale_pos_weight': 35.891785498145374}. Best is trial 67 with value: -0.2322264397128782.\n",
      "[I 2023-07-08 09:25:02,095] Trial 155 finished with value: -0.254150913715698 and parameters: {'xgb_max_depth': 2, 'xgb_estimators': 26, 'xgb_booster': 'dart', 'xgb_scale_pos_weight': 36.33585129729463}. Best is trial 67 with value: -0.2322264397128782.\n",
      "[I 2023-07-08 09:25:03,668] Trial 156 finished with value: -0.24266960725456976 and parameters: {'xgb_max_depth': 2, 'xgb_estimators': 25, 'xgb_booster': 'dart', 'xgb_scale_pos_weight': 36.134344335875085}. Best is trial 67 with value: -0.2322264397128782.\n",
      "[I 2023-07-08 09:25:05,286] Trial 157 finished with value: -0.22732044207409854 and parameters: {'xgb_max_depth': 2, 'xgb_estimators': 26, 'xgb_booster': 'dart', 'xgb_scale_pos_weight': 35.892864263920046}. Best is trial 157 with value: -0.22732044207409854.\n",
      "[I 2023-07-08 09:25:07,031] Trial 158 finished with value: -0.5485673844533194 and parameters: {'xgb_max_depth': 16, 'xgb_estimators': 23, 'xgb_booster': 'dart', 'xgb_scale_pos_weight': 35.214701673913346}. Best is trial 157 with value: -0.22732044207409854.\n",
      "[I 2023-07-08 09:25:08,796] Trial 159 finished with value: -0.44001583362669916 and parameters: {'xgb_max_depth': 6, 'xgb_estimators': 24, 'xgb_booster': 'dart', 'xgb_scale_pos_weight': 35.7841962010951}. Best is trial 157 with value: -0.22732044207409854.\n",
      "[I 2023-07-08 09:25:10,618] Trial 160 finished with value: -0.49593488278078357 and parameters: {'xgb_max_depth': 9, 'xgb_estimators': 27, 'xgb_booster': 'dart', 'xgb_scale_pos_weight': 36.63827131047721}. Best is trial 157 with value: -0.22732044207409854.\n",
      "[I 2023-07-08 09:25:12,304] Trial 161 finished with value: -0.383030966831869 and parameters: {'xgb_max_depth': 4, 'xgb_estimators': 25, 'xgb_booster': 'dart', 'xgb_scale_pos_weight': 35.99104934722864}. Best is trial 157 with value: -0.22732044207409854.\n",
      "[I 2023-07-08 09:25:13,917] Trial 162 finished with value: -0.2520672163541729 and parameters: {'xgb_max_depth': 2, 'xgb_estimators': 26, 'xgb_booster': 'dart', 'xgb_scale_pos_weight': 36.21984922296741}. Best is trial 157 with value: -0.22732044207409854.\n",
      "[I 2023-07-08 09:25:15,733] Trial 163 finished with value: -0.4995077141989877 and parameters: {'xgb_max_depth': 10, 'xgb_estimators': 29, 'xgb_booster': 'dart', 'xgb_scale_pos_weight': 35.81137615427784}. Best is trial 157 with value: -0.22732044207409854.\n",
      "[I 2023-07-08 09:25:17,379] Trial 164 finished with value: -0.25479430984087814 and parameters: {'xgb_max_depth': 2, 'xgb_estimators': 27, 'xgb_booster': 'dart', 'xgb_scale_pos_weight': 36.40973826296963}. Best is trial 157 with value: -0.22732044207409854.\n",
      "[I 2023-07-08 09:25:19,017] Trial 165 finished with value: -0.23080061274464855 and parameters: {'xgb_max_depth': 2, 'xgb_estimators': 26, 'xgb_booster': 'gbtree', 'xgb_scale_pos_weight': 35.39586660140917}. Best is trial 157 with value: -0.22732044207409854.\n",
      "[I 2023-07-08 09:25:20,600] Trial 166 finished with value: -0.24309819231854185 and parameters: {'xgb_max_depth': 2, 'xgb_estimators': 26, 'xgb_booster': 'dart', 'xgb_scale_pos_weight': 35.371211649444376}. Best is trial 157 with value: -0.22732044207409854.\n",
      "[I 2023-07-08 09:25:22,189] Trial 167 finished with value: -0.23854516685774127 and parameters: {'xgb_max_depth': 2, 'xgb_estimators': 24, 'xgb_booster': 'gbtree', 'xgb_scale_pos_weight': 35.562553627298655}. Best is trial 157 with value: -0.22732044207409854.\n",
      "[I 2023-07-08 09:25:23,811] Trial 168 finished with value: -0.26616211045211763 and parameters: {'xgb_max_depth': 2, 'xgb_estimators': 25, 'xgb_booster': 'dart', 'xgb_scale_pos_weight': 35.174714131627866}. Best is trial 157 with value: -0.22732044207409854.\n",
      "[I 2023-07-08 09:25:25,384] Trial 169 finished with value: -0.27330625466522707 and parameters: {'xgb_max_depth': 2, 'xgb_estimators': 28, 'xgb_booster': 'dart', 'xgb_scale_pos_weight': 34.98976794875118}. Best is trial 157 with value: -0.22732044207409854.\n",
      "[I 2023-07-08 09:25:27,053] Trial 170 finished with value: -0.3896164571391155 and parameters: {'xgb_max_depth': 3, 'xgb_estimators': 27, 'xgb_booster': 'dart', 'xgb_scale_pos_weight': 35.96628565692691}. Best is trial 157 with value: -0.22732044207409854.\n",
      "[I 2023-07-08 09:25:28,613] Trial 171 finished with value: -0.22752097432622018 and parameters: {'xgb_max_depth': 2, 'xgb_estimators': 26, 'xgb_booster': 'gbtree', 'xgb_scale_pos_weight': 35.73041141800961}. Best is trial 157 with value: -0.22732044207409854.\n",
      "[I 2023-07-08 09:25:30,252] Trial 172 finished with value: -0.22756567384562115 and parameters: {'xgb_max_depth': 2, 'xgb_estimators': 26, 'xgb_booster': 'gbtree', 'xgb_scale_pos_weight': 35.69435791025355}. Best is trial 157 with value: -0.22732044207409854.\n",
      "[I 2023-07-08 09:25:31,806] Trial 173 finished with value: -0.24266578214873186 and parameters: {'xgb_max_depth': 2, 'xgb_estimators': 25, 'xgb_booster': 'gbtree', 'xgb_scale_pos_weight': 36.13734589107656}. Best is trial 157 with value: -0.22732044207409854.\n",
      "[I 2023-07-08 09:25:33,402] Trial 174 finished with value: -0.22748411107954727 and parameters: {'xgb_max_depth': 2, 'xgb_estimators': 26, 'xgb_booster': 'gbtree', 'xgb_scale_pos_weight': 35.76019277964916}. Best is trial 157 with value: -0.22732044207409854.\n",
      "[I 2023-07-08 09:25:35,006] Trial 175 finished with value: -0.22747614749768674 and parameters: {'xgb_max_depth': 2, 'xgb_estimators': 26, 'xgb_booster': 'gbtree', 'xgb_scale_pos_weight': 35.76662697435713}. Best is trial 157 with value: -0.22732044207409854.\n",
      "[I 2023-07-08 09:25:36,764] Trial 176 finished with value: -0.5398609743585351 and parameters: {'xgb_max_depth': 16, 'xgb_estimators': 26, 'xgb_booster': 'gbtree', 'xgb_scale_pos_weight': 36.19437430977145}. Best is trial 157 with value: -0.22732044207409854.\n",
      "[I 2023-07-08 09:25:38,533] Trial 177 finished with value: -0.5029210378678969 and parameters: {'xgb_max_depth': 8, 'xgb_estimators': 24, 'xgb_booster': 'gbtree', 'xgb_scale_pos_weight': 35.76942880413154}. Best is trial 157 with value: -0.22732044207409854.\n",
      "[I 2023-07-08 09:25:40,391] Trial 178 finished with value: -0.4354728966095234 and parameters: {'xgb_max_depth': 5, 'xgb_estimators': 26, 'xgb_booster': 'gbtree', 'xgb_scale_pos_weight': 35.30761814353992}. Best is trial 157 with value: -0.22732044207409854.\n",
      "[I 2023-07-08 09:25:42,153] Trial 179 finished with value: -0.4078740395241594 and parameters: {'xgb_max_depth': 7, 'xgb_estimators': 23, 'xgb_booster': 'gbtree', 'xgb_scale_pos_weight': 36.49298263920033}. Best is trial 157 with value: -0.22732044207409854.\n",
      "[I 2023-07-08 09:25:43,911] Trial 180 finished with value: -0.46716215678719103 and parameters: {'xgb_max_depth': 8, 'xgb_estimators': 25, 'xgb_booster': 'gbtree', 'xgb_scale_pos_weight': 36.01310167714719}. Best is trial 157 with value: -0.22732044207409854.\n",
      "[I 2023-07-08 09:25:45,698] Trial 181 finished with value: -0.22754938081288228 and parameters: {'xgb_max_depth': 2, 'xgb_estimators': 26, 'xgb_booster': 'gbtree', 'xgb_scale_pos_weight': 35.70748578032016}. Best is trial 157 with value: -0.22732044207409854.\n",
      "[I 2023-07-08 09:25:47,291] Trial 182 finished with value: -0.22760806569563535 and parameters: {'xgb_max_depth': 2, 'xgb_estimators': 26, 'xgb_booster': 'gbtree', 'xgb_scale_pos_weight': 35.660208203477815}. Best is trial 157 with value: -0.22732044207409854.\n",
      "[I 2023-07-08 09:25:48,921] Trial 183 finished with value: -0.22753142822475186 and parameters: {'xgb_max_depth': 2, 'xgb_estimators': 26, 'xgb_booster': 'gbtree', 'xgb_scale_pos_weight': 35.72197872196309}. Best is trial 157 with value: -0.22732044207409854.\n",
      "[I 2023-07-08 09:25:50,554] Trial 184 finished with value: -0.23402968376266578 and parameters: {'xgb_max_depth': 2, 'xgb_estimators': 25, 'xgb_booster': 'gbtree', 'xgb_scale_pos_weight': 35.67031576814245}. Best is trial 157 with value: -0.22732044207409854.\n",
      "[I 2023-07-08 09:25:52,129] Trial 185 finished with value: -0.2339311741993241 and parameters: {'xgb_max_depth': 2, 'xgb_estimators': 25, 'xgb_booster': 'gbtree', 'xgb_scale_pos_weight': 35.749563409627484}. Best is trial 157 with value: -0.22732044207409854.\n",
      "[I 2023-07-08 09:25:53,796] Trial 186 finished with value: -0.3998738322583265 and parameters: {'xgb_max_depth': 4, 'xgb_estimators': 24, 'xgb_booster': 'gbtree', 'xgb_scale_pos_weight': 35.828722988768334}. Best is trial 157 with value: -0.22732044207409854.\n",
      "[I 2023-07-08 09:25:55,545] Trial 187 finished with value: -0.5223093627718632 and parameters: {'xgb_max_depth': 13, 'xgb_estimators': 23, 'xgb_booster': 'gbtree', 'xgb_scale_pos_weight': 36.270478512033904}. Best is trial 157 with value: -0.22732044207409854.\n",
      "[I 2023-07-08 09:25:57,072] Trial 188 finished with value: -0.2481825566367714 and parameters: {'xgb_max_depth': 2, 'xgb_estimators': 25, 'xgb_booster': 'gbtree', 'xgb_scale_pos_weight': 35.371948663345826}. Best is trial 157 with value: -0.22732044207409854.\n",
      "[I 2023-07-08 09:25:58,858] Trial 189 finished with value: -0.5296793818926699 and parameters: {'xgb_max_depth': 14, 'xgb_estimators': 26, 'xgb_booster': 'gbtree', 'xgb_scale_pos_weight': 36.003386959631904}. Best is trial 157 with value: -0.22732044207409854.\n",
      "[I 2023-07-08 09:26:00,523] Trial 190 finished with value: -0.2324057249378803 and parameters: {'xgb_max_depth': 2, 'xgb_estimators': 27, 'xgb_booster': 'gbtree', 'xgb_scale_pos_weight': 35.69795154794093}. Best is trial 157 with value: -0.22732044207409854.\n",
      "[I 2023-07-08 09:26:02,143] Trial 191 finished with value: -0.23236482626438595 and parameters: {'xgb_max_depth': 2, 'xgb_estimators': 27, 'xgb_booster': 'gbtree', 'xgb_scale_pos_weight': 35.72961163086119}. Best is trial 157 with value: -0.22732044207409854.\n",
      "[I 2023-07-08 09:26:03,732] Trial 192 finished with value: -0.2324047682105342 and parameters: {'xgb_max_depth': 2, 'xgb_estimators': 27, 'xgb_booster': 'gbtree', 'xgb_scale_pos_weight': 35.6986939531483}. Best is trial 157 with value: -0.22732044207409854.\n",
      "[I 2023-07-08 09:26:05,308] Trial 193 finished with value: -0.23730907866930745 and parameters: {'xgb_max_depth': 2, 'xgb_estimators': 28, 'xgb_booster': 'gbtree', 'xgb_scale_pos_weight': 35.66249983965549}. Best is trial 157 with value: -0.22732044207409854.\n",
      "[I 2023-07-08 09:26:06,895] Trial 194 finished with value: -0.27273368377341684 and parameters: {'xgb_max_depth': 2, 'xgb_estimators': 27, 'xgb_booster': 'gbtree', 'xgb_scale_pos_weight': 35.19601531978197}. Best is trial 157 with value: -0.22732044207409854.\n",
      "[I 2023-07-08 09:26:08,675] Trial 195 finished with value: -0.47746231978567044 and parameters: {'xgb_max_depth': 10, 'xgb_estimators': 28, 'xgb_booster': 'gbtree', 'xgb_scale_pos_weight': 35.424623216490886}. Best is trial 157 with value: -0.22732044207409854.\n",
      "[I 2023-07-08 09:26:10,329] Trial 196 finished with value: -0.22734565421936828 and parameters: {'xgb_max_depth': 2, 'xgb_estimators': 26, 'xgb_booster': 'gbtree', 'xgb_scale_pos_weight': 35.87239524714539}. Best is trial 157 with value: -0.22732044207409854.\n",
      "[I 2023-07-08 09:26:11,953] Trial 197 finished with value: -0.28144063848688256 and parameters: {'xgb_max_depth': 2, 'xgb_estimators': 29, 'xgb_booster': 'gbtree', 'xgb_scale_pos_weight': 35.01381655597534}. Best is trial 157 with value: -0.22732044207409854.\n",
      "[I 2023-07-08 09:26:13,732] Trial 198 finished with value: -0.4808793310805826 and parameters: {'xgb_max_depth': 8, 'xgb_estimators': 27, 'xgb_booster': 'gbtree', 'xgb_scale_pos_weight': 35.619356330282805}. Best is trial 157 with value: -0.22732044207409854.\n",
      "[I 2023-07-08 09:26:15,348] Trial 199 finished with value: -0.23610109679383826 and parameters: {'xgb_max_depth': 2, 'xgb_estimators': 26, 'xgb_booster': 'gbtree', 'xgb_scale_pos_weight': 35.95650466014317}. Best is trial 157 with value: -0.22732044207409854.\n"
     ]
    },
    {
     "name": "stdout",
     "output_type": "stream",
     "text": [
      "FrozenTrial(number=157, state=TrialState.COMPLETE, values=[-0.22732044207409854], datetime_start=datetime.datetime(2023, 7, 8, 9, 25, 3, 670745), datetime_complete=datetime.datetime(2023, 7, 8, 9, 25, 5, 286639), params={'xgb_max_depth': 2, 'xgb_estimators': 26, 'xgb_booster': 'dart', 'xgb_scale_pos_weight': 35.892864263920046}, user_attrs={}, system_attrs={}, intermediate_values={}, distributions={'xgb_max_depth': IntDistribution(high=16, log=True, low=2, step=1), 'xgb_estimators': IntDistribution(high=50, log=True, low=10, step=1), 'xgb_booster': CategoricalDistribution(choices=('gbtree', 'dart')), 'xgb_scale_pos_weight': FloatDistribution(high=40.0, log=True, low=29.0, step=None)}, trial_id=157, value=None)\n"
     ]
    }
   ],
   "source": [
    "study = optuna.create_study(direction='maximize')\n",
    "study.optimize(objective, n_trials=200)\n",
    "print(study.best_trial)"
   ]
  },
  {
   "cell_type": "code",
   "execution_count": 33,
   "id": "ccdcc110-f8c6-40c6-bdae-b77c0fc31a0d",
   "metadata": {
    "execution": {
     "iopub.execute_input": "2023-07-08T09:27:03.963323Z",
     "iopub.status.busy": "2023-07-08T09:27:03.962543Z",
     "iopub.status.idle": "2023-07-08T09:27:03.967649Z",
     "shell.execute_reply": "2023-07-08T09:27:03.967090Z",
     "shell.execute_reply.started": "2023-07-08T09:27:03.963295Z"
    },
    "tags": []
   },
   "outputs": [
    {
     "data": {
      "text/plain": [
       "{'xgb_max_depth': 2,\n",
       " 'xgb_estimators': 26,\n",
       " 'xgb_booster': 'dart',\n",
       " 'xgb_scale_pos_weight': 35.892864263920046}"
      ]
     },
     "execution_count": 33,
     "metadata": {},
     "output_type": "execute_result"
    }
   ],
   "source": [
    "study.best_params"
   ]
  },
  {
   "cell_type": "code",
   "execution_count": 34,
   "id": "4bd3d041-371b-4b6b-aa0d-b29d70596851",
   "metadata": {
    "execution": {
     "iopub.execute_input": "2023-07-08T09:27:31.822884Z",
     "iopub.status.busy": "2023-07-08T09:27:31.822394Z",
     "iopub.status.idle": "2023-07-08T09:27:31.827177Z",
     "shell.execute_reply": "2023-07-08T09:27:31.826524Z",
     "shell.execute_reply.started": "2023-07-08T09:27:31.822861Z"
    },
    "tags": []
   },
   "outputs": [],
   "source": [
    "best_pipeline = make_pipeline(CategoricalTransformer(index_of_ej), \n",
    "                              OutlierRemover(),\n",
    "                              IterativeImputer(initial_strategy='median'),\n",
    "                              xgb.XGBClassifier(max_depth=2,\n",
    "                                                n_estimators=26,\n",
    "                                                booster='dart',\n",
    "                                                scale_pos_weight = 35.892864263920046,\n",
    "                                                random_state=42,\n",
    "                                                use_label_encoder=False,\n",
    "                                                eval_metric='logloss'))"
   ]
  },
  {
   "cell_type": "code",
   "execution_count": 35,
   "id": "f48c371f-a7c3-4897-9f32-1c892ed6201b",
   "metadata": {
    "execution": {
     "iopub.execute_input": "2023-07-08T09:27:32.852127Z",
     "iopub.status.busy": "2023-07-08T09:27:32.851594Z",
     "iopub.status.idle": "2023-07-08T09:27:33.331301Z",
     "shell.execute_reply": "2023-07-08T09:27:33.330607Z",
     "shell.execute_reply.started": "2023-07-08T09:27:32.852108Z"
    },
    "tags": []
   },
   "outputs": [
    {
     "data": {
      "text/plain": [
       "-0.32865939513469616"
      ]
     },
     "execution_count": 35,
     "metadata": {},
     "output_type": "execute_result"
    },
    {
     "name": "stderr",
     "output_type": "stream",
     "text": [
      "<frozen importlib._bootstrap>:219: RuntimeWarning: scipy._lib.messagestream.MessageStream size changed, may indicate binary incompatibility. Expected 56 from C header, got 64 from PyObject\n",
      "/anaconda/envs/azureml_py38_PT_and_TF/lib/python3.8/site-packages/xgboost/compat.py:31: FutureWarning: pandas.Int64Index is deprecated and will be removed from pandas in a future version. Use pandas.Index with the appropriate dtype instead.\n",
      "  from pandas import MultiIndex, Int64Index\n",
      "<frozen importlib._bootstrap>:219: RuntimeWarning: scipy._lib.messagestream.MessageStream size changed, may indicate binary incompatibility. Expected 56 from C header, got 64 from PyObject\n",
      "/anaconda/envs/azureml_py38_PT_and_TF/lib/python3.8/site-packages/xgboost/compat.py:31: FutureWarning: pandas.Int64Index is deprecated and will be removed from pandas in a future version. Use pandas.Index with the appropriate dtype instead.\n",
      "  from pandas import MultiIndex, Int64Index\n",
      "<frozen importlib._bootstrap>:219: RuntimeWarning: scipy._lib.messagestream.MessageStream size changed, may indicate binary incompatibility. Expected 56 from C header, got 64 from PyObject\n",
      "/anaconda/envs/azureml_py38_PT_and_TF/lib/python3.8/site-packages/xgboost/compat.py:31: FutureWarning: pandas.Int64Index is deprecated and will be removed from pandas in a future version. Use pandas.Index with the appropriate dtype instead.\n",
      "  from pandas import MultiIndex, Int64Index\n",
      "<frozen importlib._bootstrap>:219: RuntimeWarning: scipy._lib.messagestream.MessageStream size changed, may indicate binary incompatibility. Expected 56 from C header, got 64 from PyObject\n",
      "/anaconda/envs/azureml_py38_PT_and_TF/lib/python3.8/site-packages/xgboost/compat.py:31: FutureWarning: pandas.Int64Index is deprecated and will be removed from pandas in a future version. Use pandas.Index with the appropriate dtype instead.\n",
      "  from pandas import MultiIndex, Int64Index\n"
     ]
    }
   ],
   "source": [
    "best_pipeline.fit(x_train, y_train)\n",
    "log_loss = get_bal_log_loss()\n",
    "log_loss(best_pipeline, x_test, y_test)"
   ]
  },
  {
   "cell_type": "code",
   "execution_count": null,
   "id": "4191e89e-b645-4c61-8a67-4b86b4858ddd",
   "metadata": {},
   "outputs": [],
   "source": []
  }
 ],
 "metadata": {
  "kernelspec": {
   "display_name": "azureml_py38_PT_and_TF",
   "language": "python",
   "name": "conda-env-azureml_py38_PT_and_TF-py"
  },
  "language_info": {
   "codemirror_mode": {
    "name": "ipython",
    "version": 3
   },
   "file_extension": ".py",
   "mimetype": "text/x-python",
   "name": "python",
   "nbconvert_exporter": "python",
   "pygments_lexer": "ipython3",
   "version": "3.8.5"
  }
 },
 "nbformat": 4,
 "nbformat_minor": 5
}
