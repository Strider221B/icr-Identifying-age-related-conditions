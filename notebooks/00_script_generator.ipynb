{
 "cells": [
  {
   "cell_type": "code",
   "execution_count": 1,
   "id": "3a8520fb-2dcd-4d83-9ddc-cfb6bf946437",
   "metadata": {
    "execution": {
     "iopub.execute_input": "2023-07-06T03:52:39.165916Z",
     "iopub.status.busy": "2023-07-06T03:52:39.165363Z",
     "iopub.status.idle": "2023-07-06T03:52:39.171185Z",
     "shell.execute_reply": "2023-07-06T03:52:39.170626Z",
     "shell.execute_reply.started": "2023-07-06T03:52:39.165895Z"
    }
   },
   "outputs": [],
   "source": [
    "import os\n",
    "os.chdir('./../')"
   ]
  },
  {
   "cell_type": "code",
   "execution_count": 2,
   "id": "2495ed2a-59da-4125-ba4c-03ebdbaf54d3",
   "metadata": {
    "execution": {
     "iopub.execute_input": "2023-07-06T03:54:43.390968Z",
     "iopub.status.busy": "2023-07-06T03:54:43.390261Z",
     "iopub.status.idle": "2023-07-06T03:54:46.603982Z",
     "shell.execute_reply": "2023-07-06T03:54:46.603382Z",
     "shell.execute_reply.started": "2023-07-06T03:54:43.390939Z"
    }
   },
   "outputs": [],
   "source": [
    "import numpy as np\n",
    "import pandas as pd"
   ]
  },
  {
   "cell_type": "code",
   "execution_count": 4,
   "id": "f3461888-3414-448e-9e7f-3f22d1bd72b5",
   "metadata": {
    "execution": {
     "iopub.execute_input": "2023-07-06T03:55:56.588684Z",
     "iopub.status.busy": "2023-07-06T03:55:56.588445Z",
     "iopub.status.idle": "2023-07-06T03:55:56.593218Z",
     "shell.execute_reply": "2023-07-06T03:55:56.592495Z",
     "shell.execute_reply.started": "2023-07-06T03:55:56.588667Z"
    },
    "tags": []
   },
   "outputs": [
    {
     "name": "stdout",
     "output_type": "stream",
     "text": [
      "Overwriting ./scripts/categorical_transformer.py\n"
     ]
    }
   ],
   "source": [
    "%%writefile './scripts/categorical_transformer.py'\n",
    "import numpy as np\n",
    "import pandas as pd\n",
    "\n",
    "class CategoricalTransformer:\n",
    "    \n",
    "    def __init__(self, index_of_col: int):\n",
    "        self._index_of_col = index_of_col\n",
    "        self._a = None\n",
    "        self._b = None\n",
    "    \n",
    "    def fit(self, x, y):\n",
    "        if isinstance(x, pd.DataFrame):\n",
    "            x = x.values\n",
    "        self._a = y[x[:, self._index_of_col] == 'A'].mean()\n",
    "        self._b = y[x[:, self._index_of_col] == 'B'].mean()\n",
    "    \n",
    "    def transform(self, x):\n",
    "        if isinstance(x, pd.DataFrame):\n",
    "            x = x.values\n",
    "        x[:, self._index_of_col] = np.where(x[:, self._index_of_col] == 'A', self._a, self._b)\n",
    "        return x\n",
    "        \n",
    "    def fit_transform(self, x, y):\n",
    "        self.fit(x, y)\n",
    "        return self.transform(x)"
   ]
  },
  {
   "cell_type": "code",
   "execution_count": 5,
   "id": "53f2abfc-97cd-48ce-be05-fef9d6e851da",
   "metadata": {
    "execution": {
     "iopub.execute_input": "2023-07-06T03:57:46.347096Z",
     "iopub.status.busy": "2023-07-06T03:57:46.346491Z",
     "iopub.status.idle": "2023-07-06T03:57:46.351130Z",
     "shell.execute_reply": "2023-07-06T03:57:46.350488Z",
     "shell.execute_reply.started": "2023-07-06T03:57:46.347064Z"
    }
   },
   "outputs": [
    {
     "name": "stdout",
     "output_type": "stream",
     "text": [
      "Writing ./scripts/outlier_remover.py\n"
     ]
    }
   ],
   "source": [
    "%%writefile './scripts/outlier_remover.py'\n",
    "import numpy as np\n",
    "\n",
    "class OutlierRemover:\n",
    "    \n",
    "    def __init__(self):\n",
    "        self._lower_lims = {}\n",
    "        self._upper_lims = {}\n",
    "    \n",
    "    def fit(self, x: np.ndarray, y: np.ndarray):\n",
    "        for i in range(x.shape[1]):\n",
    "            data = x[:, i].copy()\n",
    "            mean = data.mean()\n",
    "            std = data.std()\n",
    "            self._lower_lims[i] = mean - 6*std\n",
    "            self._upper_lims[i] = mean + 6*std\n",
    "    \n",
    "    def transform(self, x: np.ndarray):\n",
    "        for i in range(x.shape[1]):\n",
    "            x[:, i] = np.where(((x[:, i] > self._upper_lims[i]) | (x[:, i] < self._lower_lims[i])), np.nan, x[:, i])\n",
    "        return x\n",
    "        \n",
    "    def fit_transform(self, x: np.ndarray, y: np.ndarray):\n",
    "        self.fit(x, y)\n",
    "        return self.transform(x)"
   ]
  },
  {
   "cell_type": "code",
   "execution_count": 13,
   "id": "7172b1cc-e00d-4fc0-86e2-df0ffd7b084d",
   "metadata": {
    "execution": {
     "iopub.execute_input": "2023-07-06T05:02:58.129259Z",
     "iopub.status.busy": "2023-07-06T05:02:58.128747Z",
     "iopub.status.idle": "2023-07-06T05:02:58.133551Z",
     "shell.execute_reply": "2023-07-06T05:02:58.132861Z",
     "shell.execute_reply.started": "2023-07-06T05:02:58.129235Z"
    },
    "tags": []
   },
   "outputs": [
    {
     "name": "stdout",
     "output_type": "stream",
     "text": [
      "Overwriting ./scripts/loss.py\n"
     ]
    }
   ],
   "source": [
    "%%writefile './scripts/loss.py'\n",
    "import numpy as np\n",
    "import pandas as pd\n",
    "from sklearn.metrics import make_scorer\n",
    "\n",
    "def _balanced_log_loss(y_true: pd.Series, y_pred: pd.Series, **kwargs):\n",
    "    # Extracting class labels from y_true\n",
    "    y_true = y_true.astype(int)\n",
    "    if len(y_pred.shape) == 1:\n",
    "        y_pred = np.array((1-y_pred, y_pred)).T\n",
    "    \n",
    "    # Computing the number of observations for each class\n",
    "    N0 = np.sum(y_true == 0)\n",
    "    N1 = np.sum(y_true == 1)\n",
    "    \n",
    "    # Calculating the inverse prevalence weights\n",
    "    w0 = 1 / N0\n",
    "    w1 = 1 / N1\n",
    "    \n",
    "    # Rescaling the predicted probabilities\n",
    "    y_pred = np.clip(y_pred, 1e-15, 1 - 1e-15)\n",
    "    y_pred /= y_pred.sum(axis=1, keepdims=True)\n",
    "    \n",
    "    # Calculating the logarithmic loss for each class\n",
    "    log_loss_0 = np.sum((1-y_true) * np.log(y_pred[:, 0])) / N0\n",
    "    log_loss_1 = np.sum(y_true * np.log(y_pred[:, 1])) / N1\n",
    "    \n",
    "    # Computing the balanced logarithmic loss\n",
    "    balanced_log_loss = (-w0 * log_loss_0 - w1 * log_loss_1)/(w0+w1)\n",
    "    \n",
    "    return balanced_log_loss\n",
    "\n",
    "def get_bal_log_loss():\n",
    "    return make_scorer(_balanced_log_loss, \n",
    "                       greater_is_better=False,\n",
    "                       needs_proba=True)"
   ]
  },
  {
   "cell_type": "code",
   "execution_count": null,
   "id": "1a34bd91-070d-49e8-a1f1-617f5dbe7b44",
   "metadata": {},
   "outputs": [],
   "source": []
  }
 ],
 "metadata": {
  "kernelspec": {
   "display_name": "azureml_py38_PT_and_TF",
   "language": "python",
   "name": "conda-env-azureml_py38_PT_and_TF-py"
  },
  "language_info": {
   "codemirror_mode": {
    "name": "ipython",
    "version": 3
   },
   "file_extension": ".py",
   "mimetype": "text/x-python",
   "name": "python",
   "nbconvert_exporter": "python",
   "pygments_lexer": "ipython3",
   "version": "3.8.5"
  }
 },
 "nbformat": 4,
 "nbformat_minor": 5
}
